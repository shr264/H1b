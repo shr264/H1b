{
 "cells": [
  {
   "cell_type": "markdown",
   "metadata": {},
   "source": [
    "# Enigma Data Challenge\n",
    "<div style=\"text-align: left; font-size: 150%\"> Syed Rahman </div>\n",
    "\n",
    "## Table of contents\n",
    "1. [Introduction](#intro)\n",
    "2. [Companies that apply for the largest number of H1Bs in NYC](#compNYC)\n",
    "3. [Difference between wages in Mountain View and New York](#diffmvnyc)\n",
    "4. [Relationship between number of visas applied and wages proposed in New York City](#relvisawageNYC)\n",
    "5. [Brainstorming](#Brainstorming)\n",
    "6. [Exploration 1](#exploration1)\n",
    "7. [Summary and Conclusion](#conclusion)"
   ]
  },
  {
   "cell_type": "markdown",
   "metadata": {},
   "source": [
    "<a id = 'intro'></a>"
   ]
  },
  {
   "cell_type": "markdown",
   "metadata": {},
   "source": [
    "## Introduction"
   ]
  },
  {
   "cell_type": "markdown",
   "metadata": {},
   "source": [
    "Here we will be analyzing H1B data, which is a visa that allows U.S. employers to employ foreign workers in specialty occupations. First we will try to address the following questions:\n",
    "\n",
    "1. Which companies applied for the largest number of H1B visas where the job opening was located in NYC? Please describe any issues you may encounter summarizing the data by employer name.\n",
    " \n",
    "2. Calculate the mean and standard deviation of wages proposed for workers located in New York City and Mountain View. Are the average wages in these two locations statistically different? What factors could explain the results?\n",
    " \n",
    "3. For NYC, what is the relationship between the total number of H1B visas requested by an employer and the average wages proposed? Visually represent this relationship if appropriate. Is the relationship statistically significant? What might explain this relationship?\n",
    "\n",
    "After doing this I present some possible ideas we can explore with this dataset. After that, I focus on identifying whether each company has a causal effect on the chances of getting their application accepted. Ideally, this shouldn't matter controlling for factors like number of days it took to process the application, state the company is located in, job title, etc."
   ]
  },
  {
   "cell_type": "markdown",
   "metadata": {},
   "source": [
    "<a id = 'compNYC'></a>"
   ]
  },
  {
   "cell_type": "markdown",
   "metadata": {},
   "source": [
    "## Companies that apply for the largest number of H1Bs in NYC"
   ]
  },
  {
   "cell_type": "markdown",
   "metadata": {},
   "source": [
    "In general the H1B is a lottery based system (only about 25% get accepted), but it's clear from looking at the data that these are the cases that made it through the lottery. For this problem, we first want to filter the data by companies in new york city('lca_case_employer_city' == New York and 'lca_case_employer_state' == NY) and then group by the companies ('lca_case_employer_name'). I'll need to check whether the city value can be equal to Brooklyn, Queens, Staten Island as well just to make sure. Also, there could potentially be misspeelings of company names - I will check for this using fuzzy matching. Finally, we need to account for companies filing multiple applications at the same time. Hence if 'total_workers' is equal to 5, I will count that as 5 applications. FInally, I will simply look at all applications instead of just the ones that were accepted because that is what the questions seems to ask for. Here perhaps we should look at only the certified ones because they actually ended up resulting in jobs."
   ]
  },
  {
   "cell_type": "code",
   "execution_count": 76,
   "metadata": {
    "collapsed": true
   },
   "outputs": [],
   "source": [
    "%matplotlib inline\n",
    "import os\n",
    "# Please uncomment the following line to run on local computer.\n",
    "os.chdir('/Users/syedrahman/Documents/Summer2017/Insight/Enigma_data_challenge')"
   ]
  },
  {
   "cell_type": "code",
   "execution_count": 77,
   "metadata": {
    "collapsed": true
   },
   "outputs": [],
   "source": [
    "import pandas as pd\n",
    "import numpy as np"
   ]
  },
  {
   "cell_type": "code",
   "execution_count": 78,
   "metadata": {
    "scrolled": false
   },
   "outputs": [
    {
     "name": "stdout",
     "output_type": "stream",
     "text": [
      "# of observations: 480573\n",
      "# of discarded observations: 0\n",
      "Index([u'lca_case_number', u'status', u'lca_case_submit', u'decision_date',\n",
      "       u'visa_class', u'lca_case_employment_start_date',\n",
      "       u'lca_case_employment_end_date', u'lca_case_employer_name',\n",
      "       u'lca_case_employer_address', u'lca_case_employer_city',\n",
      "       u'lca_case_employer_state', u'lca_case_employer_postal_code',\n",
      "       u'lca_case_soc_code', u'lca_case_soc_name', u'lca_case_job_title',\n",
      "       u'lca_case_wage_rate_from', u'lca_case_wage_rate_to',\n",
      "       u'lca_case_wage_rate_unit', u'full_time_pos', u'total_workers',\n",
      "       u'lca_case_workloc1_city', u'lca_case_workloc1_state', u'pw_1',\n",
      "       u'pw_unit_1', u'pw_source_1', u'other_wage_source_1',\n",
      "       u'yr_source_pub_1', u'lca_case_workloc2_city',\n",
      "       u'lca_case_workloc2_state', u'pw_2', u'pw_unit_2', u'pw_source_2',\n",
      "       u'other_wage_source_2', u'yr_source_pub_2', u'lca_case_naics_code'],\n",
      "      dtype='object')\n"
     ]
    }
   ],
   "source": [
    "data = pd.read_csv('db246968-e567-442f-8108-b86a280107d3.csv')\n",
    "# drop all the salaries less than 1000 because these are specialty occupations.\n",
    "# we could try and guess the salary by matching the sample with other similar jobs, location, company,\n",
    "# but decided not to do this due to lack to time\n",
    "data = data.loc[data['lca_case_wage_rate_from']>1000]\n",
    "print '# of observations:', len(data)\n",
    "print '# of discarded observations:', len(data.loc[data['lca_case_wage_rate_from']<1000])\n",
    "print data.columns"
   ]
  },
  {
   "cell_type": "code",
   "execution_count": 79,
   "metadata": {},
   "outputs": [
    {
     "name": "stdout",
     "output_type": "stream",
     "text": [
      "Columns with Nans are:\n",
      "lca_case_employment_end_date\n",
      "lca_case_employer_name\n",
      "lca_case_employer_address\n",
      "lca_case_employer_city\n",
      "lca_case_employer_state\n",
      "lca_case_employer_postal_code\n",
      "lca_case_soc_code\n",
      "lca_case_soc_name\n",
      "lca_case_job_title\n",
      "lca_case_wage_rate_to\n",
      "lca_case_wage_rate_unit\n",
      "full_time_pos\n",
      "lca_case_workloc1_city\n",
      "lca_case_workloc1_state\n",
      "pw_1\n",
      "pw_unit_1\n",
      "pw_source_1\n",
      "other_wage_source_1\n",
      "yr_source_pub_1\n",
      "lca_case_workloc2_city\n",
      "lca_case_workloc2_state\n",
      "pw_2\n",
      "pw_unit_2\n",
      "pw_source_2\n",
      "other_wage_source_2\n",
      "yr_source_pub_2\n",
      "lca_case_naics_code\n"
     ]
    }
   ],
   "source": [
    "## check where the n/a are\n",
    "dataNas = pd.isnull(data).apply(sum, axis = 0)\n",
    "dataNas.index[dataNas != 0]\n",
    "print 'Columns with Nans are:'\n",
    "for x in dataNas.index[dataNas != 0]:\n",
    "    print x"
   ]
  },
  {
   "cell_type": "code",
   "execution_count": 80,
   "metadata": {
    "scrolled": true
   },
   "outputs": [
    {
     "data": {
      "text/plain": [
       "<matplotlib.axes._subplots.AxesSubplot at 0x157d51cd0>"
      ]
     },
     "execution_count": 80,
     "metadata": {},
     "output_type": "execute_result"
    },
    {
     "data": {
      "image/png": "[encoded data removed]",
      "text/plain": [
       "<matplotlib.figure.Figure at 0x116a88ad0>"
      ]
     },
     "metadata": {},
     "output_type": "display_data"
    }
   ],
   "source": [
    "data['status'].value_counts().plot(kind='barh')"
   ]
  },
  {
   "cell_type": "markdown",
   "metadata": {},
   "source": [
    "Most of the cases are CERTIFIED, followed by CERTIFIED-WITHDRAWN, WITHDRAWN and DENIED."
   ]
  },
  {
   "cell_type": "code",
   "execution_count": 81,
   "metadata": {},
   "outputs": [
    {
     "data": {
      "text/plain": [
       "<matplotlib.axes._subplots.AxesSubplot at 0x1556f0950>"
      ]
     },
     "execution_count": 81,
     "metadata": {},
     "output_type": "execute_result"
    },
    {
     "data": {
      "image/png": "[encoded data removed]",
      "text/plain": [
       "<matplotlib.figure.Figure at 0x15500e890>"
      ]
     },
     "metadata": {},
     "output_type": "display_data"
    }
   ],
   "source": [
    "data['lca_case_employer_state'].value_counts()[0:20].plot(kind='barh')"
   ]
  },
  {
   "cell_type": "markdown",
   "metadata": {},
   "source": [
    "Most of the cases are also filed from companies based on California, followed by Texas, New Jersey and then New York. Another important factor could be the number of days the application is stuck in processing. This could be a factor that affects whether an application gets approved or not. In addition, it could also be useful to see whether we can predict the length of processing time based, which could help companies plan accordingly, on other variables. "
   ]
  },
  {
   "cell_type": "code",
   "execution_count": 82,
   "metadata": {
    "collapsed": true
   },
   "outputs": [],
   "source": [
    "from datetime import datetime\n",
    "date_format = \"%Y-%m-%d\"\n",
    "data['lca_case_submit'] = [datetime.strptime(x, date_format) for x in data['lca_case_submit']]\n",
    "data['decision_date'] = [datetime.strptime(x, date_format) for x in data['decision_date']]"
   ]
  },
  {
   "cell_type": "code",
   "execution_count": 83,
   "metadata": {
    "collapsed": true
   },
   "outputs": [],
   "source": [
    "data['proc_time'] = data['decision_date'] - data['lca_case_submit']"
   ]
  },
  {
   "cell_type": "code",
   "execution_count": 84,
   "metadata": {
    "collapsed": true
   },
   "outputs": [],
   "source": [
    "data['proc_time'] = [x.days for x in data['proc_time']]"
   ]
  },
  {
   "cell_type": "markdown",
   "metadata": {},
   "source": [
    "Should we scale this data? In general, these never take more than a year, so dividing it by 1000 would almost surely restrict it between 0 and 1. For now I'll leave it as is and come back to this later."
   ]
  },
  {
   "cell_type": "markdown",
   "metadata": {},
   "source": [
    "Let us now look at the data summaries to see if everything kind of makes sense."
   ]
  },
  {
   "cell_type": "code",
   "execution_count": 85,
   "metadata": {
    "scrolled": true
   },
   "outputs": [
    {
     "data": {
      "text/html": [
       "<div>\n",
       "<style>\n",
       "    .dataframe thead tr:only-child th {\n",
       "        text-align: right;\n",
       "    }\n",
       "\n",
       "    .dataframe thead th {\n",
       "        text-align: left;\n",
       "    }\n",
       "\n",
       "    .dataframe tbody tr th {\n",
       "        vertical-align: top;\n",
       "    }\n",
       "</style>\n",
       "<table border=\"1\" class=\"dataframe\">\n",
       "  <thead>\n",
       "    <tr style=\"text-align: right;\">\n",
       "      <th></th>\n",
       "      <th>lca_case_wage_rate_from</th>\n",
       "      <th>lca_case_wage_rate_to</th>\n",
       "      <th>total_workers</th>\n",
       "      <th>pw_1</th>\n",
       "      <th>yr_source_pub_1</th>\n",
       "      <th>pw_2</th>\n",
       "      <th>lca_case_naics_code</th>\n",
       "      <th>proc_time</th>\n",
       "    </tr>\n",
       "  </thead>\n",
       "  <tbody>\n",
       "    <tr>\n",
       "      <th>count</th>\n",
       "      <td>4.805730e+05</td>\n",
       "      <td>9.736000e+04</td>\n",
       "      <td>480573.000000</td>\n",
       "      <td>4.805340e+05</td>\n",
       "      <td>480534.000000</td>\n",
       "      <td>7.932400e+04</td>\n",
       "      <td>4.805670e+05</td>\n",
       "      <td>480573.000000</td>\n",
       "    </tr>\n",
       "    <tr>\n",
       "      <th>mean</th>\n",
       "      <td>9.935063e+04</td>\n",
       "      <td>1.098876e+05</td>\n",
       "      <td>1.997303</td>\n",
       "      <td>7.498757e+04</td>\n",
       "      <td>2013.227328</td>\n",
       "      <td>8.319920e+04</td>\n",
       "      <td>4.733635e+05</td>\n",
       "      <td>35.175368</td>\n",
       "    </tr>\n",
       "    <tr>\n",
       "      <th>std</th>\n",
       "      <td>1.057832e+07</td>\n",
       "      <td>6.442851e+04</td>\n",
       "      <td>6.038872</td>\n",
       "      <td>1.596815e+06</td>\n",
       "      <td>2.972225</td>\n",
       "      <td>2.528138e+06</td>\n",
       "      <td>1.666815e+06</td>\n",
       "      <td>138.464751</td>\n",
       "    </tr>\n",
       "    <tr>\n",
       "      <th>min</th>\n",
       "      <td>1.030000e+03</td>\n",
       "      <td>0.000000e+00</td>\n",
       "      <td>1.000000</td>\n",
       "      <td>0.000000e+00</td>\n",
       "      <td>0.000000</td>\n",
       "      <td>8.000000e+00</td>\n",
       "      <td>1.100000e+01</td>\n",
       "      <td>0.000000</td>\n",
       "    </tr>\n",
       "    <tr>\n",
       "      <th>25%</th>\n",
       "      <td>6.100000e+04</td>\n",
       "      <td>8.000000e+04</td>\n",
       "      <td>1.000000</td>\n",
       "      <td>5.539000e+04</td>\n",
       "      <td>2013.000000</td>\n",
       "      <td>5.512000e+04</td>\n",
       "      <td>5.191300e+05</td>\n",
       "      <td>6.000000</td>\n",
       "    </tr>\n",
       "    <tr>\n",
       "      <th>50%</th>\n",
       "      <td>7.163500e+04</td>\n",
       "      <td>1.010000e+05</td>\n",
       "      <td>1.000000</td>\n",
       "      <td>6.552000e+04</td>\n",
       "      <td>2013.000000</td>\n",
       "      <td>6.333600e+04</td>\n",
       "      <td>5.415110e+05</td>\n",
       "      <td>6.000000</td>\n",
       "    </tr>\n",
       "    <tr>\n",
       "      <th>75%</th>\n",
       "      <td>9.162400e+04</td>\n",
       "      <td>1.295000e+05</td>\n",
       "      <td>1.000000</td>\n",
       "      <td>8.157800e+04</td>\n",
       "      <td>2014.000000</td>\n",
       "      <td>7.814600e+04</td>\n",
       "      <td>5.415110e+05</td>\n",
       "      <td>7.000000</td>\n",
       "    </tr>\n",
       "    <tr>\n",
       "      <th>max</th>\n",
       "      <td>7.278873e+09</td>\n",
       "      <td>1.000003e+07</td>\n",
       "      <td>2013.000000</td>\n",
       "      <td>8.201323e+08</td>\n",
       "      <td>2014.000000</td>\n",
       "      <td>6.036204e+08</td>\n",
       "      <td>8.129908e+08</td>\n",
       "      <td>1748.000000</td>\n",
       "    </tr>\n",
       "  </tbody>\n",
       "</table>\n",
       "</div>"
      ],
      "text/plain": [
       "       lca_case_wage_rate_from  lca_case_wage_rate_to  total_workers  \\\n",
       "count             4.805730e+05           9.736000e+04  480573.000000   \n",
       "mean              9.935063e+04           1.098876e+05       1.997303   \n",
       "std               1.057832e+07           6.442851e+04       6.038872   \n",
       "min               1.030000e+03           0.000000e+00       1.000000   \n",
       "25%               6.100000e+04           8.000000e+04       1.000000   \n",
       "50%               7.163500e+04           1.010000e+05       1.000000   \n",
       "75%               9.162400e+04           1.295000e+05       1.000000   \n",
       "max               7.278873e+09           1.000003e+07    2013.000000   \n",
       "\n",
       "               pw_1  yr_source_pub_1          pw_2  lca_case_naics_code  \\\n",
       "count  4.805340e+05    480534.000000  7.932400e+04         4.805670e+05   \n",
       "mean   7.498757e+04      2013.227328  8.319920e+04         4.733635e+05   \n",
       "std    1.596815e+06         2.972225  2.528138e+06         1.666815e+06   \n",
       "min    0.000000e+00         0.000000  8.000000e+00         1.100000e+01   \n",
       "25%    5.539000e+04      2013.000000  5.512000e+04         5.191300e+05   \n",
       "50%    6.552000e+04      2013.000000  6.333600e+04         5.415110e+05   \n",
       "75%    8.157800e+04      2014.000000  7.814600e+04         5.415110e+05   \n",
       "max    8.201323e+08      2014.000000  6.036204e+08         8.129908e+08   \n",
       "\n",
       "           proc_time  \n",
       "count  480573.000000  \n",
       "mean       35.175368  \n",
       "std       138.464751  \n",
       "min         0.000000  \n",
       "25%         6.000000  \n",
       "50%         6.000000  \n",
       "75%         7.000000  \n",
       "max      1748.000000  "
      ]
     },
     "execution_count": 85,
     "metadata": {},
     "output_type": "execute_result"
    }
   ],
   "source": [
    "data.describe()"
   ]
  },
  {
   "cell_type": "markdown",
   "metadata": {},
   "source": [
    "Most of these seem to make sense. Some should really be categorical variables, but we can changes those if we really need to. "
   ]
  },
  {
   "cell_type": "code",
   "execution_count": 86,
   "metadata": {
    "scrolled": false
   },
   "outputs": [
    {
     "name": "stdout",
     "output_type": "stream",
     "text": [
      "['TX' 'IN' 'MN' 'GA' 'VA' 'NJ' 'KS' 'KY' 'CA' 'IL' 'FL' 'MA' 'NY' 'MI' 'NE'\n",
      " 'AL' 'TN' 'WA' 'PA' 'IA' 'MD' 'CT' 'WI' 'CO' 'DC' 'OK' 'OH' 'NC' 'DE' 'MO'\n",
      " 'AK' 'LA' 'NH' 'AZ' 'AR' 'OR' 'HI' 'WY' 'SC' 'UT' 'RI' 'WV' 'NM' 'ME' 'ID'\n",
      " 'MT' 'MS' 'NV' 'ND' 'SD' 'VI' 'VT' 'MP' 'GU' 'PR' nan]\n"
     ]
    }
   ],
   "source": [
    "# checking names of states\n",
    "print data['lca_case_employer_state'].unique()"
   ]
  },
  {
   "cell_type": "markdown",
   "metadata": {},
   "source": [
    "As we saw before there were some nans. Let see if we can replace these. What we will try to do is find the companies corresponding to these nans, then see if we can find their states based on other occurences in the data, and replaces nans with states. "
   ]
  },
  {
   "cell_type": "code",
   "execution_count": 87,
   "metadata": {
    "collapsed": true
   },
   "outputs": [],
   "source": [
    "companies_missing_state = data.loc[pd.isnull(data['lca_case_employer_state'])]['lca_case_employer_name'].dropna()"
   ]
  },
  {
   "cell_type": "code",
   "execution_count": 88,
   "metadata": {
    "collapsed": true,
    "scrolled": true
   },
   "outputs": [],
   "source": [
    "missing_values_filler = data.loc[pd.notnull(data['lca_case_employer_state']) \n",
    "                                 & data['lca_case_employer_name'].isin(companies_missing_state)].groupby(['lca_case_employer_name'])['lca_case_employer_state'].agg(pd.Series.mode)\n",
    "missing_value_locations = np.where(pd.isnull(data['lca_case_employer_state']) \n",
    "                                 & data['lca_case_employer_name'].isin(companies_missing_state))"
   ]
  },
  {
   "cell_type": "code",
   "execution_count": 89,
   "metadata": {
    "collapsed": true
   },
   "outputs": [],
   "source": [
    "missing_values = pd.Series([missing_values_filler[data.loc[x]['lca_case_employer_name'].dropna()] for x in missing_value_locations])"
   ]
  },
  {
   "cell_type": "code",
   "execution_count": 90,
   "metadata": {
    "collapsed": true
   },
   "outputs": [],
   "source": [
    "data.loc[pd.isnull(data['lca_case_employer_state']) \n",
    "                                 & data['lca_case_employer_name'].isin(companies_missing_state),'lca_case_employer_state'\n",
    "        ] = missing_values.values[0]"
   ]
  },
  {
   "cell_type": "code",
   "execution_count": 91,
   "metadata": {
    "collapsed": true
   },
   "outputs": [],
   "source": [
    "ny_state_data = data.loc[(data['lca_case_employer_state']=='NY') | (data['lca_case_workloc1_state']=='NY')]"
   ]
  },
  {
   "cell_type": "code",
   "execution_count": 92,
   "metadata": {},
   "outputs": [
    {
     "name": "stdout",
     "output_type": "stream",
     "text": [
      "Columns with Nans are:\n",
      "lca_case_employer_address\n",
      "lca_case_employer_state\n",
      "lca_case_employer_postal_code\n",
      "lca_case_soc_code\n",
      "lca_case_soc_name\n",
      "lca_case_wage_rate_to\n",
      "pw_1\n",
      "pw_unit_1\n",
      "pw_source_1\n",
      "other_wage_source_1\n",
      "yr_source_pub_1\n",
      "lca_case_workloc2_city\n",
      "lca_case_workloc2_state\n",
      "pw_2\n",
      "pw_unit_2\n",
      "pw_source_2\n",
      "other_wage_source_2\n",
      "yr_source_pub_2\n"
     ]
    }
   ],
   "source": [
    "## check where the n/a are\n",
    "NYdataNas = pd.isnull(ny_state_data).apply(sum, axis = 0)\n",
    "print 'Columns with Nans are:'\n",
    "for x in NYdataNas.index[NYdataNas != 0]:\n",
    "    print x"
   ]
  },
  {
   "cell_type": "markdown",
   "metadata": {},
   "source": [
    "Now we reduce the dataset to only the relevant columns: city, state, company name. And we replicate rows based on total_workers. We decide to keep company state as we are interested in the number of H1b applications for companies based in New York."
   ]
  },
  {
   "cell_type": "code",
   "execution_count": 93,
   "metadata": {
    "collapsed": true
   },
   "outputs": [],
   "source": [
    "ny_state_data_red = ny_state_data[['lca_case_employer_name','lca_case_employer_city',\n",
    "                                   'lca_case_employer_state','lca_case_employer_postal_code', \n",
    "                                   'lca_case_wage_rate_from',\n",
    "                                  'lca_case_wage_rate_unit','total_workers','lca_case_soc_code', 'pw_1',\n",
    "                                  'lca_case_workloc1_city','lca_case_workloc1_state']]"
   ]
  },
  {
   "cell_type": "code",
   "execution_count": 94,
   "metadata": {},
   "outputs": [],
   "source": [
    "ny_state_data_red.total_workers = ny_state_data_red.total_workers.astype(int)"
   ]
  },
  {
   "cell_type": "code",
   "execution_count": 95,
   "metadata": {
    "scrolled": true
   },
   "outputs": [
    {
     "name": "stdout",
     "output_type": "stream",
     "text": [
      "MPHASIS CORPORATION                                 20280\n",
      "PRICEWATERHOUSECOOPERS, LLP                          6211\n",
      "DELOITTE CONSULTING LLP                              2928\n",
      "NEW YORK CITY DEPARTMENT OF EDUCATION                2871\n",
      "ERNST & YOUNG U.S. LLP                               2542\n",
      "WIPRO LIMITED                                        2307\n",
      "DELOITTE & TOUCHE LLP                                1868\n",
      "TATA CONSULTANCY SERVICES LIMITED                    1612\n",
      "IGATE TECHNOLOGIES INC.                              1572\n",
      "CAPGEMINI FINANCIAL SERVICES USA INC                 1312\n",
      "COGNIZANT TECHNOLOGY SOLUTIONS U.S. CORPORATION      1242\n",
      "GOLDMAN, SACHS & CO.                                  999\n",
      "MINDTREE LIMITED                                      810\n",
      "INFOSYS LIMITED                                       808\n",
      "JPMORGAN CHASE & CO.                                  680\n",
      "BLOOMBERG, LP                                         642\n",
      "BILINGUALS INC.                                       636\n",
      "PRICEWATERHOUSECOOPERS ADVISORY LLC                   600\n",
      "PRICEWATERHOUSECOOPERS LLP                            560\n",
      "DELOITTE TRANSACTIONS AND BUSINESS ANALYTICS LLP      540\n",
      "Name: lca_case_employer_name, dtype: int64\n"
     ]
    }
   ],
   "source": [
    "ny_state_data_red = ny_state_data_red.loc[np.repeat(ny_state_data_red.index.values,ny_state_data_red.total_workers)]\n",
    "ny_state_data_red = ny_state_data_red.drop('total_workers',axis=1).reset_index(drop=True)\n",
    "print ny_state_data_red['lca_case_employer_name'].value_counts()[0:20]"
   ]
  },
  {
   "cell_type": "markdown",
   "metadata": {},
   "source": [
    "Some of the zip code have a 4 digit extension. I'll remove these now."
   ]
  },
  {
   "cell_type": "code",
   "execution_count": 96,
   "metadata": {
    "collapsed": true,
    "scrolled": true
   },
   "outputs": [],
   "source": [
    "ny_state_data_red['lca_case_employer_postal_code'] = ny_state_data_red['lca_case_employer_postal_code'].astype(str)\n",
    "ny_state_data_red['lca_case_employer_postal_code'] = [x.split('-')[0] for x in ny_state_data_red['lca_case_employer_postal_code']]"
   ]
  },
  {
   "cell_type": "code",
   "execution_count": 97,
   "metadata": {
    "scrolled": true
   },
   "outputs": [
    {
     "name": "stdout",
     "output_type": "stream",
     "text": [
      "Columns with Nans are:\n",
      "lca_case_employer_state\n",
      "lca_case_soc_code\n",
      "pw_1\n"
     ]
    }
   ],
   "source": [
    "NYdataNas = pd.isnull(ny_state_data_red).apply(sum, axis = 0)\n",
    "print 'Columns with Nans are:'\n",
    "for x in NYdataNas.index[NYdataNas != 0]:\n",
    "    print x"
   ]
  },
  {
   "cell_type": "markdown",
   "metadata": {},
   "source": [
    "Lots of these cities look like they are in New York City. So I'll check based on zip codes. I found a list of new york city zip codes at https://www.health.ny.gov/statistics/cancer/registry/appendix/neighborhoods.htm, which I also used for my Insight project."
   ]
  },
  {
   "cell_type": "code",
   "execution_count": 98,
   "metadata": {
    "collapsed": true
   },
   "outputs": [],
   "source": [
    "url = 'https://www.health.ny.gov/statistics/cancer/registry/appendix/neighborhoods.htm'\n",
    "table = pd.read_html(url, header = 0, flavor = 'bs4')\n",
    "table = table[0]\n",
    "table.columns = ['Borough', 'Neighborhood', 'ZIPCodes']\n",
    "table.ZIPCodes.fillna(table.Neighborhood, inplace=True)\n",
    "table.loc[table.Borough == 'Bronx', 'Borough'] = table.loc[table.Borough == 'Bronx', 'Neighborhood']\n",
    "table.loc[table.Borough == 'Brooklyn', 'Borough'] = table.loc[table.Borough == 'Brooklyn', 'Neighborhood']\n",
    "table.loc[table.Borough == 'Manhattan', 'Borough'] = table.loc[table.Borough == 'Manhattan', 'Neighborhood']\n",
    "table.loc[table.Borough == 'Queens', 'Borough'] = table.loc[table.Borough == 'Queens', 'Neighborhood']\n",
    "table.loc[table.Borough == 'Staten Island', 'Borough'] = table.loc[table.Borough == 'Staten Island', 'Neighborhood']\n",
    "table = table.drop('Neighborhood', axis = 1)\n",
    "table.columns = ['Neighborhood', 'ZIPCodes']\n",
    "nbhdtable = pd.DataFrame()\n",
    "for i in range(len(table)):\n",
    "    for j in range(len(table.ZIPCodes.str.split()[i])):\n",
    "        nbhdtable = nbhdtable.append(pd.DataFrame([(table.Neighborhood[i],table.ZIPCodes.str.split((','))[i][j].replace(' ', ''))]))\n",
    "        \n",
    "nbhdtable.columns = ['NeighborHood', 'zip_code']"
   ]
  },
  {
   "cell_type": "code",
   "execution_count": 99,
   "metadata": {
    "collapsed": true
   },
   "outputs": [],
   "source": [
    "ny_state_data_red2 = ny_state_data_red.loc[ny_state_data_red['lca_case_employer_postal_code'].isin(nbhdtable.zip_code)]"
   ]
  },
  {
   "cell_type": "markdown",
   "metadata": {},
   "source": [
    "Now we look at the company data"
   ]
  },
  {
   "cell_type": "code",
   "execution_count": 100,
   "metadata": {},
   "outputs": [
    {
     "name": "stdout",
     "output_type": "stream",
     "text": [
      "['\"I HAVE A DREAM\" FOUNDATION', '1-0 CAPITAL, LLC', '1010DATA SERVICES LLC', '110 ARCHITECT, P.C.', '1100 ARCHITECT PC', '116 WEST HOUSTON STREET LLC', '1199 NATIONAL BENEFIT FUND FOR HEALTH AND HUMAN SE', '1199 SEIU UNITED HEALTHCARE WORKERS EAST', '1199SEIU LABOR MANAGEMENT INITIATIVE, INC.', '12K APPAREL NY LLC', '139 MEDICAL FACILITY, P.C.', '13TH STREET ENTERTAINMENT, LLC', '151 BLEECKER LLC', '161 HUDSON CAFE LLC', '16TH STREET MEDICAL MANAGEMENT, LLC', '1ST AVENUE MACHINE USA, INC.', '1STDIBS.COM, INC.', '2 SAAB CONSTRUCTION INC', '2 SAAB CONSTRUCTION INC.', '2 X 4 INC.', '20 BMA 38 CORP', '23 INNOVATIONS INC.', '24 SEVEN, INC', '24 X 7 ESI, INC', '24/7 MEDIA, INC.', '25 WA ASSOCIATES, LLC', '28 WEST 44TH RESTAURANT LLC', '289 HOSPITALITY LLC', '3.1 PHILLIP LIM LLC', '3.1 PHILLIP LIM, LLC', '316 WEST 49TH RESTAURANT CORP', '31ST STREET MEDICAL SERVICES, P.C.', '33 UNIVERSAL INC.', '33 UNIVERSAL, INC.', '33ACROSS, INC.', '343 BROOME STREET RESTAURANT INC', '34TH STREET PARTNERSHIP, INC.', '360I LLC', '360I, LLC', '3I CORPORATION', '40 NORTH MANAGEMENT LLC', '406 BROOME ST RESTAURANT INC', '42ND AND 10TH HOTEL', '43 FOOD CORP.', '451 RESEARCH LLC', '48 WEST 21ST STREET CORP.', '4SIGHT, INC.', '4U SERVICES, INC.', '5 STAR APPAREL LLC', '57TH STREET COLLECTION, INC.', '584 AMSTERDAM REST. CORP.', '5M USA, INC.', '5W PUBLIC RELATIONS LLC', '6 SR LLC', '6 SR LLC.', '6801 REALTY CO., LLC', '6TH SENSE INC. (FORMERLY EURO RSCG LATINO INC.)', '7PARK DATA, LLC', '801-803 LLC', '8760 ENTERPRISES, INC.', '87AM HOLDINGS', '99DRESSES INC.', '?WHAT IF! USA LIMITED', 'A & E REAL ESTATE MANAGEMENT, LLC', 'A & E TECHNOLOGIES LLC', 'A & H PHARMACY', 'A & T ENGINEERING, P.C.', 'A FINE GAUGE, INC.', 'A SHARP INC', 'A TO Z PHYSICAL THERAPY PC', 'A&E TELEVISION NETWORKS, LLC', 'A&J WEALTH STRATEGIES LLC', 'A&N DESIGN STUDIO, INC.', 'A+E TELEVISION NETWORKS, LLC', 'A-1 TECHNOLOGY, INC.', 'A-1 TECHNOLOGY. INC.', 'A.H. SCHREIBER CO., INC.', 'A.J. FASHION GROUP, INC.', 'A.R.T. ADVISORS, L.L.C.', 'AAD FITCH INC. - FITCH', 'AAI ARCHITECTS, P.C.', 'ABACUS LABS, INC.', 'ABBEYPOST, INC.', 'ABC CONSTRUCTION CONTRACTING, INC.', 'ABCDM LLC', 'ABEL CINE TECH, INC.', 'ABG SUNDAL COLLIER, INC.', 'ABN AMRO HOLDINGS USA LLC', 'ABOUT.COM', 'ABRAHAM LINCOLN BRIGADE ARCHIVES', 'ABRUZZO DOCG, INC.', 'ACACIA NPU, INC.', 'ACADEMY CARE GIVERS INC.', 'ACADEMY INVESTMENT MANAGEMENT LLC', 'ACCELERATE PRODUCT PARTNERS, LLC', 'ACCELIFY SOLUTIONS, LLC', 'ACCESS INDUSTRIES, INC.', 'ACCESS MARKETS INTERNATIONAL (AMI) PARTNERS, INC.', 'ACCESS NOW', 'ACCESS TRAINING INC', 'ACCESS TRAINING INC.', 'ACCESS TRAINING, INC.', 'ACCLIVITY NYC LLC', 'ACCORDANT MEDIA, LLC', 'ACCOUNTING RESEARCH & ANALYTICS, LLC', 'ACCUEN INC.', 'ACCUPOINT LLC', 'ACE CAPITAL LLC', 'ACELERO, INC.', 'ACGM INC.', 'ACHIEVEMENT FIRST, INC.', 'ACME SMOKED FISH CORP', 'ACMH, INC.', 'ACOTEL INTERACTIVE, INC.', 'ACOUSTIGUIDE INC', 'ACQUIRE CONSULTING GROUP LTD', 'ACQUIS CONSULTING GROUP, LLC', 'ACTFOREX, INC', 'ACTIMIZE INC.', 'ACTIMIZE, INC.', 'ACTION AGAINST HUNGER', 'ACTIVE HEALTH MANAGEMENT', 'ACTIVE PROCESSING, INC.', 'ACUMEN FUND, INC.', 'ACUPAY SYSTEM LLC', 'ADA CORE TECHNOLOGIES, INC', 'ADAM AMERICA, LLC', 'ADAM D. TIHANY INTERNATIONAL, LTD', 'ADAM D. TIHANY INTERNATIONAL, LTD.', 'ADAM PLUS COMPANY, LLC.', \"ADAM'S EUROPEAN CONTRACTING, INC.\", 'ADAMS BOOK COMPANY, INC.', 'ADAMS HOTELS INTERNATIONAL LLC', 'ADAPTLY, INC.', 'ADDEPAR, INC.', 'ADDISON DESIGN COMPANY, INC.', 'ADEN + ANAIS, INC', 'ADEN + ANAIS, INC.', 'ADFIN SOLUTIONS, INC.', 'ADHIKAAR FOR HUMAN RIGHTS AND SOCIAL JUSTICE', 'ADIL BUSINESS SYSTEMS INC', 'ADKM, INC.', 'ADMARKETPLACE, INC.', 'ADMEDIA PARTNERS, INC.', 'ADMERASIA INC.', 'ADOPTED, INC.', 'ADORE ME, INC.', 'ADPRIME MEDIA INC.', 'ADPRIME MEDIA, INC.', 'ADSTRUC, INC.', 'ADSYOLO INC.', 'ADSYOLO MEDIA, INC.', 'ADTHEORENT, INC.', 'ADVANCE - GLOBAL AUSTRALIAN PROFESSIONALS, INC.', 'ADVANCE GENERATION TECHNOLOGIES, LLC', 'ADVANCE MAGAZINE PUBLISHERS INC.', 'ADVANCE MAGAZINE PUBLISHERS INC. DBA COND\\xc3\\x84 NAST', 'ADVANCED ACCOUNTING, LLC', 'ADVANCED BUSINESS GROUP, INC.', 'ADVANCED PORTFOLIO MANAGEMENT, LLC', 'ADVANCED TEACHING INITIATIVE CO.', 'ADVANCED TEACHING INITIATIVE CO. LLC', 'ADVANTAGE TESTING, INC.', 'ADVISE TECHNOLOGIES LLC', 'ADVISEN LTD.', 'ADWEKO AMERICA INC.', 'AEGIS MEDIA AMERICAS, INC.', 'AESOP USA, INC.', 'AFFINITY HEALTH PLAN, INC.', 'AFFINITY SOLUTIONS INC', 'AFFINITY TRADING GROUP LLC', 'AFRO-AMERICAN PARENTS EDUCATIONAL CENTER 2', 'AFS INTERCULTURAL PROGRAMS, INC.', 'AFTER-MOUSE.COM USA INC.', 'AFTRA HEALTH FUND', 'AG DISTRIBUTORS & SUPPLIES CORP.', 'AG DISTRIBUTORS AND SUPPLIES CORP.', 'AGE GROUP, LTD.', 'AGENCY STRATEGIC CREATIVE INC.', 'AGIL & PARTNERS LLC', 'AGNOVOS HEALTHCARE USA LLC', 'AGORA GALLERY INC.', 'AHALIFE HOLDINGS, INC.', 'AHRC - NYC', 'AHRC NYC', 'AHRC-NYC', 'AHUJA PARTNERSHIP ARCHITECTS', 'AI CURE TECHNOLOGIES LLC', 'AI MEDIA GROUP', 'AI PROPERTIES AND DEVELOPMENT (USA) CORP', 'AIAS ALTERNATIVE ENERGY LLC', 'AIB EXPRESS LOGISTICS LLC', 'AIG ASSET MANAGEMENT (U.S.), LLC', 'AIG CLAIMS, INC.', 'AIG EMPLOYEE SERVICES, INC.', 'AIG ENTERPRISE SERVICES, LLC', 'AIG GLOBAL ASSET MANAGEMENT HOLDINGS CORP.', 'AIG GLOBAL CLAIMS SERVICES, INC.', 'AIG GLOBAL REAL ESTATE INVESTMENT CORP.', 'AIG GLOBAL SERVICES, INC.', 'AIG PC GLOBAL SERVICES, INC.', 'AIG PROPERTY CASUALTY COMPANY', 'AIG PROPERTY CASUALTY INSURANCE AGENCY, INC.', 'AIMSSOFT CONSULTANTS INC', 'AIP NEW YORK CO., LTD.', 'AIR-SEA PACKING GROUP, INC.', 'AIRTIME MEDIA, INC.', 'AITHENT, INC', 'AIU INSURANCE COMPANY', 'AKA COMPUTER CONSULTING', 'AKA ENTERPRISE SOLUTIONS, INC.', 'AKA NYC LIMITED', 'AKF GROUP LLC', 'AKQA, INC.', 'AKRF, INC.', 'AL JAZEERA AMERICA LLC', 'AL JAZEERA AMERICA, LLC', 'ALAC INTERNATIONAL INC.', 'ALAN JORDAN MD, PC', 'ALASTAIR MCKIMM INCORPORATION', 'ALBANNA ENGINEERING, P.C.', 'ALBATROSS GLOBAL SOLUTIONS, INC.', 'ALBERT EINSTEIN COLLEGE OF MEDICINE OF YESHIVA UNI', 'ALBION INVESTORS, LLC', 'ALCOA, INC.', 'ALCOHOOT', 'ALD MANAGEMENT SERVICES, INC', 'ALESSI USA, INC.', 'ALEXANDER MCQUEEN TRADING LTD.', 'ALEXANDER S. ONASSIS PUBLIC BENEFIT FOUNDATION(USA', 'ALEXANDER WANG INCORPORATED', 'ALEXANDRA MOR LLC', 'ALEXIS BITTAR LLC', 'ALFA SERVICES USA INC', 'ALFA SERVICES USA INC.', 'ALFARO FAMILY OFFICE, LLC', 'ALGODREAM, INC', 'ALGODREAM, INC.', 'ALICE & OLIVIA, LLC', 'ALICE+OLIVIA, LLC', 'ALIGN COMMUNICATIONS INC', 'ALIGNMED CONSULTING USA CORPORATION', 'ALISON BROD PUBLIC RELATIONS, INC.', 'ALIVE + THINKING, LLC', 'ALL DAY EVERY DAY LLC', 'ALL MARKET, INC.', 'ALL MY CHILDREN DAY CARE AND NURSERY SCHOOLS', 'ALL SAINTS USA LIMITED', 'ALL-SAFE, LLC', 'ALLAN BRITEWAY ELECTRICAL CONTRACTORS, INC.', 'ALLEN & COMPANY LLC', 'ALLEN & OVERY LLP', 'ALLEN OPERATING COMPANY, LLC', 'ALLIANCE OF RESIDENT THEATRES/NEW YORK, INC.', 'ALLIANZ GLOBAL INVESTORS US HOLDINGS LLC', 'ALLIANZ RISK TRANSFER, INC.', 'ALLLEN & COMPANY LLC', 'ALLURE CARE MANAGEMENT LLC', 'ALLURE GEMS, LLC', 'ALMOD DIAMONDS LIMITED', 'ALPHA 129 REST. LLC', 'ALPHA FINANCIAL MARKETS CONSULTING, INC.', 'ALPHA LABS LLC', 'ALPHA PIPE INC', 'ALPHACARE OF NEW YORK, INC.', 'ALPHADYNE ASSET MANAGEMENT LLC', 'ALPHASIGHTS INC.', 'ALPINE CAPITAL ADVISORS', 'ALTAMAREA SERVICES AND ADMINISTRATION, LLC', 'ALTARIS CAPITAL PARTNERS, LLC', 'ALTPOINT CAPITAL PARTNERS LLC', 'ALVAREZ & MARSAL BUSINESS CONSULTING, LLC', 'ALVAREZ & MARSAL EXECUTIVE BENEFITS CONSULTING, LL', 'ALVAREZ & MARSAL GLOBAL FORENSIC & DISPUTE SERVICE', 'ALVAREZ & MARSAL HOLDINGS LLC', 'ALVAREZ & MARSAL NORTH AMERICA LLC', 'ALVAREZ & MARSAL NORTH AMERICA, LLC', 'ALVAREZ & MARSAL SECURITIES LLC', 'ALVAREZ & MARSAL TAXAND, LLC', 'ALVAREZ & MARSAL TRANSACTION ADVISORY GROUP, LLC', 'ALVAREZ & MARSAL VALUATION SERVICES, LLC', \"ALZHEIMER'S FOUNDATION OF AMERICA\", 'AMA CONSULTING ENGINEERS, P.C.', 'AMASIA GROUP CONSULTING LLC', 'AMAZON CORPORATE LLC', 'AMBAC ASSURANCE CORPORATION', 'AMBIANCE AIR INC.', 'AMBROSINO, DEPINTO & SCHMIEDER, CONSULTING ENGINEE', 'AMEREX GROUP', 'AMEREX GROUP LLC', 'AMEREX GROUP LLC.', 'AMERICA ACHIEVES, INC.', 'AMERICA CHINA PARTNERSHIP FOUNDATION, INC.', 'AMERICAN AUSTRALIAN ASSOCIATION', 'AMERICAN BIBLE SOCIETY', 'AMERICAN BUSINESS INSTITUTE CORP', 'AMERICAN BUSINESS INSTITUTE CORP.', 'AMERICAN CIVIL LIBERTIES UNION FOUNDATION', 'AMERICAN CONFERENCE INSTITUTE', \"AMERICAN EAGLE OUTFITTER'S INC.\", 'AMERICAN EAGLE OUTFITTERS INC.', 'AMERICAN EAGLE OUTFITTERS, INC.', 'AMERICAN EXCHANGE TIME LLC', 'AMERICAN FEDERATION OF ARTS', 'AMERICAN GENERAL LIFE INSURANCE COMPANY', 'AMERICAN INTEGRATED SECURITY GROUP INC', 'AMERICAN INTERNATIONAL GROUP, INC.', 'AMERICAN IT ASSOCIATES, INC', 'AMERICAN IT ASSOCIATES, INC.', 'AMERICAN JEWISH JOINT DISTRIBUTION COMMITTEE, INC', 'AMERICAN JEWISH WORLD SERVICE, INC.', 'AMERICAN MEDICAL ALERT CORP', 'AMERICAN MUSEUM OF NATURAL HISTORY', 'AMERICAN NATIONAL STOCK TRANSFER LLC', 'AMERICAN REALTY CAPITAL PROPERTIES INC', 'AMERICAN REALTY CAPITAL PROPERTIES INC.', 'AMERICAN REGIONAL CENTER FOR ENTREPRENEURS, INC.', 'AMERICAN SOCIETY FOR THE PREVENTION OF CRUELTY TO', 'AMERICAN SOCIETY OF MECHANICAL ENGINEERS', 'AMERICAN SOFTWARE RESOURCES, INC.', 'AMERICAN STOCK TRANSFER & TRUST CO.', 'AMERICAN STOCK TRANSFER & TRUST COMPANY LLC', 'AMERICAN STOCK TRANSFER & TRUST COMPANY, LLC', 'AMERICANFLAT CORP.', 'AMERICANIT ASSOCIATES, INC,', 'AMERICAS SOCIETY', 'AMERICAS SOCIETY, INC.', 'AMERICORD REGISTRY LLC', 'AMERIMERCHANT LLC', 'AMERITECH, INC.', 'AMERRA CAPITAL MANAGEMENT LLC', 'AMERRA CAPITAL MANAGEMENT, LLC', 'AMF CONSULTING INC.', 'AMI PHARMACY INC.', 'AMICUS FTW, INC.', 'AMICUS SYSTEMS INC', 'AMICUS SYSTEMS INC.', 'AMIGOS DEL MUSEO DEL BARRIO, INC.', 'AMMANN & WHITNEY', 'AMNESTY INTERNATIONAL LIMITED', 'AMP CAPITAL INVESTORS (US) LIMITED', 'AMP CLOTHING, INC.', 'AMPLIFY EDUCATION, INC.', 'AMR CAPITAL TRADING CORPORATION', 'AMSALE ABERRA, LLC', 'AMTEX SYSTEMS, INC.', 'AMTRADE INC.', 'ANALYTIC PARTNERS INC.', 'ANALYTICA LA-SER INTERNATIONAL, INC.', 'ANALYTICS MEDIA GROUP LLC', 'ANATOMICAL TRAVELOGUE, LLC', 'ANCHIN, BLOCK & ANCHIN LLP', 'ANCHORAGE CAPITAL GROUP, L.L.C.', 'ANDBEYOND AMERICA LLC', 'ANDERSON GLOBAL MACRO LLC', 'ANDIAMO CONSULTING, LLC', 'ANDRE KIKOSKI ARCHITECT', 'ANDREA AND CHARLES BRONFMAN PHILANTHROPIES', 'ANDREA AND CHARLES BRONFMAN PHILANTHROPIES, INC.', 'ANDREA MEISLIN GALLERY', 'ANDREW BERMAN ARCHITECT, PLLC', 'ANDREW DAVIDSON & CO., INC.', 'ANDREW FRANZ ARCHITECT PLLC', 'ANDREW MIKHAEL ARCHITECT, LLC', 'ANESTHESIOLOGY ASSOCIATES OF BORO PARK, LLP', 'ANGEL TEXTILES INC.', 'ANGELSOFT, LLC', 'ANICCA CAPITAL MANAGEMENT LP', 'ANIMUS REX, INC.', 'ANN TAYLOR, INC.', 'ANNA HU LLC', 'ANOMALY PARTNERS LLC', 'ANOMALY PARTNERS, LLC', 'ANTARCTICA ASSET MANAGEMENT LLC', 'ANTENNA DESIGN NEW YORK INC.', 'ANTENNA PAY TV USA, INC', 'ANTHONY BRANDS, LLC', 'ANTHONY LAWRENCE OF NEW YORK INC.', 'ANVIL NY LLC', 'AOZORA BANK LTD.', 'APAX PARTNERS LP', 'APERTURE FOUNDATION, INC.', 'APEX BULK CARRIERS LLC', 'APEX BULK CARRIERS, LLC', 'APEX FOR YOUTH, INC.', 'APHELION FUND MANAGEMENT LLC', 'APIECE APART LLC', 'APN, LLC', 'APOLLO BUILDERS LLC', 'APOLLO GLOBAL MANAGEMENT LLC', 'APOLLO GLOBAL MANAGEMENT, LLC', 'APOLLO MANAGEMENT LP', 'APOS US MANAGEMENT, INC.', 'APPCARD INC.', 'APPCARD SOLUTIONS, INC.', 'APPCARD, INC.', 'APPDRENALINE INC', 'APPFIGURES, INC.', 'APPFIRST, INC.', 'APPLE SEEDS LLC', 'APPLIED INFORMATICS, INC.', 'APPLIED MINERALS INC.', 'APPNEXUS', 'APPNEXUS, INC.', 'APPOMATTOX ADVISORY, INC.', 'APRINA INC', 'APT 212 INC', 'APTIVITI, INC.', 'AQSACOM INCORPORATED', 'AQUILA FUNDAMENTAL STRATEGY PARTNERS LLC', 'AR MEDIA INC.', 'ARAB BANKING CORPORATION (B.S.C.)', 'ARACA MERCHANDISE L.P.', 'ARANDA \\\\ LASCH, INC.', 'ARC ELECTRICAL & MECHANCIAL CONTRACTOR CORP', 'ARC ELECTRICAL & MECHANCIAL CONTRACTORS CORP', 'ARC INTERIOR CONSTRUCTION', 'ARCADE EDIT NEW YORK, LLC', 'ARCADIA SECURITIES, LLC', 'ARCANO CAPITAL USA INC', 'ARCH INSURANCE GROUP INC.', 'ARCHDIOCESE OF NEW YORK', 'ARCHEGOS CAPITAL MANAGEMENT, LLC', 'ARCHER IT, LLC', 'ARCHETYPES, LLC', 'ARCHI-TECTONICS', 'ARCHILIER ARCHITECTURE', 'ARCHILIER INC.', 'ARCHITIZER INC', 'ARDIAN US LLC', 'AREA 17 MEDIA, LLC', 'AREL CAPITAL LLC', 'AREL CAPITAL LP', 'ARENSON OFFICE FURNISHINGS, INC.', 'ARGONAUT MANAGEMENT L.P.', 'ARGUS COMMUNITY INC.', 'ARGUS COMMUNITY, INC', 'ARIAS RESOURCE CAPITAL MANAGEMENT LP', 'ARISTEIA CAPITAL, LLC', 'ARISTON TEK INC', 'ARISTON TEK, INC.,', 'ARK SYSTEMS ELECTRIC CORP.', 'ARKADIUM INC.', 'ARLEE HOME FASHIONS, INC.', 'ARMENIAN GENERAL BENEVOLENT UNION', 'ART CAPITAL GROUP INC.', 'ART FASHION CORP.', 'ART MEETS COMMERCE INTERACTIVE LLC', 'ART UNLIMITED LLC', 'ART.SY, INC.', 'ARTESIAN CAPITAL MANAGEMENT LP', 'ARTFORUM INTERNATIONAL MAGAZINE INC.', 'ARTFORUM INTERNATIONAL MAGAZINE, INC.', 'ARTICULATE COMMUNICATIONS, INC.', 'ARTICULATE GLOBAL, INC.', 'ARTIMUS CONSTRUCTION INC.', 'ARTIS CONTEMPORARY ISRAELI ART FUND, INC.', 'ARTISAN COUNCIL LLC', 'ARTSINDIA.COM LLC', 'ARTSINDIA.COM LLC AICON GALLERY', 'ARTSY INC.', 'ARULIDEN LLC', 'ARUP SERVICES NEW YORK LIMITED', 'ARVATO SYSTEMS NORTH AMERICA, INC.', 'ASCEND FOUNDATION INC.', 'ASF PHARMACY, INC.', 'ASH FINE ART, LLC', 'ASHNU INTERNATIONAL INC.', 'ASHURST LLP', 'ASI SYSTEM INTEGRATION, INC.', 'ASINARI BENTLEY, LLC', 'ASM USA INC.', 'ASM USA, INC', 'ASPECTUS PR', 'ASSADI & MILSTEIN, LLP', 'ASSAY HEALTHCARE SOLUTIONS, LLC', 'ASSET CONTROL SYSTEMS INC.', 'ASSET INTERNATIONAL INC.', 'ASSET INVENTORIES, INC.', 'ASSOCIATED RENEWABLE, INC.', 'ASSOCIATION FOR ENERGY AFFORDABILITY, INC.', 'ASSURANT INC', 'ASSURANT INC.', 'ASSURED GUARANTY CORP.', 'ASSURED LABOR, INC.', 'AST SPORTSWEAR, INC.', 'ASTRAEA FOUNDATION', 'ASYMPTOTE ARCHITECTURE, PLLC', 'ATABOY STUDIOS, INC.', 'ATAWAY US INC', 'ATC GROUP SERVICES INC.', 'ATE NUTRITIONALS INC.', 'ATELIER NEW YORK ARCHITECTURE, PC', 'ATELIER TEN', 'ATELIER TEN USA LLC', 'ATHELERA, LLC', 'ATHENICA ENVIRONMENTAL SERVICES, INC.', 'ATLANTIC USA, INC.', 'ATLAS ADVISORS, LLC', 'ATLAS COMMUNICATIONS TECHNOLOGY, INC.', 'ATLAS MERCHANT CAPITAL LLC', 'ATMOSPHERE INTERACTIVE INC.', 'ATREAUS CAPITAL LP', 'ATRIA CONSULTING LLC', 'ATTABOY COCKTAILS LLC', 'ATTABOY MAKES LLC', 'ATTOLLO CAPITAL, LLC', 'ATTRI ENTERPRISES, INC.', 'ATWELL DESIGN LLC', 'AUBURN THEOLOGICAL SEMINARY', 'AUDIOIS,INC.', 'AUDIOWORKS PRODUCERS GROUP, INC.', 'AUERBACH GRAYSON AND COMPANY LLC', 'AURI-INTERNATIONAL CONSULTING ENTERPRISE, INC.', 'AUSTRIAN TRADE AND CONSULTING GROUP, INC.', 'AUTHENTIC BRANDS GROUP LLC', 'AUTOMATED SECURITIES CLEARANCE LLC', 'AUTOMOTIVEMASTERMIND LLC', 'AUTONOMY AMERICAS LLC', 'AUTORE USA LTD', 'AVAAZ FOUNDATION', 'AVALANCHE STUDIOS NEW YORK INC.', 'AVALANCHE STUDIOS NEW YORK, INC.', 'AVENDUS CAPITAL INC', 'AVENUE CAPITAL MANAGEMENT II, L.P.', 'AVENUES NEW YORK LLC', 'AVERO, LLC', 'AVIARY, INC.', 'AVION SPIRITS LLC', 'AVO CONSTRUCTION LLC', 'AVON PRODUCTS, INC.', 'AVROKO DESIGN LLC', 'AVROKO DESIGN, LLC', 'AVROKO HOSPITALITY GROUP', 'AVROKO HOSPITALITY GROUP INC', 'AVS RX INC', 'AWAD FINE JEWELRY LLC', 'AWOKE LLC', 'AXA INSURANCE COMPANY', 'AXA PRIVATE EQUITY US, LLC', 'AXA REAL ESTATE INVESTMENT MANAGERS US LLC', 'AXEL JOHNSON INC.', 'AXEL SPRINGER GROUP INC.', 'AXELON SERVICES CORPORATION', 'AXIOM', 'AXIOM GLOBAL INC.', 'AXIOM SOFTWARE LABOARATORIES, INC', 'AXIOM SOFTWARE LABORATORIES INC', 'AXIOM SOFTWARE LABORATORIES, INC', 'AXIOMA, INC.', 'AXISPOINT, INC.', 'AXONIC CAPITAL LLC', 'AXXIOME USA LLC', 'AXXIOME USA, LLC', 'AYLA TRADING LLC', 'AYZENBERG CONSULTING LLC', 'AZURE INTERNATIONAL INC.', 'B A F MANAGEMENT LP', 'B AND B HOSPITALITY GROUP INC.', 'B LANE, INC.', 'B&H PHOTO VIDEO-PRO AUDIO INC', 'B-REEL INC.', 'B.I.G ARCHITECTURE D.P.C', 'B.I.G. ARCHITECTURE D.P.C', 'B.I.G. ARCHITECTURE P.C.', 'B2C JEWELS, LLC', 'BABBEL INC.', \"BABETH'S FEAST, INC.\", 'BACIK COMPANY OF NY INC.', 'BACKSPACES INC.', 'BAGATELLE INTERNATIONAL USA, INC.', 'BAHA EAST LLC', 'BAHA INDUSTRIES CORP.', 'BAILEY HOUSE, INC.', 'BAJA EAST LLC', 'BAKED BY MELISSA, LLC', 'BAKER & MCKENZIE LLP', 'BAKERS DOZEN ASSOCIATES, LLC', 'BALA NEW YORK INC.', 'BALMAIN LTD', 'BALMORI ASSOCIATES, INC.', 'BAMBI DAY CARE INC.', 'BAMKO INC.', 'BANAMEX USA', 'BANCA IMI SECURITIES CORP.', 'BANCO DEL ESTADO DE CHILE', 'BANCO DO BRASIL', 'BANCO SANTANDER, S.A.', 'BANCO SANTANDER, S.A. NEW YORK BRANCH', 'BANCO VOTORANTIM SECURITIES INC.', 'BANGKOK BANK PUBLIC COMPANY LIMITED-NY BRANCH', 'BANK HAPOALIM B.M.', 'BANK OF CHINA', 'BANK OF CHINA NEW YORK BRANCH', 'BANK OF CHINA, NEW YORK OFFICE', 'BANK OF TAIWAN, NEW YORK BRANCH', 'BANORTE -IXE SECURITIES INTERNATIONAL, LTD.', 'BARCLAY INVESTMENTS, INC.', 'BARCLAYS BANK PLC', 'BARCLAYS CAPITAL COMMODITIES CORP.', 'BARCLAYS CAPITAL INC.', 'BARCLAYS CAPITAL SERVICES INC.', 'BARCLAYS CAPITAL SERVICES, INC.', 'BARCLAYS SERVICES CORP.', 'BARKBOX, INC.', 'BARNARD COLLEGE', 'BARNES & NOBLE, INC.', 'BARNES & NOBLE.COM', 'BARNES &NOBLE, INC.', 'BARNES &NOBLE.COM', 'BARNES&NOBLE.COM', \"BARNEY'S INC.\", 'BARON & BARON ADVERTISING INC', 'BARON & BARON, INC.', 'BARON AND BARON INC.', 'BARRENJOEY CREATIVE LLC', 'BARROWS NORTH AMERICA INC', 'BARRY FRIEDMAN LTD', 'BARST MUKAMAL & KLEINER LLP', 'BARTLE BOGLE HEGARTY LLC', 'BARUCH COLLEGE', 'BASIC RESOURCES', 'BASIC RESOURCES INC.', 'BASNO, INC.', 'BAUBLEBAR, INC.', 'BAYCHEE INC.', 'BAZMARK INQ LLC', 'BBC WORLDWIDE AMERICAS INC.', 'BBC WORLDWIDE AMERICAS, INC.', 'BBDO USA LLC', 'BBL COMMODITIES LP', 'BC PARTNERS INC.', 'BCA WATSON RICE LLP', 'BCM ENERGY PARTNERS INC', 'BCP ACQUISITION CORP, INC.', 'BCP ACQUISITION CORPORATION', 'BCP ACQUISITION CORPORATION - BERLIN CAMERON UNITE', 'BCP HOME INC.', 'BCRE SERVICES LLC', 'BEACHHEAD CAPITAL MANAGEMENT LLC', 'BEANSTOCK MEDIA INC.', 'BEDFORD STUYVESANT COLLEGIATE CHARTER SCHOOL', 'BEIT RABBAN DAY SCHOOL', 'BELLADONNA PRODUCTIONS, INC.', 'BELLE MAISON USA LTD.', 'BELLEVUE REAL ESTATE INC', 'BELSTAFF 1924, INC.', 'BEMPORAD BARANOWSKI, INC.', 'BERA BRAND MANAGEMENT INC.', 'BERARD ASSOCIATES', 'BERDON LLP', 'BERENSON & CO., LLC', 'BERMAN CAPITAL MANAGEMENT, L.P.', 'BERNARD CHAUS INC.', 'BERNARD HODES GROUP, INC.', 'BERNARD TSCHUMI ARCHITECTS', 'BERNHARDT RENOVATION INC.', 'BERNHEIMER ARCHITECTURE PLLC', 'BERNSTEIN & PINCHUK, LLP', 'BERTHA PHILANTHROPIES SERVICES LLC', 'BESPOKE GLOBAL INC.', 'BEST REHAB CARE PT, P.C.', 'BETA CODE TECHNOLOGIES INC.', 'BETAWORKS STUDIO, LLC', 'BETH ISRAEL MEDICAL CENTER', 'BETTER CLOUD INC.', 'BETTERMENT HOLDINGS, INC.', 'BEYER BLINDER BELLE, P.C.', 'BEYOND BETTER FOODS, LLC', 'BGC PARTNERS, INC.', 'BH MULTICOM CORPORATION', 'BHT ELECTRONICS PURCHASING, INC', 'BIDKIND LLC', 'BIDONTHECITY.COM, LLC', 'BIG APPLE SIGN CORPORATION', 'BIG BOWL LLC', 'BIG BROTHERS BIG SISTERS OF NEW YORK CITY', 'BIG DELICIOUS PRODUCTIONS LLC', 'BIG FISH ENTERTAINMENT LLC', 'BIG FUEL COMMUNICATIONS, LLC', 'BIG HUMAN LLC', 'BIG SPACESHIP LLC', 'BILINGUALS INC.', 'BILL, HILARY AND CHELSEA CLINTON FOUNDATION', 'BILL, HILLARY AND CHELSEA CLINTON FOUNDATION AKA C', 'BILLABOUT LLC', 'BIO-CHEM TECHNOLOGY LABORATORY, INC.', 'BIODIGITAL, INC.', 'BIOLITE LLC', 'BIOLUMINA GROUP LLC', 'BIRCHBOX, INC.', 'BIRTHRIGHT ISRAEL FOUNDATION', 'BISNO PRODUCTIONS LLC', 'BIT BY BIT COMPUTER CONSULTANTS INC', 'BITLY, INC.', 'BIZ2CREDIT, INC', 'BJARKE INGELS GROUP NYC LLC', 'BJSS INC.', 'BJX LLC', 'BKH NEW YORK INC.', 'BKL TRADING INC', 'BKSK ARCHITECTS LLP', 'BLACK OCEAN MANAGEMENT LLC', 'BLACKBOARD COLLABORATE INC.', 'BLACKBOX GROUP, LLC', 'BLACKFIELD CAPITAL LLC', 'BLACKLAPEL CUSTOM CLOTHIERS, INC.', 'BLACKROCK CAPITAL MANAGEMENT, INC.', 'BLACKROCK CORPORATION US, INC.', 'BLACKROCK FINANCIAL MANAGEMENT, INC.', 'BLACKROCK INSTITUTIONAL SERVICES, INC.', 'BLACKROCK INVESTMENT MANAGEMENT, LLC', 'BLADEX ASSET MANAGEMENT INC.', 'BLAIR +MUI DOWD ARCHITECTS, PC', 'BLANCHE COMMUNITY PROGRESS DAY CARE CENTER, INC.', 'BLEIBURG RESTAURANT, INC.', 'BLISS WORLD, LLC', 'BLOGLOVIN, INC.', 'BLOOD DIAMONDS WET WET PARTY, INC.', 'BLOOMBERG LP', 'BLOOMBERG POLARLAKE USA LLC', 'BLOOMBERG TRADEBOOK LLC', 'BLOOMBERG, LP', \"BLOOMINGDALE'S BY MAIL LTD\", \"BLOOMINGDALE'S BY MAIL LTD.\", \"BLOOMINGDALE'S, INC.\", 'BLS INTERNATIONAL SERVICES USA INC.', 'BLUE FOUNTAIN INC.', 'BLUE FOUNTAIN MEDIA, INC.', 'BLUE MARLIN BRAND DESIGN, INC.', 'BLUE NUN RESTRAURANT GROUP LLC', 'BLUE ROAD MANAGEMENT LP', 'BLUE SKY ALTERNATIVE INVESTMENTS LLC', 'BLUE STAR DIAMONDS NY INC.', 'BLUE STAR JETS, LLC', 'BLUE STONE LANE HOLDINGS LLC', 'BLUE WOLF GROUP LLC', 'BLUE WOLF GROUP, LLC', 'BLUE WOLF GROUP. LLC', 'BLUECREST CAPITAL MANAGEMENT (NEW YORK) LP', 'BLUEFIN TRADING LLC', 'BLUEFLY, INC.', 'BLUEMAR CAPITAL MANAGEMENT LLC', 'BLUEMAR CAPITAL MANAGEMENT, LLC', 'BLUEMATRIX I LLC', 'BLUEMOUNTAIN CAPITAL MANAGEMENT LLC', 'BLUEMOUNTAIN CAPITAL MANAGEMENT, LLC', 'BMO CAPITAL MARKETS CORP.', 'BMOBILIZED, INC.', 'BNB HANA BANK, NATIONAL ASSOCIATION', 'BNNS CO., INC.', 'BNP PARIBAS INVESTMENT PARTNERS USA HOLDINGS INC.', 'BNP PARIBAS NORTH AMERICA', 'BNV HOME CARE SERVICE INC', 'BODHIMOTION LLC', 'BODUM USA, INC.', 'BODY IN BALANCE PHYSICAL THERAPY, PC', 'BOGOPA ENTERPRISE, INC.', 'BOGOPA ENTERPRISES, INC.', 'BOIES, SCHILLER & FLEXNER LLP', 'BOMBINO EXPRESS (WORLDWIDE), INC.', 'BONETTI KOZERSKI STUDIO LLC', 'BONGOSYS INC', 'BONOBOS, INC.', 'BOOKING.COM (USA), INC.', 'BOOKS AND RATTLES, INC.', 'BOQUERIA OPERATIONS, LLC', 'BORDERFREE', 'BORDERFREE, INC.', 'BORN GROUP, INC.', 'BOROUGH OF MANHATTAN COMMUNITY COLLEGE', 'BOROUGH OF MANHATTAN COMMUNITY COLLEGE, CUNY', 'BOSTON ROAD PEDIATRICS PC', 'BOT OR NOT, LLC.', 'BOTKIER NY LLC', 'BOTKIER NY, LLC', 'BOTTEGA VENETA, INC.', 'BOW TIE CINEMAS LLC', 'BOXBEE, INC.', 'BOXGROUP SERVICES LLC', 'BOYLE SOFTWARE, INC.', 'BP MECHANICAL CORP.', 'BPCM', 'BPCM NYC, LTD.', 'BQ OF NEW YORK, INC.', 'BR GUEST HOLDINGS,LLC', 'BRACHFELD NY', 'BRADESCO SECURITIES, INC.', 'BRAGARD INC.', 'BRAINFUSE, INC.', 'BRAINPOP LLC', 'BRAINSTORM DIGITAL INC.', 'BRAND CONNECTIONS LLC', 'BRAND NEW SCHOOL', 'BRAND PROGRAMMING NETWORK, LLC', 'BRANDERATI, LLC', 'BRANDLOGIC CORP.', 'BRANDON THOMAS CO., LTD.', 'BRANDSTON PARTNERSHIP, INC.', 'BRANDWATCH LLC', 'BRANDWIZARD TECHNOLOGIES INC.', 'BRASIL PLURAL SECURITIES LLC', 'BRAYA LLC', 'BREAKFAST LLC', 'BREVAN HOWARD US INVESTMENT MANAGEMENT LP', 'BREZAVAR AND BREZAVAR ARCHITECTS', 'BRICK AND BOND LLC', 'BRIDGEVOICE INC', 'BRIGHT POWER, INC.', 'BRIGHT STAR DIAMOND USA INC.', 'BRIGHTBOX, INC.', 'BRIGHTIDEA, INC.', 'BRIGHTWIRE, INC.', 'BROADPEAK PARTNERS, INC.', 'BROADSTREET PRODUCTIONS LLC', 'BROADWAY DATABASE, INC.', 'BROADWAY TECHNOLOGY LLC', 'BROADWAYBOX, INC.', 'BROKERAGE & MANAGEMENT CORP.', 'BRONFMAN ASSOICATES III, LLC', 'BRONX CENTER FOR RENAL DIALYSIS, LLC', 'BRONX CHARTER SCHOOL FOR BETTER LEARNING', 'BRONX COMMUNITY COLLEGE', 'BRONX LEBANON HOSPITAL', 'BRONX LEBANON HOSPITAL CENTER', 'BRONX-LEBANON HOSPITAL CENTER', 'BRONX-LEBANON HOSPITALCENTER', 'BROOKDALE UNIVERSITY HOSPITAL & MEDICAL CENTER', 'BROOKLANE MANAGEMENT CORP', 'BROOKLYN AMITY SCHOOL', 'BROOKLYN AUTISM CENTER ACADEMY', 'BROOKLYN CABINETRY INC.', 'BROOKLYN CLOTH LLC', 'BROOKLYN COLLEGE OF THE CITY UNIVERSITY OF NEW YOR', 'BROOKLYN ITALIAN YOUTH SOCCER CLUB, INC.', 'BROOKLYN UNION GAS COMPANY', 'BROOKS BROTHERS GROUP, INC', 'BROWN & SWEET, LLC', 'BROWN BROTHERS HARRIMAN & CO.', 'BROWN BROTHERS HARRIMAN &AMP; CO.', 'BRUCE S. BRICKMAN & ASSOCIATES, INC.', 'BRUCE SHAW LLC', 'BRUNETTI MEDIA, LLC', 'BRUNSWICK GROUP LLC', 'BRUTEFORCE SOLUTIONS INC', 'BT TRADING GROUP, LLC', 'BTG PACTUAL ASSET MANAGEMENT US LLC', 'BTG PACTUAL US CAPITAL LLC', 'BTQ FINANCIAL', 'BUCCELLATI, INC.', 'BUCK DESIGN, INC.', 'BUCKHURST, FISH & JACQUEMART', 'BUCKMINSTER FULLER INSTITUTE', 'BUILDING CONSULTING ENGINEERING PLLC', 'BUILDING ENGINEERING SYSTEMS, PLLC', 'BULGARI CORPORATION OF AMERICA', 'BULLETT MEDIA LLC', 'BULLFROG & BAUM LTD.', 'BULOVA CORPORATION', 'BULSON MANAGEMENT LLC', 'BUNKER NEW YORK LLC', 'BURBERRY LIMITED', 'BUREAU BETAK, INC.', 'BURO HAPPOLD, INC.', 'BURO KORAY DUMAN ARCHITECTURE PLLC', 'BURSON-MARSTELLER LLC', 'BURSON-MARSTELLER, LLC', 'BUSINESS INSIDER', 'BUSINESS INSIDER, INC.', 'BUSINESS INTEGRITY, INC.', 'BUSINESS MANAGEMENT INTERNATIONAL, INC.', 'BUZZFEED, INC.', 'BWG STRATEGY LLC', 'BWISE INTERNAL CONTROL, INC.', 'BY DESIGN, LLC.', 'BYTE CONSULTING, INC.', 'BYTE YOGI INC', 'BYTEMARK INC.', 'B_SPACE LLC', 'C & K HEALING TOUCH PHYSICAL THERAPY, PC', 'C & M FIRST SERVICES, INC.', 'C AND M MEDIA LTD', 'C LIFE GROUP', 'C&M GENERAL CONTRACTING INC.', 'C. WONDER LLC', 'C.C.M.S.', 'C40 CITIES CLIMATE LEADERSHIP GROUP INC.', 'CA, INC.', 'CACHE INC.', 'CACHET NADA FASHION', 'CADIAN CAPITAL MANAGEMENT, LP', 'CAFFEBENE INC.', 'CAI MANAGEMENT GP CO.', 'CAI STUDIO', 'CALI COSMETICS, INC.', 'CALVERT MEDIA INC', 'CALVIN KLEIN INC.', 'CALVIN KLEIN, INC.', 'CANACCORD GENUITY INC.', 'CANADA, LLC', 'CANADIAN IMPERIAL BANK OF COMMERCE', 'CANALI RETAIL INC.', 'CANARY CONNECT, INC.', 'CANTILLON CAPITAL MANAGEMENT, LLC', 'CANTOR & DING VENTURES LLC', 'CANTOR FITZGERALD LP', 'CANTOR FITZGERALD, LP', 'CAPITAL ACCESS NETWORK, INC', 'CAPITAL DYNAMICS, INC.', 'CAPITAL INTEGRATION SYSTEMS LLC', 'CAPITAL IQ, INC.', 'CAPITAL MARKETS ENGINEERING &AMP; TRADING, LLC', 'CAPITAL ONE CONSTRUCTION GROUP CORP.', 'CAPITALSTAR SYSTEMS, LLC', 'CAPSTONE CONSULTING LLC', 'CAPSTONE INVESTMENT ADVISORS, LLC', 'CARAT USA INC.', 'CARAT USA, INC.', 'CARBON CREDIT CAPITAL LLC', 'CARBON CREDIT CAPITAL LLC.', 'CARBON DISCLOSURE PROJECT (NORTH AMERICA) INC.', 'CARBONE SMOLAN ASSOCIATES', 'CARDFLIGHT, INC.', 'CARDIOVASCULAR RESEARCH FOUNDATION', 'CAREGUARDIAN, INC.', 'CAREY ASSET MANAGEMENT CORP.', 'CARNEGIE HALL CORPORATION', 'CARNEGIE, INC.', 'CARNIVAL, INC.', 'CAROL MANN', 'CAROLINA HERRERA, LTD.', 'CAROUSEL OF LANGUAGES LLC', 'CARROT CREATIVE, LLC', 'CARTESIAN CAPITAL GROUP, LLC', 'CASE COMMONS, INC.', 'CASEWORKS ARCHITECT PLLC', 'CAST AMERICAS, LLC', 'CAST SOFTWARE, INC.', 'CASTLEOAK SECURITIES LP', 'CATALYST FILMS INC.', 'CATALYST INC.', 'CATCHAFIRE, INC', 'CATFISH ENTERTAINMENT LLC', 'CATHAY GENERAL BANCORP', 'CATHOLIC CHARITIES COMMUNITY SERVICES- ARCHDIOCESE', 'CATHY DANIELS LTD', 'CAVA CONSTRUCTION & DEVELOPMENT', 'CAVA CONSTRUCTION AND DEVELOPMENT, INC.', 'CAXTON ASSOCIATES LP', 'CAZARCH, INC.', 'CB INFORMATION SERVICES, INC.', 'CBD ENERGY USA LIMITED', 'CBIZ ACCOUNTING, TAX & ADVISORY OF NEW YORK, LLC', 'CBM LIMITED', 'CBS CORPORATE SERVICES INC.', 'CBS CORPORATION', 'CBS INTERACTIVE INC.', 'CBS NEWS INC.', 'CBS OUTDOOR LLC', 'CBX, LLC', 'CC TRACK SOLUTIONS LLC', 'CCM SECURITIES, LLC', 'CCOKFOX ARCHITECTS LLP', 'CDG GROUP, LLC', 'CDP CAPITAL US, INC.', 'CDR STUDIO ARCHITECTS, PC', 'CEDRUS CONSULTING', 'CEDRUS LLC', 'CEE CLINICAL RESEARCH INC.', 'CELINE INC.', 'CELLO CAPITAL MANAGEMENT, LLC', 'CELLVAL LLC', 'CELMATIX INC.', 'CELMATIX, INC.', 'CEMOI INC.', 'CENTER FOR ALTERNATIVE SENTENCING AND EMPLOYMENT S', \"CENTER FOR CHILDREN'S INITIATIVES, INC.\", 'CENTER FOR REPRODUCTIVE RIGHTS', 'CENTERLIGHT HEALTH SYSTEM F/K/A BETH ABRAHAM HEALT', 'CENTERLIGHT HEALTH SYSTEM, INC.', 'CENTERVIEW PARTNERS, LLC', 'CENTINEL SPINE, INC.', 'CENTRAL BUSINESS SOLUTIONS, INC.', 'CENTRAL MECHANICAL SYSTEMS, INC.', 'CENTRAL PARK GROUP, LLC', 'CENTRE ASSET MANAGEMENT, LLC', 'CENTRIFUGAL ASSOCIATES GROUP, LLC', 'CERAMI AND ASSOCIATES', 'CERBERUS CAPITAL MANAGEMENT L.P.', 'CERBERUS CAPITAL MANAGEMENT, L.P.', 'CERELI, INC.', 'CETRARUDDY ARCHITECTURE D.P.C.', 'CETRARUDDY ARCHITECTURE DPC', 'CFX INCORPORATED', 'CGI NORTHEAST, INC.', 'CHADBOURNE & PARKE LLP', 'CHAFFETZ LINDSEY LLP', 'CHALDAL, INC', 'CHAMELEON COMMUNICATIONS INTERNATIONAL INC.', 'CHAMPALIMAUD DESIGN LLC', 'CHANDELIER CREATIVE, INC.', 'CHANEL INC.', 'CHANEL, INC.', 'CHANG HWA COMMERCIAL BANK, LTD.', 'CHANGE ASSEMBLY, INC', 'CHANGING OUR WORLD, INC.', 'CHAOS COMMERCE INC.', 'CHAPPUIS HALDER, INC', 'CHAPTER3, LLC', 'CHARAN ELECTRICAL ENTERPRISES', 'CHARDAN CAPITAL MARKETS LLC', 'CHARDAN CAPITAL MARKETS, LLC', 'CHARITY BUZZ, INC', 'CHARITY GLOBAL INC', 'CHARITYBUZZ, INC.', 'CHARLES KOMAR & SONS, INC.', 'CHARLES RIZZO & ASSOCIATES OF NY INC', 'CHARLIE ROSE INC.', 'CHARTBEAT, INC.', 'CHARTER BRIDGE CAPITAL MANAGEMENT, L.P.', 'CHARTIS GLOBAL CLAIMS SERVICES, INC.', 'CHARTIS GLOBAL SERVICES, INC.', 'CHARTIS INSURANCE AGENCY, INC.', 'CHARTIS PROPERTY CASUALTY COMPANY', 'CHATEAU INTERNATIONAL INC.', 'CHATID, INC.', 'CHAUNCEY STREET ENTERTAINMENT, LLC', 'CHE SENIOR PSYCHOLOGICAL SERVICES', 'CHE SENIOR PSYCHOLOGICAL SERVICES, PC', 'CHECKM8, INC.', 'CHEEK 2 CHEEK LLC', 'CHEFMOD, LLC', 'CHELSEA HOSPITALITY PARTNERS, LLC', 'CHERRY STIX LTD.', 'CHEUNG KONG GRADUATE SCHOOL OF BUSINESS (NORTH AME', 'CHI AMERICA PARTNERS INC.', 'CHIA USA LLC', 'CHIA USA, LLC', 'CHICKPEA AT PENN INC.', \"CHILDREN'S BIG APPLE EARLY CHILDHOOD CENTER, INC.\", \"CHILDREN'S CANCER AND BLOOD FOUNDATION, INC.\", \"CHILDREN'S HEALTH FUND\", 'CHILTON INVESTMENT SERVICES, LLC', 'CHIMERA SECURITIES LLC', 'CHINA ARTS FOUNDATION INTERNATIONAL, INC.', 'CHINA CENTER NEW YORK LLC', 'CHINA CITIC BANK INTERNATIONAL LTD. NY BRANCH', 'CHINA CONSTRUCTION BANK CORPORATION', 'CHINA DAILY DISTRIBUTION CORP.', 'CHINA DAILY DISTRIBUTION CORPORATION', 'CHINA MERCHANTS BANK CO., LTD.', 'CHINASPROUT, INC.', 'CHINATOWN MANPOWER PROJECT, INC.', 'CHINESE AMERICAN INDEPENDENT PRACTICE ASSOCIATION', 'CHINESE CHRISTIAN HERALD CRUSADES, INC', 'CHINESE CHRISTIAN HERALD CRUSADES, INC.', 'CHINESE CUBES (USA) INC.', 'CHINESE RADIO NETWORK INC.', 'CHING FUNG APPAREL ACCESSORIES (USA) INC.', 'CHLOE AND ISABEL, INC.', 'CHOICE LOGISTICS, INC.', 'CHOPARD USA LTD', 'CHRIST LIFE MINISTRIES INC.', 'CHRISTIAN DIOR PERFUMES LLC', 'CHRISTIAN DIOR, INC.', \"CHRISTIE'S INC.\", 'CHUNG TE INSTITUTE OF RELIGIONS AND PHILOSOPHY', 'CHUNYANG ZHANG LAW FIRM, P.C.', 'CHURCHBOX INC.', 'CI CAPITAL PARTNERS LLC', 'CIBC WORLD MARKETS CORP.', 'CICC INVESTMENT MANAGEMENT (USA), INC.', 'CICC US SECURITIES, INC.', 'CICOGNANI KALLA ARCHITECT, PLLC', 'CIFCO INTERNATIONAL GROUP CO., LTD.', 'CIMB SECURITIES (USA), INC.', 'CINEMAYA LLC', 'CINEMAYA MEDIA, INC', 'CINTRA SOFTWARE & SERVICES', 'CINTRA SOFTWARE &AMP; SERVICES', 'CIPHERHEALTH', 'CIRCLE NYC INC.', 'CIRCUS MAXIMUS, INC.', 'CITI INTERNATIONAL FINANCIAL SERVICES, LLC', 'CITIBANK GLOBAL MARKETS, INC.', 'CITIBANK, N.A.', 'CITIC SECURITIES INTERNATIONAL USA, LLC', 'CITICORP CREDIT SERVICES, INC.', 'CITICORP CREDIT SERVICES, INC. (DELAWARE)', 'CITICORP CREDIT SERVICES, INC. (USA)', 'CITICORP DEVELOPMENT CENTER, INC.', 'CITICORP NORTH AMERICA, INC.', 'CITIFINANCIAL SERVICING LLC', 'CITIFINANCIAL, INC.', 'CITIGROUP DERIVATIVES MARKETS INC.', 'CITIGROUP GLOBAL MARKETS INC.', 'CITIGROUP MANAGEMENT CORP.', 'CITIGROUP TECHNOLOGY, INC.', 'CITIGROUP, INC.', 'CITIHUB INC.', 'CITIMORTGAGE, INC.', 'CITRIN COOPERMAN & CO. LLP', 'CITRIN COOPERMAN AND COMPANY , LLP', 'CITRINCOOPERMAN & CO. LLP', 'CITY HALL CAPITAL LLC', 'CITY MEDICAL OF UPPER EAST SIDE PPLC', 'CITY NATIONAL BANK', 'CITY OF NEW YORK OFFICE OF MANAGEMENT AND BUDGET', 'CITY PRINTS LLC', 'CITY SOUNDS OF NY-SPEECH LANGUAGE DEVELOPMENT CENT', 'CITYMEALS-ON-WHEELS', 'CIVIC CAPITAL ADVISORS LLC', 'CK3 LLC', 'CL U.S. DISTRIBUTION CORPORATION', 'CLARIFI, INC.', 'CLARINS USA, INC.', 'CLARION CAPITAL PARTNERS LLC', 'CLARITY SOLUTIONS GROUP LLC', 'CLARKSON CAPITAL MARKETS, LLC', 'CLAROS FUND MANAGEMENT LLC', 'CLASSIC BUSINESS GROUP LLC', 'CLAUDE CREATIVE LLC', 'CLEAN AIR CAR SERVICE & PARKING CORPORATION', 'CLEAR CHANNEL BROADCASTING , INC.', 'CLEAR CHANNEL BROADCASTING, INC.', 'CLEAR CHANNEL MANAGEMENT SERVICES INC.', 'CLEARY GOTTLIEB STEEN & HAMILTON LLP', 'CLEARY GOTTLIEB STEEN &AMP; HAMILTON LLP', 'CLICK 3X LLC', 'CLICKTALE, INC.', 'CLIFFORD CHANCE US LLP', 'CLIFFORD ROSS STUDIO, LLC', 'CLIMATE ANALYTICS INC.', 'CLINE BETTRIDGE BERNSTEIN LIGHTING DESIGN, INC.', 'CLINE, DAVIS & MANN LLC', 'CLINE, DAVIS & MANN, LLC', 'CLINILABS', 'CLINTON GLOBAL INITIATIVE', 'CLINTON GROUP, INC.', 'CLINTON HOUSING DEVELOPMENT COMPANY', 'CLOUD PEEPS INC.', 'CLOUD SHERPAS LLC', 'CLOUDCREO LLC', 'CLS BANK INTERNATIONAL', 'CLSA AMERICAS LLC', 'CLUB HOUSE CREATIONS, INC.', 'CLYDE DUNEIER, INC.', 'CM DESIGN STUDIO, LLC', 'CMGRP, INC.', 'CMI MARKETING, INC.', 'CMYK+WHITE INC.', 'CMYK+WHITE, INC.', 'CNN AMERICA, INC.', 'CO: COLLECTIVE LLC', 'COACH, INC.', 'COADY DIEMAR GROUP LLC', 'COASTAL MANAGEMENT, LLC', 'COATUE MANAGEMENT LLC', 'COBBLE HILL HEALTH CENTER, INC.', 'CODDINGTON, CHADWICK & MEYERSON', 'CODE AND THEORY LLC', 'CODE CLIMATE INC.', 'COGNITO AMERICAS LLC', 'COGNOLINK INC.', 'COHEN & GRESSER LLP', 'COHEN & GRESSER, LLP', 'COHEN EQUITIES NY LLC', 'COHN & WOLFE, A DIVISION OF Y&R INC.', 'COHNREZNICK LLP', 'COHNREZNICK, LLP', 'COLANGELO AND PARTNERS PUBLIC RELATIONS LLC', 'COLE HAAN, LLC', 'COLEMAN RESEARCH GROUP, INC.', 'COLETTE MALOUF INC.', 'COLGATE ORAL PHARMACEUTICALS, INC.', 'COLGATE-PALMOLIVE COMPANY', 'COLLABORATEUR INC', 'COLLABORATION AMERICA INC', 'COLLECTION XIIX', 'COLLECTION XIIX, LTD', 'COLLECTION XIIX, LTD.', 'COLLECTIVE CONSULTANCY INC', 'COLLECTIVE MEDIA, INC.', 'COLLEGE OF STATEN ISLAND/THE CITY UNIVERSITY OF NE', 'COLLINS PARTNERS LLC', 'COLONIAL CONSULTING, LLC', 'COLORZEN LLC', 'COLUMBIA GRAMMAR AND PREPARATORY SCHOOL', 'COLUMBIA PARTNERS NEW YORK LLC', 'COLUMBIA UNIVERSITY', 'COLUMBUS ALE HOUSE INC.', 'COMCO PLASTICS, INC.', 'COMET GLOBAL CONSULTING LLC', 'COMET GLOBAL CONSULTING, LLC', 'COMETRICS PARTNERS, LLC', 'COMMERCE STUDIOS LLC', 'COMMERCIALIZE TV LLC', 'COMMISSION OF THE CHURCHES ON INTERNATIONAL AFFAIR', 'COMMITTEE OF INTERNS & RESIDENTS', 'COMMITTEE TO PROTECT JOURNALISTS', 'COMMODITY SEARCH PARTNERS, INC.', 'COMMON THREAD PROJECTS LLC', 'COMMONWEALTH BANK OF AUSTRALIA', 'COMMONWEALTH BANK OF AUSTRALIA, NEW YORK BRANCH', 'COMMUNITY COUNSELLING SERVICE CO., LLC', 'COMMUNITY HEALTHCARE NETWORK, INC.', 'COMMUNITY SYSTEMS FOUNDATION', 'COMO TRAYMORE LLC', 'COMPASS ADVISERS GROUP, LLC', 'COMPASS GROUP LLC', 'COMPASS PARTNERS INTERNATIONAL LLC', 'COMPLETE ENTERTAINMENT RESOURCES', 'COMPLETE ENTERTAINMENT RESOURCES, LLC', 'COMPLETELY BARE INTERNATIONAL LLC', 'COMPLEX MEDIA, INC.', 'COMPREHENSIVE KIDS DEVELOPMENTAL SCHOOL', 'COMPREHENSIVE STAFFING SOLUTIONS LLC', 'COMPSTAK INC.', 'COMPU TECH COMPUTERS, INC.', 'COMPUTECH COMPUTERS, INC.', 'COMPUTER PATHWAYS INC.', 'COMPUTER PROFESSIONAL LEARNING CENTER', 'COMTEC CONSULTANTS, INC.', 'COMUNILIFE, INC.', 'CONCEP GROUP INC.', 'CONCERN WORLDWIDE (U.S.) INC.', 'CONCORDIA PARTNERSHIPS AGAINST EXTREMISM, INC.', 'CONCOURSE REHABILITATION & NURSING CENTER', 'CONFIDE, INC.', 'CONFLUENTIA GROUP, LLC', 'CONNECTED VENTURES LLC', 'CONNEX INTERNATIONAL LLC', 'CONNEX INTERNATIONAL, LLC', 'CONSORTIUM TOURS OF NORTH AMERICA', 'CONSTANTIN ASSOCIATES LLP', 'CONSTELLATION CAPITAL MANAGEMENT, LLC', 'CONSULTA USA INC', 'CONSUMER DYNAMICS, LLC', 'CONSUMER EVALUATION SYSTEMS, INC', 'CONTACTIVE INC.', 'CONTACTIVE, INC.', 'CONTECH SYSTEMS, INC', 'CONTEGIACOMO', 'CONTEGIACOMO AND ASSOCIATES', 'CONTEMPORARY GUIDANCE SERVICES, INC.', 'CONTEXT LABS, INC.', 'CONTOUR GLOBAL MANAGEMENT INC.', 'CONTOUR GLOBAL MANAGEMENT, INC', 'CONVERGENCE POINT MEDIA LLC', 'CONVERGEX GROUP, LLC', 'CONVERSEON, INC.', 'CONVISTA CONSULTING CORPORATION', 'COOK+FOX ARCHITECTS LLP', 'COOKFOX ARCHITECTS LLP', 'COOLBIRTH INC', 'COONEY WATERS LLC', 'COOPER ROBERTSON & PARTNERS', 'COPAL PARTNERS US INC.', 'COPY SMITH COLLECTIVE INC', 'CORBIN & ASSOCIATES LTD', 'CORBIN & ASSOCIATES, LTD', 'CORBIN-HILLMAN COMMUNICATIONS', 'CORNER SHOP POST INC', 'CORNERSTONE PROMOTION INC.', 'CORNICK GARBER & SANDLER LLP', 'CORONA ADULT DAY CARE INC', 'CORPBANCA NEW YORK BRANCH', 'CORPORATE SOLUTIONS GROUP, LLC', 'COSFIBEL INC', 'COSMO COMPUTER INC.', 'COSMOLEDO LLC', 'COSMOLEDO, LLC', 'COTY BEAUTY US, A DIVISION OF COTY INC.', 'COUNCIL ON FOREIGN RELATIONS, INC.', 'COUP ENTERTAINMENT LLC', 'COVENANT HOUSE', 'COVINGTON & BURLING LLP', 'COWEN AND COMPANY, LLC', 'COWEN GROUP, INC.', 'COYLE CONSTRUCTION CORP.', 'COYLE CONTRACTING CORP.', 'CPL DISTRIBUTED GENERATION GROUP INC.', 'CPS 5, LLC', 'CPT GLOBAL INC', 'CPX INTERACTIVE LLC', 'CQS (US), LLC', 'CR WOOSTER STREET CORP.', 'CRAFT TRANSLATION, LLC', 'CRANEMERE INC.', 'CRANEMERE LLC', 'CRAVATH, SWAINE & MOORE LLP', 'CRC ENGINEERING, P.C.', 'CREATETHE GROUP', 'CREATETHE GROUP INC.', 'CREATETHE GROUP, INC.', 'CREATIVE CURRICULUM INITIATIVES, LLC', 'CREATIVE LICENCE DIGITAL INC', 'CREATIVE LOGISTIC SERVICES, LLC.', 'CREATIVE SOLUTIONS SERVICES, LLC.', 'CREATIVE TECHNOLOGY PARTNERS', 'CREATIVE TECHNOLOGY PARTNERS, LLC', 'CREDIT AGRICOLE CORPORATE AND INVESTMENT BANK', 'CREDIT AGRICOLE CORPORATE AND INVESTMENT BANK FORM', 'CREDIT AGRICOLE SECURITIES (USA) INC.', 'CREDIT SUISSE ADMINISTRATION SERVICES (USA) LLC', 'CREDIT SUISSE AG', 'CREDIT SUISSE ASSET MANAGEMENT LLC', 'CREDIT SUISSE SECURITIES (USA) LLC', 'CREDITSIGHTS, INC.', 'CREO DENT PROSTHETICS LTD', 'CRESCENT PHYSICAL THERAPY', 'CRISIL IREVNA US LLC', 'CRISIS ACTION LTD', 'CRISP MEDIA INC', 'CRISTOL INC', 'CROSBY STREET HOTEL LLC', 'CROSS COMMERCE MEDIA, INC.', 'CROSS PIXEL MEDIA INC.', 'CROSSMEDIA, INC.', 'CROWDCENTRIC MEDIA LLC', 'CROWDTAP, INC.', 'CROWN FOOD INTERNATIONAL LLC', 'CROWN TUTORING ACADEMY INC.', 'CROZIER FINE ARTS INC.', 'CROZIER FINE ARTS, INC.', 'CRUCIANI USA LLC', 'CRUSH MUSIC MEDIA MANAGEMENT INC.', 'CSCOUT, INC.', 'CST TAX ADVISORS, LLC', 'CTF DEVELOPMENT INC.', 'CTR SOLUTION, INC', 'CTS GLOBAL LOGISTICS (GEORGIA) LTD.', 'CULTURE AND COMMERCE INC.', 'CUNY, TV', 'CUREATR, INC.', 'CURRANT MARKETING LLC', 'CURVE I.D. INC.', 'CURVEXPO', 'CURVEXPO CORP.', 'CUSHNIE ET OCHS', 'CUSTORA, INC.', 'CUTLER SOHO LLC', 'CUTONE & COMPANY CONSULTANTS LLC', 'CVLT STUDIOS LLC', 'CYPRESS HILL POLYMERS, INC.', 'CYRUS CAPITAL PARTNERS, L.P.', 'CYRUS INNOVATION, INC.', 'CYRUS JM CORPORATION', 'CZAR CAPITAL INC.', 'D FORM A, LLC', 'D&A APPAREL', 'D&AMP;A APPAREL, LLC', 'D. E. SHAW & CO., L.P.', 'D. E. SHAW RESEARCH, LLC', 'D.B. GROUP AMERICA, LTD.', 'D.E. SHAW & CO., L.P.', 'D.P. GROUP GENERAL CONTRACTORS/DEVELOPERS', 'D.P. GROUP GENERAL CONTRACTORSERS/DEVELOP', 'D.P. JEWELRY WHOLESALE, INC', 'DABROES MANAGEMENT, LP', 'DADA & GOLDBERG, INC.', 'DADA ENTERTAINMENT, INC.', 'DAFNA RECANATI KAPLAN AND HER FAMILY', 'DAI & ASSOCIATES, P.C.', 'DAIEI TRADING CO., INC.', 'DAIKA NEW YORK, INC.', 'DAIKIN U.S. CORPORATION', 'DAILY BURN, INC.', 'DAILY MUSE INC', 'DAILY NEWS, L.P.', 'DAILYGOBBLE INC.', 'DAILYMOTION, INC.', 'DAIWA CAPITAL MARKETS AMERICA INC.', 'DAKOTA JACKSON INC.', 'DALBERG CONSULTING US LLC', 'DALET DIGITAL MEDIA SYSTEMS USA, INC.', 'DALLIMORE & CO., INC.', 'DAMASCUS BAKERY, INC.', 'DAMEE INC.', 'DAMERON ARCHITECTURE, PLLC', 'DAMIANI USA CORPORATION', 'DANIEL B NY INC.', 'DANIEL ROMUALDEZ ARCHITECTS, P.C.', 'DANOS ASSOCIATES US, INC.', 'DARIUS TORABY RA, PC', 'DARON FASHIONS, INC.', 'DARSANA CAPITAL PARTNERS LP', 'DART GLOBAL LOGISTICS INC.', 'DATA PIONEER INC.', 'DATA PIONEER, INC.', 'DATAART SOLUTIONS, INC.', 'DATABASAURUS LLC', 'DATADOG, INC.', 'DATAMINR, INC.', 'DATING GATEWAYS, LLC', 'DAUGHTERS OF LONDON LLC', 'DAVID A. SILVERMAN M.D, P.C.', 'DAVID MEXICO DESIGN GROUP LLC', 'DAVID MONN LLC', 'DAVID RYAN SALON', 'DAVID SCOTT KATZ', 'DAVID YURMAN ENTERPRISES LLC', 'DAVID YURMAN ENTERPRISES, LLC', 'DAVID5, LLC', 'DAVIDSON KEMPNER CAPITAL MANAGEMENT LLC', 'DAVIDSON KEMPNER CAPITAL MANAGEMENT LP', 'DAVIES & ASSOCIATE, LLP', 'DAVINES NORTH AMERICA, INC.', 'DAVIS BRODY BOND LLP', 'DAVIS POLK & WARDWELL LLP', 'DAVIS SELECTED ADVISERS, NY', 'DAVIS WRIGHT TREMAINE LLP', 'DB AMERICAS HOLDING CORP.', 'DB MEDICAL SUPPLIES, INC.', 'DB SERVICES NJ INC', 'DBOX, INC', 'DBOX, INC.', 'DBRS, INC.', 'DC CAP HOTELIER, LLC', 'DDB WORLDWIDE COMMUNICATIONS GROUP INC.', 'DDG PARTNERS LLC', 'DE BRAUW BLACKSTONE WESTBROEK NEW YORK B.V.', 'DE WELL CONTAINER SHIPPING CORP.', 'DEALLUS CONSULTING, INC.', 'DEAUVILLE CAPITAL MANAGEMENT LP', 'DEBEVOISE & PLIMPTON LLP', 'DEBORAH BERKE & PARTNERS ARCHITECTS LLP', 'DEBORAH BERKE AND PARTNERS ARCHITECTS LLP', 'DEBORAH NEVINS & ASSOCIATES, INC.', 'DECOR AID LLC', 'DECORATORSBEST, LLC', 'DECORFIN USA INC', 'DEDICA GROUP, INC.', 'DEEP FOCUS INC', 'DEEPAK AMIN, M.D., LLC', 'DEER STAGS CONCEPTS INC', 'DEER STAGS INC', 'DELIVERY.COM', 'DELIVERY.COM LLC', 'DELOITTE ANALYTICS LLC', 'DELOITTE CORPORATE FINANCE LLC', 'DELOITTE MARKETPOINT LLC', 'DEM CONSULTING LLC DBA ALLIED', 'DEMAND INSIGHTS, LLC', 'DEMAR PLUMBING CORP.', 'DEMOCRACY PREP CHARTER SCHOOL', 'DEMOCRACY PREP III CHARTER SCHOOL', 'DEMOS: A NETWORK FOR IDEAS AND ACTION LTD.', 'DEMOS: A NETWORK FOR IDEAS AND ACTION, LTD.', 'DENTONS US LLP', 'DENTSU MCGARRY BOWEN LLC', 'DENTSU MCGARRY BOWEN, LLC', 'DEPARTMENT OF VETERANS AFFAIRS', 'DEPECHE MODE CLOTHING CO. LLC', 'DEREK LAM INTERNATIONAL LLC', 'DERIVATIVES DIRECTIONS, LLC', 'DERIVE TECHNOLOGIES LLC', 'DESAI CHIA ARCHITECTURE P.C.', 'DESIGN BUREAUX INC', 'DESIGN DEVELOPMENT NYC INC.', 'DESIGN EFFECT INC.', 'DESIGN TRUST FOR PUBLIC SPACE, INC.', 'DESSINS LLC', 'DEUTSCH INC.', 'DEUTSCHE BANK AG', 'DEUTSCHE BANK NEW YORK BRANCH', 'DEUTSCHE BANK SECURITIES INC.', 'DEUTSCHE BANK TRUST COMPANY AMERICAS', 'DEUTSCHE BANK TRUST COMPANY AMERICAS INC.', 'DEUTSCHE INVESTMENT MANAGEMENT AMERICAS, INC.', 'DEUTSCHE TELEKOM, INC.', \"DEVA, INC. (D/B/A TOD'S)\", 'DEVANLAY U.S., INC.', 'DEVANLAY US INC.', 'DEVELOPMENT CORPORATION FOR ISRAEL', 'DEVI TECHNOLOGIES LLC', 'DEVSPARK LLC', 'DEWITT REHABILITATION AND NURSING CENTER', 'DEXIA CREDIT LOCAL, NEW YORK BRANCH', 'DEXTER DESIGN CONSULTANTS INC.', 'DFG INVESTMENT ADVISERS, INC.', 'DHAKA DENTAL PC', 'DHD ARCHITECTURE DESIGN, PLLC', 'DI DOMENICO + PARTNERS LLP', 'DIALED IN INC.', 'DIANA IMPORTS INC.', 'DIANA IMPORTS, INC.', 'DIASCIENCE CORPORATION', 'DIFAMA CONCRETE, INC.', 'DIGENNARO COMMUNICATIONS', 'DIGITAL LIQUOR DELIVERY, LLC', 'DIGITAL OCEAN, INC.', 'DIGITAMITE, INC.', 'DILIGENCE, INC.', 'DILIGENT BOARD MEMBER SERVICES, INC.', 'DILLER SCOFIDIO + RENFRO ARCHITECTS, D.P.C.', 'DILLER SCOFIDIO+RENFRO ARCHITECTS D.P.C.', 'DIMASSIMO INC.', 'DINOSAUR SECURITIES LLC', 'DINOSAUR SECURITIES, LLC', 'DIPNA RX INC.', 'DIRECT AGENTS, INC.', 'DISCO INTERNATIONAL, INC.', 'DISRUPT DESIGN LLC', 'DISTINGUISHED PROGRAMS INSURANCE BROKERAGE LLC', 'DITMAS PARK REHAB CARE CENTER', 'DIVATEX HOME FASHIONS, INC.', 'DKMS AMERICAS', 'DLATHE LLC', 'DM SERVICES INC.,', 'DM SERVICES, INC.', 'DM2 MEDIA, LLC', 'DMS NETWORK, INC.', 'DNA MODEL MANAGEMENT LLC', 'DNP AMERICA, LLC', 'DO SOMETHING INC.', 'DOCHANTSCHI INC', 'DOCTORS WITHOUT BORDERS/MEDECINS SANS FRONTIERES U', 'DOCTORS WITHOUT BORDERS/MEDICINS SANS FRONTIERES (', 'DOE FUND, INC.', 'DOLCE & GABBANA USA, INC.', \"DOM N' TOM INC.\", 'DOMINIQUE LEVY GALLERY', 'DOMINO RECORDING COMPANY, INC.', 'DOMUS DESIGN CENTERS INC', 'DONAHUE & PARTNERS LLP', 'DOPPLER LABS INC.', 'DORAL BANK', 'DORAN JONES INC.', 'DORAN JONES, INC.', 'DOUBLE ALPHA GROUP, LLC', 'DOUBLEDUB, INC.', 'DOUBLEVERIFY INC.', 'DOUGHNUT PLANT CHELSEA INC.', 'DOUGLAS AND LONDON, PC', 'DOUGLAS C. LANE & ASSOCIATES, INC.', 'DR. BABAK GHALILI', 'DR. MARTIN LUTHER KING JR. HEALTH CENTER, INC.', 'DR. MARTIN LUTHER KING, JR. HEALTH CENTER, INC.', 'DRA ADVISORS LLC', 'DRAFTFCB HEALTHCARE, A DIVISION OF DRAFTFCB, INC.', 'DRAFTFCB, INC.', 'DRAGADOS USA, INC.', 'DRAMA LEAGUE OF NEW YORK, INC.', 'DRAMAFEVER CORP', 'DRAMAFEVER CORPORATION', 'DRC SYSTEMS USA LLC', 'DRDI HOLDINGS, INC.', 'DREAMAIR LLC', 'DREAMWEAR, INC', 'DREAMWEAR, INC.', 'DREISER PHYSICL THERPY & REHABILITATION PC.', 'DREISER PHYSICL THERPY &; REHABILITATION PC.', 'DRISHA INSTITUTE FOR JEWISH EDUCATION', 'DROGA 5, LLC', 'DROGA5, LLC', 'DRUMBEAT DIGITAL, LLC D/B/A HEARTBEAT IDEAS', 'DSTILLERY INC.', 'DUBBLEE MEDIA, INC.', 'DUCE CONSTRUCTION CORPORATION', 'DUGGAL VISUAL SOLUTIONS INC', 'DUNE INC.', 'DUTESCO ART INC.', 'DVB CAPITAL MARKETS LLC', 'DVB TRANSPORT (US) LLC', 'DVF STUDIO LLC', 'DW INVESTMENT MANAGEMENT LP', 'DW INVESTMENT MANAGEMENT, LP', 'DYNAMIC LOGIC, LLC', 'DYNAMIC SERVICES INTERNATIONAL, INC.', 'DYNASTY MANAGEMENT INC.', 'DZ BANK AG', 'E D & F MAN CAPITAL MARKETS INC.', 'E*TRADE FINANCIAL CORPORATION', 'E*TRADE SECURITIES LLC', 'E-LINE VENTURES, LLC', 'E. FITZGERALD ELECTRIC CO., INC.', 'E888 INTERNATIONAL INC.', 'EAGLE ENERGY BROKERS, LLC', 'EAGLE SHIPPING INTERNATIONAL (USA) LLC', 'EAGLE SHIPPING INTERNATIONAL (USA) LLC.', 'EAGLEVALE PARTNERS LP', 'EAGLEWOOD CAPITAL MANAGEMENT, LLC', 'EARTHSTREAM GLOBAL, INC', 'EAST FLUSHING PHYSICAL THERAPY, P.C.', 'EAST HARLEM BLOCK NURSERY #2', 'EAST HARLEM SCHOLARS ACADEMY', 'EAST SIX DESIGN, LLC', 'EASTBRIDGE REAL ESTATE LLC', 'EASTERN NATIONWIDE SUPPLY, INC.', 'EASTMAN FOOTWEAR GROUP INC.', 'EAT HERE NOT THERE', 'EAT HERE NOT THERE LLC', 'EAT THE BALL USA, INC.', 'EATALY CHICAGO LLC', 'EATALY NY LLC', 'EATON & VAN WINKLE LLP', 'EATON & VAN WINKLE, LLP', 'EBH ENTERPRISES, INC.', 'EBS DEALING RESOURCES, INC.', 'EBUZZING, INC.', 'EC1 PARTNERS INC', 'ECCELLA CORPORATION', 'ECHINUS ADVISORS, LLC', \"ECKERSLEY O'CALLAGHAN AND PARTNERS LLC\", 'ECLECTIC/ENCORE PROPERTIES, INC.', 'ECOHEALTH ALLIANCE', 'ECOHEALTH ALLIANCE, INC. F/K/A WILDLIFE TRUST INCO', 'ECOLE INTERNATIONAL DE NEW YORK LLC', 'ECOLE INTERNATIONALE DE NEW YORK', 'ECOLE INTERNATIONALE DE NEW YORK LLC', 'ECOLOGICAL PARTNERS LLC', 'ECONSULTANCY LLC', 'ECOSYS MANAGEMENT LLC', 'ED.CO LLC', 'ED.CO, LLC', 'EDAMAM LLC', 'EDGEMONT ADVISORS, LP', 'EDGESTONE GROUP LLC', 'EDIT ONE PRODUCTIONS LLC', 'EDUCATIONAL NETWORKS, INC.', 'EDULENCE CORPORATION', 'EDUN-AMERICAS, INC.', 'EDWIN GOULD SERVICES FOR CHILDREN & FAMILIES', 'EDWIN SCHLOSSBERG INC.', 'EET BROOKLYN LLC', 'EFFY & CO., INC.', 'EFRONT FINANCIAL SOLUTIONS INC.', 'EGON ZEHNDER INTERNATIONAL, INC', 'EGON ZEHNDER INTERNATIONAL, INC.', 'EHE INTERNATIONAL, INC.', 'EIGHT AND A HALF, NEW YORK, LTD', 'EIGHT NEW YORK INC.', 'EIGHT ONE EIGHT SPORTS & ENTERTAINMENT LLC', 'EILEEN FISHER, INC.', 'EISNERAMPER LLP', 'EJ STERLING, INC.', 'EJ2 COMMUNICATIONS, INC.', 'EJC ENGINEERING, PLLC', 'EJEWELER.COM LLC', 'EJEWELLER.COM LLC', 'EKLUNDGOMES, LLC', 'EL AL ISRAEL AIRLINES LIMITED', 'EL DIARIO LLC', 'EL DIARIO, LLC.', 'ELAINE KAUFMAN CULTURAL CENTER', 'ELC MANAGEMENT LLC', 'ELECTRON TRADING LLC', 'ELEMENT CAPITAL MANAGEMENT LLC', 'ELENA FRAMPTON LLC', 'ELIE TAHARI LTD.', 'ELIE TAHARI, LTD', 'ELIKO PEARL CO. INC.', 'ELITE MODEL MANAGEMENT, LLC', 'ELITE PERFORMANCE MEDIA AND COMMUNICATIONS LLC', 'ELITEDAILYCOM LLC', 'ELIZABETH ARDEN, INC.', 'ELIZABETH KENNEDY LANDSCAPE ARCHITECT, PLLC', 'ELLENOFF, GROSSMAN & SCHOLE LLP', 'ELLI N.Y. DESIGN CORP.', 'ELLIOT HOROWITZ & COMPANY, LLP', 'ELLIOTT MANAGEMENT CORPORATION', 'ELLISON SYSTEMS INC.', 'ELSEVIER, INC.', 'EMANDI LAW FIRM, PC', 'EMBY INTERNATIONAL INC.', 'EMC SOLUTIONS LLC', 'EME CONSULTING ENGINEERING GROUP, LLC', 'EMERSON, WAJDOWIICZ STUDIOS, INC.', 'EMI MUSIC PUBLISHING LLC', 'EMM GROUP MANAGEMENT, LLC', 'EMPIRE CARE, INC.', 'EMPIRE CITY GROUP INC.', 'EMPIRE CONTROL ABATEMENT INC.', 'EMPIRE CONTROL ABATEMENT, INC.', 'EMPIRE DIAGNOSTIC SOLUTIONS, INC', 'EMPIRE MEDICAL & REHABILITATION P.C.', 'EMPIRE SQUARE GROUP LLC', 'EMPIRICAL RESEARCH PARTNERS LLC', 'EMPOWERED MEDICAL MEDIA, LLC', 'EMPRESS MEDIA, INC.', 'EMW HOLDINGS, INC.', 'ENABLE GROUP, INC.', 'ENABLEIT LLC', 'ENABLEIT, LLC', 'ENB USA LLC', 'ENCHANTE ACCESSORIES', 'ENDAVA US LLC', 'ENERGY INTELLIGENCE GROUP, INC.', 'ENERGY METRICS, LLC', 'ENERKNOL, INC.', 'ENGAGE INFORMATION INCORPORATED', 'ENGAGE INFORMATION, INC.', 'ENGENDERHEALTH, INC', 'ENGENDERHEALTH, INC.', 'ENGINEERING GROUP ASSOCIATES P.C', 'ENGINEERS GATE MANAGER LP', 'ENLACE NEW YORK, INC.', 'ENNEAD ARCHITECTS LLP', 'ENNEAD ARCHITECTS LP', 'ENNEAD ARCHITETS LLP', 'ENRIQUE NORTEN ARCHITECTS, PC', 'ENRIQUE NORTEN ARCHITECTURE, PC', 'ENRIQUE NORTEN ARCHITECTURE, PC DBA TEN ARQUITECTO', 'ENSO FINANCIAL MANAGEMENT LLP', 'ENSTOA, INC.', 'ENTERPRISE ENGINEERING INC', 'ENTERPRISE NETWORK OF NEW YORK INC.', 'ENTERSOLAR LLC', 'ENVIRONETICS GROUP, INC.', 'ENVIRONMENTAL DEFENSE FUND, INC.', 'ENVIROSELL, INC.', 'ENVISIONS LLC', 'ENVOGUE INTERNATIONAL LLC.', 'EPIC PHARMA LLC', 'EPIQ EDISCOVERY SOLUTIONS, INC.', 'EPOCH INVESTMENT PARTNERS, INC.', 'EPSILON CONSULTING SERVICES, INC.', 'EQUANIMITY, INC.', 'EQUILEND HOLDINGS LLC', 'EQUINOX HOLDINGS, INC.', 'ERCOLE HOME INC.', 'ERCOLE, INC.', 'ERETAIL MEDIA', 'ERIKSEN TRANSLATIONS INC.', 'ERMINIA RESTAURANT CORP.', 'ES ORIGINALS INC.', 'ESE NYC, INC.', 'ESPASSO INC.', 'ESPASSO, INC.', 'ESSAY PROFESSIONALS LLC', 'ESSEN MEDICAL ASSOCIATES PC', 'ESSEN MEDICAL ASSOCIATES, PC', 'ESSENCE COMMUNICATIONS INC', 'ESSENCE DIGITAL INC', 'ESSENTIAL PUBLICATIONS US LLC', 'ESSEX LAKE GROUP LLC', 'ESTEE LAUDER TRAVEL RETAIL SERVICES, INC.', 'ETHICAL CULTURE FIELDSTON SCHOOL', 'ETHOS GALLERY 51, LLC', 'ETHOS GLLERY 51, LLC', 'ETIHAD AIRWAYS', 'ETON PARK CAPITAL MANAGEMENT L.P.', 'ETRALI NORTH AMERICA, LLC', 'ETRO USA, INC.', 'ETRONICS INC.', 'ETSY, INC.', 'EURASIA GROUP, LTD.', 'EURO RSCG NEW YORK INC.', 'EURO-CENTER USA, INC.', 'EUROCONSULT, INC.', 'EUROTECH CONSTRUCTION CORP.', 'EUROTREND FURNITURE LLC', 'EUS LLC', 'EVA GROUP NORTH AMERICA, LLC', 'EVANS RELOCATION, INC.', 'EVENTS UNLIMITED INC.', 'EVERAX TEXTILE INC', 'EVERGREEN MEDICAL CLINIC, PC', 'EVERWRITE INC.', 'EVERY NATION NEW YORK CITY', 'EVERYDAY HEALTH MEDIA LLC', 'EVERYDAY HEALTH MEDIA, LLC', 'EVERYDAY HEALTH, INC.', 'EVIDON, INC.', 'EVISORS, INC.', 'EVORA IT SOLUTIONS, INC.', 'EVOSOL, LLC', 'EXANE, INC.', 'EXCELIAN INC.', 'EXCELLENT HOME CARE SERVICES, LLC', 'EXCIRA TECHNOLOGIES, INC.', 'EXELATE, INC.', 'EXETER PHARMA CONSULTANCY', 'EXIGEN SERVICES USA, INC.', 'EXIGIS, LLC.', 'EXL EVENTS INC.', 'EXLSERVICE.COM, INC.', 'EXLSERVICE.COM, LLC', 'EXPLORE CHARTER SCHOOL', 'EXPLORER NYC CORP.', 'EXPO COMMUNICATIONS, INC.', 'EXPOLANKA USA LLC.', 'EXPOSURE COMMUNICATIONS LLC', 'EXPRESSIBLE, INC.', 'EXTENDED NURSING PERSONNEL LLC', 'EXTOL GROUP INC.', 'EXTREME LINEN', 'EXUSIA, INC.', 'EYEBALL ON THE FLOOR, INC', 'EYEBALL ON THE FLOOR, INC.', 'EYELOCK CORPORATION', 'EYEVIEW, INC.', 'F SHARP, INC.', 'F&D PROJECTS LLC', 'F&O HOSPITALITY INC', 'F&O HOSPITALITY, INC.', 'F+P ARCHITECTS NEW YORK INC.', 'F+P ARCHITECTS NEW YORK, INC.', 'F.L. NAVARRO LTD.', 'F.O. USA, INC.', 'FAB.COM, INC.', 'FABRIKANT TARA INTERNATIONAL LLC', 'FABRIKANT-TARA INTERNATIONAL LLC.', 'FABRIZIO ACCESSORIES LLC', 'FADEL PARTNERS, INC.', 'FADNER MEDIA ENTERPRISES, LLC', 'FAHERTY BRAND, LLC', 'FAHRENHEIT 212, LLC', 'FAIR HEALTH, INC.', 'FAIRCOM NEW YORK, INC.', 'FAIRWAY CENTRAL SERVICES LLC', 'FAITHFUL+GOULD, INC.', 'FAL COFFEE', 'FAL FOODS USA INC.', 'FAL FOODS USA, INC.', 'FALCON EDGE CAPITAL LP', 'FAMOUS HORSE INC.', 'FAMOUSE HORSE INC.', 'FANDUEL, INC.', 'FANTASIA WORLD INC.', 'FANTASY INTERACTIVE INC.', 'FANVISION ENTERTAINMENT, LLC', 'FAREPORTAL INC.', 'FARMACIA CENTRAL, INC.', 'FASCET LLC', 'FASHION ACCESSORY BAZAAR LLC', 'FASHION BUSINESS CORP.', 'FASHION INSTITUTE OF TECHNOLOGY', 'FASHION SNOOPS INC', 'FASHIONHAUS, LLC', 'FAST PARROT HOLDINGS CORP.', 'FAST RETAILING USA, INC.', 'FAT ANNIES TRUCK STOP', 'FATHOM UNLIMITED, INC.', 'FAVIANA INTERNATIONAL INC.', 'FCB WORLDWIDE, INC.', 'FDM GROUP INC', 'FEARLESS MEDIA LLC', 'FEINER & LAVY, P.C.', 'FELDMAN LAW GROUP PC', 'FELIX STORCH, INC.', 'FENICE INTERNATIONAL REALTY, LLC', 'FERRAGAMO USA INC.', 'FERRANTE PLLC', 'FERRANTE, PLLC', 'FERRIC SEMICONDUCTOR, INC.', 'FESTINA LENTE LLP', 'FGC SECURITIES LLC', 'FIAT FINANCE NORTH AMERICA, INC.', 'FIDELUS TECHNOLOGIES, LLC', 'FIDESSA CORPORATION', 'FIDUCIARY INSURANCE COMPANY OF AMERICA', 'FIELD STREET CAPITAL MANAGEMENT LLC', 'FIELD STREET CAPITAL MANAGEMENT, LLC', 'FIELDSTONE PRIVATE CAPITAL GROUP', 'FIELDSTONE PRIVATE CAPITAL GROUP, INC.', 'FIESTA COLLECTION INC.', 'FIFTYTHREE, INC.', 'FIGLIULO & PARTNERS LLC', 'FIGLIULO & PARTNERS, LLC', 'FILIP TECHNOLOGIES', 'FILIP TESS, INC.', 'FILMNATION ENTERTAINMENT LLC', 'FINANCIAL PARTNERS CAPITAL MANAGEMENT LLC', 'FINANCIAL RISK ENGINEERING LLC', 'FINANCO LLC', 'FINDLY TALENT, LLC', 'FINE WOOD CONSERVATION LTD', 'FINECT INC (FKA UNIENCE INC)', 'FINITECH US LLC', 'FINK & ZELMANOVITZ, P.C.', 'FINN PARTNERS', 'FINO CONSULTING, LLC', 'FINSERV CONSULTING LLC', 'FINSOFT CONSULTANTS INC.', 'FINSOFT CONSULTANTS, INC', 'FINSOFT CONSULTANTS, INC.', 'FIRCOSOFT INC', 'FIREFISH USA LLC', 'FIRST ADMIN, INC.', 'FIRST ATLANTIC CAPITAL, LTD.', 'FIRST CLASS PHYSICAL THERAPY, P.C.', 'FIRST CLASS PHYSICAL THERAPY, PC', 'FIRST DERIVATIVES U.S., INC.', 'FIRST DERIVATIVES US INC', 'FIRST DERIVATIVES US INC.', 'FIRST KEY LENDING, LLC', 'FIRST MANHATTAN CONSULTING GROUP', 'FIRST PAY SOLUTIONS LLC', 'FIRSTBORN MULTIMEDIA CORPORATION', 'FITANGO INC.', 'FITCH 7CITY LEARNING INC.', 'FITCH RATINGS', 'FITCH SOLUTIONS', 'FITH USA, INC.', 'FITZ & CO INC', 'FIVERR, INC.', 'FIX FLYER LLC', 'FJA-US, INC.', 'FJORD LLC', 'FLATIRON HEALTH, INC.', 'FLATIRON HEATH, INC.', 'FLEET STREET LTD.', 'FLEUR WOOD LLC', 'FLINDERS LANE, LLC', 'FLIPSIDE LLC', 'FLOATING APPS, INC.', 'FLOW TRADERS US LLC', 'FLUSHING HOSPITAL MEDICAL CENTER', 'FLYBY MEDIA, INC.', 'FLYLEAF CREATIVE, INC.', 'FLYTIME TOURS & TRAVEL INC', 'FLYWHEEL PARTNERS LLC', 'FMA INTERNATIONAL LLC', 'FMS WERTMANAGEMENT SERVICE GMBH', 'FNY CAPITAL MANAGEMENT LP', 'FOCUS LIGHTING INC', 'FOCUS ON MATH ACADEMY', 'FOGARTY FINGER ARCHITECTURE PLLC', 'FOJP SERVICE CORPORATION', 'FOLIO DYNAMICS, INC.', 'FORBES MEDIA LLC', 'FORD MODELS, INC.', 'FORDHAM UNIVERSITY', 'FORDHAM-BEDFORD HOUSING CORPORATION', 'FORE RESEARCH & MANAGEMENT, LP', 'FOREFRONT CAPITAL MARKETS LLC', 'FORENSIC PANEL CORP', 'FOREST LABORATORIES, INC.', 'FORETHOUGHT USA LLC', 'FOREVER CHEESE, INC.', 'FORREST SOLUTIONS, INC', 'FORREST SOLUTIONS, INC.', 'FORTIS PROPERTY GROUP, LLC', 'FORWARD ASSOCIATION INC.', 'FOUND ORGANIC USA, LLC', 'FOUNDATION FOR THE GLOBAL COMPACT', 'FOUR POINTS ADVISORS, LLC', 'FOUR STAR AIR CONDITIONING CO., LLC', 'FOUR WOOD CAPITAL PARTNERS LLC', 'FOURPOLE AMERICA CORPORATION', 'FOURSQAURE LABS, INC.', 'FOURSQUARE LABS, INC.', 'FOURSQUARE, INC.', 'FOX NEWS NETWORK LLC', 'FRACHT FWO INC.', 'FRAGOMEN, DEL REY, BERNSEN & LOEWY LLP', 'FRAICHE PR AND COMMUNICATIONS LLC', 'FRAMESTORE INC.', 'FRAMESTORE, INC.', 'FRANCE-AMERIQUE LLC', 'FRANK CUNNINGHAM CONSULTANCY INC', 'FRANK XU LLP', 'FREDERIC SCHWARTZ ARCHITECTS', 'FREDERIC W. COOK & CO., INC.', 'FREDERICK WILDMAN & SONS, LTD.', 'FREDERICKS MICHAEL CO. INC.', 'FREIGHT SYSTEMS, INC.', 'FRENCH INSTITUTE ALLIANCE FRANCAISE', 'FRESCO DECORATIVE PAINTING, INC.', 'FRESH DIGITAL INC.', 'FRESH DIRECT LLC', 'FRESH GARDEN INC.', 'FRESH, INC.', 'FRESHFIELDS BRUCKHAUS DERINGER US LLP', 'FRESHPLANET INC', 'FREUD PIZENBERG INDEPENDENT ADVISORS CORP.', 'FRIED FRANK HARRIS SHRIVER & JACOBSON LLP', 'FRIED, FRANK, HARRIS, SHRIVER & JACOBSON LLP', 'FRIEDMAN LLP', 'FRIENDS ADULT DAY CARE INC.', 'FRIENDS OF THE CHILDREN NEW YORK', 'FRIENDS OF THE HIGH LINE, INC.', 'FRIENDS OF THE ISRAEL DEFENSE FORCES', 'FRITZ HANSEN INC.', 'FRONT INC.', 'FSA STORE, INC.', 'FSG-ENTERTAINMENT LLC', 'FT PUBLICATIONS INC.', 'FU LE ELDERLY CENTER INC.', 'FUELED DIGITAL MEDIA LLC', 'FULCRUM ANALYTICS, INC.', 'FULLSIX, INC.', 'FULTON FRANCIS CONSULTING INC.', 'FUNCTIONAL LIFE ACHIEVEMENT, INC.', 'FUNCTIONAL MDS PLLC', 'FUND TAX SERVICES LLC', 'FUNDERS FOR LESBIAN AND GAY ISSUES, INC.', 'FUNDTECH CORPORATION', 'FUSION BRANDS AMERICA INC.', 'FUSTER LAW, P.C.', 'FUTURE CARE CONSULTANTS, LLC', 'FUTURE LAB, INC.', 'FUTURES GROUP IT LLC', 'FX COMMUNICATIONS & MEDIA LLC', 'FX DIRECT DEALER LLC', 'FX DIRECT DEALER, LLC', 'FX FINVEST LLC', 'FXDIRECT DEALER LLC', 'FXFOWLE ARCHITECTS, LLP', 'G AND D RESTAURANT ASSOCIATES LLC', 'G-III LEATHER FASHIONS INC.', 'G-III LEATHER FASHIONS, INC.', 'G-STAR INC.', 'G-UNIT RECORDS, INC.', 'G.A.P. ACTIVITY PROJECT NA INC.', 'G.C. CONSULTANTS, INC.', 'GA TAX SERVICES INC', 'GABELLINI SHEPPARD ASSOCIATES LLP', 'GABRIEL BROS INC.', 'GABRIEL BROS, INC.', 'GABRIELS TECHNOLOGY SOLUTIONS, INC.', 'GACE CONSULTING ENGINEERS, P.C.', 'GAGE MEYER ENGINEERS, P.C.', 'GAGOSIAN GALLERY, INC.', 'GAIA REAL ESTATE INVESTMENTS LLC', 'GAIA REAL ESTATE L.L.C.', 'GAIA REAL ESTATE, LLC', 'GALA REAL ESTATE, L.L.C.', 'GALAXY COLOR INC', 'GALAXY OF NEW YORK INC', 'GALAXY USA, INC.', 'GALILEO GLOBAL ADVISORS, LLC', 'GALILEO GLOBAL SECURITIES LLC', 'GALYA KAY, INC.', 'GAM USA, INC.', 'GAMBIT TECHNOLOGIES INC.', 'GAMECHANGE RACKING, LLC', 'GAMECHANGER MEDIA, INC', 'GAMELOFT, INC.', 'GAMIFICATION CORP', 'GANGA MUKKAVILLI CPA PC', 'GANNAWAY WEB HOLDINGS, LLC.', 'GANSEVOORT HOTEL LLC', 'GANT USA CORPORATION', 'GANTER INTERIORS, INC.', 'GARAN INC.', 'GARD (NORTH AMERICA) INC.', 'GARDINER & THEOBALD, INC.', 'GARDINER &AMP; THEOBALD, INC.', 'GARIS & HAHN LLC', 'GATEWOOD CAPITAL PARTNERS LLC', \"GAVIN BROWN'S ENTERPRISE CORP.\", 'GAZELLE GLOBALIZATION GROUP LLC', 'GBS FINANCE, LLC', 'GC GROUP CAPITAL', 'GCK PARTNERS, LLC', 'GDS PUBLISHING INC', 'GELMART INDUSTRIES, INC.', 'GEM-QUALITY CORPORATION', 'GEMINI SYSTEMS, LLC', 'GEMOLOGICAL APPRAISAL ASSOCIATION, INC.', 'GEMS AMERICAS, INC.', 'GENE KAUFMAN ARCHITECT, P.C.', 'GENE KAUFMAN ARCHITECT, PC', 'GENERAL ASSEMBLY SPACE, INC.', 'GENERAL TOOLS AND INSTRUMENTS COMPANY LLC', 'GENERALI U.S. BRANCH', 'GENERALI US BRANCH', 'GENERATION LOVE LLC', 'GENESIS CORP', 'GENESIS MEDIA LLC.', 'GENIOO INC', 'GENNX360 MANAGEMENT COMPANY LLC', 'GENOMEWEB, LLC', 'GEOFFREY BRADFIELD, INC.', 'GEOMETRY GLOBAL LLC', 'GERNER, KRONICK + VALCARCEL, ARCHITECTS, PC', 'GERSON LEHRMAN GROUP, INC.', 'GERSTEIN FISHER & ASSOCIATES, INC.', 'GETTY IMAGES (U.S.) INC.', 'GF55 PARTNERS', 'GFI MANAGEMENT SERVICES, INC.', 'GFM WORLD, INC.', 'GFT USA, INC.', 'GI-STEP RECORDS, INC.', 'GIANT INTERACTIVE, LLC', 'GIBNEY, ANTHONY & FLAHERTY LLP', 'GIC (NEW YORK) INC.', 'GIC ASSET MANAGEMENT PRIVATE LIMITED', 'GIC ASSET MANAGEMENT PTE. LTD.', 'GIC REAL ESTATE INC.', 'GIC SPECIAL INVESTMENTS PTE LTD', 'GIC SPECIAL INVESTMENTS PTE. LTD.', 'GIDDY APPS LLC', 'GILMORE GROUP LLC', 'GILMORE GROUP, LLC', 'GILSANZ MURRAY STEFICEK, LLP', 'GILT CITY, INC.', 'GILT GROUPE, INC.', 'GILT SHARED SERVICES, INC.', 'GILT TRAVEL, INC.', 'GIN LANE MEDIA INC.', 'GINA GROUP LLC', 'GINTER LOGISTICS SERVICES USA INC.', 'GIORGIO ARMANI CORPORATION', 'GIULIETTA, LLC', 'GK TRADING, LLC', 'GL TRADE CAPITAL MARKETS SOLUTIONS INC', 'GL TRADE CAPITAL MARKETS SOLUTIONS INC.', 'GLAMOUR KILLS CLOTHING', 'GLEEDS NEW YORK INC.', 'GLENBORN CORP', 'GLENBORN CORP.', 'GLICKMAN ENGINEERING ASSOCIATES PLLC', 'GLIDESLOPE LLC', 'GLIMMER, LLC', 'GLOBAL ACCESS ENTERPRISES, INC.', 'GLOBAL AGORA LLC', 'GLOBAL ALLIANCE LOGISTICS, INC.', 'GLOBAL AMS, INC.', 'GLOBAL APPLICATIONS SOLUTION LLC', 'GLOBAL APPLICATIONS SOLUTION, LLC', 'GLOBAL APPLICATIONS SOLUTIONS, LLC', 'GLOBAL ARENA CAPITAL CORP.', 'GLOBAL ATLANTIC FINANCIAL COMPANY', 'GLOBAL CONSULTANCY HOUSE, LLC', 'GLOBAL FINANCE MEDIA INC.', 'GLOBAL GATEWAY ADVISORS', 'GLOBAL GOLD INC.', 'GLOBAL HEALTH STRATEGIES, LLC', 'GLOBAL HIV VACCINE ENTERPRISE', 'GLOBAL INFRASTRUCTURE MANAGEMENT, LLC', 'GLOBAL IT ASSOCIATES, LLC.', 'GLOBAL IT SOLUTIONS USI, INC.', 'GLOBAL JUSTICE CENTER', 'GLOBAL LINK IN MANAGEMENT GROUP, INC', 'GLOBAL LINK IN MANAGEMENT GROUP, INC.', 'GLOBAL MAXIMUM EDUCATION OPPORTUNITIES, INC.', 'GLOBAL MAXIMUM EDUCATIONAL OPPORTUNITIES, INC. (G-', 'GLOBAL POVERTY PROJECT INC.', 'GLOBAL POVERTY PROJECT, INC', 'GLOBAL TECHNIX INC', 'GLOBAL THEMATIC PARTNERS HOLDINGS LLC', 'GLOBAL THERMOSTAT OPERATIONS, LLC', 'GLOBAL WORKS GROUP LLC', 'GLOBAL X MANAGEMENT COMPANY, LLC', 'GLOBALWORKS GROUP LLC', 'GLOBECAST AMERICA INC.', 'GLOSS POSTPRODUCTION LLC', 'GLOW ART LLC', 'GLOW INTERACTIVE, INC.', 'GLOW MEDIA & MARKETING, INC.', 'GLUCKMAN MAYNER ARCHITECTS', 'GO GO CURRY USA, INC.', 'GOGOTECH II LLC', 'GOGOTECH II, INC.', 'GOGOTECH INC', 'GOGOTECH, INC.', 'GOLDENTREE ASSET MANAGMENT, LP', 'GOLDSTAR INDEPENDENT LLC', 'GOLDSTEIN & LEE, P.C.', 'GOLDSTEIN HILL WEST ARCHITECTS, LLP', 'GON WAY CONSTRUCTION INC.', 'GOOD APPLE PUBLISHING, LLC', 'GOOD SHEPHERD SERVICES', 'GOOGLE INC.', 'GOOP, INC.', 'GORRIVAN FINE ARTS, LTD', 'GOTHAM CONSULTING PARTNERS LLC', 'GOULD PAPER CORPORATION', 'GOURMET GURU INC.', 'GOURMET GURU, INC.', 'GOVERNMENT OF SINGAPORE INVESTMENT CORPORATION (NE', 'GPH MANAGEMENT LLC', 'GPSHOPPER, LLC', 'GR TECH LLC', 'GRABILITY, INC.', 'GRAF & LEWENT ARCHITECTS, LLP', 'GRAHAM WINDHAM', 'GRAMEEN AMERICA, INC.', 'GRAMERCY PARK PHYSICAL THERAPY, P.C.', 'GRAMERCY SURGERY CENTER INC', 'GRAND BK CORP', 'GRANT PHARMA INC', 'GRAVITAS TECHNOLOGY SERVICES LLC', 'GRAVITAS TECHNOLOGY SERVICES, LLC', 'GRAVITY MEDIA LLC', 'GREAT HEIGHTS CONSULTING CORP.', 'GREAT OAKS CHARTER SCHOOL', 'GREATIST, INC.', 'GREEK ORTHODOX ARCHDIOCESE OF AMERICA', 'GREEN EDUCATION SERVICES', 'GREEN KEY RESOURCES', 'GREEN KEY TEMP LLC', 'GREEN OWL CAPITAL MANAGEMENT, LLC', 'GREEN VALLEY, INC.', 'GREENCARD CREATIVE', 'GREENEBUILD, LLC', 'GREENHILL & CO., LLC', 'GREENHOUSE SOFTWARE INC.', 'GREENPOINT NEWS LLC', 'GREENWICH ENERGY SOLUTIONS, LLC', 'GRESHAM INVESTMENT MANAGEMENT LLC', 'GRETEL INC.', 'GREY GLOBAL GROUP INC.', 'GREY HEALTHCARE GROUP', 'GREY HEALTHCARE GROUP INC', 'GRIMSHAW ARCHITECTS P.C.', 'GRIMSHAW PC', 'GRO INTELLIGENCE, INC.', 'GROHE AMERICA INC.', 'GROHE AMERICA, INC.', 'GROK, LLC', 'GROUNDLINK HOLDINGS LLC', 'GROUP FMG INC', 'GROUP FMG, INC.', 'GROUP GORDON INC.', 'GROUPE JS INTERNATIONAL LTD.', 'GROUPM WORLDWIDE INC.', 'GROUPM WORLDWIDE INC. - MEC', 'GROUPM WORLDWIDE INC.-MINDSHARE WORLDWIDE', 'GROUPM WORLDWIDE LLC', 'GROUPM WORLDWIDE LLC - MEC', 'GROUPM WORLDWIDE, INC.', 'GROUPM WORLDWIDE, LLC', 'GROUPM WORLWIDE INC. - MEC', 'GROVO LEARNING, INC.', 'GRUBHUB INC', 'GRUBHUB INC.', 'GRUNFELD, DESIDERIO, LOBOWITZ, SILVERMAN & KLESTAD', 'GS 4 YOU INC', 'GSIP HOLDINGS INC', 'GSIP HOLDINGS, INC.', 'GTA AMERICAS LLC', 'GTS SECURITIES, LLC', 'GUARDHILL FINANCIAL CORPORATION', 'GUARDIAN NEWS & MEDIA LLC', 'GUCCI AMERICA, INC.', 'GUGGENHEIM FUND SOLUTIONS, LLC', 'GUGGENHEIM PARTNERS INVESTMENT MANAGEMENT, LLC', 'GUIDEPOST SOLUTIONS LLC', 'GUILLEMOT INC', 'GUMUCHIAN FILS LTD.', 'GUTENBERG COMMUNICATIONS', 'GUY NORDENSON AND ASSOCIATES, LLP', 'GV ART CONSERVATION LLC', 'GYRO, LLC', 'H ARCHITECTURE', 'H.C. WAINWRIGHT & CO., LLC', 'H.I.S. INTERNATIONAL TOURS (NY) INC.', 'H.K. DESIGNS INC.', 'H.M.S. PRODUCTIONS, INC.', 'H3 HARDY COLLABORATION ARCHITECTURE LLC', 'HABIB AMERICAN BANK', 'HADSON (TOKO) TRADING CO., INC.', 'HAIER AMERICA TRADING LLC', 'HAIER AMERICA TRADING, LLC', 'HAILEY DEVELOPMENT GROUP LLC', 'HAILO NETWORK USA INC.', 'HAKS ENGINEERS, ARCHITECTS & LAND SURVEYORS PC', 'HAKS ENGINEERS, ARCHITECTS AND LAND SURVEYORS, P.C', 'HAKUNA, INC.', 'HALL & PARTNERS USA LLC', 'HALL AND PARTNERS USA LLC', 'HALSEY MCCORMACK & HELMER, INC.', 'HAMILTON MADISON HOUSE INC', 'HAMILTON-MADISON HOUSE', 'HAMOWY, CONIGLIARO & ASSOCIATES', 'HAMPSHIRE HOTELS MANAGEMENT LLC', 'HANA MART CORP', 'HANAMI INTERNATIONAL, INC.', 'HANDEL ARCHITECTS LLP', 'HANDEL ARCHITECTS LLP.', 'HANDELSBANKEN MARKETS SECURITIES, INC.', 'HANDSHAKE CORP', 'HANDSHAKE CORP.', 'HANDYBOOK, INC.', 'HANOVER STREET CAPITAL, LLC', 'HANOVER VENTURES LLC', 'HANWECK ASSOCIATES, LLC', 'HAP CAPITAL ADVISORS, LLC', 'HAP INVESTMENTS, LLC', 'HAPPY DRAGON OF NEW YORK, INC.', 'HAPPY DRAGON OF USA, INC.', 'HARBINGER GROUP INC.', 'HARBOUR INTERNATIONAL LLC.', 'HARCO CONSTRUCTION LLC', 'HARCO CONSTRUCTION, LLC', 'HARDIE CONSULTING GROUP LLC', 'HARI WORLD TRAVEL, INC', \"HARLEM CHILDREN'S ZONE, INC.\", 'HARLEM SUCCESS ACADEMY CHARTER SCHOOL 3', 'HARLEY COMMUNICATIONS LLC', 'HARMONIA CAPITAL USA, INC.', 'HARMONY CITY CORP.', 'HARNIK LAW FIRM', 'HARPERCOLLINS PUBLISHERS LLC', 'HARRIS PUBLICATIONS, INC.', 'HARRISON & STAR LLC', 'HARRISON & STAR, LLC', 'HARRISON GREEN LLC', 'HARRISON SHRIFTMAN LLC', 'HARRY WINSTON, INC.', 'HART HOWERTON PARTNERS, LTD', 'HASKELL JEWELS, LLC.', 'HASTINGS FUND MANAGEMENT', 'HAUSER & WIRTH, INC.', 'HAUTE ARCHITECTURE D.P.C.', 'HAUTE HIPPIE ENTERPRISE LLC', 'HAVAS HEALTH, INC.', 'HAVAS NORTH AMERICA, INC', 'HAVAS PR NORTH AMERICA INC.', 'HAVAS WORLDWIDE LLC', 'HAVAS WORLDWIDE NEW YORK INC.', 'HAWKINS DELAFIELD & WOOD LLP', 'HAYNES-ROBERTS, INC', 'HAZEN AND SAWYER, P.C.', 'HBE SOLUTIONS, LLC', 'HBI INCORPORATED N.V.', 'HCHC, INC.', 'HCID LLC', 'HCR GROUP INC.', 'HD CAPITAL HOLDINGS, LLC', 'HDNS GROUP, INC.', 'HEADLINER.FM CORP', 'HEALTH & HOSPITALS CORP. KINGS COUNTY HOSPITAL CEN', 'HEALTH AND HOSPITAL CORP., KINGS COUNTY HOSPITAL C', 'HEALTH FIRST PHYSICAL THERAPY PC', 'HEALTH GLOBAL ACCESS PROJECT INC.', 'HEALTHCOR PARTNERS MANAGEMENT LP', 'HEARST COMMUNICATIONS INC.', 'HEARST COMMUNICATIONS INC.-HEARST MAGAZINES DIVISI', 'HEARST TELEVISION, INC.', 'HEBREW LANGUAGE ACADEMY CHARTER SCHOOL', 'HEDGEABLE, INC.', 'HEDGEMARK RISK ANALYTICS, LLC', 'HEDGEOP COMPLIANCE LLC', 'HEDGESERV CORPORATION', 'HEISEN GROUP LTD', 'HELLMUTH, OBATA & KASSABAUM, INC.', 'HELLO STASH INC.', 'HELLO, NYC, INC.', 'HELMUT LANG NEW YORK LLC', 'HELPERN ARCHITECTS PC', 'HEMANT PATEL MD PC', 'HENRY IAN MYERBERG', 'HERAEUS PRECIOUS METALS NORTH AMERICA DAYCHEM LLC', 'HERBERT H. LEHMAN COLLEGE', 'HERBERT H. LEHMAN COLLEGE, CUNY', 'HERBERT SMITH FREEHILLS NEW YORK LLP', 'HERMES INTERNATIONAL MOVERS CORP', 'HERTZ HERSON LLP', 'HESS ENERGY TRADING COMPANY LLC', 'HESTIA ADULT SOCIAL DAY CARE CENTER INC', 'HEVO INC.', 'HFZ REAL ESTATE DEVELOPMENT ASSOCIATES, LLC.', 'HHC - KINGS COUNTY HOSPITAL', 'HIC NETWORK SECURITY SOLUTIONS LLC', 'HICKIES INC', 'HIGHBEAM, INC.', 'HIGHBRIDGE CAPITAL MANAGEMENT, LLC', 'HIGHBRIDGE NEW YORK INC.', 'HIGHBRIDGE PRINCIPAL STRATEGIES, LLC', 'HIGHLAND CAPITAL GROUP LLC', 'HIGHLINE UNITED LLC', 'HIGHTOWER, INC.', 'HILL & KNOWLTON STRATEGIES', 'HILL + KNOWLTON STRATEGIES', 'HILTON HOTELS CORPORATION', 'HILTON WORLDWIDE INC.', 'HILTON WORLDWIDE, INC.', 'HIPERCEPT SOLUTIONS, INC.', 'HIRSHMARK CAPITAL LLC', 'HIT ENTERTAINMENT, INC.', 'HITPARADE INC.', 'HK TECHNOLOGIES, INC.', 'HL GROUP PARTNERS LLC', 'HLW INTERNATIONAL LLP', 'HOGARTH WORLDWIDE INC.', 'HOGARTH WORLDWIDE, INC.', 'HOKUTO INTERNATIONAL, INC.', 'HOLE IN THE WALL COFFEE LLC', 'HOLLAND & KNIGHT LLP', 'HOLLWICH KUSHNER ARCHITECTURE D.P.C.', 'HOLSTED MARKETING, INC.', 'HOME BOX OFFICE, INC.', 'HOMELEGANCE BY TITAN IMPORTERS CO.', 'HOMEPOLISH, INC.', 'HOMERLEARNING, INC.', 'HONEST BUILDINGS INC.', 'HONEST BUILDINGS, INC.', 'HOPSCOTCH TECHNOLOGIES, INC.', 'HORIZON INNOVATIONS LLC', 'HORNBLOWER NEW YORK, LLC', 'HORTON LEES BROGDEN LIGHTING DESIGN INC.', 'HOSKIE COMPANY INC', 'HOSPITAL CLINIC HOME CENTER INSTRUCTIONAL CORP.', 'HOST COMMITTEE, INC.', 'HOTCAM NEW YORK INC.', 'HOTEL INSIDER LTD.', 'HOTEL PENNSYLVANIA', 'HOTELIED, INC.', 'HOUSE CALL MEDICAL SERVICES OF NEW YORK, PLLC', 'HOUSE OF CODE, INC.', 'HOUSE OF SPICES (INDIA) INC.', 'HOUSE OF SPICES (INDIA), INC.', 'HOUSE OF Z LLC', 'HOUSING WORKS INC', 'HOUSING WORKS INC.', 'HOUSING WORKS, INC.', 'HPM PARTNERS LLC', 'HPT NYC INC', 'HRSH ACQUISITIONS LLC', 'HSBC BANK USA, N.A.', 'HSBC SECURITIES (USA) INC.', 'HU BUSINESS INTERNATIONAL GROUP CO., LTD.', 'HUA NAN COMMERCIAL BANK, LTD.', 'HUAQIAO YIHU INSTITUTE, INC.', 'HUDSON BAY CAPITAL MANAGEMENT, LP', 'HUDSON FURNITURE INC.', 'HUDSON GLOBAL INC. (FORMERLY HUDSON HIGHLAND GROUP', 'HUDSON HIGHLAND GROUP, INC.', 'HUDSON RIVER TRADING LLC', 'HUGE LLC', 'HUGE, LLC', 'HUGHES & HUBBARD & REED LLP', 'HUGHES HUBBARD & REED LLP', 'HUGO & MARIE LLC', 'HUGO BOSS FASHIONS, INC.', 'HUMANITY HEALTH LLC.', 'HUMANITY HEALTH, LLC', 'HUMOR RAINBOW INC.', 'HUNTER COLLEGE OF THE CITY UNIVERSITY OF NEW YORK', 'HUSH STUDIOS, INC', 'HUSH STUDIOS, INC.', 'HUSTVEDT CUTLER ARCHITECTS', 'HUTCHIN HILL CAPITAL, LP', 'HWC VENTURES LLC', 'HYDE LEADERSHIP CHARTER SCHOOL', 'HYKOO INC', 'HYPERHYPER, INC.', 'HYPERMEDIA SOLUTIONS LLC', \"I'LL HAVE COFFEE LLC\", 'IAPPAREL, LLC', 'IBINVESTOR, INC.', 'IBISWORLD INC.', 'IBT MEDIA INC.', 'IC TECHNOLOGIES LLC', 'ICE FARM ADVISORS, LP', 'ICED MEDIA LTD.', 'ICER BRANDS SERVICES, LLC', 'ICON INVESTMENT GROUP, LLC', 'ICONIX BRAND GROUP, LLC', 'ICONTENT INC', 'ICREON TECH INC.', 'ICROSSING INC.', 'ICS AMERICA CO., LTD', 'IDALIA SOLAR TECHNOLOGIES, LLC', 'IDEA NUOVA, INC.', 'IDEALIZE, INC.', 'IDEAS ON PURPOSE', 'IDEELI, INC.', 'IDENTIFY.COM, INC.', 'IDG TECHNOLOGY NETWORK INC.', 'IDH ENERGY LLC', 'IDIEL SHOWROOM LLC', 'IDM PRODUCTION LLC', 'IFM INVESTORS (US) LLC', 'IFM INVESTORS MIDSTREAM, LLC', 'IFM INVESTORS US LLC', 'IGNITIONONE, INC.', 'IIJ AMERICA INC.', 'IKAS INTERNATIONAL NY INC', 'IKEDDI ENTERPRISES, INC.', 'IKON3 LLC', 'IKON3, LLC', 'IL POSTO LLC', 'IL POSTO LLC (D/B/A DEL POSTO)', 'ILO, LLC', 'ILSC (NEW YORK), LLC', 'ILUMINAGE BEAUTY INC.', 'IMAGEBRIEF USA, INC.', 'IMAGINATION THE AMERICAS INC.', 'IMAGINE EASY SOLUTIONS LLC', 'IMAGINE MUSIC LLC', 'IMAGINE SOFTWARE, INC.', 'IMAGO SALES USA, INC.', 'IMBEKO LLC', 'IMENTOR, INC.', 'IMMUNE PHARMACEUTICALS INC.', 'IMOWITZ KOEING & CO., LLP', 'IMOWITZ KOENIG & CO., LLP', 'IMPELSYS INC', 'IMPREMEDIA DIGITAL, LLC', 'IMPREMEDIA OPERATING COMPANY, LLC', 'IN PLUS, INC.', 'IN PRIVATE, INC.', 'IN TOUCH CAPITAL MARKETS, LLC', 'IN VOGUE STUDIOS, LTD.', 'INA BUILDING SHOP, LLC', 'INARI INC', 'INCANDESCENT TECHNOLOGIES INC.', 'INCANDESCENT TECHNOLOGIES, INC.', 'INCAPTURE INVESTMENTS LLC', 'INCISIVE RWG INC.', 'INDEPENDENCE CARE SYSTEM', 'INDEPENDENCE CARE SYSTEM, INC.', 'INDEPENDENT CHEMICAL CORPORATION', 'INDIAN FASHION HOUSE LLC', 'INDIGO JEWELRY INC.', 'INDIGO JEWELRY, INC.', 'INDO WELSH COMPANY INC.', 'INDOAMERICAN BUSINESS INC.', 'INDONESIAN IMPORTS', 'INDOWELSH COMPANY INC', 'INDUS ARCHITEC, PLLC', 'INDUS CAPITAL PARTNERS LLC', 'INDUS VALLEY PARTNERS CORP.', 'INDUSTRIAL AND COMMERCIAL BANK OF CHINA (U.S.A.) N', 'INDUSTRIAL AND COMMERCIAL BANK OF CHINA FINANCIAL', 'INDUSTRIAL AND COMMERCIAL BANK OF CHINA LIMITED', 'INDUSTRIAL COLOR, INC.', 'INDUSTRY FUNDS MANAGEMENT (US) LLC', 'INFINITE SOFTWARE SOLUTIONS, INC.', 'INFINITY NORTH AMERICA, INC.', 'INFOGRAPHICS, INC.', 'INFOPEOPLE CORPORATION', 'INFOVISION DATA MANAGEMENT INC', 'INFUSIONDEV LLC', 'ING FINANCIAL SERVICES LLC', 'INITIATIVE MEDIA, LLC', 'INNER FORCE TOTS', 'INNER VIEW INC.', 'INNER VIEW, INC.', 'INNOVATE CV CORP.', 'INNOVATION: AFRICA', 'INNOVATIVE DEVELOPMENT SERVICES, INC', 'INNOVIMMUNE BIOTHERAPEUTICS, INC.', 'INSCAPE CIRCLE, LLC', 'INSENSI INC', 'INSIDE SALES SOLUTIONS INC', 'INSIDE US LLC', 'INSIGHT CATASTROPHE MANAGERS, LLC', 'INSIGHT RESEARCH GROUP USA', 'INSIGHT RESEARCH GROUP USA, INC.', 'INSIGHT STRATEGY GROUP', 'INSIGMA US, INC.', 'INSPARISK GROUP, INC.', 'INSPIRED SOLUTIONS USA, INC.', 'INSTANT VINTAGE INC.', 'INSTICATOR INC.', 'INSTINET HOLDINGS INCORPORATED', 'INSTITUTE FOR COMMUNITY LIVING, INC.', 'INSTITUTE FOR DEMOCRACY AND COOPERATION', 'INSTITUTE FOR INTERNATIONAL RESEARCH, INC.', 'INSTITUTE FOR TRANSPORTATION AND DEVELOPMENT POLIC', 'INSTITUTE OF PLAY', 'INSTITUTIONAL CAPITAL NETWORK INC.', 'INSTITUTIONAL INVESTOR LLC', 'INSTITUTIONAL SHAREHOLDER SERVICES, INC.', 'INSTRUMENTAL SERVICES INC.', 'INSTRUMENTAL SERVICES, INC.', 'INTEGRAL AD SCIENCE', 'INTEGRAL AD SCIENCE INC.', 'INTEGRAL AD SCIENCE, INC.', 'INTEGRATED MEDIA SOLUTIONS PARTNERS, LLC', 'INTEGRO USA INC.', 'INTENT MEDIA INC.', 'INTENT MEDIA, INC.', 'INTERACTIVE DATA MANAGED SOLUTIONS, LLC', 'INTERACTIVE DATA PRICING & REFERENCE DATA INC.', 'INTERACTIVE DATA PRICING & REFERENCE DATA, INC.', 'INTERACTIVE DATA PRICING &AMP; REFERENCE DATA INC.', 'INTERACTIVE DATA REAL-TIME SERVICES INC.', 'INTERBRAND CORPORATION', 'INTERBRANDHEALTH INC.', 'INTERFAITH MEDICAL CENTER', 'INTERLUDE US, INC.', 'INTERMARKET APPAREL, LLC', 'INTERMEDIA GROUP, INC.', 'INTERMIX LLC', 'INTERNATIONAL AIDS VACCINE INITIATIVE', 'INTERNATIONAL AIDS VACCINE INITIATIVE (IAVI)', 'INTERNATIONAL BONDED COURIERS, INC.', 'INTERNATIONAL CENTER FOR TRANSITIONAL JUSTICE', 'INTERNATIONAL CHAUFFEURED SERVICE INC.', 'INTERNATIONAL DIAMOND DISTRIBUTORS INC.', 'INTERNATIONAL FEDERATION OF ACCOUNTANTS', 'INTERNATIONAL FLAVORS & FRAGRANCES, INC.', 'INTERNATIONAL FLAVORS &AMP; FRAGRANCES, INC.', 'INTERNATIONAL HOUSE NEW YORK', 'INTERNATIONAL INSPIRATIONS, LTD.', 'INTERNATIONAL INSTITUTE FOR LEARNING, INC', 'INTERNATIONAL INSTITUTE FOR LEARNING, INC.', 'INTERNATIONAL INSURANCE CONSULTANTS LLC', 'INTERNATIONAL KBR FINANCE LLC', 'INTERNATIONAL LEADERSHIP CHARTER SCHOOL', 'INTERNATIONAL PEACE INSTITUTE', 'INTERNATIONAL PHOTOGRAPHY SERVICES, INC.', 'INTERNATIONAL PLANNED PARENTHOOD FEDERATION/WHR', 'INTERNATIONAL SCHOOL OF BROOKLYN', 'INTERNATIONAL SECURITIES EXCHANGE, LLC', 'INTERNATIONAL SOCIETY FOR THE PERFORMING ARTS FOUN', 'INTERNATIONAL SWAPS & DERIVATIVES ASSOCIATION, INC', 'INTERNATIONAL TELEVISION BROADCASTING, INC.', 'INTERNATIONAL VALUE ADVISERS LLC', 'INTERNATIONAL VALUE ADVISERS, LLC', 'INTERNET SECURITIES INC.', 'INTERTRUST CORPORATE SERVICES DELAWARE LTD', 'INTERVENTIONAL PAIN MEDICINE, PC', 'INTESA SANPAOLO S.P.A.', 'INTL FCSTONE INC', 'INTL FCSTONE INC.', 'INTL FCSTONE, INC.', 'INTL SERVICE OPTIMIZATION INC', 'INTO THE GLOSS, INC.', 'INTRALINKS, INC.', 'INTSTRUX LLC', 'INVAR INTERNATIONAL INC.', 'INVENTA GROUP, INC', 'INVENTA GROUP, INC.', 'INVENTIV MEDICAL COMMUNICATIONS, LLC', 'INVESTCORP INTERNATIONAL, INC.', 'INVESTEC SECURITIES (US) LLC', 'INVESTOR ANALYTICS LLC', 'INVESTOR ANALYTICS, LLC', 'INVICTUS PREPARATORY CHARTER SCHOOL', 'INVNT, LLC', 'INWINDOW OUTDOOR, LLC', 'INWOOD PHARMA, INC.', 'IO PRACTICEWARE, INC.', 'IO-WORKS INC.', 'IOANNOU SPECIALTY BROKERS, LLC', 'IOM FILM, LLC', 'IOMEDIA INC', 'IONIAN MANAGEMENT, INC.', 'IONIC CAPITAL MANAGEMENT LLC', 'IPG GIS US, INC.', 'IPR B&H INC.', 'IPREO US LLC', 'IPSOFT INCORPORATED', 'IQOR US INC.', 'IQOR US, INC.', 'IRIDIUM CONSULTING LLC', 'IRIS TRADE INC.', 'IRIS USA INC.', 'IRISHCENTRAL LLC', 'IRONSHORE INSURANCE SERVICES LLC', 'IRONSHORE MANAGEMENT, INC.', 'IRU PERMANENT DELEGATION IN NEW YORK INC', 'ISETAN MITSUKOSHI LTD.', 'ISHAR LAW FIRM PC', 'ISMAEL LEYVA ARCHITECTS, P.C.', 'ISRAEL & CO.', 'ISRAEL DISCOUNT BANK OF NEW YORK', 'ISRAM WHOLESALE TOURS AND TRAVEL LTD.', 'ISSC NY INC', 'IT & EBUSINESS CONSULTING SERVICES INC', 'IT & EBUSINESS CONSULTING SERVICES INC.', 'ITALIAN AMERICAN COMMITTEE ON EDUCATION', 'ITALIAN QUALITY STANDARD, INC.', 'ITG ANALYTICS, INC.', 'ITG INC', 'ITG INC.', 'ITG INVESTMENT RESEARCH INC.', 'ITG INVESTMENT RESEARCH, INC.', 'ITG SOFTWARE SOLUTIONS, INC.', 'ITHAKA HARBORS, INC.', 'ITOCHU PROMINENT USA LLC', 'ITRENDZ, INC.', 'IVYCONNECT, INC.', 'IVYWISE LLC', 'IVYWISE, LLC', 'J & S COVERAGE INC.', 'J. CREW GROUP INC.', 'J. CREW GROUP, INC.', 'J. GOLDMAN & CO., L.P.', 'J. MENDEL INC.', 'J. QUEEN NEW YORK INC.', 'J. SAFRA ASSET MANAGEMENT CORPORATION', 'J. WALTER THOMPSON U.S.A. INC.', 'J. WALTER THOMPSON U.S.A. LLC', 'J. WALTER THOMPSON U.S.A., LLC', 'J. WALTER THOMPSON USA INC.', 'J. WALTER THOMPSON USA LLC', 'J. WALTER THOMPSON USA, INC.', 'J. WALTER THOMPSON USA, LLC', 'J.D. POWER AND ASSOCIATES', 'J.T. MAGEN & COMPANY, INC.', 'JABIL GLOBAL SERVICES LLC', 'JACHS NY, LLC', 'JACK SCHWARTZ SHOES INC', 'JACKPOCKET INC', 'JACOB FEINBERG KATZ & MICHAELI CONSULTING GROUP LL', 'JADE ASSOCIATES NEW YORK, INC.', 'JADED JEWELS INC', 'JAGUAR GROWTH PARTNERS LLC', 'JAKLITSCH / GARDNER ARCHITECTS P.C.', 'JAKLITSCH / GARDNER ARCHITECTS PC', 'JAKLITSCH GARDNER ARCHITECTS PC', 'JAM MARKETING INC.', 'JAMES CARPENTER DESIGN ASSOCIATES, INC.', 'JAMES CORNER FIELD OPERATIONS', 'JAMES CORNER FIELD OPERATIONS LLC', 'JAMES CORNER FIELD OPERATIONS, LLC', 'JAMES E. FITZGERALD, INC.', 'JAMES J. PETERS VA MEDICAL CENTER', 'JAMES J. PETERS, VETERANS AFFAIRS MEDICAL CTR', 'JAMES MINTZ GROUP', 'JAMES MINTZ GROUP, INC.', 'JAMES RYAN CFO CONSULTING INC', 'JAMES TSEMPELIS, CPA, PLLC', 'JAMISON CAPITAL PARTNERS, LP', 'JANE CHIONG, CPA P.C.', 'JANE STREET GROUP LLC', 'JANKLOW & NESBIT ASSOCIATES', 'JANOU PAKTER LLC', 'JANSON GOLDSTEIN LLP', 'JAPAN SOCIETY, INC.', 'JAPOND RESTAURANT LLC', 'JAZZ AT LINCOLN CENTER', 'JBS LTD.', 'JBT CAPITAL, INC.', 'JCDECAUX NORTH AMERICA INC.', 'JDR CONSULTING LLC', 'JEAN DESIGN, LTD.', 'JEFFERIES & CO., INC.', 'JEFFERIES & COMPANY, INC.', 'JEFFERIES INVESTMENT ADVISERS, LLC', 'JEFFERIES LLC', 'JEFFREY CHARLES INC', 'JEM INTERNATIONL INC.', 'JENNIFER FISHERMAN RUFF', 'JENNIFER FISHERMAN RUFF COMMUNICATIONS', 'JETBLUE AIRWAYS', 'JETRO HOLDINGS LLC', 'JETRO, JAPAN EXTERNAL TRADE ORGANIZATION', 'JETT CAPITAL ADVISORS HOLDING LLC', 'JEWELEX NEW YORK LTD', 'JEWISH CHILD CARE ASSOCIATION OF NEW YORK', 'JEWISH COUNCIL FOR PUBLIC AFFAIRS', 'JEWISH HOME LIFECARE', 'JEWISH NATIONAL FUND-KEREN KAYEMETH LEISRAEL, INC.', 'JG BLACK BOOK OF TRAVEL, LTD', 'JIBE, INC.', 'JILL STUART INTERNATIONAL, LLC', 'JINHONG CULTURAL DEVELOPMENT (USA) INC.', 'JINNO INTERNATIONAL USA, LLC', 'JIT MODELIA CORP', 'JJA ADVISORY GROUP LLC', 'JKR, INC.', 'JLM COUTURE, INC.', 'JMC FLOOR COVERING INC', 'JNSQ INC', 'JNSQ, INC.', 'JODY M WILLIAMS LLC', 'JOE MONANI FISH CO., INC.', 'JOHANNES LEONARDO LLC', 'JOHN BRICCA INC.', 'JOHN C. CHEN ARCHITECT, PLLC', 'JOHN DOE LLC', 'JOHN H. HATHEWAY JR., ARCHITECT', 'JOHN JAY COLLEGE OF CRIMINAL JUSTICE, CUNY', 'JOHN LAING (USA) LIMITED', 'JOHN TROY & ASSOCIATES, PLLC', 'JOHN VARVATOS ENTERPRISES, INC.', \"JOHNNY'S FASHION STUDIO CORP.\", 'JOINEM LLC', 'JOINEM, LLC', 'JOLIN RX, INC.', 'JOLLY HOTELS USA, INC.', 'JOLLY TINKER, INC.', 'JONES DAY', 'JONES JEANSWEAR GROUP, INC.', 'JONES KNOWLES RITCHIE INC', \"JONES O'DONAHUE LLC\", 'JOOMI NYC, LLC', 'JOOR INC.', 'JOOR, INC', 'JORDACHE ENTERPRISES', 'JORDACHE ENTERPRISES INC.', 'JOSEPH GOLDSMITH & CO., LLC', 'JOSEPH R. LORING & ASSOCIATES, INC.', \"JOSEPHSON LUXENBERG KANCE DOLINGER, CPA'S, P.C.\", 'JOSH HELD DESIGN LLC', 'JOTO SAKE, LLC', 'JOURNELLE LLC', 'JPM MUSIC LLC', 'JS REPS CORP', 'JT MAGEN AND COMPANY INC', 'JT PACIFIC CAPITAL', 'JTS LLC', 'JUAN MONTOYA DESIGN CORP.', 'JUAN T. ESTEVEZ, MD, PC', 'JUBU CORP.', 'JUDD FOUNDATION', 'JUDLAU CONTRACTING, INC.', 'JUICE GENERATION', 'JUJU, INC.', 'JULIEN FAREL PRODUCTS INTERNATIONAL', 'JUN WANG & ASSOCIATES, P.C.', 'JUNOON NYC LLC', 'JUS PUNJABI LLC', 'JUS TAX SERVICES, INC', 'JUST ONE LLC', 'JUSTART LLC', 'JUSTWORKS INC.', 'JWC ARCHITECT & ENGINEER, D.P.C.', 'JWU, LLC', 'K-5 MATH TEACHING RESOURCES LLC', 'KADMON CORPORATION, LLC', 'KALTURA INC.', 'KAMA SCHACHTER JEWELRY INC.', 'KANBAN SOLUTIONS, LLC.', 'KANEKA AMERICAS HOLDING, INC.', 'KANEKO ARCHITECTS, P.C.', 'KANEMATSU TEXTILE USA INC', 'KAPLAN , INC.', 'KAPLAN INC.', 'KAPLAN TEST PREP (KAPLAN INC.)', 'KAPLAN TEST PREP (KAPLAN, INC.)', 'KAPLAN, INC (KAPLAN TEST PREP)', 'KAPLAN, INC.', 'KARGO GLOBAL, INC.', 'KARLA OTTO INC.', 'KARMA MOBILITY INC.', 'KARYA CAPITAL MANAGEMENT LP', 'KASE USA INC.', 'KASE USA, INC.', 'KATZ ARCHITECTURE & PROJECT MANAGEMENT', 'KAYE SCHOLER LLP', 'KB GLOBAL PARTNERS, INC.', 'KB PROJECTS LLC', 'KC ENGINEERING AND LAND SURVEYING, P.C.', 'KDDI AMERICA, INC.', 'KEB NY FINANCIAL CORP', 'KEEP HOLDINGS, INC.', 'KEKST & COMPANY, INC.', 'KEL-MAR DESIGNS, INC.', 'KELLWOOD COMPANY', 'KEMP TECHNOLOGIES, INC.', 'KENNETH COLE PRODUCTIONS, INC.', 'KENNY & KHAN ARCHITECTS PC', 'KENOVER MARKETING CORP', 'KENYON & KENYON LLP', 'KEPLER CANNON', 'KEPLER CAPITAL MARKETS, INC.', 'KEPOS CAPITAL LP', 'KETCHUM CHANGE INC.', 'KETCHUM INC.', 'KETCHUP, INC.', 'KEVIN KERVENG TUNG, P.C.', 'KEY BRAND ENTERTAINMENT', 'KEY BRAND THEATRICAL GROUP', 'KEYSPAN GAS EAST CORPORATION', 'KGK DIAMONDS LLC', 'KGK JEWELRY LLC', 'KGS-ALPHA CAPITAL MARKETS, L.P.', 'KHM VICEROY NEW YORK, LLC', 'KICEA, INC.', 'KICKSTARTER, INC.', 'KIDS CREATIVE, LLC', 'KIERAN AND CONLON, LLP', 'KILO KONSULTING LLC', 'KINDERHAUS INC.', 'KINETIC SOCIAL LLC (F/K/A EMERALD SOCIAL LLC)', 'KING & SPALDING, LLP', 'KING AND WOOD MALLESONS LLP', 'KING ROSE OF NY, INC.', 'KING STREET CAPITAL MANAGEMENT, L.P.', 'KINGDON CAPITAL MANAGEMENT, LLC', 'KINGO SHOES USA INC.', 'KINGSBOROUGH COMMUNITY COLLEGE', 'KINGSBOROUGH COMMUNITY COLLEGE - CUNY', 'KINGSBROOK JEWISH MEDICAL CENTER', 'KINLIN RUTHERFURD ARCHITECTS, PLLC', 'KINNEK, INC.', 'KINSA, INC.', 'KIPP NYC LLC', 'KIRKLAND & ELLIS LLP', 'KIRKLAND & ELLIS, LLP', 'KIRSHENBAUM BOND SENECAL + PARTNERS', 'KIRSHENBAUM BOND SENECAL + PARTNERS LLC', 'KISKA CONSTRUCTION, INC.', 'KIWIBOX.COM, INC.', 'KK METAMEDIA LLC', 'KKR ASSET MANAGEMENT LLC', 'KKR CAPITAL MARKETS LLC', 'KL PROJECTS', 'KL SOFTWARE TECHNOLOGIES, INC.', 'KLARACON LLC', 'KLM ROYAL DUTCH AIRLINES', 'KLS DIVERSIFIED ASSET MANAGEMENT LP', 'KM/PLAZA', 'KMPG USA INC', 'KNEWTON INC', 'KNEWTON, INC', 'KNEWTON, INC.', 'KNIGHTS INVESTMENT GROUP', 'KNOA SOFTWARE, INC.', 'KNOWCROSS, INC.', 'KNOWITOWL INC.', 'KNOZEN, INC.', 'KOAM PHYSICAL THERAPY PC', 'KOBRE & KIM LLP', 'KOGNITO SOLUTIONS', 'KOGNITO SOLUTIONS LLC', 'KOHLBERG KRAVIS ROBERTS & CO. L.P.', 'KOHN PEDERSEN FOX ASSOCIATES P.C.', 'KOHN PEDERSON FOX ASSOCIATES PC', 'KOKO ARCHITECTURE AND DESIGN LLC', 'KOMAR KIDS LLC', 'KON WAH INC.', 'KOPY INTERNATIONAL, LLC', 'KORA LLC', 'KORANGY PUBLISHING INC', 'KOREA PAPER & PLASTIC BAG CORP', 'KOREAN COMMUNITY SERVICES OF METROPOLITAN NY INC', 'KOREAN COMMUNITY SERVICES OF METROPOLITAN NY INC.', 'KOVAC MEDIA GROUP, INC.', 'KPA STUDIO, INC.', 'KPOPSTARS INC.', 'KRAINZ CREATIONS INC.', 'KRAJ FOODS, INC', 'KRAMER LEVIN NAFTALIS & FRANKEL LLP', 'KRISHTUL MEDICAL ASSOCIATES, PLLC', 'KRM SERVICES INC', 'KROLL ASSOCIATES, INC.', 'KROLL BOND RATING AGENCY, INC.', 'KROSSOVER INTELLIGENCE INC.', 'KT GROUP INC', 'KT GROUP, INC.', 'KUGLER NING LIGHTING DESIGN INC', 'KUNST UND KOLLEGEN COMMUNICATIONS INC', 'KUPERMAN BROS. DIAMONDS U.S.A., INC.', 'KURTOSYS SYSTEMS INC.', 'KVB PARTNERS, INC', 'KVB PARTNERS, INC.', 'KVM CAPITAL PARTNERS LLC', 'KWAK DENTAL MANAGEMENT, PLLC', 'KYLIN MANAGEMENT, LLC', 'KYNIKOS ASSOCIATES LP', 'L & K PARTNERS, INC.', 'L & M AIR INCORPORATED', 'L & P GROUP USA INC.', \"L'OBSERVATOIRE INTERNATIONAL INC\", \"L'OCCITANE INC.\", \"L'OREAL USA, INC.\", \"L'OR\\xc3\\x84AL USA, INC.\", 'L-R MANAGERS, LLC', 'L18 HOLDINGS, INC. & SUBSIDIARIES LOT 18 INC.', 'L2, INC', 'L2, INC.', 'LA PEENINSULA COMM. ORG., INC. HEAD START PROGRAM', 'LA PRAIRIE INC.', 'LA PRAIRIE, INC.', \"LA SCUOLA D'ITALIA GUGLIELMO MARCONI\", 'LABELIUM USA, LLC.', 'LABELUX GROUP AMERICAS INC', 'LABORATORY TESTING SERVICES, INC.', 'LACHLAN BAILEY LLC', 'LADENBURG THALMANN & CO. INC.', 'LAFAYETTE 148, INC.', 'LAGARDERE UNLIMITED INC.', 'LAGUARDA LOW ARCHITECTS, LLC', 'LAGUARDIA COMMUNITY COLLEGE', 'LAIRD AND PARTNERS NEW YORK LLC', 'LAIRD+PARTNERS NEW YORK LLC', 'LAK PUBLIC RELATIONS, INC.', 'LAKE 5 MEDIA, INC.', 'LAKHANI & JORDAN ENGINEERS', 'LAKHANI &JORDAN ENGINEERS', 'LALIBELO LTD.', 'LALIRE MARCH ARCHITECTS LLP', 'LANCY ONLINE INC', 'LANDMARK TECHNOLOGES INC.', 'LANDMARK TECHNOLOGIES INC.', 'LANDMARK VENTURES INC.', 'LANGALO INC.', 'LANGAN D.P.C.', 'LANGAN ENGINEERING AND ENVIRONMENTAL SERVICES DPC', 'LANGAN ENGINEERING, ENVIRONMENTAL SURVEYING AND LA', 'LANGAN ENGINEERING, ENVIRONMENTAL, SURVEYING & LAN', 'LAR NY LLC', 'LARGETAIL LLC', 'LARGO MANAGEMENT LLC', 'LASER ELECTRICAL CONTRACTING INC.', 'LATIN AMERICAN VENTURE CAPITAL ASSOCIATION', 'LATIN MARKETS BRAZIL', 'LATIN MARKETS BRAZIL LLC', 'LATINOS MEDIA GROUP LLC.', 'LATOUR TRADING LLC', 'LAUNCHPAD ADVERTISING LLC', 'LAURICE EI BADRY RAHME LIMITED', 'LAURION CAPITAL MANAGEMENT LP', 'LAVAZZA PREMIUM COFFEE CORP.', 'LAVAZZA PREMIUM COFFEES CORP.', 'LAW FIRM OF SOO NAM PLLC', 'LAW OFFICE OF BIN HU', 'LAW OFFICE OF GAVIN M CHOI, P.C.', 'LAW OFFICE OF KESHAB RAJ SEADIE PC', 'LAW OFFICE OF KESHAB RAJ SEADIE, PC', 'LAW OFFICE OF LEONARDO HEIDNER PC', 'LAW OFFICE OF USMAN B. AHMAD, P.C.', 'LAW OFFICE OF Z. TAN PLLC', 'LAW OFFICES OF COREY T. LEE, PLLC.', 'LAW OFFICES OF FENG & ASSOCIATES, P.C.', 'LAW OFFICES OF GAVIN M CHOI, P.C.', 'LAW OFFICES OF GERALD KARIKARI, P.C.', 'LAW OFFICES OF GUANG JUN GAO, LLP.', 'LAW OFFICES OF ILYA FISHKIN, P.C.', 'LAW OFFICES OF LI & ASSOCIATES PLLC', 'LAW OFFICES OF MICHAEL MUSA OBREGON PC', 'LAWDRAGON', 'LAYERFRAME STUDIOS LLC', 'LAZARD ASSET MANAGEMENT LLC', 'LAZARD CAPITAL MARKETS LLC', 'LAZARD FRERES & CO. LLC', 'LAZOO WORLDWIDE INC.', 'LCH.CLEARNET LTD.', 'LE BERNARDIN', 'LE BILBOQUET NY LLC', 'LE IMAGE PHOTO INC.', 'LE PARKER MERIDIEN NEW YORK', 'LEAD INTENTION INC.', 'LEADDOG MARKETING GROUP, INC.', 'LEADER ELECTRIC CORP INC.', 'LEADERSHIP VILLAGE ACADEMY CHARTER', 'LEAN STARTUP MACHINE, INC.', 'LEARNINGMATE SOLUTIONS, INC', 'LEARNINGMATE SOLUTIONS, INC.', 'LEARNVEST INC.', 'LEATHWAITE INTERNATIONAL INC', 'LEAVE OUT VIOLENCE (L.O.V.E.) U.S., INC.', 'LEBLON HOLDINGS LLC', 'LEE EQUITY PARTNERS, LLC', 'LEE LITIGATION GROUP, PLLC', 'LEFTFIELD ENTERTAINMENT LLC', 'LEGS MEDIA LLC', 'LEHMAN BROTHERS HOLDINGS INC.', 'LEHMAN COLLEGE, CUNY', 'LEHR CONSULTANTS INTERNATIONAL, LLP', 'LELA, INC', 'LEMONADE CREATIVE LLC', 'LENDKEY TECHNOLOGIES, INC.', 'LEO INTERNATIONAL INC', 'LEONG LEONG LLC', 'LEROY STREET STUDIO ARCHITECTURE PC', 'LESLIE E. ROBERTSON ASSOCIATES, RLLP', 'LEVEL SOLAR INC.', 'LEVEN BETTS LTD.', 'LEVEN BETTS, LTD.', 'LEVIN ASSETS LLC', 'LEVIN CAPITAL STRATEGIES, LP', 'LEXIN CAPITAL LLC', 'LEXINGTON INSURANCE COMPANY', 'LEXINGTON PARTNERS L.P.', 'LF DISTRIBUTION INTERNATIONAL INC.', 'LF DISTRIBUTION INTERNATIONAL, INC.', 'LF OUTERWEAR, LLC.', 'LF USA, INC.', 'LFA INTERNATIONAL, INC.', 'LGT CAPITAL PARTNERS (USA) INC.', 'LI/SALTZMAN ARCHITECTS P.C.', 'LI/SALTZMAN ARCHITECTS, P.C.', 'LIBBY MANAGEMENTSERVICES CORP.', 'LIBERTAD PRODUCTIONS LLC', 'LIBERTY PLACE PROPERTY MANAGEMENT LLC', 'LIBRA CAPITAL US, INC.', 'LIBRA LEATHER INC', 'LIBREMAX CAPITAL, LLC', 'LIGHT OF DAY FX, LLC', 'LIGHTBANK, LLC', 'LIGHTYEAR CAPITAL LLC', 'LILKER ASSOCIATES CONSULTING ENGINEERS, P.C.', 'LIME BROKERAGE LLC', 'LIMOSYS SOFTWARE LLC', 'LIN & J INTERNATIONAL, INC.', 'LINCOLN CENTER FOR THE PERFORMING ARTS, INC.', 'LINCOLN MEDICAL & MENTAL HEALTH CENTER', 'LINCREA CORPORATION OF AMERICA', 'LINDALA INC.', 'LINDEN ADVISORS LP', 'LINDEN GLOBAL STRATEGIES LLC', 'LINDEN TRUST FOR CONSERVATION', 'LINDSEY ADELMAN STUDIO', 'LINEAR LIGHTING CORP', 'LINGPERFECT TRANSLATIONS, INC.', 'LINK TRANSLATIONS, INC.', 'LINKSHARE CORPORATION', 'LIPPE TAYLOR, INC', 'LIPPINCOTT MASSIE MCQUILKIN LLC', 'LIPPMANN ENTERPRISES LLC', 'LIQUIDNET HOLDINGS, INC.', 'LISA INTERNATIONAL INC', 'LITANG HUANG', 'LITTLE BORROWED DRESS, INC', 'LITTLE DUCK ORGANICS, INC.', 'LITTLE ITALY SPEAKEASY INC.', \"LITTLE MISSIONARY'S DAY NURSERY\", 'LITTLE NECK DRUG STORE', 'LITTLE RED HOUSE', 'LITTLE RED SCHOOL HOUSE & ELISABETH IRWIN HIGH SCH', 'LITTLE RED SCHOOL HOUSE ELISABETH IRWIN HIGH SCHOO', 'LITTLE STARS TOO,INC.', 'LITTLEBITS ELECTRONICS, INC', 'LITTLETON JOYCE UGHETTA PARK & KELLY LLP', 'LIVE GAMER, INC.', 'LIVECAREER AMERICA, INC.', 'LIVECAREER N.A., INC.', 'LIVECAREER NA, INC.', 'LIVEPERSON, INC.', 'LIVERAIL, INC.', 'LIVESTREAM LLC', 'LIVESTREAM, LLC', 'LIVETILES LLC', 'LIVIAN AND CO. LLC', 'LKE INTERNATIONAL US LLC', 'LLNS INC.', 'LLOYD & COMPANY', 'LLOYD AND COMPANY ADVERTISING, INC.', 'LLOYDS BANK PLC', 'LLOYDS TSB BANK PLC', 'LO-FI PICTURES, LLC', 'LOCAL PROJECTS LLC', 'LOCALBONUS, INC.', 'LOCKET, INC.', 'LOCUS ANALYTICS', 'LOCUS ANALYTICS LLC', 'LOCUS ENERGY LLC', 'LOEWS CORPORATION', 'LOGAN BUSINESS CONCEPTS, INC.', 'LOMAS CAPITAL MANAGEMENT LLC', 'LOMBARD RISK INTERNATIONAL USA INC.', 'LOMBARD RISK SYSTEMS', 'LONDON FORFAITING AMERICAS INC.', 'LONE STAR AMERICAS ACQUISITIONS, LLC', 'LONE STAR AMERICAS, LLC', 'LONG ISLAND BUSINESS INSTITUTE', 'LONG ISLAND BUSINESS INSTITUTE INC', 'LONG LIGHT CAPITAL, LLC', 'LONG TAIL AD SOLUTIONS INC', 'LONGI ENGINEERING, P.C.', 'LONGTAIL STUDIOS, INC.', 'LOOP NYC DIGITAL, INC.', 'LORD & TAYLOR LLC', 'LORD & TAYLOR, LLC', 'LORD SECURITIES CORPORATION', 'LOS CHOLOS INC', 'LOT-EK ARCHITECTURE + DESIGN', 'LOT-EK CORP.', 'LOTUS CULTURE & ENTERTAINMENT INC.', 'LOUIS F. BURKE P.C.', 'LOUIS PURPLE APPAREL, INC.', 'LOUIS VUITTON NORTH AMERICA, INC.', 'LOUISE PARIS LTD', 'LOUISE PARIS LTD.', 'LOVE THE 88, LLC', 'LOWE AND PARTNERS WORLDWIDE', 'LOWELL HOTEL ASSOCIATES LP', 'LOYALKASPAR, INC.', 'LPI, INC.', 'LTS NY, INC.', 'LUCERNA, INC.', 'LUCIDUS CAPITAL PARTNERS LLP', 'LUCIUS PITKIN, INC.', 'LUCY HARRIS STUDIO, LLC', 'LUDWIG INSTITUTE FOR CANCER RESEARCH LTD', \"LUERZER'S ARCHIVE USA INC.\", 'LULO VENTURES INC.', 'LULUVISE, INC.', 'LUMENTUS LLC', 'LUMINUS MANAGEMENT, LLC', 'LURLINE BAY LLC', 'LURLINE BAY, LLC', 'LUTHERAN AUGUSTANA CENTER EXTENDED CARE & REHABILI', 'LUTHERAN MEDICAL CENTER', 'LUXEMBOURG DAYAN LLC', 'LUXOFT CONSULTING INC', 'LUXOFT USA INC', 'LUXOR CAPITAL GROUP, LP', 'LUXURY CONSTRUCTION CO., INC.', 'LVMH FRAGRANCE BRANDS US LLC', 'LVMH MOET HENNESSY LOUIS VUITTON, INC.', 'LYCEE FRANCAIS DE NEW YORK', 'LYDELL JEWELRY DESIGN STUDIO LLC', 'LYDELL JEWELRY DESIGN STUDIO, INC.', 'LYMI LLC', 'LYNCH EISINGER DESIGN', 'LYONROSS CAPITAL MANAGEMENT LLC', 'LYONS PRESENTATIONS INC', 'LYONS USA LLC', 'LYXOR ASSET MANAGEMENT INC.', 'M B H CONSTRUCTION AND CONSULTING LLC', 'M GROUP WORLD LLC', 'M MOSER ASSOCIATES LLC', 'M WEBB LLC', 'M&A ADVISOR NETWORK INC', 'M&A ADVISOR NETWORK INC.', 'M&C SAATCHI MOBILE LLP', 'M&C SAATCHI NY LLP', 'M&C SAATCHI PR LLP', 'M&J ENGINEERING, P.C', 'M. MOSER ASSOCIATES LLC', 'M.E. ZUKERMAN & CO. INC.', 'M.T.I. USA, INC.', 'M.Z. BERGER & CO., INC.', 'MA MASSAGE THERAPY, P. C.', 'MACGUFFIN FILMS, LTD.', 'MACHAMMER, INC.', 'MACKSON INC.', 'MACQUARIE AMERICA SERVICES INC.', 'MACQUARIE CORPORATE AND ASSET FINANCE CONSULTING I', 'MACQUARIE FUNDING HOLDINGS INC.', 'MACQUARIE HOLDINGS (USA) INC.', 'MACROVIEW, INC.', \"MACY'S MERCHANDISING GROUP\", \"MACY'S MERCHANDISING GROUP, INC.\", \"MACY'S RETAIL HOLDINGS, INC.\", 'MADE ARCHITECTURE PLLC', 'MADE BY HOLIDAY LLC', 'MADE BY LEGENDS INC.', 'MADGAMR, INC.', 'MADISON MARCUS INC.', 'MADISON PARK GROUP LLC', 'MADISON POTENTIAL DEVELOPMENT INC', 'MADSEN CONSULTING ENGINEERING, PLLC', 'MAESA LLC', 'MAESA, LLC', 'MAGASCHONI, INC.', 'MAGEBA INTERNATIONAL LLC', 'MAGEBA USA LLC', 'MAGEN H INC', 'MAGIC CREATIVE LLC', 'MAGNET MEDIA INC.', 'MAGNETIC MEDIA ONLINE, INC.', 'MAGNETIC MEDIA ONLINE, INCORPORATED', 'MAGNETIQUE', 'MAGNUSSON ARCHITECTURE & PLANNING PC', 'MAHESH J AGASHIWALA, C.P.A., P.C.', 'MAIL MEDIA, INC.', 'MAILIN MIMI LAI, D.D.S., P.C.', 'MAIMONIDES MEDICAL CENTER', 'MAINFRAME SERVICE PROVIDER, INC.', 'MAISON MARQUES & DOMAINES USA, INC.', 'MAIYET INC', 'MAIYET INC.', 'MAJESCOMASTEK INSURANCE SOFTWARE AND SOLUTIONS, IN', 'MAJOR LEAGUE SOCCER', 'MAKE-UP ART COSMETICS INC.', 'MAKEABLE LLC', 'MAKERBOT INDUSTRIES LLC', 'MAKERBOT INDUSTRIES, LLC', 'MAKOSI INC.', 'MAKOSI, INC.', 'MALARY MARKS, INC', 'MALIN & GOETZ INC.', 'MALLARY MARKS, INC', 'MALLETT, INC', 'MALLIN & CHA, PC', 'MANA PRODUCTS INC.', 'MANCHU TIMES FASHION INC.', 'MANDARIN ORIENTAL, NEW YORK', 'MANDARIN SEEDS LLC', 'MANDUCA MANAGEMENT, LLC', 'MANEAS ENTERPRISES, LLC', 'MANFRA, TORDELLA & BROOKES, INC.', 'MANGO CONCEPT LLC', 'MANGO NY, INC.', 'MANHATTAN ALLIED NETWORK CORPORATION', 'MANHATTAN CHARTER SCHOOL', 'MANHATTAN COLLEGE', 'MANHATTAN EMPLOYMENT SERVICES, INC', 'MANHATTAN FORD LINCOLN MERCURY INC.', 'MANHATTAN MEDICAL HEALTHCARE PC', 'MANHATTAN ORAL FACIAL SURGERY LLC', 'MANHATTAN PHYSICAL MEDICINE AND REHABILITATION', 'MANHATTAN RX LLC', 'MANHATTAN YACHT CLUB INC.', 'MANHATTANVILLE SBV LLC', 'MANSUETO VENTURES, LLC', 'MARATHON ASSET MANAGEMENT LP', 'MARC JACOBS INTERNATIONAL, LLC', 'MARCELLA USA LTD.', 'MARCH MADE LLC', 'MARCHESA HOLDINGS LLC', 'MARCO POLO SECURITIES INC.', 'MARCUM BERNSTEIN & PINCHUK LLP', 'MARCUM BERNSTEIN & PINCHUK, LLP', 'MARCUM LLP', 'MARCUM, LLP', 'MARGO MANHATTAN TOO LTD.', 'MARIAN GOODMAN GALLERY, INC.', 'MARINA MAHER COMMUNICATIONS LLC', 'MARKER FINANCIAL ADVISORS LLC', 'MARKET DATA SERVICES LIMITED', 'MARKET ORGANIZATION INC.', 'MARKET PIONEER INTERNATIONAL CORPORATION', 'MARKET REALIST INC.', 'MARKETFIELD ASSET MANAGEMENT LLC', 'MARKIT NORTH AMERICA, INC.', 'MARKIT ON DEMAND, INC.', 'MARKIT WSO CORPORATION', 'MARKITSERV, LLC', 'MARKS PANETH LLP', 'MARLIN & ASSOCIATES HOLDING LLC', 'MARQUIS BUSINESS AND TECHNOLOGY SOLUTIONS LLC', 'MARSH &AMP; FRIED HOLDINGS, L.P.', 'MARSH AND FRIED HOLDINGS, L.P.', 'MARSH USA INC.', 'MARTHA STEWART LIVING OMNIMEDIA, INC.', 'MARTIN BRUDNIZKI DESIGN STUDIO LLC', 'MARTIN FLYER JEWELRY LLC', 'MARVEL ARCHITECTS PLLC', 'MARYMOUNT MANHATTAN COLLEGE', 'MASHWORK, INC.', 'MASLANSKY LUNTZ PLUS PARTNERS LLC', 'MASON CAPITAL MANAGEMENT LLC', 'MASSAT OUEDRAOGO CONSULTING LTD', 'MASSMARKET MEDIA SERVICES LLC', 'MASTERPIECE ALPINE SPORTS TWO INC', 'MATA MANAGEMENT, INC.', 'MATCHBOOK FTW INC.', 'MATCHMAKING PRO, INC.', 'MATHSPACE INC', 'MATILDA MEDIA GROUP LLC', 'MATLINPATTERSON GLOBAL ADVISERS LLC', 'MATOMY USA INC.', 'MATRATT, LLC', 'MATRIX TRADING TECHNOLOGIES, LLC', 'MATTHEW BAIRD ARCHITECT, PLLC', 'MATTHEW BAIRD ARCHITECTS, PLLC', 'MATTHEW MARKS GALLERY LLC', 'MAXIFIER, INC.', 'MAXIM INC.', 'MAXUS COMMUNICATIONS LLC', 'MAXYMISER, INC.', 'MAY SHIP REPAIR CONTRACTING CORP.', 'MAYA OVERSEA FOODS, INC', 'MBAF CPAS, LLC', 'MBS VALUE PARTNERS LLC', 'MC CAPITAL GROUP LTD.', 'MC UNITED INTERNATIONAL TEXTILE INC', 'MC-FIVE MILE COMMERCIAL MORTGAGE FINANCE LLC', 'MCCANN COMPLETE MEDICAL, INC.', 'MCCANN RELATIONSHIP MARKETING, INC.', 'MCCANN-ERICKSON NEW YORK (AN OPERATING DIVISION OF', 'MCCANN-ERICKSON NEW YORK(AN OPERATING DIVISION OF', 'MCCANN-ERICKSON USA, INC.', 'MCCORMACK CONTRACTING INC.', 'MCEG GROUP LLC', 'MCGRAW HILL FINANCIAL, INC. (PLATTS)', 'MCGRAW-HILL FINANCIAL, INC. PLATTS DIVISION', 'MCINTOSH IP US, LLC', 'MCMAHON, MARTINE & GALLAGHER LLP', 'MCO ARCHITECT', 'MDA DESIGNGROUP ARCHITECTS AND PLANNERS P.C.', 'MDB LLC DBA GREENPEARL EVENTS', 'MDYHS INC', 'MECCA CONTRACTING INC.', 'MECHOSHADE SYSTEMS INC.', 'MECHOSHADE SYSTEMS, INC.', 'MED-ALLIANCE MEDICAL HEALTH SERVICES', 'MEDIA IQ DIGITAL NORTH AMERICA INC', 'MEDIA PLANNING GROUP USA LLC', 'MEDIA STORM, LLC', 'MEDIABRIX, INC.', 'MEDIACOM WORLDWIDE INC', 'MEDIACOM WORLDWIDE INC.', 'MEDIACOM WORLDWIDE LLC', 'MEDIACOM WORLDWIDE, LLC', 'MEDIALETS, INC.', 'MEDIAMATH, INC.', 'MEDIAMORPH', 'MEDIAMORPH, INC.', 'MEDIAOCEAN, L.L.C.', 'MEDIAOCEAN, LLC', 'MEDICAL BROADCASTING LLC D/B/A DIGITAS HEALTH', 'MEDIDATA SOLUTIONS INC.', 'MEDIDATA SOLUTIONS, INC', 'MEDIDATA SOLUTIONS, INC.', 'MEDIQUIRE, INC.', 'MEDITERRANEAN SHIPPING COMPANY (USA), INC.', 'MEDIVO INC.', 'MEDIZINE HOLDINGS, LLC', 'MEDMEME LLC', 'MEDOWS ADVISORY SERVICES, LLC', \"MEDWELL WOMEN'S MEDICAL SERVICES\", 'MEDWELL WOMENS MEDICAL SERVICES PLLC', 'MEETU MAGIC, INC.', 'MEGA CONTRACTING GROUP LLC.', 'MEGA POWER SAVING, LLC', 'MEGA SHIPPING & FORWARDING, LTD.', 'MEGA SHIPPING AND FORWARDING, LTD.', 'MEHRETU COMMISSION STUDIO, LLC', 'MEIS ARCHITECT', 'MEIS ARCHITECTS', 'MEJO LLC', 'MELBRAN DRUGS INC', 'MELODY CAPITAL MANAGEMENT LP', 'MELT MANAGEMENT', 'MELT MANAGEMENT LLC', 'MEMORIAL SLOAN-KETTERING CANCER CENTER', 'MENCIUS SOCIETY FOR THE ARTS, INC.', 'MENTAL CANVAS, LLC', 'MERCER 1, LLC', 'MERCHANT CASH & CAPITAL, LLC', 'MERCHANT INDUSTRY LLC', 'MERCURY AND EARTH, LLC', 'MERGERMARKET (U.S.) LTD.', 'MERIDIAN DESIGN ASSOCIATES, ARCHITECTS P.C.', 'MERIDIAN DEVELOPMENT PARTNERS LLC', 'MERU CAPITAL GROUP LP', 'MESKITA', 'MESOBLAST, INC.', 'METAL BULLETIN HOLDING CORPORATION', 'METAVISION MEDIA LLC', 'METHOD INVESTMENTS &AMP; ADVISORY LLC', 'METLIFE GROUP INC.', 'METLIFE GROUP, INC.', 'METRO ATHLETIC MEDICINE & FITNESS', 'METRO LOFT MANAGEMENT LLC', 'METROPOLITAN LEARNING INSTITUTE, INC.', 'METROPOLITAN MUSEUM OF ART', 'MEYER DAVIS STUDIO, INC.', 'MEZCO TOYZ LLC', 'MEZOCLIQ LLC', 'MG EDITIONS, INC.', 'MG ENGINEERING D.P.C.', 'MGMT. DESIGN', 'MIC BUSINESS SOLUTIONS INC.', 'MIC NETWORK, INC.', 'MICAELA ERLANGER AND COMPANY INC.', 'MICE & MAZE, LLC', 'MICHAEL C FINA CORPORATE SALES INC', 'MICHAEL C FINA CORPORATION SALES INC', 'MICHAEL J NEELY, DO PLLC', 'MICHAEL KORS USA, INC.', 'MICHAEL NEUMANN ARCHITECTURE, LLC', 'MICHAEL SIMON, INC.', 'MICHAEL WERNER INC.', 'MICHAEL ZENREICH ARCHITECT PC', 'MICHELLE & T CO. LTD.', 'MICRO OFFICE MANAGEMENT LLC', 'MICROSOL RESOURCES CORPORATION', 'MICROVISION SOLUTIONS LLC', 'MIDAMERICA PRODUCTIONS, INC.', 'MIDTOWN ACUPUNTURE PC', 'MIK GROUP, INC.', 'MIKA HAYASHI DPM, PC', 'MIKO MCGINTY INC.', 'MILBANK, TWEED, HADLEY & MCCLOY LLP', 'MILK STUDIOS, LLC', 'MILLENNIUM PRODUCTIONS, INC.', 'MILLWARD BROWN INC.', 'MILLWARD BROWN LLC', 'MILROSE CONSULTANTS', 'MIMEO.COM, INC.', 'MINAGAWA ART LINES INC', 'MINDBODYGREEN, LLC', 'MINDSHARE USA LLC', 'MINDSINSYNC, INC.', 'MINKWON CENTER FOR COMMUNITY ACTION, INC', 'MINUS INC.', 'MIP US HOLDINGS, INC.', 'MIRA TRANSPORT USA, INC.', 'MIRABELLE BAKERIES, INC.', 'MIRADOR ART INC.', 'MIRANDA BROOKS LANDSCAPE DESIGN', 'MIRRORBALL GROUP LLC', 'MISCH INSTRUMENTS', 'MISICOM, INC', 'MISYS INTERNATIONAL BANKING SYSTEMS INC.', 'MISYS INTERNATIONAL BANKING SYSTEMS, INC.', 'MITCHELL & TITUS LLP', 'MITCHELL-GIURGOLA ARCHITECTS, LLP', 'MITCHELL/MARTIN, INC.', 'MITSUBISHI INTERNATIONAL CORPORATION', 'MITSUBISHI UFJ SECURITIES (USA), INC.', 'MIX TAPE MARKETING AND DIGITAL INC', 'MIXX GRAPHICS INC.', 'MIZUHO ALTERNATIVE INVESTMENTS, LLC', 'MIZUHO BANK LTD.', 'MIZUHO BANK USA', 'MIZUHO BANK, LTD.', 'MIZUHO CAPITAL MARKETS CORPORATION', 'MIZUHO SECURITIES USA INC.', 'MK JEWELRY INC.', 'MKG PRODUCTIONS, INC.', 'MKP CAPITAL MANAGEMENT, LLC', 'MKTG, INC.', 'MLA TECHNOLOGY GROUP CORP', 'MLB ADVANCED MEDIA, L.P.', 'MLB ONLINE SERVICES, INC.', 'MM MANAGEMENT HOLDINGS LLC', 'MMG PARTNERS LLC', 'MMSG INCORPORATED', 'MOAT INC', 'MOAT INC.', 'MOBILE THEORY INC.', 'MOBIUS KNOWLEDGE SERVICES', 'MODA OPERANDI, INC.', 'MODANI NEW YORK LLC', 'MODELO INC.', 'MODERN MEADOW INC', 'MODERNS LTD', 'MODI MEDIA LLC', 'MODULAR LTD', 'MODULO 3 CORPORATION', 'MOELIS & COMPANY GROUP LP', 'MOELIS & COMPANY HOLDINGS LP', 'MOELIS & COMPANY HOLDINGS, LP', 'MOET HENNESSY USA, INC.', 'MOGULDOM MEDIA GROUP, LLC', 'MOJIVA INC.', 'MOLESKINE AMERICA, INC.', 'MOMENT DESIGN, INC.', 'MOMENTUM-NA, INC.', 'MONARCH MEDICAL IMAGING EQUIPMENT INC.', 'MONEDA USA, INC.', 'MONETEFIORE MEDICAL CENTER', 'MONEY MEDIA INC.', 'MONGODB, INC.', 'MONIQUE CREATIONS INC.', 'MONOMANIA LLC', 'MONOMOY CAPITAL MANAGEMENT, L.P.', 'MONSIEUR TOUTON SELECTION, LTD.', \"MONTCLARE CHILDREN'S SCHOOL, LLC\", 'MONTEFIORE MEDICAL CENTER', 'MONTESSORI FAMILY SCHOOL OF MANHATTAN', 'MONTESSORI SCHOOL OF MANHATTAN, LLC', 'MONTROY ANDERSEN DEMARCO DESIGN, INC', \"MOODY'S ANALYTICS, INC.\", \"MOODY'S INVESTORS SERVICE\", \"MOODY'S INVESTORS SERVICE, INC.\", \"MOODY'S SHARED SERVICES, INC.\", 'MOON CAPITAL MANAGEMENT LP', 'MOONIT LLC.', 'MOORE CAPITAL MANAGEMENT, LP', 'MORGAN JOSEPH TRIARTISAN LLC', 'MORGAN STANLEY & CO LLC', 'MORGAN STANLEY & CO, LLC', 'MORGAN STANLEY & CO. LLC', 'MORGAN STANLEY & CO., LLC', 'MORGAN STANLEY &AMP; CO LLC', 'MORGAN STANLEY &AMP; CO. LLC', 'MORGAN STANLEY BANK', 'MORGAN STANLEY BANK NA', 'MORGAN STANLEY BANK, N.A.', 'MORGAN STANLEY CAPITAL GROUP INC.', 'MORGAN STANLEY FUND SERVICES INC', 'MORGAN STANLEY FUND SERVICES INC.', 'MORGAN STANLEY INVESTMENT MANAGEMENT INC.', 'MORGAN STANLEY INVESTMENT MANAGEMENT, INC', 'MORGAN STANLEY INVESTMENT MANAGEMENT, INC.', 'MORGAN STANLEY PRIVATE BANK NA', 'MORGAN STANLEY SMITH BARNEY', 'MORGAN STANLEY SMITH BARNEY LLC', 'MORGAN STANLEY SMITH BARNEY, LLC', 'MORGANE LE FAY', 'MORGANS HOTEL GROUP MANAGEMENT LLC', 'MORIMOTO NY VENTURE, LP', 'MORRIS ADJMI ARCHITECTS, P.C.', 'MORRIS ADJMI ARCHITECTS, PC', 'MORRISON & FOERSTER LLP', 'MORTGAGE INDUSTRY ADVISORY CORP.', 'MORVILLO ABRAMOWITZ GRAND IASON & ANELLO P.C.', 'MOSCOT MANAGEMENT CORPORATION', 'MOST HOLY REDEEMER CATHOLIC ACADEMY', 'MOSUZ INC', 'MOSUZ, INC.', 'MOTHER INDUSTRIES LLC', 'MOTHER INDUSTRIES, LLC.', 'MOTT STREET OPTICAL', 'MOTT STREET OPTICAL, INC', 'MOTT WOMEN HEALTHCARE, PLLC.', 'MOUNT KAMET PARTNERS LLC', 'MOUNT KELLETT CAPITAL MANAGEMENT LP', 'MOUNT SINA MEDICAL CENTER', 'MOUNT SINAI BETH ISRAEL', 'MOUNT SINAI MEDICAL CENTER', 'MOUTH INC.', 'MOVERE MANHATTAN LLC', 'MOVING PICTURE INSTITUTE', 'MP ENGINEERS, P.C.', 'MP FASHION INC.', 'MPG', 'MPHASIS CORPORATION', 'MPHASIS LIMITED', 'MPOWERD, INC.', 'MQS MANAGEMENT, LLC', 'MR ARCHITECTURE & DECOR, P.C.', 'MR PHARMACY INC', 'MR. X GOTHAM, LLC', 'MRY US, LLC', 'MRY US, LLC.', 'MSA PARTNERS, LLC', 'MSCI, INC.', 'MSD CAPITAL, L.P.', 'MSLGROUP AMERICAS, INC.', 'MSS USA LLC', 'MTS HEALTH PARTNERS, L.P.', 'MTS LOGISTICS, INC.', 'MTV NETWORKS, A DIVISION OF VIACOM INTERNATIONAL,', 'MUDRICK CAPITAL MANAGEMENT, LP', 'MUFG UNION BANK, N.A.', 'MUKAI & CO INC', 'MULBERRY COMPANY (USA) INC.', 'MULROY MASONRY, INC.', 'MULTIPLAN SERVICES CORPORATION', 'MULTIPLAN, INC.', 'MUMBER 7, INC.', 'MUNDITICKETS INC.', 'MUNICIPAL CREDIT UNION', 'MURDOCK SOLON ARCHITECTS PC', 'MUREX NORTH AMERICA INC.', 'MUREX NORTH AMERICA, INC.', 'MUSICKA LLC', 'MUSKET HOSPITALITY LLC', 'MUZINICH & CO, INC.', 'MW STUDIOS, INC.', 'MY ACTIVE DRIVEWAY', 'MY IDEAL PROPERTY, INC.', 'MYERS HOLUM, INC.', 'MYRIAD SUPPLY COMPANY LLC', 'MYRON YANG & CO., LLC', 'MYSTIC INC.', 'MZ WALLACE INC.', 'MZHCI, LLC', 'M\\xc3\\x84DECINS SANS FRONTI\\xc3\\x84RES USA, INC.', 'N ARCHITECTS PLLC', 'N ARCHITECTS, PLLC', 'N-GENE RESEARCH LABORATORIES, INC.', 'N. CHENG & CO, CPA PC', 'N. CHENG & CO, P. C.', 'N.E.E. CONSULTING LTD', 'NABLER LLC', 'NADINE JOHNSON & ASSOC, INC.', 'NADINE JOHNSON & ASSOCIATES INC.', 'NADINE JOHNSON & ASSOCIATES, INC', 'NAFTALI GROUP, LLC', 'NAGASHIMA OHNO & TSUNEMATSU NY LLP', 'NAKED NEW YORK LLC', 'NAMELY, INC.', 'NANAIMO STUDIO, LLC', 'NANCY PACKES INC.', 'NANCY PACKES SIGNATURE MARKETING SERVICES INC.', 'NANES DELORME CAPITAL MANAGEMENT LLC', 'NAPIER PARK GLOBAL CAPITAL (US) LP', 'NARATIV, INC.', 'NARCISO RODRIGUEZ LLC', 'NARDELLO & CO., LLC', 'NATHAN LOVE LLC', 'NATION DESIGN PARTNERS LLC', 'NATIONAL BANK OF CANADA FINANCIAL INC.', 'NATIONAL GRID CORPORATE SERVICES LLC', 'NATIONAL GRID USA SERVICE COMPANY INC.', 'NATIONAL GRID USA SERVICE COMPANY, INC.', 'NATIONAL UNION FIRE INSURANCE COMPANY OF PITTSBURG', 'NATIONAL URBAN LEAGUE INC', 'NATIONAL URBAN TECHNOLOGY CENTER, INC.', 'NATIVITY MISSION CENTER', 'NATIXIS NEW YORK BRANCH', 'NATIXIS NORTH AMERICA LLC', 'NATURAL RESOURCE GOVERNANCE INSTITUTE', 'NATURAL SOURCE INTERNATIONAL LTD.', 'NATURE AMERICA, INC.', 'NAUSHIR I LALANI DDS PC', 'NAVA PARTNERS LLC', 'NAVATAR CONSULTING GROUP, INC.', 'NAVATAR GROUP, INC.', 'NAVILLUS TILE INC.', 'NAVILLUS TILE INC., DBA NAVILLUS CONTRACTING', 'NBA PROPERTIES INC.', 'NBA PROPERTIES, INC.', 'NBBJ ARCHITECTURE, PLLC', 'NC TRANSACTION, INC.', 'NCM USA BRONX, LLC', 'NCO STAFFING, INC.', 'NEAVE CREATIVE LLC', 'NEBULIST INC.', 'NECESSARY OBJECTS LTD.', 'NEEDHAM & COMPANY, LLC', 'NEIGHBORHOOD TRUST FINANCIAL PARTNERS, INC.', 'NELLIGAN WHITE ARCHITECTS PLLC', 'NELSON BYRD WOLTZ LANDSCAPE ARCHITECTS, PLLC', 'NEMAWORKSHOP LLC', 'NEMO16 LLC', 'NEO NEO INC.', 'NEO@OGILVY LLC', 'NEON LIBERTY CAPITAL MANAGEMENT LLC', 'NEOSOFT, LLC', 'NEOTECRA INC.', 'NESPRESSO USA, INC.', 'NEST DMC LLC', 'NET-A-PORTER LLC', 'NET@WORK, INC.', 'NETCOM LEARNING INC.-NY', 'NETMINING, LLC', 'NETSOFT USA, INC.', 'NETWORK SHOWROOM USA, INC.', 'NEUEHOUSE LLC', 'NEUEHOUSE MADISON SQUARE LLC', 'NEUEHOUSE OPTIMIZATION INC', 'NEUROFOCUS, INC.', 'NEUROLEADERSHIP INSTITUTE, INC.', 'NEVERSTOP USA LLC', 'NEVIS RECRUITING GROUP, INC.', 'NEW ALTERNATIVES FOR CHILDREN, INC.', 'NEW AMSTERDAM FENCING ACADEMY, LLC', 'NEW AMSTERDAM LABS, INC.', 'NEW AMSTERDAM SCHOOL', 'NEW AUDIO LLC', 'NEW HOPE FERTILITY CENTER', 'NEW JIGU TRADING CORP.', 'NEW LIFE CHILD DEVELOPMENT CENTER, INC.', 'NEW LINE STRUCTURES, INC', 'NEW MEDIA NEWS LLC D/B/A DNAINFO', 'NEW METRO CONSTRUCTION', 'NEW MOUNT SPORTS USA INC', 'NEW MOUNTAIN CAPITAL, LLC', 'NEW YORK & COMPANY, INC.', \"NEW YORK ASIAN WOMEN'S CENTER\", 'NEW YORK BLOOD CENTER', 'NEW YORK BRONX PEDIATRIC MEDICINE, PC', 'NEW YORK CITY COLLEGE OF TECHNOLOGY/CUNY', 'NEW YORK CITY CRIMINAL JUSTICE AGENCY, INC.', 'NEW YORK CITY DEPARTMENT OF EDUCATION', 'NEW YORK CITY DEPARTMENT OF FINANCE', 'NEW YORK CITY FIRE DEPARTMENT', 'NEW YORK CITY FOOTBALL CLUB LLC', 'NEW YORK CITY HEALTH AND HOSPITALS CORPORATION', 'NEW YORK CITY MONTESSORI CHARTER SCHOOL', 'NEW YORK CITY OFFICE OF MANAGEMENT AND BUDGET', 'NEW YORK CITY POLICE DEPARTMENT', 'NEW YORK CITY REGIONAL CENTER, LLC', 'NEW YORK CITY TRANSIT AUTHORITY', 'NEW YORK COSMOS, LLC', 'NEW YORK CRUISE LINES INC.', 'NEW YORK DESIGN ARCHITECTS, LLP', 'NEW YORK EHEALTH COLLABORATIVE', 'NEW YORK FILM ACADEMY LTD', 'NEW YORK FILM ACADEMY LTD.', 'NEW YORK FRENCH-AMERICAN CHARTER SCHOOL', 'NEW YORK GENOME CENTER INC.', 'NEW YORK GRANT COMPANY, INC.', 'NEW YORK HABITAT VLF, INC.', 'NEW YORK HALL OF SCIENCE', 'NEW YORK HOSPITAL MEDICAL CENTER OF QUEENS', 'NEW YORK HOTEL & MOTEL TRADES COUNCIL', 'NEW YORK IMMIGRATION SERVICE LLC', 'NEW YORK INSTITUTE OF ENGLISH AND BUSINESS', 'NEW YORK LAWYERS FOR THE PUBLIC INTEREST, INC.', 'NEW YORK LIFE INSURANCE COMPANY', 'NEW YORK LIFE INVESTMENT MANAGEMENT, LLC', 'NEW YORK MEDIA LLC', 'NEW YORK METHODIST HOSPITAL', 'NEW YORK PREPARATORY SCHOOL', 'NEW YORK PUBLIC LIBRARY', 'NEW YORK SEIKATSU PRESS, INC.', 'NEW YORK SERVICE CENTER FOR CHINESE STUDY FELLOWS', 'NEW YORK SOCIETY FOR RELIEF OF RUPTURED & CRIPPLED', 'NEW YORK STATE CATHOLIC HEALTH PLAN', 'NEW YORK STATE OFFICE OF MENTAL HEALTH', 'NEW YORK STRUCTURAL BIOLOGY CENTER', 'NEW YORK UNIVERSITY', 'NEW YORK UNIVERSITY HOSPITALS CENTER', 'NEW YORK UNIVERSITY SCHOOL OF MEDICINE', 'NEW YORK UNIVERSITY, COURANT INSTITUTE OF MATHEMAT', 'NEWMARK & COMPANY REAL ESTATE, INC', 'NEWOAK CAPITAL LLC', 'NEWS LIMITED OF AUSTRALIA INC.', 'NEWSCRED, INC.', 'NEX WORLDWIDE EXPRESS', 'NEXERA INC.', 'NEXT FRONTIER MEDIA INC', 'NEXT JUMP, INC.', 'NEXTSOCIETY, INC.', 'NFAMOUS MODEL MANAGEMENT INC', 'NGDATA US, INC.', 'NGK GLOBAL LLC', 'NIAGARA MOHAWK POWER CORPORATION', 'NICHOLAS ROERICH MUSEUM INC.', 'NICOSIA CREATIVE EXPRESSO LTD', 'NICOSIA CREATIVE EXPRESSO LTD.', 'NICOSIA CREATIVE EXPRESSO, LTD.', 'NIGEL FRANK INTERNATIONAL, INC.', 'NIKKO ASSET MANAGEMENT AMERICAS INC.', 'NIMBO TECHNOLOGIES INC.', 'NINAH CONSULTING, LTD.', 'NINE WEST JEANSWEAR GROUP, INC.', 'NIPPON LIFE INSURANCE COMPANY OF AMERICA', 'NMP PLANNING CO., INC.', 'NOE AND ASSOCIATES INC', 'NOISE MARKETING LLC', 'NOKOTA MANAGEMENT, LP', 'NOMAD INDUSTRIES INC', 'NOMAD TWO WORLDS (USA), INC', 'NOMORERACK COM INC', 'NOMURA AMERICA SERVICES, LLC', 'NOMURA HOLDING AMERICA INC.', 'NOMURA RESEARCH INSTITUTE AMERICA, INC.', 'NOMURA SECURITIES INTERNATIONAL, INC.', 'NONGHYUP BANK', 'NONPLUSULTRAUNITED, INC.', 'NONPROFIT FINANCE FUND', 'NOODLE EDUCATION INC.', 'NOOKA INC.', 'NOOM, INC.', 'NOPSEC, INC', 'NOQUO INC', 'NORMAL EARS, INC,', 'NORMAL EARS, INC.', 'NORMANDIE LLC', 'NORTH SHORE MEDICAL REHABILITATION', 'NORTHEAST SERVICE INTERIORS INC.', 'NORTHEASTERN CONFERENCE OF SEVENTH-DAY ADVENTISTS', 'NORTHPOINT SOLUTIONS, LLC', 'NORTHWOOD SECURITIES LLC', 'NOTORIOUS FASHION CORP.', 'NOVANTAS, INC.', 'NOVUS PARTNERS, INC.', 'NOWTHIS MEDIA, INC.', 'NR2154 NYC LLC', 'NRELATE LLC', 'NRT NEW YORK LLC', 'NSC GLOBAL LLC', 'NTT AMERICA, INC.', 'NUCLEUS ERUDITION AND RESEARCH CORP.', 'NUDIE JEANS INC.', 'NUESTROS NINOS D.C.C. INC.', 'NUESTUDIO GROUP LLC', 'NUEVA SOLUTIONS INC.', 'NUEVA SOLUTIONS, INC.', 'NUMERIX LLC', 'NUVERSE ADVISORS LLC', 'NUXEO CORPORATION', 'NV INDUSTRIES INC.', 'NWI MANAGEMENT LP', 'NY BRAND STUDIO INC.', 'NY FIRE LLC', 'NY TAEKWONDO CENTER, INC.', 'NYC ATHLETIC TRAINING, P.C.', 'NYC DEPARTMENT OF CITY PLANNING', 'NYC ELITE GYMNASTICS, INC.', 'NYC SMALL BUSINESS SOLUTIONS', 'NYC-HHC HARLEM HOSPITAL CENTER', 'NYC-HHC JACOBI MEDICAL CENTER', 'NYC-HHC LINCOLN MEDICAL & MENTAL HEALTH CENTER', 'NYC-HHC LINCOLN MEDICAL AND MENTAL HEALTH CENTER', 'NYC-HHC METROPOLITAN HOSPITAL CENTER', 'NYC-HHC WOODHULL MEDICAL AND MENTAL HEALTH CENTER', 'NYC-HHC-KINGS COUNTY HOSPITAL CENTER', 'NYCEDC', 'NYCEDC (NEW YORK CITY ECONOMIC DEVELOPMENT CORPORA', 'NYCHHC - HARLEM HOSPITAL CENTER', 'NYCHHC - JACOBI MEDICAL CENTER', 'NYCHHC - KINGS COUNTY HOSPITAL CENTER', 'NYCHHC - LINCOLN MEDICAL AND MENTAL HEALTH CENTER', 'NYCHHC - METROPOLITAN HOSPITAL CENTER', 'NYCHHC - WOODHULL MEDICAL AND MENTAL HEALTH CENTER', 'NYEHAUS, INC.', 'NYG CAPITAL LLC', 'NYGARD, INC.', 'NYL- NEW YORK LEAGUE FOR EARLY LEARNING', 'NYLON HOLDINGS, INC.', 'NYP HOLDINGS, INC.', 'NYP HOLDINGS, INC., A.K.A. THE NEW YORK POST', 'NYSE MARKET, INC.', 'NYSE TECHNOLOGIES, INC.', 'NYU POLYTECHNIC SCHOOL OF ENGINEERING', 'NYX DESIGNS', \"O'CONNOR DAVIES, LLP\", \"O'HARE PARNAGIAN LLP\", \"O'MELVENY & MYERS LLP\", \"O'MELVENY &AMP; MYERS LLP\", \"O'NEIL LANGAN ARCHITECTS\", \"O'NEIL LANGAN ARCHITECTS, PC\", \"O'NEIL LANGAN ARCHITECTS, PC.\", \"O'REILLY STOUTENBURG RICHARDS LLP\", 'O.S.L. SHIPPING & DEVELOPMENT, INC.', 'O.S.L. SHIPPING AND DEVELOPMENT, INC.', 'O3 TECHNOLOGY SOLUTIONS, LLC', 'OAK HILL ADVISORS, L.P.', 'OAK HILL CAPITAL MANAGEMENT, LLC', 'OAKUM BAY CAPITAL, LLC', 'OBERON SECURITIES LLC', 'OBJECTIVESUBJECT, LLC', 'OBRA ARCHITECTS', 'OBSERVATORY GROUP LLC', 'OC & C STRATEGY CONSULTANTS, LLC', 'OCA INTERIORS INC.', 'OCEAN PACIFIC SEAFOOD GROUP', 'OCEAN PACIFIC SEAFOOD GROUP INC.', 'OCP COLLECTIVE CORP.', 'OCS AMERICA, INC.', 'ODA - ARCHITECTURE PC', 'ODA-ARCHITECTURE', 'ODDCAST INC.', 'ODEON CAPITAL GROUP, LLC', 'OFFERPOP CORPORATION', 'OFFICE FOR VISUAL INTERACTION, INC.', 'OGG TRADING', 'OGILVY & MATHER WORLDWIDE INC.', 'OGILVY & MATHER WORLDWIDE LLC', 'OGILVY & MATHER WORLDWIDE, LLC', 'OGILVY COMMONHEALTH WORLDWIDE, LLC', 'OGILVY PUBLIC RELATIONS WORLDWIDE INC.', 'OGILVY PUBLIC RELATIONS WORLDWIDE, INC.', 'OGILVYONE LLC', 'OGILVYONE, LLC', 'OHL USA, INC.', 'OHR HOLDCO INC.', 'OIKOS NETWORKS, INC.', 'OLAH, INC.', 'OLI ARCHITECTURE PLLC', 'OLIVER COPE ARCHITECT LLC', 'OLIVER WYMAN ACTUARIAL CONSULTING, INC.', 'OLIVER WYMAN, INC.', 'OLIVIA MILLER, INC.', 'OLX, INC.', 'OMA*AMO ARCHITECTURE P.C.', 'OMB LABS, INC', 'OMB LABS, INC.', 'OMBLIGO, INC.', 'OMD USA LLC', 'OMEGA POINT CAPITAL, LLC', 'OMNICOM MANAGEMENT INC.', 'OMNICOM MEDIA GROUP HOLDINGS, INC.', 'OMNIGON COMMUNICATIONS, LLC', 'OMNIMARKETS LLC', 'OMNIMARKETS, LLC', 'OMNIPAK IMPORT ENTERPRISES, INC.', 'OMNITRAIL TECHNOLOGIES INC', 'OMNITRANS CORPORATION, LTD.', 'ON DECK CAPITAL INC.', 'ON DECK CAPITAL, INC.', 'ON TIME DEVELOP INC', 'ONASSIS CLOTHING LLC', 'ONCARD MARKETING, INC.', 'ONDRA (US) LP', 'ONE LUX STUDIO, LLC', 'ONE ROCK CAPITAL PARTNERS, LLC', 'ONE STONE PARTNERS LLC', 'ONE WILLIAM STREET CAPITAL MANAGEMENT, LP', 'ONEMAIN FINANCIAL, INC.', 'ONEWIRE, INC', 'ONEWORLD MANAGEMENT COMPANY, INC.', 'ONIA, LLC', 'ONLINE SERVICES CORPORATION LLC', 'ONLINEORDERING LLC', 'ONTIME WATCH CO. INC', 'OOVOO LLC', 'OOVOO, LLC', 'OPAL FINANCIAL GROUP', 'OPEN D USA LLC', 'OPEN ROAD INTEGRATED MEDIA INC.', 'OPEN SKY PROJECT, INC.', 'OPEN SOCIETY FOUNDATIONS', 'OPEN SOCIETY INSTITUTE', 'OPENCROWD, INC.', 'OPENHOUSENEWYORK, INC.', 'OPENING CEREMONY COLLECTION LLC', 'OPENING CEREMONY ONLINE LLC', 'OPENWAVE COMPUTING LLC', 'OPENWAVE COMPUTING, LLC', 'OPERA GALLERY INC.', 'OPERATIVE MEDIA INC.', 'OPERATIVE MEDIA, INC.', 'OPHIR PARTNERS, LLC', 'OPOP LLC', 'OPPENHEIMER & CO. INC.', 'OPPERMAN WEISS LLC', 'OPT-INTELLIGENCE INCORPORATED', 'OPTIMATIC MEDIA INC.', 'OPTIMEDIA INTERNATIONAL US, INC.', 'OPTIONS INFORMATION TECHNOLOGY, LLC', 'ORANGE INTERNATIONAL, INC.', 'ORANGEFIELD-COLUMBUS AVENUE CONSULTING, LLC', 'ORBIMED ADVISORS LLC', 'ORC INTERNATIONAL, INC.', 'ORDERGROOVE, INC.', 'ORIENGE, LLC', 'ORION TRADING WORLDWIDE LLC', 'ORION TRANSPORTATION INC.', 'ORLY SHOE CORPORATION', 'ORTELIUS CAPITAL PARTNERS, LLC', 'OSBORNE USA, INC.', 'OSCAR DE LA RENTA, LLC', 'OSCAR INSURANCE CORPORATION', 'OSG CORP.', 'OSLER HOSKIN & HARCOURT, LLP', 'OSP GROUP MANAGEMENT SERVICES, L.P.', 'OTARIAN USA INC.', 'OTC INC. D/B/A/ OTC FIN', 'OTC MARKETS GROUP INC.', 'OTG MANAGEMENT LLC', 'OTL ENTERPRISES LLC', 'OUTBRAIN INC.', 'OUTBRAIN, INC.', 'OUTSOURCED AD OPS, LLC', 'OVE ARUP & PARTNERS PC', 'OVE ARUP &AMP; PARTNERS PC', 'OVED APPAREL CORP', 'OVERSEA-CHINESE BANKING CORPORATION LIMITED, NEW Y', 'OVERSEAS MEDIA, INC.', 'OWNESS, INC.', 'OX3 PRODUCTIONS, CORP.', 'OXBRIDGE ACADEMIC RESOURCES LTD.', 'OXEON PARTNERS LLC', 'OZ MANAGEMENT LP', 'OZ MANAGEMENT, LP', 'OZANEAUX LTD', 'P DEVOS DESIGNS, INC.', 'P&C INSURANCE SYSTEMS, INC', 'P&C INSURANCE SYSTEMS, INC.', 'P&R DENTAL STRATEGIES INC.', 'P3 ANALYTICS, INC.', 'P3 INTERNATIONAL CORP.', 'PACE ENGINEERING P.C.', 'PACE GALLERY LLC', 'PACIFIC CULTURE ENTERPRISES,INC', 'PACIFIC GLOBAL ADVISORS LLC', 'PACIFIC GLOBAL ADVISORS LLC.', 'PACIFIC GREEN ENTERPRISES INC', 'PACIFIC LANGHAM NY MANAGEMENT CORPORATION', 'PACMID TECHNOLOGIES, LLC', 'PACNET SERVICES (USA), INC.', 'PADDLE8', 'PAEDAE, INC.', 'PAGEVAMP, INC.', 'PAK ELMSFORD MANAGEMENT INC.', 'PALLADIUM CAPITAL MANAGEMENT III LLC', 'PAMLI CAPITAL MANAGEMENT, LLC', 'PAN BROTHERS ASSOCIATES INC', 'PANAGIOTIS PAGONIS, MD, PC', 'PANAMAX INC.', \"PANDIT & THOMAS, CPA'S P.C.\", 'PANGEA3 USA, LLC', 'PAPERCHASE ACCOUNTANCY, INC.', 'PAPERLESS INC.', 'PAPERLESS POST', 'PAPERLESS, INC.', 'PAPILLIONAIRE INC.', 'PARADIGM SOFTWARE TECHNOLOGIES, INC.', 'PARADOXAL INC.', 'PARADOXAL,INC', 'PARALLEL DEVELOPMENT LTD', 'PARETO SECURITIES, INC.', 'PARHELION LTD.', 'PARK ASSIST, LLC', 'PARK AVENUE CONSULTING', 'PARK HUDSON INTERNATIONAL', 'PARK SLOPE ANESTHESIA ASSOCIATES, PC', 'PARK SLOPE EMERGENCY PHYSICIAN SERVICES, PC', 'PARK SLOPE EMERGENCY PHYSICIANS SERVICES,P.C', 'PARK STREET VENTURES LLC', 'PARKVIEW US LLC', 'PARLIAMENTARIANS FOR GLOBAL ACTION', 'PARRUT, INC.', 'PART2 PICTURES LLC', 'PARTE LIMITED LIABILITY COMPANY', 'PARTER INTERNATIONAL, INC.', 'PARTNERS GROUP (USA) INC.', 'PASTA RESOURCES, INC.', 'PATCH MEDIA CORPORATION', 'PATH INTERACTIVE, INC', 'PATMOS DESIGN, INC.', 'PATTERSON BELKNAP WEBB & TYLER LLP', 'PAUL ANDREW DESIGN LLC', 'PAUL BARNETT INC', 'PAUL BOGHOSSIAN', 'PAUL KASMIN GALLERY, INC.', 'PAUL, WEISS, RIFKIND, WHARTON & GARRISON LLP', 'PAUL, WEISS, RIFKIND, WHARTON & GARRISON, LLP', 'PAULANER BRAUHAUS & RESTAURANT, LLC', 'PAULSON & CO., INC.', 'PAX ASSIST INC.', 'PAYFONE, INC.', 'PAYONEER INC.', 'PCI-MEDIA IMPACT, INC', 'PDT PARTNERS, LLC', 'PEACE ISLAND INSTITUTE, INC', 'PEANUTS WORLDWIDE LLC', 'PEARHEAD, INC', 'PEARL GLOBAL INDUSTRIES LIMITED', 'PEARLFISHER INC.', 'PEARSON INC.', 'PEATIX INC.', 'PEEKANALYTICS, INC.', 'PEEKYOU LLC', 'PEEKYOU, LLC', 'PEERACTIVE, INC.', 'PEERFORM INC.', 'PEG/PARK LLC', 'PEI COBB FREED & PARTNERS ARCHITECTS LLP', 'PELLI CLARKE PELLI ARCHITECTS LLP', 'PEMBROOKE & IVES, INC.', 'PENCOM SYSTEMS INCORPORATED', 'PENGUIN RANDOM HOUSE LLC', 'PENSA LLC', 'PENTAGRAM DESIGN INC.', 'PENTAGRAM DESIGN, INC.', 'PENTON LEARNING SYSTEMS, LLC', 'PEOPLE IDEAS & CULTURE LLC', 'PER SKARSTEDT GALLERY, LTD', 'PERCEPT CONSULTING INC.', 'PERCOLATE INDUSTRIES, INC.', 'PERFORM MEDIA INC.', 'PERIMETERWATCH TECHNOLOGIES, INC.', 'PERKINS + WILL, INC.', 'PERKINS EASTMAN ARCHITECTS PC', 'PERMAL (PGI) LLC', 'PERMAL ASSET MANAGEMENT LLC', 'PERMAL GROUP INC.', 'PERMIAN INVESTMENT PARTNERS, LP', 'PERMIRA ADVISERS LLC', 'PERSONAL COMMUNICATION CENTER', 'PETER F. POON ARCHITECT, P.C.', 'PETER MARINO ARCHITECT PLLC', 'PETER THOMAS ROTH LABS, LLC', 'PETER THOMAS ROTH LLC', 'PETRARCH LLC', 'PETROLEUM INDUSTRY RESEARCH ASSOCIATES INC.', 'PETROSSIAN INC.', 'PETSKY PRUNIER LLC', 'PFEIL & HOLING, INC.', 'PFIZER INC', 'PHARMA CARE INC', 'PHARMORE RX, INC.', 'PHD MEDIA LLC', 'PHEAR CREATIVE LLC', 'PHILIP TOSCANO ARCHITECTS', 'PHILLIPS AUCTIONEERS LLC', 'PHOSPHAGENICS INC', 'PHOTOFIND GALLERY, INC.', 'PHOTOGRAPHIC MANAGEMENT INC.', 'PHREESIA, INC.', 'PHT LIGHTING DESIGN INC.', 'PHT LIGHTING DESIGN, INC.', 'PHYSICIAN AFFILIATE GROUP OF NEW YORK', 'PHYSICIAN AFFILIATE GROUP OF NEW YORK, P.C.', 'PHYSICIAN AFFILIATE GROUP OF NEW YORK, P.C. (PAGNY', 'PHYSICIAN AFFILIATE GROUP OF NEW YORK, PC', 'PHYSICIAN AFFILIATE GROUP OF NY, P.C.', 'PHYSICIANS FOR HUMAN RIGHTS', 'PICOFEMTO LLC', 'PIKSEL AMERICAS INC.', 'PIKSEL AMERICAS, INC.', 'PILATES CHALLENGE, INC.', 'PILATES ON 66 LTD', 'PILNET', 'PINCHME GROUP INC.', 'PINCHME GROUP, INC', 'PINCHME GROUP, INC.', 'PINE BRIDGE INVESTMENTS LLC', 'PINEBRIDGE INVESTMENTS HOLDINGS U.S., LLC', 'PINEBRIDGE INVESTMENTS LLC', 'PINNACLE MEDICAL PC', 'PISARKIEWICZ MAZUR+CO, INC.', 'PISTICCI RESTAURANT CORP', 'PIXABLE, INC.', 'PIXAFY INC', 'PLACEIQ, INC.', 'PLACEMETER INC', 'PLAIN SPACE, INC.', 'PLANCK, LLC', 'PLANNED PARENTHOOD FEDERATION OF AMERICA', 'PLATINUM MANAGEMENT (NY) LLC', 'PLATINUM RYE LLC', 'PLATT BYARD DOVELL WHITE ARCHITECTS LLP', 'PLAY RUBGY, INC.', 'PLAY RUGBY INC.', 'PLAY RUGBY, INC', 'PLAYBILL ONLINE INCORPORATED', 'PLETHORA MOBILE LLC', 'PLOT COMMERCE INC D/B/A CHARGED.FM', 'PLOT COMMERCE, INC', 'PLUS ET PLUS INC.', 'PLUSGRADE US LLC', 'PM HOTEL ASSOCIATES LLC', 'PMI GLOBAL SERVICES INC.', 'POD 39 OPERATING LLC', 'POD1, INC.', 'POLARIS COMMUNICATIONS GROUP INC.', 'POLARIS SOLUTIONS LLC', 'POLARIS SOLUTIONS MANAGEMENT, INC', 'POLARIS SOLUTIONS MANAGEMENT, INC.', 'POLARIS SOLUTIONS, LLC', 'POLLEN BRANDS, LLC', 'POLYPATHS LLC', 'POLYTECHNIC INSTITUTE OF NEW YORK UNIVERSITY', 'POMELLATO USA, INC.', 'POMERANTZ LLP', 'POND5 INC.', 'PONTIFLEX, INC', 'PONTOS AQUA HOLDINGS LLC', 'POOR RICH KIDS, INC.', 'POP CHART LAB, INC', 'PORCUPINE GROUP INC', 'PORT MORRIS TILE & MARBLE CORP.', 'PORTABLE US INC', 'PORTABLE US INC.', 'PORTER NOVELLI, INC.', 'PORTFOLIO MEDIA, INC.', 'PORTIGON AG', 'PORTS 1961 USA INC', 'PORTS 1961 USA, INC.', 'POSTERSCOPE USA, INC.', 'POTEN AND PARTNERS, INC.', 'POTION DESIGN, LLC', 'POULIN + MORRIS INC.', 'PR CONSULTING INC', 'PR CONSULTING, INC.', 'PR NEWSWIRE ASSOCIATION LLC', 'PRABAL GURUNG, LLC', 'PRADA USA CORP.', 'PRAGMA SECURITIES LLC', 'PRAJAPATI ASSOCIATES, LLP', 'PRANAYA PHARMACY INC', 'PRATT INSTITUTE', 'PRAYTELL STRATEGY LLC', 'PRECISION GLOBAL CONSULTING INC', 'PRECISION GLOBAL CONSULTING INC.', 'PRECISION GLOBAL CONSULTING, INC.', 'PRECISION HEALTH, INC', 'PREFERRED RETURN, INC.', 'PREMIER PHYSICAL THERAPY & WELLNESS', 'PREMIUM PAINTING & DECORATING INC.', 'PREMIUM POINT INVESTMENTS LP', 'PREMIUM TECHNOLOGY, INC.', 'PREPLAY, INC.', 'PRESIDIO INTERNATIONAL, INC.', 'PRESS HERE PUBLICITY, LLC', 'PRESTIGE JEWELRY INTERNATIONAL, INC.', 'PREVENTIVE MAINTENANCE INSPECTIONS, INC.', 'PRIMARK AMERICA CORPORATION', 'PRIMARY KIDS, INC.', 'PRIME FOOD PROCESSING CORP.', 'PRINCE HALL COLONIAL PARK DCC', 'PRINCE STREET CAPITAL MANAGEMENT LLC.', 'PRIORITY ONE JETS', 'PRIVATE EXPORT FUNDING CORPORATION', 'PRIVCAP LLC', 'PRIZMA JEWELRY INC.', 'PRO DESIGN INC.', 'PROCESS DIGITAL USA, LLC', 'PROCLIVITY MEDIA, INC.', 'PROCTER GROUP', 'PRODJECT LLC', 'PRODUCTEEV,LLC', 'PRODUCTIONPRO, INC.', 'PROENZA SCHOULER, LLC', 'PROFERO LLC', 'PROFESSIONAL ACCESS LTD.', 'PROFESSIONAL ACCOUNTING, TAX & COMPUTER SERVICES,', 'PROFESSIONAL BUSINESS COLLEGE', 'PROFESSIONAL GRADE CONSTRUCTION GROUP INC', 'PROFESSIONAL MEDICAL & LEGAL MANAGEMENT GROUP INC.', 'PROFESSIONALS FOR NONPROFITS, INC.', 'PROFITNESS PHYSICAL THERAPY', 'PROJECT 28 CLOTHING, LLC', 'PROJECT 6 LLC', 'PROJECT FLORIDA, INC.', 'PROJECT FOR PUBLIC SPACES, INC.', 'PROJECT HEALTHY LIVING INC.', 'PROJECT HEALTHY LIVING, INC.', 'PROJECT ORBIS INTERNATIONAL, INC', 'PROJECT ORBIS INTERNATIONAL, INC.', 'PROJECT X LABS LLC', 'PROLIFIC INTERACTIVE LLC', 'PROLIFICS, INC.', 'PROMED PERSONNEL SERVICES', 'PROMETAL CONSTRUCTION INC.', 'PROMETHEUS GLOBAL MEDIA, LLC', 'PROPEL LIST LLC', 'PROPELLIST LLC', 'PROPHASE TRAINING GROUP, LLC', 'PROSIRIS CAPITAL MANAGEMENT LLC', 'PROSIRIS CAPITAL MANAGEMENT LP', 'PROSKAUER ROSE LLP', 'PROSPECT ADMINISTRATION LLC', 'PROSPECT CAPITAL MANAGEMENT LLC', 'PROSPECT CAPITAL MANAGEMENT, LLC', 'PROSPECT STREET ADMINISTRATION, LLC', 'PROTEIN INC', 'PROTRAVEL INTERNATIONAL, LLC', 'PROVIDENCE CONSTRUCTION CORP.', 'PROWESS IT SOLUTIONS LLC', 'PROXIMA INC.', 'PRYOR CASHMAN LLP', 'PSA REALTY CORP.', 'PSYOP PRODUCTIONS LLC', 'PTT, LLC', 'PUBLIC ART FUND, INC.', 'PUBLICIS KAPLAN THALER', 'PUBLICITAS INC', 'PUBSQUARED, LLC', 'PUIG USA, INC.', 'PULSD INC.', 'PULSE ADVISORY LLC', 'PULSEPOINT, INC.', 'PUP-A-PORTER LLC', 'PURE & APPLIED INC.', 'PURE GROWTH CONSULTING LLC', 'PURESCIENCE APPLICATIONS LLC', 'PURPOSE ACTION INC.', 'PURPOSE CAMPAIGNS LLC', 'PURPOSE FOUNDATION', 'PVH CORP.', 'PVH RETAIL STORES, INC.', 'PVH WHOLESALE CORPORATION', 'PYXIS SOLUTIONS LLC', 'P\\\\S\\\\L OPERATION SERVICES AMERICA LLC', 'Q4 DESIGNS LLC.', 'Q4 DESIGNS, LLC', 'QBE AMERICAS INC', 'QBE AMERICAS INC.', 'QBE AMERICAS, INC.', 'QBEDDING, INC.', 'QFR CAPITAL MANAGEMENT LP', 'QNARY LLC', 'QNY CREATIVE CORP.', 'QS INVESTORS HOLDINGS LLC', 'QS INVESTORS HOLDINGS, LLC', 'QUAD CAPITAL LLC', 'QUAD CAPITAL, LLC', 'QUADRANGLE GROUP LLC', 'QUALITY BUILDING SERVICES', 'QUALITY CONTROL LABORATORIES LLC', 'QUALITY CONTROL LABORATORIES, LLC', 'QUANTHOUSE INC.', 'QUANTIFIED', 'QUANTILUS, INC.', 'QUANTITATIVE BROKERS, LLC', 'QUANTUS HOLDINGS LLC', 'QUARTET FINANCIAL SYSTEMS, INC.', 'QUASAR TRADING LLC', 'QUEENS BOROUGH PUBLIC LIBRARY', 'QUEENS COLLEGE OF THE CITY UNIVERSITY OF NEW YORK', 'QUEENSBOROUGH COMMUNITY COLLEGE', 'QUENTEC ASSET MANAGEMENT LLC', 'QUIMERA RESTAURANT GROUP', 'QUINN APPAREL INC.', 'QUIRKY, INC.', 'QVT FINANCIAL LP', 'R AND S COMPUTERS, INC.', 'R&R CONSULTING', 'R, LLC', 'R-PAC INTERNATIONAL HOLDING CO. LLC', 'R. G. NIEDERHOFFER CAPITAL MANAGEMENT, INC.', 'R.A.M.S. MECHANICAL INC.', 'R.P.T. PHYSICAL THERAPY', 'R.W. PRESSPRICH & CO.', 'R/GA MEDIA GROUP INC.', 'R/GA MEDIA GROUP, INC.', 'RACINE BERKOW ASSOCIATES, INC.', 'RACKSON ASSET MANAGEMENT, LLC', 'RADIUS GMR LLC', 'RADIUS GMR, LLC', 'RADIUS GMR,LLC', 'RAFAEL VINOLY ARCHITECTS P.C', 'RAFAEL VINOLY ARCHITECTS P.C.', 'RAFAEL VINOLY ARCHITECTS PC', 'RAFFERTY ASSET MANAGEMENT, LLC', 'RAG & BONE INDUSTRIES LLC', 'RAG & BONE INDUSTRIES, LLC.', 'RAIN MEDIA, INC.', 'RAINBOW MEDIA HOLDINGS LLC', 'RAINES & FISCHER, LLP', 'RAINFOREST ALLIANCE, INC.', 'RAINFOREST DISTRIBUTION CORP', 'RAININ GROUP LLC', 'RAINTREE HEALTHCARE STAFFING, INC.', 'RAISON PURE INTERNATIONAL INC', 'RAJEEV AGGARWAL CPA', 'RAKUTEN MARKETING, LLC', 'RALPH APPELBAUM ASSOCIATES, INC.', 'RAMERICA INTERNATIONAL, INC.', 'RAMIUS ALTERNATIVE SOLUTIONS, LLC', 'RAMIUS LLC', 'RAMS IMPORTS INC.', 'RANA LAW FIRM PC', 'RAND ENGINEERING & ARCHITECTURE P.C.', 'RAPAPORT DIAMOND CORPORATION', 'RAPAPORT INTERNATIONAL, LLC', 'RAPID RATINGS INTERNATIONAL INC.', 'RAPP WB LLC', 'RAPP WORLDWIDE, INC.', 'RAT PROJECTS, INC.', 'RATP DEV USA LLC', 'RAVEN RECOVERY NUTRACEUTICALS LLC', 'RAZI SCHOOL', 'RB INTERNATIONAL MARKETS (USA) LLC', 'RBSD ARCHITECTS, PC.', 'RDA INTERNATIONAL INC', 'RDY HOLDINGS LLC', 'REACTIVE NEW YORK INC.', 'READING ROOM INC', 'READY ANALYTICS, INC', 'READY ANALYTICS, INC.', 'READY SET ROCKET LLC', 'REAL CAPITAL ANALYTICS, INC.', 'REAL ESTATE ARTS, INC.', 'REAL ESTATE SYSTEMS IMPLEMENTATION GROUP, LLC', 'REAL FOUNDATION, INC.', 'REAL GEMS, INC.', 'REAVIS PARENT LEHRER LLP', 'REBECCA MINKOFF LLC', 'REBECCA MINKOFF, LLC.', 'REBEL MOUSE, INC.', 'REBOOT USA LLC', 'RECOGNITION MEDIA, LLC', 'RECOMBINE, INC.', 'RECREATION WORLDWIDE LLC', 'RECYCLEREWARDS, INC.', 'RED ANTLER, LLC', 'RED ASSOCIATES U.S., INC.', 'RED BALLOON SECURITY, INC.', 'RED ELEPHANT ROOM, INC.', 'RED FUSE NEW YORK LLC', 'RED PEAK GROUP LLC', 'REDBURN (USA) LLC', 'REDCATS USA MANAGEMENT SERVICES, L.P.', 'REDDYMADE DESIGN, LLC', 'REDHOUSE CAPITAL MANAGEMENT LLC', 'REDI GLOBAL TECHNOLGIES LLC', 'REDI GLOBAL TECHNOLOGIES LLC', 'REDKITE LLC', 'REDSCOUT LLC', 'REDTOP ARCHITECTS', 'REDWORKS INC.', 'REED KRAKOFF INTERNATIONAL LLC', 'REED SMITH LLP', 'REFINERY POST PRODUCTIONS, INC.', 'REFINERY29, INC.', 'REGENERATION CAPITAL GROUP LLC', 'REGIONAL PLAN ASSOCIATION', 'REID & WISE CONSULTING, LLC', 'REID & WISE LLC', 'REIDY CONTRACTING GROUP LLC', 'REINFORCED CONCRETE & MASONRY CONSTRUCTION INC.', 'RELATED PARTNERS, INC.', 'RELATIONSHIP SCIENCE LLC', 'RELIANCE COMMUNICATIONS, INC.', 'RELO REDAC, INC.', 'REMATE (USA) INC', 'RENAISSANCE JEWELRY NEW YORK INC', 'RENAISSANCE TECHNOLOGIES LLC', 'RENAL RESEARCH INSTITUTE LLC, A FRESENIUS MEDICAL', 'RENEGADE LLC', 'RENOWNED CORP', 'RENT THE RUNWAY, INC.', 'REP. OFFICE OF GOVERNMENT OF SINGAPORE INVESTMENT', 'REPAIR THE WORLD INC.', 'REPRESENTATIVE OFFICE OF GIC PTE. LTD.', 'REPUBLIC FAMILY LLC', 'REPUTATION INSTITUTE, INC.', 'REQUIEM MEDIA LLC', 'RESEARCH FOUNDATION FOR MENTAL HYGIENE, INC.', 'RESEARCH FOUNDATION FOR S.U.N.Y.', 'RESEARCH FOUNDATION FOR SUNY - COLLEGE OF OPTOMETR', 'RESEARCH FOUNDATION OF CUNY', 'RESEARCH FOUNDATION OF SUNY - COLLEGE OF OPTOMETRY', 'RESERVE MEDIA, INC.', 'RESERVOIR LABS, INC.', 'RESERVOIR OPERATIONS LP', 'RESIMODEL, LLC', 'RESOLUTE DIGITAL, LLC', 'RESOLUTE POST LLC', 'RESOLUTION MEDIA INC.', 'RESOURCE PRO LLC', 'REST MEDICAL CARE PC', 'RETAIL GROUP OF AMERICA, LLC', 'RETROPHIN, INC.', 'RETRY LLC', 'RETURN PATH INC.', 'RETURN PATH, INC.', 'REUTERS AMERICA LLC', 'REVAL.COM, INC.', 'REVOLUTION STAFFING, INC.', 'REVWAYS CORP', 'REX ARCHITECTURE, PC', 'RFP, LLC', 'RHEEM BELL & MERMELSTEIN LLP', 'RHODE NYC LLC', 'RHODIUM GROUP, LLC', 'RIANLON AMERICAS, INC.', 'RIBEIRO AND DUNSKY JEWELRY CORP.', 'RICE AND DORE ASSOCIATES INC.', 'RICHARD L. FEIGEN & CO., INC.', 'RICHARD MEIER & PARTNERS ARCHITECTS LLP', 'RICHEMONT NORTH AMERICA, INC.', 'RICHLINE GROUP, INC.', 'RIDGEWOOD BUSHWICK SENIOR CITIZENS COUNCIL', 'RIDGEWOOD BUSHWICK SENIOR CITIZENS COUNCIL, INC.', 'RIO APPAREL USA, INC', 'RISHI PHARMACY', 'RISK FOCUS INC.', 'RISKCARE INC', 'RISKCARE INC.', 'RISKVAL FINANCIAL SOLUTIONS LLC', 'RITE-HIRE, LLC', 'RITNOA, INC', 'RITNOA, INC.', 'RIVCO CONSTRUCTION LLC', 'RIVER BIRCH CAPITAL, LLC', 'RIVERDALE COUNTRY SCHOOL, INC.', 'RIVERSIDE ANIMAL HOSPITAL PC', 'RIVERSIDE DEVELOPERS USA INC', 'RIVERSIDE LANGUAGE PROGRAM, INC.', 'RIZWAN ABDUS SALAM P.E. CONSULTING ENGINEERS', 'RM PREP, LLC', 'RMC USA INC.', 'RMS COMPUTER CORP.', 'RN EXPRESS STAFFING REGISTRY, INC.', 'ROADRUNNER RECYCLING, INC.', 'ROANNE ADAMS DESIGN', 'ROBBIE BEE DIVISION OF FYC APPAREL GROUP, LLC.', 'ROBERT A.M. STERN ARCHITECTS', 'ROBERT A.M. STERN ARCHITECTS, LLP', 'ROBERT BURKE ASSOCIATES INC', 'ROBERT COUTURIER INC', 'ROBERT COUTURIER, INC.', 'ROBERT DE ROTHSCHILD', 'ROBERT ETTINGER PE, PC', 'ROBERT F. KENNEDY CENTER FOR JUSTICE AND HUMAN', 'ROBERT GRAHAM DESIGNS, LLC', 'ROBERT SANTORIELLO', 'ROBERT SILMAN ASSOCIATES', 'ROBERT SILMAN ASSOCIATES, D.P.C.', 'ROBERT WALTERS ASSOCIATES INC.', 'ROBERT WALTERS ASSOCIATES, INC.', 'ROBOTTI & COMPANY, INCORPORATED', 'ROCHE BOBOIS USA LTD', 'ROCK PAPER SCISSORS EAST LLC', 'ROCKEFELLER PHILANTHROPY ADVISORS, INC.', 'ROCKETDOGNYC, LLC', 'ROCKPORT PA, LLC', 'ROCKSTAR GAMES, INC.', 'ROCKSTAR HOSPITALITY GROUP INC', 'ROCKTHEPOST CORPORATION', 'ROCKWELL ARCHITECTURE PLANNING AND DESIGN, P.C.', 'ROCKWELL ARCHITECTURE, PLANNING AND DESIGN, P.C.', 'RODALE, INC.', 'RODNEY LEON ARCHITECTS PLLC', 'ROGER SMITH HOTEL', 'ROGERS ARCHITECTS PLLC', 'ROGERS MARVEL ARCHITECTS PLLC', 'ROKKAN MEDIA, LLC', 'ROKT CORP', 'ROLEX WATCH USA, INC.', 'ROLL & HILL, LLC', 'ROLLMANN ARCHITECTURE PLLC', 'ROMINES ARCHITECTURE PLLC', 'ROOM 106 LLC', 'ROOSTER GALLERY INC.', 'ROOT & BONE, LLC', 'ROSABIANCA AND ASSOCIATES, PLLC', 'ROSCO INC.', 'ROSCOMMON LLC', 'ROSEN LAW FIRM, P.A.', 'ROSEN PARTNERS LLC', 'ROSENBLATT SECURITIES, INC.', 'ROSENTHAL & ROSENTHAL, INC.', 'ROSEWOOD INVESTMENT CORPORATION', 'ROSS CAPITAL MANAGEMENT CORPORATION', 'ROSS STORES, INC.', 'ROSSPORT INVESTMENTS LLC', 'ROTHSCHILD INC.', 'ROUGH SKETCH CORP.', 'ROUNDARCH ISOBAR NORTH, INC.', 'ROUNDARCH ISOBAR, INC.', 'ROXANNE LOWIT PHOTOGRAPHS, INC', 'ROXY PAINE, LLC', 'ROY HERZL INC', 'ROYAL CAPITAL MANAGEMENT, LLC', 'ROYAL TOUCH LLC', 'RSG MEDIA SYSTEMS, LLC', 'RTECH HEALTHCARE REVENUE TECHNOLOGIES, INC.', 'RTW INVESTMENTS, LLC', 'RUBICONMD INC', 'RUDER FINN INC.', 'RUDOLF STEINER SCHOOL, INC.', 'RULE FINANCIAL LLC', 'RUSSIAN-AMERICAN CONSULTING CORP.', 'RUTLAND MEDICAL, P.C.', 'RVM ENTERPRISES, INC.', 'RXMEDICAL DYNAMICS LLC', 'RYALL PORTER SHERIDAN ARCHITECTS LLP', 'RYALL PORTER SHERIDAN ARCHITECTS, LLP', 'RYAN AND CONLON, LLP', 'RYZAC INC.', 'S GOLDMAN ADVISORS, LLC', 'S PLUS, INC.', 'S&H NORTH AMERICA, INC.', 'S. & W. WILSON ENTERPRISES, INC.', 'S. DESIMONE ENGINEERS L.L.C.', 'S. ROTHSCHILD & CO., INC.', 'S. VINODKUMAR USA, INC.', 'S.C.B. DERIVATIVES LLC', 'S.VINODKUMAR USA INC', 'S.W.I.F.T. PAN-AMERICAS, INC.', 'S4 STYLE, INC.', 'S9 ARCHITECTURE & ENGINEERING PC', 'SAAKSHI ENTERPRISE INC', 'SAATCHI & SAATCHI NORTH AMERICA, INC.', 'SAATCHI &AMP; SAATCHI NORTH AMERICA, INC.', 'SAAVN LLC', 'SADA ONE LLC', 'SAFARI ENERGY, LLC', 'SAFARI SUNDAYS, INC.', 'SAFETY HVAC INC.', 'SAFRA NATIONAL BANK OF NEW YORK', 'SAGEWOOD CONSTRUCTION & DESIGN CORP', 'SAHARA DREAMS LLC', 'SAHARA REPORTERS MEDIA GROUP INC.', 'SAIERS CAPITAL, LLC', 'SAIL ADVISORS RESEARCH INC.', 'SAILTHRU, INC.', \"SAINT DAVID'S SCHOOL\", 'SAINT MARY PHYSICAL THERAPY, P.C.', 'SAITO & SORENSON LLP', 'SAITO LAW GROUP', 'SAITO LLP', 'SAKS & COMPANY', 'SAKS DIRECT LLC', 'SAKS FIFTH AVENUE', 'SALANTER AKIBA RIVERDALE ACADEMY', 'SALES GRAPHICS, INC.', 'SAM SCHWARTZ ENGINEERING PLLC', 'SAMUEL A. RAMIREZ & COMPANY, INC.', 'SAMUEL ISALY', 'SANDEEP DIAMOND CORPORATION', 'SANDLER CAPITAL MANAGEMENT', 'SANDWICHES FOR PEACE INC.', 'SANTANDER INVESTMENT SECURITIES INC.', 'SANTANDER INVESTMENT SECURITIES, INC.', 'SAP GLOBAL MARKETING, INC.', 'SAR ACADEMY', 'SARA MOONVES, LLC', 'SARAH JANE BRAIN FOUNDATION', 'SARALUX LLC', 'SARKISSIAN MASON', 'SATORI CONSULTING', 'SATURDAYS SURF, LLC', 'SAVE YOUR SOLE, INC.', 'SAVWATT USA INC', 'SBH FASHION', 'SCANBUY, INC.', 'SCAPE LANDSCAPE ARCHITECTURE PLLC', 'SCENTERPRISES, INC.', 'SCENTRE INC', 'SCHATZI CORPORATION', 'SCHLAICH BERGERMANN AND PARTNER LP', 'SCHOLASTIC INC.', 'SCHOOLOGY, INC.', 'SCHRODER INVESTMENT MANAGEMENT NORTH AMERICA INC.', 'SCHR\\xc3\\x89DINGER, INC.', 'SCHULTE ROTH & ZABEL LLP', 'SCHUMAN LICHTENSTEIN CLAMAN EFRON ARCHITECTS', 'SCHWINGHAMMER LIGHTING, LLC', 'SCIENCE, LANGUAGE & ARTS INTERNATIONAL SCHOOL', 'SCIENTIFIC COMPONENTS CORP. DBA MINI-CIRCUITS', 'SCIENTIFIC MEDIA, INC.', 'SCINTILLATING IMPORTS INC', 'SCOOP MANAGEMENT LLC', 'SCOPIA CAPITAL MANAGEMENT, LLC', 'SCOPUS IT', 'SCOR REINSURANCE COMPANY', 'SCORE MOBILE INC.', 'SCOTIA CAPITAL (USA), INC.', 'SCP NY, INC.', 'SCREEN MEDIA VENTURES, LLC', 'SCRIPT RELIEF LLC', 'SCROLLMOTION INC.', 'SDIL INC.', 'SDL TRIDION, INC.', 'SEA NEW YORK INC.', 'SEABURY ADVISORS HOLDINGS, LLC', 'SEABURY ADVISORS LLC', 'SEAC USA CORPORATION', 'SEAMLESS GRUBHUB HOLDINGS INC', 'SEAMLESS NORTH AMERICA, LLC', 'SEAN KELLY, INC.', 'SEATTLE WUNDERMAN NETWORK LLC', 'SEBELLA BRANDS LLC', 'SECCO SQUARED, LLC', 'SECONDMARKET HOLDINGS, INC.', 'SECURE ENDPOINTS, INC.', 'SECURITECH GROUP, INC.', 'SECURITIES INDUSTRY AUTOMATION CORPORATION', 'SECURITY COUNCIL REPORT', 'SEER CAPITAL MANAGEMENT LP', 'SELECT EQUITY GROUP, L.P.', 'SELERANT CORP.', 'SELERITY, INC', 'SELLDORF ARCHITECTS, LLC', 'SEMSEM, LLC', 'SENECA INSURANCE COMPANY, INC.', 'SEQUEL STUDIO LLC.', 'SEQUOIA AGENCY LLC', 'SERENA RESOURCES LIMITED USA', 'SERENGETI ASSET MANAGEMENT LP', 'SERGIO MANNINO LLC', 'SERINO COYNE LLC', 'SERRAVIEW AMERICA, INC.', 'SERVAL POLITICAL ANALYSIS LLC', 'SERVICE NET WARRANTY, LLC', 'SEVEN EIGHT CAPITAL, LLC.', 'SEVEN HARBOUR GLOBAL, LP', 'SEVERUD ASSOCIATES CONSULTING ENGINEERS PC', 'SEWARD & KISSEL LLP', 'SEXY LASER HAIR REMOVAL, INC.', 'SFDS LLC', 'SFX ENTERTAINMENT INC.', 'SFX ENTERTAINMENT, INC.', 'SFX MARKETING LLC', 'SG AMERICAS SECURITIES, LLC', 'SG INTERNATIONAL INC.', 'SHAH DIAMONDS, INC.', 'SHAHID MIAN M.D. PC', 'SHAMEEZA EMBROIDERIES INC.', 'SHANGHAI COMMERCIAL BANK LTD.', 'SHANGHAI SHENDA (AMERICA), LLC', 'SHANNON RIVER FUND MANAGEMENT, LLC', 'SHAOLIN KUNG FU CENTER NY, INC.', 'SHAPEWAYS, INC.', 'SHAREABLEE, INC.', 'SHAREDSERVICESLINK, INC.', 'SHARON ENGINEERING, P.C.', 'SHARP DECISIONS, INC.', 'SHARP ENTERTAINMENT, LLC', 'SHEARLINK CAPITAL LLC', 'SHEARMAN & STERLING LLP', 'SHEFI DIAMONDS, INC.', 'SHELDON MEDICAL CARE PC', 'SHELTON, MINDEL & ASSOCIATES, INC.', 'SHEPARDSON STERN & KAMINSKY', 'SHFUSE LLC', 'SHIELD OF DAVID, INC.', 'SHINETECH SOFTWARE INC.', 'SHINHAN BANK', 'SHIPLEY AND HALMOS LLC', 'SHIRE CAPITAL MANAGEMENT LLC', 'SHISEIDO AMERICAS CORPORATION', 'SHIVANI GEMS, INC.', 'SHOP CONSTRUCTION SERVICES, LLC', 'SHOPKEEP.COM INC.', 'SHOPREPLY, INC', 'SHOPTIQUES, INC', 'SHORE ROAD RADIOLOGY ASSOCIATES, P.C.', 'SHOW OF FORCE, LLC', 'SHRINEETA PHARMACY INC.', 'SHUTTERSTOCK, INC.', 'SHYAM AHUJA PVT LTD', 'SI ENGINEERING, PC', 'SI PRO CONSULTING LLC', 'SIBILLA CAPITAL RESEARCH LLC', 'SICHENZIA ROSS FRIEDMAN FERENCE LLP', 'SID LEE USA INC', 'SIDLEY AUSTIN (US) LLP', 'SIEGEL & GALE LLC', 'SIEGEL & GALE, LLC', \"SIEGFRIED'S BASEMENT, LLC\", 'SIERRA CAPITAL, LLC', 'SIGMA CAPITAL MANAGEMENT, LLC', 'SIGMATREK INC.', 'SIGN MASTER USA INC.', 'SIGNATURE BUILDING SYSTEMS, INC.', 'SIGNATURE THEATRE COMPANY, INC.', 'SIGNPOST INC.', 'SIGNPOST, INC.', 'SIGULER GUFF & COMPANY, LP', 'SILENT MODELS USA LLC', 'SILICON ALLEY INSIDER, INC.', 'SILICON BADIA GLOBAL PARTNERS LLC', 'SILKSTONEONE LLC', 'SILKY NYC CORP', 'SILVERSTEIN PROPERTIES, INC.', 'SILVERTHREAD FALLS NYC, LLC', 'SIMCO ENGINEERING, P.C.', 'SIMCORP USA, INC.', 'SIMINA CAPITAL ADVISORS', 'SIMON BARKAGAN, MD', 'SIMONS FOUNDATION', 'SIMPLEREACH, INC.', 'SIMPLETHERAPY, INC.', 'SIMPLEX DIAM INC.', 'SIMPSON THACHER & BARTLETT LLP', 'SIMPSON THACHER &AMP; BARTLETT LLP', 'SIMS GROUP USA HOLDINGS CORPORATION', 'SIMULMEDIA INC', 'SIMULMEDIA INC.', 'SINDELL LAW OFFICES, P.C.', 'SING TAO NEWSPAPERS NEW YORK LTD.', 'SINOVISION INCORPORATED', 'SINTEC MEDIA INC.', 'SIO CAPITAL MANAGEMENT, LLC', 'SIRIUS XM RADIO INC.', 'SIS INTERNATIONAL RESEARCH INC', 'SIS INTERNATIONAL RESEARCH INC.', 'SISENSE INC.', 'SISENSE, INC.', 'SISTERS OF CHARITY OF ST. VINCENT DE PAUL OF NEW Y', 'SITE SAFETY, LLC', 'SITUATION MARKETING, LLC', 'SITUS OUTSOURCING SOLUTIONS LLC', 'SIXAGENCY, INC.', 'SIZMEK TECHNOLOGIES, INC.', 'SJG FOODS LLC', 'SJG FOODS, INC.', 'SJG FOODS, LLC.', 'SKADDEN, ARPS, SLATE, MEAGHER & FLOM LLP', 'SKADDEN, ARPS, SLATE, MEAGHER AND FLOM LLP', 'SKANSKA USA CIVIL NORTHEAST INC.', 'SKANSKA USA CIVIL NORTHEAST, INC.', 'SKF INTERNATIONAL, INC.', 'SKIDMORE, OWINGS & MERRILL LLP', 'SKIDMORE, OWINGS & MERRILL, LLP', 'SKIDMORE, OWINGS &AMP; MERRILL, LLP', 'SKILLMAN TENNIS ASSOCIATES LLC', 'SKILLSHARE, INC.', 'SKIVA INTERNATIONAL, INC.', 'SKULD NORTH AMERICA INC.', 'SKY IT GROUP LLC', 'SKYBRIDGE CAPITAL II, LLC', 'SKYLINE RESTORATION INC.', 'SKYLINE WINDOWS, LLC', 'SKYTOP CAPITAL MANAGEMENT, LLC', 'SL CLOTHING CO. LLC', 'SLADE ARCHITECTURE', 'SLADE ARCHITECTURE PLLC', 'SLATE PROPERTY GROUP LLC', 'SLCE ARCHITECTS, LLP', 'SLK DESIGNS, LLC', 'SMART APPAREL (U.S.), INC.', 'SMART DESIGN LLC', 'SMART VISION LABS, INC.', 'SMARTANALYST INC.', 'SMARTLING, INC.', 'SMARTSTREAM TECHNOLOGIES INC.', 'SMC INTERNATIONAL GROUP, LTD.', 'SME, INC.', 'SMI CONSTRUCTION MANAGEMENT CORPORATION', 'SMI MEDIA INC.', 'SMILE TRAIN, INC.', 'SMILES 4 KIDS, INC.', 'SMITH AFFILIATED CAPITAL CORPORATION', 'SMITH-MILLER + HAWKINSON ARCHITECTS, LLP.', 'SMOKE & MIRRORS PRODUCTION LTD.', 'SMS PHARMACY CORP', 'SN PROFESSIONAL LLC', 'SNAP INTERACTIVE, INC.', 'SNR DENTON US LLP', 'SOCCER UNITED MARKETING', 'SOCIAL ACCOUNTABILITY INTERNATIONAL', 'SOCIAL ASSETS LLC', 'SOCIAL ENTERPRISE LLC', 'SOCIAL MEDIA LINK LLC', 'SOCIAL SCIENCE RESEARCH COUNCIL', 'SOCIETE AIR FRANCE', 'SOCIETE GENERALE', 'SOCIOCAST NETWORKS LLC', 'SOCURE INC.', 'SOFT TECH SOURCE', 'SOFTTECH SOURCE', 'SOGO AND SEIBU CO., LTD.', 'SOGOTRADE, INC.', 'SOHO GRAND HOTEL INC.', 'SOHO HOUSE NEW YORK LLC', 'SOHO HOUSE NEW YORK, LLC', 'SOHO PROPERTIES DEVELOPMENT LLC', 'SOIMEX DENIMAGIC INC', 'SOLAS CAPITAL MANAGEMENT, LLC', 'SOLEIL CAPITALE CORPORATION', 'SOLIYA, INC.', 'SOLOMON PAGE GROUP, LLC', 'SOLOMON ROSENZWEIG, P.E. P.C.', 'SOLS SYSTEMS INC', 'SOLS SYSTEMS INC.', 'SOLSTISS', 'SOLSTISS, INC.', 'SOLUBON LTD', 'SOLUTION PROVIDERS USA INC.', 'SOLUTIONS4BUSINESS INC.', 'SOMERSET PARTNERS LLC', 'SOMO GLOBAL INC', 'SONENSHINE PARTNERS LLC', 'SONG DIVISION USA, INC.', 'SONNICK PARTNERS, LLC', 'SONY CORPORATION OF AMERICA', 'SONY DADC US INC.', 'SONY MUSIC ENTERTAINMENT', 'SONY MUSIC HOLDINGS INC.', 'SOOTHBOOTH LLC', 'SOP MEDICAL PC', 'SOPEXA/FOOD & WINES FROM FRANCE', 'SOPHIS LLC', 'SORRENTO LACTALIS, INC', 'SORRENTO LACTALIS, INC.', 'SOTERIX MEDICAL, INC.', \"SOTHEBY'S, INC.\", 'SOTHEBYS INC.', 'SOTHERN CROSS HOSPITALITY', 'SOULCYCLE HOLDINGS, LLC', 'SOURCEMEDIA', 'SOUTH ASIAN YOUTH ACTION', 'SOUTH BRONX OVERALL ECONOMIC DEVELOPMENT CORPORATI', 'SOUTHERN CROSS HOSPITALITY', 'SOVARNUM CAPITAL LP', 'SOZO ARTISTS, INC.', 'SPA CASTLE INC.', 'SPACE NK NEW YORK LLC', 'SPACE4ARCHITECTURE', 'SPACE4ARCHITECTURE PC', 'SPAN', 'SPANFELLER MEDIA GROUP, INC.', 'SPARKLE GEMS, INC', 'SPC GLOBAL, LLC', 'SPEC ENTERTAINMENT LLC', 'SPECIAL EDUCATION ASSOCIATES, INC.', 'SPECIALIZED DENTAL CONSTRUCTION INC.', 'SPECTRON ENERGY, INC.', 'SPEECHPRO, INC.', 'SPENCER ROAD, INC.', 'SPG ARCHITECTS', 'SPHINIX NETWORK SOLUTIONS INC.', 'SPIKE DDB LLC', 'SPINEART USA, INC.', 'SPITZBERG PARTNERS LLC', 'SPLASH (NEW YORK) INC.', 'SPORDA TECH INC', 'SPORT 195 INC', 'SPORT195 INC.', 'SPORT195, INC.', 'SPORTS INVESTMENT COMPANY LLC', 'SPORTS MEDICINE & ORTHOPAEDIC REHABILITATION', 'SPORTS PRODUCTS OF AMERICA LLC', 'SPORTSVITE LLC', 'SPOTIFY USA INC.', 'SPRI BASQUE TRADE COMMISSION, INC.', 'SPRI-BASQUE TRADE COMMISSION INC.', 'SPRING 11 LLC', 'SPRING CREEK GROUP, L.L.C.', 'SPRING DESIGN PARTNERS, INC.', 'SPRING MOVES, INC.', 'SPRING STUDIOS NEW YORK LLC', \"SPRING, O'BRIEN & CO., INC.\", 'SPRINGER HEALTHCARE LLC', 'SPRINGER SCIENCE AND BUSINESS MEDIA, LLC', 'SPRINKLR, INC.', 'SPV REALTY LC', 'SQUARE SHAPED CIRCLES INC', 'SQUARESPACE, INC.', 'SQUAT DESIGN LLC', 'SQUEAKY WHEEL MEDIA INCORPORATED', 'SQUISHYCUTE.COM LLC', 'SR LABS LLC', 'SREEPATHI PHARMACY, INC.', 'SREYO LLC', 'SRIVEN INFOSYS INC', 'SRS ARCHITECT, PC', 'SRS INVESTMENT MANAGEMENT, LLC', 'SS KS LLC', 'SSCG MEDIA GROUP LLC', 'SSM DESIGN LLP', 'ST CONSULTING INTERNATIONAL, INC.', 'ST ENGINEERING SERVICES STE LLP', 'ST MARKS WORLD INC.', \"ST, LUKE'S-ROOSEVELT HOSPITAL CENTER\", 'ST. BARNABAS HOSPITAL', \"ST. JOHN'S EPISCOPAL HOSPITAL\", \"ST. LUKE'S ROOSEVELT HOSPITAL CENTER\", \"ST. LUKE'S-ROOSELVELT HOSPITAL CENTER\", \"ST. LUKE'S-ROOSEVELT HOSPITAL CENTER\", \"ST. MARK'S PHYSICAL THERAPY, P.C.\", 'ST. MARKS WORLD INC', 'ST. MARKS WORLD INC.', \"ST. MARY'S HOSPITAL FOR CHILDREN, INC.\", \"ST. PAUL'S SCHOOL OF NURSING-QUEENS\", 'STACK EXCHANGE, INC.', 'STAG & HARE INN LLC', 'STANACARD LLC', 'STANACARD, LLC', \"STANDARD & POOR'S FINANCIAL SERVICES LLC\", \"STANDARD &POOR'S FINANCIAL SERVICES LLC\", 'STANDARD AMERICAS, INC.', 'STANDARD CHARTERED BANK', 'STANDARD HIGH LINE EMPLOYER, LLC', 'STANDARD INTERNATIONAL MANAGEMENT, LLC', 'STANDARD MOTOR PRODUCTS, INC.', 'STANDARD NEW YORK SECURITIES, INC.', \"STANDARD POOR'S FINANCIAL SERVICES LLC\", 'STANLEY T. STAIRS', 'STAPLE DESIGN STUDIO INC.', 'STARCHEFS.COM, INC.', 'STARLITE MEDIA LLC', 'STARR INDEMNITY & LIABILITY COMPANY', 'STARR INDEMNITY &AMP; LIABILITY COMPANY', 'STARR INSURANCE HOLDINGS, INC.', 'STARR INVESTMENTS HOLDINGS, LLC', 'STARRIFIC', 'STARTAPP INC.', 'STARWOOD HOTELS & RESORTS WORLDWIDE INC.', 'STARWOOD HOTELS & RESORTS WORLDWIDE, INC.', 'STARWORKS LLC', 'STATE UNIVERSITY OF NEW YORK DOWNSTATE MEDICAL CEN', 'STATEN ISLAND UNIVERSITY HOSPITAL', 'STATIV LTD', 'STATTEK INTERNATIONAL, INC', 'STE MANAGEMENT LLC', 'STEADFAST FINANCIAL LP', 'STEAM MOTION AND SOUND US INC', 'STEDFAST PRODUCTIONS', 'STEDFAST PRODUCTIONS, LLC', 'STEGINSKY CAPITAL LLC', 'STEINBERG ASSET MANAGEMENT, LLC', 'STEINWAY PHARMACY INC.', 'STELAC ADVISORY SERVICES LLC', 'STELLA AND CHARLES GUTTMAN COMMUNITY COLLEGE, CUNY', 'STELLA SOURCING LLC', 'STELLAR SERVICES, INC', 'STELLAR SERVICES, INC.', 'STEMP SYSTEMS GROUP, INC.', 'STEPHAN & COMPANY ACCESSORIES, LTD.', 'STEPHEN B. JACOBS GROUP, P.C.', 'STEPHEN H PENN PLLC', 'STEPHEN WEBSTER', 'STERLING INFOSYSTEMS INC', 'STERLING INFOSYSTEMS, INC', 'STERLING INFOSYSTEMS, INC.', 'STERLING LORD LITERISTIC, INC.', 'STERLING RIDGE CAPITAL MANAGEMENT LP', 'STERN PROJECTS, LLC', 'STERN VALUE MANAGEMENT LTD.', 'STEVE E BLATZ ARCHITECT PLLC', 'STEVEN BROWN CATERERS, INC.', 'STEVEN HOLL ARCHITECTS PC', 'STEVENS & COMPANY, LLC', 'STIKEMAN ELLIOTT (NY) LLP', 'STILETTO MARKETING', 'STOELZLE GLASS USA INC.', 'STOLI GROUP (USA), LLC', 'STOLL AMERICA KNITTING MACHINERY, INC.', 'STONE SOURCE. LLC', 'STONECASTLE CASH MANAGEMENT LLC', 'STONEHILL & TAYLOR ARCHITECTS, P.C.', 'STONELY PELSINSKI ARCHITECTS NEUKOMM LLC', 'STONEPEAK PARTNERS LP', 'STOREFRONT FOR ART AND ARCHITECTURE', 'STORY WORLDWIDE, LLC', 'STRALEM & COMPANY, INC.', 'STRANDED MEDIA, LLC', 'STRANG HAYES HOLDING CORP.', 'STRATACORE MANAGEMENT, INC.', 'STRATEGY ONE INC.', 'STRAWBERRYFROG', 'STRAWBERRYFROG, LLC', 'STRAWBERRYFROG, LLC.', 'STREET DILIGENCE, INC.', 'STRIKE TECHNOLOGIES, LLC', 'STROZ FRIEDBERG, LLC', 'STRUCTURE TONE INC.', 'STUART WEITZMAN HOLDINGS LLC', 'STUART WEITZMAN HOLDINGS, LLC', 'STUDIO 3 PARTNERS LLC', 'STUDIO A + I LLC', 'STUDIO ARTHUR CASAS NY LLC', 'STUDIO C ARCHITECTS, PLLC', 'STUDIO DANIEL LIBESKIND LLC', 'STUDIO GAIA', 'STUDIO LINK-ARC, LLC', 'STUDIO MONTELEONE AND ASSOCIATES LTD.', 'STUDIO NAZAR, INC.', 'STUDIO SBV, INC', 'STUDIO SOFIELD INC.', 'STUDIO V ARCHITECTURE, PLLC', 'STUDIOLAB, LLC', 'STUDIOTEKA DESIGN, LLC', 'STUDLEY, INC.', 'STYLESIGHT, INC.', 'SU-RAJ INTERGOLD, INC.', 'SUBERI BROTHERS LLC', 'SUBMARINE MEDIA, LLC', 'SUDLER & HENNESSEY', 'SUDLER & HENNESSEY LLC', 'SUGAR FOODS CORPORATION', 'SUGAR NYC, INC.', 'SUGRIM MEDICAL OFFICE PLLC', 'SUIGEIN LLC', 'SUIT SUPPLY (USA) INC.', 'SULLIVAN & CROMWELL LLP', 'SULLIVAN AND COMPANY MARKETING COLLATERAL LLC', 'SUMITOMO CORPORATION OF AMERICA', 'SUMITOMO LIFE INSURANCE AGENCY AMERICA, INC.', 'SUMITOMO MITSUI TRUST BANK, LIMITED, NEW YORK BRAN', 'SUMMIT GLORY LLC', 'SUMMIT GROUP HOLDINGS LLC', 'SUMMIT MORTGAGE BANKERS', 'SUMMIT MORTGAGE BANKERS, INC.', 'SUMMIT SYSTEMS, INC.', 'SUNDEEP CONSTRUCTION COMPANY, INC.', 'SUNGARD AMBIT LLC', 'SUNGARD CONSULTING SERVICES LLC', 'SUNGARD FINANCIAL SYSTEMS LLC', 'SUNGARD VPM, INC.', 'SUNRISE ATELIER, INC.', 'SUNRISE BROKERS LLC', 'SUNRISE SECURITIES CORP.', 'SUNSET PARK HEALTH COUNCIL', 'SUNSHINE REALTY MANAGEMENT, LLC', 'SUNY COLLEGE OF OPTOMETRY', 'SUNY FASHION INSTITUTE OF TECHNOLOGY', 'SUPER BOISE LLC', 'SUPER DERIVATIVES INC.', 'SUPERFLY MARKETING GROUP', 'SUPERMASS STUDIO LANDSCAPE ARCHITECTURE, P.C.', 'SUPERVISION NY LLC', 'SUPYO, INC.', 'SURE SHOT TERMITE & PEST CONTROL, INC.', 'SUSAN BRADY LIGHTING DESIGN, INC.', 'SUSAN SLOVER DESIGN', 'SUSHI YASUDA LTD.', 'SV IT INC', 'SV IT, INC.', 'SV TECH INC', 'SVBSCRIPTION INC.', 'SVENSKA HANDELSBANKEN', 'SW ENGINEERING COMPANY PLLC', 'SW LAW GROUP, P.C.', 'SWANK, INC.', 'SWANKE HAYDEN CONNELL LTD.', 'SWAPS MONITOR PUBLICATIONS, INC.', 'SWAVELLE MILL CREEK FABRICS', 'SWEDISH-AMERICAN CHAMBER OF COMMERCE, INC.', 'SWELL INC.', 'SWING STAGING LLC', 'SWING STAGING, LLC', 'SWISSDIAM NEW YORK LLC', 'SWN COMMUNICATIONS INC.', 'SWYCHD, INC.', 'SYNCANO, INC', 'SYNCARPHA MANAGEMENT LLC', 'SYNDICATE ARCHITECTURE, PLLC', 'SYNERGY & INTEGRATION INC', 'SYNERGY INTEGRATION INC.', 'SYNETRE LLC', 'SYSCOM (USA) INC.', 'SYSCOM (USA), INC', 'SYSKA HENNESSY GROUP, INC.', 'SYSTEC INTERNATIONAL INC', 'SYSTEMATIC ALPHA MANAGEMENT, LLC', 'SYSVEDA AMERICA, INC.', 'T. CHOITHRAM & SONS (USA) INC', 'TAA APPAREL INC', 'TABATA OXFORD PERSONNEL LLC', 'TABLET INC.', 'TACONIC CAPITAL ADVISORS LP', 'TAG TREATMENT ACTION GROUP INC.', 'TAG WORLDWIDE (USA) INC.', 'TAJ PALACE INC.', 'TAKE THE INTERVIEW, INC.', 'TAKE-TWO INTERACTIVE SOFTWARE, INC.', 'TALENTHUB WORLDWIDE INC', 'TALENTHUB WORLDWIDE, INC.', 'TALLY TAYLOR, INC.', 'TAMANOI VINEGAR CO., LTD.', 'TAMARA MELLON BRAND LLC', 'TAMARES MANAGEMENT LLC', 'TANENBAUM CENTER FOR INTERRELIGIOUS UNDERSTANDING', 'TANGERINE LORD, INC', 'TANGERINE-LORD, LLC', 'TANJARINE, INC.', 'TANJORE INC', 'TAOCON, INC.', 'TAP ADVISORS LLC', 'TAPAD INC.', 'TARGET HEALTH, INC.', 'TARTER KRINSKY & DROGIN, LLP', 'TATA CONSULTANCY SERVICES LIMITED', 'TAXI INC.', 'TAYLOR JAMES LTD', 'TB GALLERY LLC', 'TBWA WORLDWIDE INC.', 'TBWA WORLDWIDE, INC.', 'TC RES, LLC', 'TD SECURITIES (USA) LLC', 'TDAM USA INC.', 'TDX CONSTRUCTION CORPORATION', 'TEACH FOR AMERICA', 'TEACHERS COLLEGE, COLUMBIA UNIVERSITY', 'TEACHERS INSURANCE AND ANNUITY ASSOCIATION OF AMER', 'TEACHING HOUSE INC', 'TEACHING HOUSE INCORPORATED', 'TEAM TRADE USA LLC', 'TEAMAMERICA, INC', 'TECHCARE, INC.', 'TECHCRAFTS INTERNATIONAL INC.', 'TECHGROUP AMERICA INC', 'TECHMEDIANETWORK, INC.', 'TECHNICAL CAREER INSTITUTES, INC', 'TECHNOCHEM CORPORATION', 'TECHNOFINA INC', 'TECHNOFINA SERVICES INC', 'TECHNOFINA SERVICES, INC', 'TECHNOFINA SERVICES, INC.', 'TECHNOFINA, INC.', 'TECHNOLOGY PARTNERS ASSOCIATES INC.', 'TECTONIC FLOORING U.S.A., LLC', 'TED BAKER LIMITED', 'TEKNAVO US INC.', 'TELSTRA INC.', 'TELX GROUP, INC.', 'TEMIS, INC.', 'TENDELTA LLC', 'TENEO HOLDINGS LLC', 'TENEO HOLDINGS, LLC', 'TENG YUE PARTNERS, L.P.', 'TENGAH, INC.', 'TEO SITE, INC.', 'TEP EVENT INTERNATIONAL LTD.', 'TEP EVENTS INTERNATIONAL LIMITED', 'TERENCE CARDINAL COOKE HEALTH CARE CENTER', 'TERRAIN-NYC LANDSCAPE ARCHITECTURE+CONSTRUCTED ECO', 'TERRAIN-NYC LANDSCAPRE ARCHITECTURE PC', 'TERRANUM CAPITAL LLC', \"TERRENCE O'NEAL ARCHITECT LLC\", 'TETHYS TECHNOLOGY, INC.', 'TEXTGUARD, INC.', 'TFO USA LIMITED', 'TGSS LLC', 'TH OUTDOOR & EVENTS LLC', \"THAT'S NICE LLC\", \"THAT'S NICE, LLC\", 'THE AARON DIAMOND AIDS RESEARCH CENTER', 'THE ABRAHAM JOSHUA HESCHEL SCHOOL', 'THE ADVERTISING COUNCIL, INC.', 'THE AMERICAN INSTITUTE OF CHEMICAL ENGINEERS', 'THE AMERICAN UNIVERSITY IN CAIRO', 'THE ANDREA AND CHARLES BRONFMAN PHILANTHROPIES INC', 'THE ANDREA AND CHARLES BRONFMAN PHILANTHROPIES, IN', 'THE ASIA SOCIETY', 'THE ASSOCIATED PRESS', 'THE ATRIUM TRADING GROUP INC', 'THE B TEAM HEADQUARTERS, INC.', 'THE BANK OF NOVA SCOTIA', 'THE BANK OF TOKYO-MITSUBISHI UFJ, LTD.', 'THE BARBARIAN GROUP LLC', 'THE BARBARIAN GROUP, LLC', 'THE BELGIAN AMERICAN CHAMBER OF COMMERCE IN THE UN', 'THE BERKELEY CARROLL SCHOOL', 'THE BHATTA LAW FIRM, P.C.', 'THE BRITISH INTERNATIONAL SCHOOL OF NEW YORK', 'THE BRONX CHARTER SCHOOL FOR CHILDREN', 'THE BRONX DEFENDERS', 'THE BROOKDALE UNIVERSITY HOSPITAL AND MEDICAL CENT', 'THE BROOKLYN BROTHERS', 'THE BROOKLYN HOSPITAL CENTER', 'THE BROOKLYN UNION GAS COMPANY', 'THE BROOKLYN WALDORF SCHOOL', 'THE CAMPUS MISSION CHURCH, INC.', 'THE CAPITAL MARKETS COMPANY', 'THE CARLYLE GROUP EMPLOYEE CO. LLC', 'THE CARLYLE GROUP EMPLOYEE COMPANY, LLC', 'THE CATHEDRAL SCHOOL OF ST. JOHN THE DIVINE', 'THE CENTURY FOUNDATION', 'THE CHANCELLOR MASTERS AND SCHOLARS OF THE UNIVERS', 'THE CHANEL COMPANY LIMITED', 'THE CHARLES GROUP NYC INC.', 'THE CHILD MIND INSTITUTE, INC.', \"THE CHILDREN'S TUMOR FOUNDATION\", 'THE CITY COLLEGE OF NEW YORK', 'THE CITY UNIVERSITY OF NEW YORK', 'THE COLONY MEDIA INC', 'THE COLUMBIA LEADERSHIP GROUP, INC.', 'THE COMMUNITY PRESERVATION CORPORATION', 'THE CORPORATE AGENDA LLC', 'THE CULTURAL EXCHANGE LLC', 'THE DAILY BEAST CO LLC', 'THE DAILY BEAST CO. LLC', 'THE DERMATOLOGY AND PLASTIC SURGERY GROUP', 'THE DESIGN EFFECT INC.', 'THE DINEX GROUP, LLC', 'THE DOCUMENTARY GROUP LLC', 'THE DONNA KARAN COMPANY LLC', 'THE DONNA KARAN COMPANY STORE LLC', 'THE ECONOMIST INTELLIGENCE UNIT, NA, INC.', 'THE ECONOMIST NEWSPAPER GROUP INCORPORATED', 'THE EDITORIALIST LLC', 'THE EDUCATION ALLIANCE', 'THE EXCHANGE LAB INC.', 'THE EXECU/SEARCH GROUP', 'THE EXPERIENCE LLC', 'THE FLAG ART FOUNDATION', 'THE FLOATING HOSPITAL INC.', 'THE FLOATING HOSPITAL, INC.', 'THE FORWARD ASSOCIATION, INC.', 'THE FOUNDATION FOR AIDS RESEARCH', 'THE FRACTAL GROUP LLC', 'THE FRENCH JAPANESE EDUCATIONAL INSTITUTE OF NEW Y', 'THE FRICK COLLECTION', 'THE FRIENDS OF CROWN HEIGHTS EDUCATIONAL CENTER, I', 'THE FRIENDS OF CROWN HEIGHTS EDUCATIONAL CENTERS,', 'THE FUTURO MEDIA GROUP', 'THE GANG SUNG PRESBYTERIAN CHURCH OF NEW YORK', 'THE GLOBAL ALLIANCE FOR TB DRUG DEVELOPMENT INC.', 'THE GLOBAL HUNGER PROJECT', 'THE GLOBAL POVERTY PROJECT, INC.', 'THE GLUCK ARCHITECTURAL COLLABORATIVE P.C.', 'THE GLUCK ARCHITECTURAL COLLABORATIVE, P.C.', 'THE GOTHAM GROUP, LLC', 'THE GRADUATE SCHOOL AND UNIVERSITY CENTER OF THE C', 'THE GUARDIAN LIFE INSURANCE COMPANY OF AMERICA', 'THE HAVEN COMMUNITY FOUNDATION', 'THE HENSON GROUP, INC.', 'THE HOEFLER TYPE FOUNDRY, INC.', 'THE INSTITUTE FOR FAMILY HEALTH', 'THE INSTITUTE FOR NEW ECONOMIC THINKING, INC.', 'THE INTERNATIONAL PRESCHOOLS', 'THE INVUS GROUP LLC', 'THE INVUS GROUP, LLC', 'THE ISLAMIC INSTITUTE OF NEW YORK', 'THE JAPAN FOUNDATION, NEW YORK', 'THE JEWISH COMMUNITY CENTER IN MANHATTAN INC.', 'THE JOEY COMPANY', 'THE JONES GROUP INC.', 'THE JUICY BALANCE CORP.', 'THE KASEN LAW FIRM PLLC', 'THE KLEIN GROUP, LLC', 'THE KLEIN LAW GROUP, P.C.', 'THE KOREA CENTRAL DAILY NEWS INC.', 'THE KOREA DEVELOPMENT BANK', 'THE KOREA TIMES NEW YORK, INC.', 'THE KOREAN AMERICAN FAMILY SERVICE CENTER', 'THE KOREAN CHANNEL', 'THE LAB LLC', 'THE LATHE, INC.', 'THE LAW OFFICE OF ISABEL M. HIDROBO, P.C.', 'THE LAW OFFICES OF FRANK BRUNO JR.', 'THE LAW OFFICES OF MICHAEL G. DOWD', 'THE LEGAL AID SOCIETY', 'THE LEVO LEAGUE CORPORATION', 'THE LEVY GROUP INC.', 'THE LEVY GROUP, INC.', 'THE MANHATTAN CHILDRENS CENTER', 'THE MCCARTON CENTER FOR DEVELOPMENTAL PEDIATRICS', 'THE METROPOLITAN MUSEUM OF ART', 'THE MILL GROUP, INC.', 'THE MILLBURN CORPORATION', 'THE MUSEUM OF MODERN ART', 'THE NASDAQ OMX GROUP INC.', 'THE NASDAQ OMX GROUP, INC.', 'THE NEW SCHOOL', 'THE NEW TEACHER PROJECT', 'THE NEW YORK ACADEMY OF MEDICINE', 'THE NEW YORK AND PRESBYTERIAN HOSPITAL', 'THE NEW YORK CITY DEPARTMENT OF HEALTH AND MENTAL', 'THE NEW YORK HOSPITAL MEDICAL CENTER OF QUEENS', 'THE NEW YORK IMMIGRATION COALITION INC.', 'THE NEW YORK OBSERVER, LLC', 'THE NEW YORK RACING ASSOCIATION,INC.', 'THE NEW YORK STEM CELL FOUNDATION, INC.', 'THE NEW YORK TIMES COMPANY', 'THE NEW-YORK HISTORICAL SOCIETY', 'THE NEWSWEEK/DAILY BEAST COMPANY LLC', 'THE NIELSEN COMPANY (US), LLC', 'THE OGILVY GROUP INC. - OGILVY & MATHER', 'THE OGILVY GROUP INC.-OGILVY & MATHER', 'THE OGILVY GROUP LLC', 'THE OGILVY GROUP LLC - OGILVY & MATHER', 'THE OGILVY GROUP, INC. - OGILVY & MATHER', 'THE OGILVY GROUP, LLC', 'THE OGILVY GROUP, LLC - OGILVY & MATHER', 'THE OPPORTUNITY CHARTER SCHOOL', 'THE PENINSULA NEW YORK', 'THE PIACENTE GROUP, INC.', 'THE POPULATION COUNCIL, INC.', 'THE PR NET, LLC', 'THE PROCTER GROUP, LLC', 'THE RAINE GROUP, LLC', 'THE RELATED COMPANIES, L.P.', 'THE REPTON GROUP', 'THE RESEARCH FOUNDATION FOR S.U.N.Y.', 'THE REVENUE WATCH INSTITUTE', 'THE REWARD CO.', 'THE ROCK MEDIA GROUP LLC', 'THE ROCKEFELLER FOUNDATION', 'THE ROCKEFELLER UNIVERSITY', 'THE ROGOSIN INSTITUTE', 'THE ROSEN LAW FIRM, P.A.', 'THE ROYAL CARE, INC.', 'THE ROYAL PROMOTION GROUP, INC.', 'THE SAPLING FOUNDATION', 'THE SEAPORT GROUP', 'THE SEGAL COMPANY', 'THE SOCIETY MODEL MANAGEMENT, INC.', 'THE SOUND RESEARCH USA INC.', 'THE SOUND RESEARCH USA, INC.', 'THE SOUTH AFRICAN INC', 'THE ST. REGIS NEW YORK', 'THE STERLING SCHOOL, INC.', 'THE SWEATSHOP COLLECTIVE LLC', 'THE SWEDISH AMERICAN CHAMBER OF COMMERCE, INC.', 'THE TIKVAH FUND', 'THE TRINITY EPISCOPAL SCHOOL CORPORATION', 'THE URBAN GROUP LTD', 'THE VANITY ROOM', 'THE VERITAS HEALTHCARE SOLUTIONS, LLC', 'THE VIDAL PARTNERSHIP', 'THE WEEK PUBLICATIONS INC', 'THE WICKS GROUP OF COMPANIES III, LLC', 'THE WILD BUNCH LLC', 'THE WINE ANGEL INC.', 'THE WOOSTER GROUP', 'THE ZONDERVAN CORPORATION LLC', 'THEATERMANIA.COM, INC.', 'THEBIGWORD INC.', 'THELADDERS.COM, INC.', 'THEODORE COX, ESQ., ATTORNEY AT LAW', 'THEORY LLC', 'THERAPEUTIC INSPIRATIONS', 'THERAPEUTIC RESOURCES PHYSICAL, OCCUP, & SPEECH TH', 'THERUNTHROUGH, INC.', 'THESKIMM INC.', 'THESTREET.COM, INC.', 'THESYS TECHNOLOGIES LLC', 'THIERRY INC. DBA LE CHARLOT', 'THING DAEMON, INC.', 'THINGLE INC. .', 'THINK! ARCHITECTURE AND DESIGN PLLC', 'THINKFUL INC', 'THIS LIFE, INC.', 'THOM BROWNE, INC.', 'THOMAS BALSLEY ASSOCIATES', 'THOMAS BALSLEY ASSOCIATES LANDSCAPE ARCHITECTURE,', 'THOMAS JUUL-HANSEN LLC', 'THOMAS PHIFER AND PARTNERS, LLP', 'THOMPSON HOTEL ASSOCIATES LLC', 'THOMSON REUTERS (GRC) INC.', 'THOMSON REUTERS (MARKETS) LLC', 'THOMSON REUTERS HOLDINGS, INC.', 'THOMSON REUTERS MARKETS LLC', 'THOR HIGH STREET ADVISORS LLC', 'THORNTON TOMASETTI, INC.', 'THOUGHT AND EXPRESSION COMPANY, LLC', 'THRILLIST MEDIA GROUP INC.', 'THRILLIST MEDIA GROUP, INC.', 'THUMBACK TECHNOLOGY, INC.', 'TIBI LLC', 'TIBURON CAPITAL MANAGEMENT, LLC', 'TIFFANY & CO.', 'TIFFANY AND COMPANY', 'TIGER GLOBAL MANAGEMENT, LLC', 'TIGERSPIKE INC', 'TIGHT MEDIA INC', 'TIGRIS GROUP INC.', 'TILLOTSON DESIGN ASSOCIATES INC.', 'TILLOTSON DESIGN ASSOCIATES, INC.', 'TIME FLASH, LLC', 'TIME FREEZE, INC.', 'TIME INC.', 'TIME OUT AMERICA LLC', 'TIME SQUARE CAPITAL LLC', 'TIMES OF REFRESHING CHRISTIAN (TORCC-NY)', 'TIMES SQUARE DISTRICT MANAGEMENT ASSOCIATION, INC.', 'TIPPING POINT CREATIVE LLC', 'TIS AMERICA INC.', 'TITAN TELEVISION LLC', 'TJH MEDICAL SERVICES, P.C.', 'TK DIGITAL CORPORATION', 'TK JEWELRY IMPORTS, LLC', 'TMC BONDS LLC', 'TMP WORLDWIDE ADVERTISING & COMMUNICATIONS, LLC', 'TMP WORLDWIDE ADVERTISING &AMP; COMMUNICATIONS, LL', 'TNS CUSTOM RESEARCH INC.', 'TNS CUSTOM RESEARCH, INC.', \"TOBY'S ESTATE NYC INC.\", 'TOCQUEVILLE MANAGEMENT CORP', 'TOKEN LABELS INC.', 'TOLL GLOBAL FORWARDING (USA) INC.', 'TOM CODY DESIGN INC.', 'TOM CODY DESIGN, INC.', 'TOM FORD RETAIL LLC', 'TOM HENNES INC.', 'TONIC GROUP, INC.', 'TONY RAMOS', 'TONYCHI AND ASSOCIATES', 'TOP DEAL NY INC', 'TOP REHAB, INC.', 'TOPEKA CAPITAL MARKETS INC.', 'TOPPAN VITE (NEW YORK) INC.', 'TORI GOLUB INTERIOR DESIGN', 'TORINO CAPITAL LLC', 'TORN BY RONNY KOBO', 'TORREYA PARTNERS, LLC', 'TORY BURCH LLC', 'TORY BURCH, LLC', 'TOTAL MEDICAL P.C.', 'TOUCHSTREAM TECHNOLOGIES INC.', 'TOUCHSTREAM TECHNOLOGIES, INC.', 'TOUCHTUNES MUSIC CORPORATION', 'TOUGH MUDDER LLC', 'TOUITOU INC', 'TOURIST OFFICE FOR FLANDERS BELGIUM', 'TOURO COLLEGE', 'TOWER RESEARCH CAPITAL LLC', 'TOYOBO U.S.A., INC.', 'TPG ARCHITECTURE, LLP', 'TPG-AXON CAPITAL MANAGEMENT, L.P.', 'TPG-AXON MANAGEMENT LP', 'TPLUS TECHNOLOGY LP', 'TR APPAREL, LLC', 'TRADE THE NEWS INC', 'TRADENYX INC.', 'TRADERFIELD SECURITIES INC.', 'TRADEWEB MARKETS LLC', 'TRADING SYSTEMS ASSOCIATES, INC.', 'TRADINGSCREEN INC', 'TRADITION (NORTH AMERICA) INC.', 'TRADITION (NORTH AMERICA), INC.', 'TRADITION FINANCIAL SERVICES', 'TRADITION FINANCIAL SERVICES INC.', 'TRAIANA, INC.', 'TRANQUILITY PARTNERS LLC', 'TRANSATLANTIQUE PRIVATE WEALTH LLC', 'TRANSDERMAL RESEARCH PHARM LABORATORIES, LLC', 'TRANSIT WIRELESS LLC', 'TRANSLATION LLC', 'TRANSPERFECT DOCUMENT MANAGEMENT, INC.', 'TRANSPERFECT REMOTE INTERPRETING INC.', 'TRANSPERFECT TRANSLATIONS INTERNATIONAL INC.', 'TRANSPERFECT TRANSLATIONS INTERNATIONAL, INC.', 'TRAVEL TRIPPER, LLC', 'TRAVELCLICK INC', 'TRAVELCLICK, INC', 'TRAVELONG, INC.', 'TRAXYS NORTH AMERICA, LLC', 'TREBBIANNO LLC', 'TREBBIANO LLC', 'TREE CAPITAL LLC', 'TREMOR MEDIA INC.', 'TREMOR VIDEO INC.', 'TREMOR VIDEO, INC.', 'TREND POT NY, LLC', 'TRENDALYTICS INNOVATION LABS, INC.', 'TRENDSEEDER CORP', 'TRENT TRADING CORP.', 'TREPP, LLC', 'TRG MANAGEMENT LP \"TRG\"', 'TRG MANAGEMENT LP (\"TRG\", D/B/A/ THE ROHATYN GROUP', 'TRI STAR OFFSET CORP.', 'TRIANGLE GENERAL CONTRACTORS INC', 'TRICADIA HOLDINGS, L.P.', 'TRICADIA HOLDINGS, LP', 'TRIDENT INVESTMENT MANAGEMENT, LLC', 'TRILLIAN, INC.', 'TRINE ASPECTS, LTD.', 'TRINITY PLACE DEPARTMENT STORE, LE BUNNYS 61 LLC', 'TRIPFILMS, LLC.', 'TRIPLAY INC.', 'TRIPLE C DESIGNS, INC.', 'TRIPLESHOE LLC', 'TRISAT US INC', 'TROLLBACK + COMPANY', 'TROY LAW, PLLC', 'TRUCK CAPITAL MANAGEMENT, LLC', 'TRUECHOICE SOLUTIONS, INC.', 'TRUMP HOTEL COLLECTION/TRUMP INTERNATIONAL HOTEL M', 'TRUMP MODEL MANAGEMENT LLC', 'TRUPTISUDHIR PHARMACY CORP', 'TRUST FREIGHT SERVICES, INC.', 'TRUSTED INSIGHT INC', 'TRUSTORY MEDIA LLC', 'TRUSTPILOT, INC.', 'TRUVERIS, INC.', 'TSAR USA LLC', 'TT TECHNOLOGIES INC', 'TT TECHNOLOGIES INC.', 'TT TECHNOLOGIES, INC.', 'TUESDAY AVENUE MUSIC LTD', 'TUMERIC HEALING ENTERPRISES, INC', 'TUNECORE, INC.', 'TUNESAT LLC', 'TURAZ GLOBAL LLC', 'TURINGTECH LLC', 'TURKISH CULTURAL CENTER', 'TURNER & TOWNSEND FERZAN ROBBINS', 'TURNER & TOWNSEND INC.', 'TURNER CONSTRUCTION COMPANY', 'TVI DESIGNS LLC', 'TWC ADMINISTRATION LLC', 'TWENTY2 DIGITAL LLC', 'TWIN OAKS USA INC', 'TWIN PEAKS, INC.', 'TWO BIKES LLC', 'TWO BULLS LLC', 'TWO CREEKS CAPITAL MANAGEMENT LP', 'TWO ROADS SOFTWARE LLC', 'TWO SIGMA INVESTMENTS, LLC', 'TWO TOMORROWS FILMS INC', 'TWOSEVEN INC', 'TZELL TRAVEL, LLC', 'TZUMI ACCESSORIES, LLC', 'U.S. BUSINESS REGIONAL CENTER INC.', 'U.S. JAPAN PUBLICATION N.Y., INC.', 'U.S. NEWS & WORLD REPORT', 'UAP NORTH AMERICA LTD.', 'UBE AMERICA INC.', 'UBE AMERICA, INC.', 'UBIMO INC.', 'UBIQUITY GLOBAL SERVICES', 'UDACOMM INC.', 'UG SHARED SERVICES, INC.', 'UHY ADVISORS NY, INC.', 'UKRAINIAN INSTITUTE OF AMERICA, INC.', 'ULLINK INC', 'ULTRA FABRICS NEW YORK, INC. DBA THINK FABRICS', 'ULTRA FLEX PACKAGING CORPORATION', 'ULTRABLAND INC.', 'ULTRAMAR TRAVEL MANAGEMENT, INC.', 'UMBRELLA INSURANCE BROKERAGE INC', 'UMBRELLA MEDIA, LLC', 'UMG RECORDINGS, INC.', 'UMT CONSULTING GROUP, LLC', 'UN-PLUGGED INC.', 'UNDERCURRENT LLC', 'UNDERSCORE MARKETING LLC', 'UNICREDIT BANK AG', 'UNIFIED MEDIA', 'UNIFIED SOCIAL, INC.', 'UNION FOR REFORM JUDAISM', 'UNION INVESTMENT REAL ESTATE GMBH', 'UNION THEOLOGICAL SEMINARY', 'UNIQLO GLOBAL INNOVATION CENTER, INC.', 'UNIQUE COMP, INC', 'UNIQUE COMP, INC.', 'UNISON TECHNOLOGIES INC', 'UNISON TECHNOLOGIES, INC.', 'UNITE HERE', 'UNITED AMERICAN MUSLIM ASSOCIATION OF NY INC.', 'UNITED BANK OF AFRICA, PLC.', 'UNITED CEREBRAL PALSY OF NEW YORK CITY', 'UNITED CONSTRUCTION AND DEVELOPMENT GROUP', 'UNITED FEDERATION OF BLACK COMMUNITY ORGANIZATIONS', 'UNITED FORTUNE INC', 'UNITED GUARANTY CORPORATION', 'UNITED INTERNATIONAL BANK', 'UNITED LEGWEAR & UNDERWEAR COMPANY, LLC', 'UNITED LEGWEAR COMPANY LLC', 'UNITED NATIONS FEDERAL CREDIT UNION', 'UNITED OVERSEAS BANK LIMITED', 'UNITED REALTY ADVISORS LP', 'UNITED STAFFING REGISTRY, INC.', 'UNITED WELFARE FUND', 'UNIVERSAL COMMUNICATIONS NETWORK INC.', 'UNIVERSAL E-BUSINESS SOLUTIONS, LLC', 'UNIVERSAL MCCANN WORLDWIDE, INC.', 'UNIVERSITY SETTLEMENT SOCIETY OF NEW YORK, INC.', 'UNIVERSUM COMMUNICATIONS INC', 'UNPAKT LLC', 'UNPAKT, LLC', 'UPRIGHT HOLDINGS 547 LLC', 'UPSPRING PR, INC.', 'URBAN COMPASS, INC.', 'URBAN GREEN ENERGY', 'URBAN GREEN ENERGY INC.', 'URBAN GREEN ENERGY, INC.', 'URBAN PURVEYOR INC', 'URBAN STUDIO LLC', 'URBAN ZEN, LLC', 'URBANDADDY, INC.', 'URBANTECH CONSULTING ENGINEERING, PC', 'US LEARNING PARTNERS, LLC', 'US LEGAL FUND, LLC', 'US TECH DATA SOLUTIONS, INC.', 'US VC PARTNERS MANAGEMENT, LLC', 'USA BATTERY LLC', 'USA ENTERTAINMENT NEWS INC.', 'USABLENET INC', 'USTWO STUDIO INC.', 'UTC ASSOCIATES INC', 'UTC ASSOCIATES INC.', 'UTC ASSOCIATES, INC.', 'UXC ECLIPSE USA INC.', 'V AGENCY, LLC', 'V-SOLVE, INC.', 'VAI UWS LLC', 'VAISHALI DIAMOND CORP.', 'VAISHNAVI PHARMACY INC.', 'VAL MANDEL, P.C.', 'VALIDUS AMERICA, INC.', 'VALINOR MANAGEMENT LLC', 'VALJATO ENGINEERING PC', 'VALJEAN INTERNATIONAL INC', 'VALLES VENDIOLA LLP', \"VALLES,VENDIOLA, LLP CPA'S\", 'VALUE CREATION HOLDINGS LLC', 'VAN ECK ASSOCIATES CORPORATION', 'VANTAGE COMMODITIES FINANCIAL SERVICES, LLC', 'VARONIS SYSTEMS, INC.', 'VASTARDIS FUND SERVICES LLC', 'VAUDEVILLE VENTURES LLC', 'VAULT 49 LLC', 'VAULT49 LLC', 'VBH LUXURY INC.', 'VCA ANTECH, INC.', 'VE SOLUTIONS GROUP CORP.', 'VEA INC', 'VECTOR MEDIA GROUP, INC.', 'VEEJAY ASSCOIATES', 'VEEJAY ASSOCIATES INC.', 'VEEJAY ASSOCIATES INC.D/B/A SOHO SQUARE SOLUTIONS', 'VEEJAY ASSOCIATES, INC.', 'VELIO SYSTEMS LLC', 'VELOCITY WORLDWIDE', 'VENDOME EXHIBITS CORP.', 'VENDOME GROUP, LLC', 'VENKANY, INC.', 'VENKATESWARA PHARMACY', 'VENSETTE, INC.', 'VENTE PRIVE USA LLC', 'VENTE-PRIVE USA LLC', 'VENTE-PRIVEE USA BRANDS, INC.', 'VENTROP ECG, PLLC', 'VENTROP ENGINEERING CONSULTING GROUP LLC', 'VERI, INC.', 'VERMILION NYC LLC', 'VERTANA GROUP LLC', 'VERTICAL SYSTEMS ANALYSIS', 'VESTORLY, INC.', 'VEVO, LLC', 'VF SPORTSWEAR, INC.', 'VFG USA, INC.', 'VFILES LLC', 'VGI PARTNERS, INC.', 'VIA TRANSPORTATION, INC.', 'VIACOM INTERNATIONAL INC.', 'VIACOM INTERNATIONAL INC./NICKELODEON ANIMATION ST', 'VIACOM INTERNATIONAL, INC.', 'VIACOM MEDIA NETWORKS, A DIVISION OF VIACOM INTERN', 'VIANA ART LLC', 'VIBRANT MEDIA, INC.', 'VICE MEDIA INC', 'VICE MEDIA INC.', 'VICEROY MEDIA, INC', 'VICRAM PHARMACY INC.', 'VICTORIA PRODUCTIONS INC.', \"VICTORIA'S SECRET BEAUTY LIMITED\", 'VIDA SHOES INTERNATIONAL, INC.', 'VIDARIS, INC.', 'VIDEDRESSING INC.', 'VIDERI INC.', 'VIDRIO FINANCIAL LLC', 'VIEW THE SPACE, INC.', 'VIGGLE, INC.', 'VIMEO LLC', 'VIMEO, LLC', 'VINCE LLC', 'VINCE, LLC', 'VINCI CONCESSIONS USA INC.', 'VINCI PARTNERS USA, LLC', 'VINKAR SOLUTIONS INC', 'VIRGINIA & AMBINDER LLP', 'VIRTU FINANCIAL OPERATING LLC', 'VIRTU FINANCIAL OPERATING, LLC', 'VIRTU FINANCIAL SERVICES, LLC', 'VISHAL ENTERPRISES, INC.', 'VISION CAPITAL AMERICAS LLC', 'VISION CRITICAL COMMUNICATIONS (US) INC.', 'VISITING NURSE SERVICE OF NEW YORK', 'VISITING NURSE SERVICE OF NEW YORK - HOME CARE INC', 'VISIUM ASSET MANAGEMENT, LP', 'VISOR INC.', 'VISUALHOUSE USA LLC', 'VITAL INTEL INC', 'VITECH SYSTEMS GROUP, INC.', 'VIVALDI PARTNERS, INC.', 'VIZEUM INC.', 'VIZRT, INC.', 'VMG CREATIVE, LLC', 'VOCATIV, LLC', 'VODAFONE US INC', 'VODAFONE US, INC.', 'VOLANT HOLDING, LLC', 'VOLMAR CONSTRUCTION', 'VOLMAR CONSTRUCTION INC', 'VOLMAR CONSTRUCTION INC.', 'VOOK INC', 'VOSS USA INC.', 'VOXY, INC.', 'VTB CAPITAL INC.', 'VXL MEDICAL CARE P.C.', 'W K WEBSTER (OVERSEAS) LTD', 'W.R. 9000 CORP.', 'W29 BLACKHOUSE LLC', 'WACHTELL, LIPTON, ROSEN & KATZ', 'WAGEWORKS, INC.', 'WAGNER COLLEGE', 'WAITEX INTERNATIONAL CO. LTD.', 'WAKE USA LLC', 'WALISON CORP.', 'WALL STREET LANGUAGES,LTD.', 'WALL STREET NETWORK, INC.', 'WALL STREET SERVICES, INC.', 'WALLACE FUNDING CORP.', 'WALLACHBETH CAPITAL LLC', 'WALTER T. GORMAN, P.E., P.C.', 'WARBURG PINCUS LLC', 'WARBURG PINCUS, LLC', 'WAREHOUSE AGENCY, LLC', 'WARNER ELEKTRA ATLANTIC CORP.', 'WARNER MUSIC GROUP', 'WARNER MUSIC GROUP CORP.', 'WARREN RED LLC', 'WARSHAW GROUP, INC', 'WARSHAW GROUP, INC.', 'WASABI RABBIT, INC.', 'WASHINGTON HEIGHTS CORNER PROJECT, INC', 'WATER ISLAND CAPITAL, LLC', 'WATER PLACE PHARMACY LLC', 'WATERFALL ASSET MANAGEMENT, LLC', 'WATERFRONT CAPITAL PARTNERS LLC', 'WCI CONSULTING LIMITED', 'WCMG, LLC', 'WE ARE LISTEN LLC', 'WE ARE SOCIAL INC', 'WE WORK MANAGEMENT LLC', 'WEAN ASSET MANAGEMENT LLC', 'WEB SPIDERS INC.', 'WEB SPIDERS, INC.', 'WEBMD LLC', 'WEBMD, LLC', 'WEBSTER DRUG, INC', 'WEBTOOLS, LLC', 'WEDEMAND, INC', 'WEDNESDAY NEW YORK LLC', 'WEEKLY BUSINESS NEWS CORPORATION', 'WEI WEI & CO. LLP', 'WEIDLINGER ASSOCIATES, INC.', 'WEIGHT WATCHERS INTERNATIONAL, INC.', 'WEILL CORNELL MEDICAL COLLEGE', 'WEISERMAZARS LLP', 'WEISS / MANFREDI ARCHITECTS LLP', 'WELL FORTUNE INTERNATIONAL INC', 'WELLCASTER INC.', 'WELLINGTON PHYSICAL THERAPY AND ACUPUNCTURE PLLC', 'WEST SERVICES, INC.', 'WEST SIDE MONTESSORI SCHOOL', 'WEST VILLAGE GC LLC', 'WEST8 NEW YORK INC', 'WESTCHESTER SQUARE PHYSICAL THERAPY, P.C.', 'WESTPAC BANKING CORPORATION', 'WESTPOINT HOME LLC', 'WESTWIND LLC', 'WETHERLY FASHION GROUP, LLC', 'WGC USA INC.', 'WGC USA, INC', 'WHISPERS FASHIONS NY, INC.', 'WHITE & CASE LLP', 'WHITE &AMP; CASE LLP', 'WHITE BAY PT, LLC', 'WHITE PINE TRADING LLC', 'WHITE STRATUS INC.', 'WHITEBOARD VENTURES, INC.', 'WHITEHALL & COMPANY LLC', 'WHITNEY MUSEUM OF AMERICAN ART', 'WHOLESALE24X7.COM, INC.', 'WILDLIFE CONSERVATION SOCIETY', 'WILLIAM J CLINTON FOUNDATION', 'WILLIAMS NEW YORK LLC', 'WILLIAMSBURG ASCEND CHARTER SCHOOL', 'WILLIAMSBURG COLLEGIATE CHARTER SCHOOL', 'WILLIS STAR PHARMACY INC', 'WILLKIE FARR & GALLAGHER LLP', 'WING PARTNERS LLC', 'WINGED KEEL GROUP, INC.', 'WINK, INC.', 'WINTEST INC', 'WIRE AND TRANSIT LLC', 'WIRELESS GENERATION, INC.', 'WISDOMOUNT INC', 'WISDOMOUNT INC.', 'WL GLOBAL CORP.', 'WOLFF OLINS LLC', 'WOLFSDORF ROSENTHAL LLP', 'WOMENS PRISON ASSOCIATION & HOME', 'WONDER INTERNATIONAL TRADING, INC', 'WONDER PARTNERS', 'WONDERWORK, INC', 'WONG, WONG & ASSOCIATES, P.C.', 'WONTON FOOD, INC.', 'WOODHULL MEDICAL & MENTAL HEALTH CENTER', 'WOODHULL PRESCRIPTION CENTER, INC', 'WOOLMARK AMERICAS, INC\\xc2\\xa9', 'WOORI AMERICA BANK', 'WORK ARCHITECTURE COMPANY', 'WORK DPD INC.', 'WORK DPD, INC.', 'WORK MARKET, INC.', 'WORKSHOP APD LLC', 'WORKSPACE11 LLC', 'WORLD BOOKS, INC.', 'WORLD BUSINESS LENDERS, LLC', 'WORLD CONFERENCE OF RELIGIONS FOR PEACE INC.', 'WORLD ECONOMIC FORUM USA', 'WORLD ECONOMIC FORUM USA INC.', 'WORLD EDUCATION SERVICES, INC.', 'WORLD EVANGELICAL ALLIANCE', 'WORLD FEDERALIST MOVEMENT/INSTITUTE FOR GLOBAL POL', 'WORLD FEDERATION OF UNITED NATIONS ASSOCIATION', 'WORLD FINANCIAL DESK, LLC', 'WORLD JOINT CORPORATION', 'WORLD JOURNAL LLC', 'WORLD PEACE ORCHESTRA INC.', 'WORLD TEXTILE SOURCING INC.', 'WORLD ZIONIST ORGANIZATION', 'WORLDNET INTERNATIONAL COURIERS INC.', 'WORLDWIDE INVESTOR NETWORK FORUM INC.', 'WORLDWIDE TRAVEL SERVICES', 'WP LAVORI USA INC.', 'WPP GROUP USA INC.', 'WQB ARCHITECTURE PLLC', 'WRITERS HOUSE, LLC.', 'WSP USA CORP', 'WTS HOLDINGS LLC', 'WUERSCH & GERING LLP', 'WUNDERMAN WORLDWIDE LLC', 'WW LLC.', 'WYA FOUNDATION, INC.', 'WYCKOFF HEIGHTS MEDICAL CENTER', 'XAD, INC.', 'XAL INC.', 'XAXIS INC.', 'XAXIS LLC', 'XAXIS, INC.', 'XCEL TINY TOTS, INC.', 'XCHANGE TELECOM CORP', 'XENOMORPH SOFTWARE, INC.', 'XIN DEVELOPMENT MANAGEMENT EAST LLC', 'XING YUN INTERNATIONAL TRADE, INC.', 'XL MARKETING CORPORATION', 'XO GROUP INC.', 'XP SECURITIES LLC', 'XP SECURITIES, LLC', 'XPLUS ONE SOLUTIONS, INC.', 'XPLUSONE SOLUTIONS, INC.', 'XSTELOS CORP.', 'YA ZHOU WEN HUA ENTERPRISES LTD.(N.Y.)', 'YABU PUSHELBERG INC', 'YABU PUSHELBERG INC.', 'YABU PUSHELBERG, INC.', 'YAGI TSUSHO AMERICA INC.', 'YAI-NATIONAL INSTITUTE FOR PEOPLE WITH DISABILITIE', 'YAMBA STRUCTURE INC', 'YARMUTH RADOFF GREEN LLC', 'YC PUBLIC RELATIONS INC.', 'YDR GERIATRICS AND NEPHROLOGY, LLP', 'YELLOW BRICK COMMUNICATIONS LLC', 'YESHIVA UNIVERSITY', 'YEXT, INC.', 'YIELDBOT, INC.', 'YIELDEX', 'YIELDEX INC', 'YIGAL AZROUEL INC.', 'YINGLI GREEN ENERGY AMERICAS, INC.', 'YIPIT INC.', 'YIPIT, INC.', \"YMHA & YWHA 92ND ST. YOUNG MEN'S & WOMEN'S HEBREW\", 'YNY JEWELS INC.', 'YODLE, INC.', 'YOOX CORPORATION', 'YORGANIC PHARMACY, INC', 'YORKSHIRE WINES & SPIRITS INC.', 'YOUDEVISE, INC', 'YOUDEVISE, INC.', 'YOUDOCS BEAUTY, INC.', 'YOUNG & RUBICAM INC.', 'YOUNG & RUBICAM INC. - BRANDASSET CONSULTING', 'YOUNG & RUBICAM INC. - COHN & WOLFE', 'YOUNG & RUBICAM INC. - THE BRAVO GROUP', 'YOUNG & RUBICAM INC. D/B/A BAV CONSULTING', 'YOUNOW, INC.', 'YOUR MAJESTY CO.', 'YS REALTY II, LLC', 'YSC LTD.', 'YT RESOLUTION SERVICES LLC', 'YUGI TSUSHO AMERICA INC.', 'YUME LLC', \"YUNG'S FAMILY LLC\", 'YUPPIE PUPPY PET PRODUCTS, INC.', 'YUSEN TRAVEL USA INC', 'YVES SAINT LAURENT AMERICA, INC.', 'Z-PLY CORPORATION', 'Z-STUDIOS DESIGN AND FABRICATION LLC', 'ZAGO LLC', 'ZAHIA LLC', 'ZAMAN CONSTRUCTION CORP.', 'ZAMBION CORPORATION', 'ZAMEER KASSAM LLC', 'ZEALOT PRODUCTIONS, INC.', 'ZEARN LLC', 'ZEDO, INC.', 'ZENITH MEDIA SERVICES, INC.', 'ZERO INTERNATIONAL INC.', 'ZERO POINT ZERO PRODUCTION INC', 'ZERO POINT ZERO PRODUCTION INC.', 'ZERO POINT ZERO PRODUCTION, INC.', 'ZERO TRADERS, INC.', 'ZETA INTERACTIVE', 'ZHAO GASTROENTEROLOGY & HEPATOLOGY', 'ZHONGYIN APPAREL LLC', 'ZIFF BROTHERS INVESTMENTS, LLC', 'ZIFF DAVIS, LLC', 'ZILSOL LLC', 'ZIMMERMANN (USA) INC.', 'ZOA, LTD', 'ZOCDOC, INC.', 'ZOLA BOOKS INC.', 'ZOLA INC.', 'ZOLFO COOPER', 'ZOLFO COOPER LLC', 'ZONI LANGUAGE CENTER INC', 'ZONI LANGUAGE CENTERS', 'ZOUND ELECTRONICS LLC', 'ZUMA NYC LLC', 'ZUPPANYC LLC', 'ZURICH ALTERNATIVE ASSET MANAGAMENT, LLC', 'ZUSE, INC.', 'ZYPSEE, INC.']\n"
     ]
    }
   ],
   "source": [
    "print sorted(list(ny_state_data_red2['lca_case_employer_name'].unique()))"
   ]
  },
  {
   "cell_type": "markdown",
   "metadata": {},
   "source": [
    "It's almost seems that some companies are filing under different names. For example, '212 LAFAYETTE ASSOCIATES, LLC', '212 LAFAYETTE ASSOCIATES, LLC CAFE SELECT', '212 LAFAYETTE ASSOCIATES, LLC D/B/A CAFE SELECT' all seem like the same company to me."
   ]
  },
  {
   "cell_type": "code",
   "execution_count": 101,
   "metadata": {
    "collapsed": true,
    "scrolled": false
   },
   "outputs": [],
   "source": [
    "ny_state_data_red2 = ny_state_data_red2.sort_values(by = 'lca_case_employer_name')"
   ]
  },
  {
   "cell_type": "code",
   "execution_count": 102,
   "metadata": {
    "scrolled": false
   },
   "outputs": [
    {
     "name": "stderr",
     "output_type": "stream",
     "text": [
      "/anaconda/envs/python2/lib/python2.7/site-packages/ipykernel_launcher.py:10: SettingWithCopyWarning: \n",
      "A value is trying to be set on a copy of a slice from a DataFrame\n",
      "\n",
      "See the caveats in the documentation: http://pandas.pydata.org/pandas-docs/stable/indexing.html#indexing-view-versus-copy\n",
      "  # Remove the CWD from sys.path while we load stuff.\n"
     ]
    }
   ],
   "source": [
    "from fuzzywuzzy import fuzz\n",
    "from fuzzywuzzy import process\n",
    "ny_state_data_red.reset_index(drop=True, inplace=True)\n",
    "for x in range(len(ny_state_data_red.index)-1):\n",
    "    true_ind = x\n",
    "    match_ind = x+1\n",
    "    true_name = ny_state_data_red['lca_case_employer_name'][true_ind]\n",
    "    match_name = ny_state_data_red['lca_case_employer_name'][match_ind]\n",
    "    if true_name!=match_name and fuzz.partial_ratio(true_name, match_name)>90:\n",
    "        ny_state_data_red['lca_case_employer_name'][match_ind] = ny_state_data_red['lca_case_employer_name'][true_ind]"
   ]
  },
  {
   "cell_type": "code",
   "execution_count": 103,
   "metadata": {},
   "outputs": [
    {
     "name": "stdout",
     "output_type": "stream",
     "text": [
      "MPHASIS CORPORATION                       20280\n",
      "NEW YORK CITY DEPARTMENT OF EDUCATION      2871\n",
      "BLOOMBERG, LP                               642\n",
      "BILINGUALS INC.                             634\n",
      "MORGAN STANLEY & CO. LLC                    469\n",
      "EXLSERVICE.COM, LLC                         439\n",
      "CITIBANK, N.A.                              411\n",
      "CREDIT SUISSE SECURITIES (USA) LLC          365\n",
      "COLUMBIA UNIVERSITY                         311\n",
      "CITIGROUP GLOBAL MARKETS INC.               282\n",
      "BLACKROCK FINANCIAL MANAGEMENT, INC.        252\n",
      "DEUTSCHE BANK SECURITIES INC.               228\n",
      "BRONX-LEBANON HOSPITAL CENTER               227\n",
      "MOUNT SINAI MEDICAL CENTER                  222\n",
      "MEMORIAL SLOAN-KETTERING CANCER CENTER      162\n",
      "NEW YORK UNIVERSITY SCHOOL OF MEDICINE      154\n",
      "MONTEFIORE MEDICAL CENTER                   144\n",
      "BLACKROCK INVESTMENT MANAGEMENT, LLC        144\n",
      "JEFFERIES LLC                               136\n",
      "DEUTSCHE BANK NEW YORK BRANCH               134\n",
      "Name: lca_case_employer_name, dtype: int64\n"
     ]
    }
   ],
   "source": [
    "print ny_state_data_red2['lca_case_employer_name'].value_counts()[0:20]"
   ]
  },
  {
   "cell_type": "code",
   "execution_count": 104,
   "metadata": {
    "scrolled": true
   },
   "outputs": [
    {
     "data": {
      "text/plain": [
       "<matplotlib.axes._subplots.AxesSubplot at 0x14ea71810>"
      ]
     },
     "execution_count": 104,
     "metadata": {},
     "output_type": "execute_result"
    },
    {
     "data": {
      "image/png": "[encoded data removed]",
      "text/plain": [
       "<matplotlib.figure.Figure at 0x156a92a90>"
      ]
     },
     "metadata": {},
     "output_type": "display_data"
    }
   ],
   "source": [
    "import seaborn as sns\n",
    "sns.plt.title('Top 20 NYC companies that applied for H1B visas')\n",
    "sns.barplot(x = ny_state_data_red['lca_case_employer_name'].value_counts()[:20].values, \n",
    "            y = ny_state_data_red['lca_case_employer_name'].value_counts()[:20].index)"
   ]
  },
  {
   "cell_type": "markdown",
   "metadata": {
    "collapsed": true
   },
   "source": [
    "Above we see a plot of the top 20 companies in New York City that applied for the most number of H1Bs or E3 visas. "
   ]
  },
  {
   "cell_type": "markdown",
   "metadata": {},
   "source": [
    "<a id = 'diffmvnyc'></a>"
   ]
  },
  {
   "cell_type": "markdown",
   "metadata": {
    "collapsed": true
   },
   "source": [
    "## Difference between wages in Mountain View and New York"
   ]
  },
  {
   "cell_type": "code",
   "execution_count": 105,
   "metadata": {
    "collapsed": true
   },
   "outputs": [],
   "source": [
    "ny_state_cities = ny_state_data_red.loc[(ny_state_data_red['lca_case_employer_postal_code'].isin(nbhdtable.zip_code))][\n",
    "    'lca_case_employer_city'].unique()\n",
    "ny_city_data_red = ny_state_data_red.loc[(ny_state_data_red['lca_case_workloc1_city'].isin(ny_state_cities))\n",
    "                                        & (ny_state_data_red['lca_case_workloc1_state']=='NY')]"
   ]
  },
  {
   "cell_type": "markdown",
   "metadata": {
    "collapsed": true
   },
   "source": [
    "I want to adopt a similar approach here. So I looked up zip codes in mountain view: https://www.zip-codes.com/city/ca-mountain-view.asp. There are only six: 94035, 94039, 94040, 94041, 94042, 94043. However, here we are interested in workers located in Mountain View and California, so we'll have to look at work location instead. "
   ]
  },
  {
   "cell_type": "code",
   "execution_count": 106,
   "metadata": {
    "collapsed": true
   },
   "outputs": [],
   "source": [
    "mv_zip_codes = pd.DataFrame({'zip_code': [94035, 94039, 94040, 94041, 94042, 94043]}).astype(str)\n",
    "data['lca_case_employer_postal_code'] = data['lca_case_employer_postal_code'].astype(str)\n",
    "data['lca_case_employer_postal_code'] = [x.split('-')[0] for x in data['lca_case_employer_postal_code']]"
   ]
  },
  {
   "cell_type": "code",
   "execution_count": 107,
   "metadata": {
    "collapsed": true,
    "scrolled": true
   },
   "outputs": [],
   "source": [
    "ca_state_data = data.loc[(data['lca_case_employer_state']=='CA') | (data['lca_case_workloc1_state']=='CA')]"
   ]
  },
  {
   "cell_type": "code",
   "execution_count": 108,
   "metadata": {
    "collapsed": true
   },
   "outputs": [],
   "source": [
    "ca_state_data_red = ca_state_data[['lca_case_employer_name','lca_case_employer_city',\n",
    "                                   'lca_case_employer_state','lca_case_employer_postal_code', \n",
    "                                   'lca_case_wage_rate_from',\n",
    "                                  'lca_case_wage_rate_unit','total_workers','lca_case_soc_code', \n",
    "                                   'pw_1', 'lca_case_workloc1_city','lca_case_workloc1_state']]"
   ]
  },
  {
   "cell_type": "code",
   "execution_count": 109,
   "metadata": {},
   "outputs": [],
   "source": [
    "mv_cities = ca_state_data_red.loc[(ca_state_data_red['lca_case_employer_postal_code'].isin(mv_zip_codes.zip_code)) \n",
    "                            ]['lca_case_employer_city'].unique()"
   ]
  },
  {
   "cell_type": "code",
   "execution_count": 110,
   "metadata": {
    "scrolled": true
   },
   "outputs": [],
   "source": [
    "mv_data_red = ca_state_data_red.loc[ca_state_data_red['lca_case_workloc1_city'].isin(mv_cities)\n",
    "                                   & (ca_state_data_red['lca_case_workloc1_state']=='CA')]"
   ]
  },
  {
   "cell_type": "code",
   "execution_count": 111,
   "metadata": {
    "collapsed": true
   },
   "outputs": [],
   "source": [
    "mv_data_red.total_workers = mv_data_red.total_workers.astype(int)\n",
    "mv_data_red = mv_data_red.loc[np.repeat(mv_data_red.index.values,mv_data_red.total_workers)]\n",
    "mv_data_red = mv_data_red.drop('total_workers',axis=1).reset_index(drop=True)"
   ]
  },
  {
   "cell_type": "code",
   "execution_count": 112,
   "metadata": {},
   "outputs": [
    {
     "name": "stdout",
     "output_type": "stream",
     "text": [
      "Columns with Nans are:\n",
      "lca_case_employer_name\n",
      "lca_case_employer_city\n",
      "lca_case_employer_state\n"
     ]
    }
   ],
   "source": [
    "MVdataNas = pd.isnull(mv_data_red).apply(sum, axis = 0)\n",
    "print 'Columns with Nans are:'\n",
    "for x in MVdataNas.index[MVdataNas != 0]:\n",
    "    print x"
   ]
  },
  {
   "cell_type": "markdown",
   "metadata": {},
   "source": [
    "First we try and create a yearly wage column for mountain view."
   ]
  },
  {
   "cell_type": "code",
   "execution_count": 113,
   "metadata": {},
   "outputs": [
    {
     "data": {
      "text/plain": [
       "array(['Year', 'Hour', 'Month', 'Bi-Weekly', 'Week'], dtype=object)"
      ]
     },
     "execution_count": 113,
     "metadata": {},
     "output_type": "execute_result"
    }
   ],
   "source": [
    "mv_data_red['lca_case_wage_rate_unit'].unique()"
   ]
  },
  {
   "cell_type": "code",
   "execution_count": 114,
   "metadata": {},
   "outputs": [],
   "source": [
    "mv_data_red_dropna = mv_data_red.dropna()\n",
    "d = {'Year': 1, 'Hour':2080, 'Month': 12, 'Bi-Weekly': 26, 'Week': 52}\n",
    "mv_data_red_dropna.loc[:,'wage_mult'] = mv_data_red_dropna['lca_case_wage_rate_unit'].map(d)\n",
    "mv_data_red_dropna.loc[:,'Yearly_wage'] =  mv_data_red_dropna['wage_mult']*mv_data_red_dropna['lca_case_wage_rate_from']"
   ]
  },
  {
   "cell_type": "code",
   "execution_count": 115,
   "metadata": {},
   "outputs": [
    {
     "data": {
      "text/plain": [
       "array(['Year', 'Month', 'Week', 'Hour', 'Bi-Weekly'], dtype=object)"
      ]
     },
     "execution_count": 115,
     "metadata": {},
     "output_type": "execute_result"
    }
   ],
   "source": [
    "ny_state_data_red['lca_case_wage_rate_unit'].unique()"
   ]
  },
  {
   "cell_type": "code",
   "execution_count": 116,
   "metadata": {
    "collapsed": true
   },
   "outputs": [],
   "source": [
    "ny_city_data_red_dropna = ny_city_data_red.dropna()\n",
    "d = {'Year': 1, 'Hour':2080, 'Month': 12, 'Bi-Weekly': 26, 'Week': 52}\n",
    "ny_city_data_red_dropna.loc[:,'wage_mult'] = ny_city_data_red_dropna['lca_case_wage_rate_unit'].map(d)\n",
    "ny_city_data_red_dropna.loc[:,'Yearly_wage'] =  ny_city_data_red_dropna.loc[:,'wage_mult']*ny_city_data_red_dropna.loc[:,'lca_case_wage_rate_from']"
   ]
  },
  {
   "cell_type": "code",
   "execution_count": 117,
   "metadata": {},
   "outputs": [],
   "source": [
    "mv_ny_data = pd.concat([mv_data_red_dropna,ny_city_data_red_dropna])"
   ]
  },
  {
   "cell_type": "markdown",
   "metadata": {},
   "source": [
    "A very basic approach to looking at the differences would just be to plot the averages as shown in the plot below."
   ]
  },
  {
   "cell_type": "code",
   "execution_count": 118,
   "metadata": {},
   "outputs": [
    {
     "data": {
      "text/plain": [
       "<matplotlib.axes._subplots.AxesSubplot at 0x11a81d690>"
      ]
     },
     "execution_count": 118,
     "metadata": {},
     "output_type": "execute_result"
    },
    {
     "data": {
      "image/png": "[encoded data removed]",
      "text/plain": [
       "<matplotlib.figure.Figure at 0x11acb4910>"
      ]
     },
     "metadata": {},
     "output_type": "display_data"
    }
   ],
   "source": [
    "sns.barplot(x = 'lca_case_workloc1_state', y= 'Yearly_wage', data = mv_ny_data)"
   ]
  },
  {
   "cell_type": "markdown",
   "metadata": {
    "collapsed": true
   },
   "source": [
    "Just by looking at the plot above it would seem like CA salaries are higher. Lets look at a hypothesis test. Note that even though the labels say NY and CA, we are really referring to NYC and Mountain View (everything else was filtered out). "
   ]
  },
  {
   "cell_type": "code",
   "execution_count": 119,
   "metadata": {},
   "outputs": [
    {
     "data": {
      "text/plain": [
       "Ttest_indResult(statistic=1.1282677907363254, pvalue=0.25920931739072811)"
      ]
     },
     "execution_count": 119,
     "metadata": {},
     "output_type": "execute_result"
    }
   ],
   "source": [
    "from scipy.stats import ttest_ind\n",
    "cat1 = mv_ny_data[mv_ny_data['lca_case_workloc1_state']=='CA']\n",
    "cat2 = mv_ny_data[mv_ny_data['lca_case_workloc1_state']=='NY']\n",
    "ttest_ind(cat1['Yearly_wage'], cat2['Yearly_wage'])"
   ]
  },
  {
   "cell_type": "markdown",
   "metadata": {
    "collapsed": true
   },
   "source": [
    "Hence, we fail to reject the null hypothesis that the two means are the same. However, we should really control for certain covariates to see if the state really does make a difference. Since we don't have a lot of information, I will just control by the type of job. "
   ]
  },
  {
   "cell_type": "code",
   "execution_count": 120,
   "metadata": {},
   "outputs": [
    {
     "name": "stdout",
     "output_type": "stream",
     "text": [
      "25-1199.99    1\n",
      "151133        1\n",
      "29-9011       1\n",
      "29-9012       1\n",
      "19-2012.00    1\n",
      "29-1129       1\n",
      "43-9041       1\n",
      "17-2112.00    1\n",
      "17-2112.01    1\n",
      "25-2021.00    1\n",
      "43-4161       1\n",
      "113031        1\n",
      "25-1124.00    1\n",
      "15-1099.11    1\n",
      "51-5111       1\n",
      "25-1111       1\n",
      "15-2041.02    1\n",
      "47-9031       1\n",
      "19-2041.00    1\n",
      "39-9011       1\n",
      "Name: lca_case_soc_code, dtype: int64\n"
     ]
    }
   ],
   "source": [
    "print mv_ny_data['lca_case_soc_code'].value_counts()[-20:]"
   ]
  },
  {
   "cell_type": "markdown",
   "metadata": {},
   "source": [
    "We look at the least commonly occurring soc codes. There's a strong chance that a lot of these were mistakes (different formats - some have 2 decimals in the end). "
   ]
  },
  {
   "cell_type": "code",
   "execution_count": 121,
   "metadata": {
    "collapsed": true
   },
   "outputs": [],
   "source": [
    "mv_ny_data['lca_case_soc_code'] = mv_ny_data['lca_case_soc_code'].astype(str)\n",
    "mv_ny_data['lca_case_soc_code'] = [x.split('.')[0] for x in mv_ny_data['lca_case_soc_code']]"
   ]
  },
  {
   "cell_type": "code",
   "execution_count": 122,
   "metadata": {
    "collapsed": true
   },
   "outputs": [],
   "source": [
    "y = mv_ny_data['Yearly_wage']                            \n",
    "X = pd.concat([pd.get_dummies(mv_ny_data['lca_case_workloc1_state'], prefix='lca_case_workloc1_state', \n",
    "                                                      prefix_sep='_',drop_first=True),\n",
    "                            pd.get_dummies(mv_ny_data['lca_case_soc_code'], prefix='lca_case_soc_code', \n",
    "                                           prefix_sep='_',drop_first=True)], axis = 1)"
   ]
  },
  {
   "cell_type": "code",
   "execution_count": 123,
   "metadata": {},
   "outputs": [
    {
     "name": "stdout",
     "output_type": "stream",
     "text": [
      "                            OLS Regression Results                            \n",
      "==============================================================================\n",
      "Dep. Variable:            Yearly_wage   R-squared:                       0.024\n",
      "Model:                            OLS   Adj. R-squared:                  0.020\n",
      "Method:                 Least Squares   F-statistic:                     7.005\n",
      "Date:                Thu, 10 Aug 2017   Prob (F-statistic):               0.00\n",
      "Time:                        14:41:45   Log-Likelihood:            -1.8128e+06\n",
      "No. Observations:              109346   AIC:                         3.626e+06\n",
      "Df Residuals:                  108965   BIC:                         3.630e+06\n",
      "Df Model:                         380                                         \n",
      "Covariance Type:            nonrobust                                         \n",
      "================================================================================================\n",
      "                                   coef    std err          t      P>|t|      [0.025      0.975]\n",
      "------------------------------------------------------------------------------------------------\n",
      "lca_case_workloc1_state_NY   -5.751e+04   2.68e+04     -2.145      0.032    -1.1e+05   -4969.842\n",
      "lca_case_soc_code_11-1021    -1.158e+05   5.79e+05     -0.200      0.841   -1.25e+06    1.02e+06\n",
      "lca_case_soc_code_11-2011     -1.51e+05   2.77e+06     -0.054      0.957   -5.58e+06    5.28e+06\n",
      "lca_case_soc_code_11-2021    -1.244e+05   1.55e+06     -0.080      0.936   -3.16e+06    2.91e+06\n",
      "lca_case_soc_code_11-2022    -1.106e+05   3.88e+06     -0.028      0.977   -7.71e+06    7.49e+06\n",
      "lca_case_soc_code_11-3021    -1.629e+05   1.46e+06     -0.111      0.911   -3.03e+06     2.7e+06\n",
      "lca_case_soc_code_11-3031    -8.732e+04   8.97e+05     -0.097      0.922   -1.84e+06    1.67e+06\n",
      "lca_case_soc_code_11-3041    -1.615e+05   3.88e+06     -0.042      0.967   -7.77e+06    7.44e+06\n",
      "lca_case_soc_code_11-3042    -6.472e+04   2.77e+06     -0.023      0.981   -5.49e+06    5.36e+06\n",
      "lca_case_soc_code_11-9021    -2.085e+05   3.88e+06     -0.054      0.957   -7.81e+06     7.4e+06\n",
      "lca_case_soc_code_11-9041    -1.335e+05   3.88e+06     -0.034      0.973   -7.74e+06    7.47e+06\n",
      "lca_case_soc_code_11-9199    -1.613e+05    1.8e+06     -0.090      0.929   -3.69e+06    3.37e+06\n",
      "lca_case_soc_code_113021      -1.35e+05   2.77e+06     -0.049      0.961   -5.56e+06    5.29e+06\n",
      "lca_case_soc_code_113031      3.154e+04   3.88e+06      0.008      0.994   -7.57e+06    7.64e+06\n",
      "lca_case_soc_code_13-1011    -1.778e+05   1.13e+06     -0.157      0.875   -2.39e+06    2.04e+06\n",
      "lca_case_soc_code_13-1022    -1.994e+05   1.04e+06     -0.193      0.847   -2.23e+06    1.83e+06\n",
      "lca_case_soc_code_13-1023    -1.997e+05   1.23e+06     -0.162      0.872   -2.62e+06    2.22e+06\n",
      "lca_case_soc_code_13-1031    -8.496e+04   1.66e+06     -0.051      0.959   -3.34e+06    3.17e+06\n",
      "lca_case_soc_code_13-1041    -1.988e+05   6.96e+05     -0.286      0.775   -1.56e+06    1.17e+06\n",
      "lca_case_soc_code_13-1051    -1.968e+05   6.38e+05     -0.309      0.758   -1.45e+06    1.05e+06\n",
      "lca_case_soc_code_13-1071     1.518e+05   5.96e+05      0.255      0.799   -1.02e+06    1.32e+06\n",
      "lca_case_soc_code_13-1075    -2.097e+05   1.55e+06     -0.135      0.892   -3.25e+06    2.83e+06\n",
      "lca_case_soc_code_13-1078    -1.988e+05   1.33e+06     -0.149      0.881   -2.81e+06    2.41e+06\n",
      "lca_case_soc_code_13-1081    -1.997e+05   5.88e+05     -0.340      0.734   -1.35e+06    9.52e+05\n",
      "lca_case_soc_code_13-1111    -1.628e+05   5.45e+05     -0.298      0.765   -1.23e+06    9.06e+05\n",
      "lca_case_soc_code_13-1121    -2.081e+05   7.18e+05     -0.290      0.772   -1.62e+06     1.2e+06\n",
      "lca_case_soc_code_13-1131    -1.976e+05   1.08e+06     -0.183      0.855   -2.31e+06    1.92e+06\n",
      "lca_case_soc_code_13-1141     -1.99e+05   9.68e+05     -0.206      0.837    -2.1e+06     1.7e+06\n",
      "lca_case_soc_code_13-1151    -1.875e+05   7.41e+05     -0.253      0.800   -1.64e+06    1.27e+06\n",
      "lca_case_soc_code_13-1161     8.279e+04   5.51e+05      0.150      0.881   -9.97e+05    1.16e+06\n",
      "lca_case_soc_code_13-1199    -2.011e+05   5.92e+05     -0.340      0.734   -1.36e+06    9.59e+05\n",
      "lca_case_soc_code_13-2011    -1.982e+05   5.45e+05     -0.364      0.716   -1.27e+06     8.7e+05\n",
      "lca_case_soc_code_13-2021     1.507e+05   2.28e+06      0.066      0.947   -4.32e+06    4.63e+06\n",
      "lca_case_soc_code_13-2031    -1.948e+05   6.78e+05     -0.288      0.774   -1.52e+06    1.13e+06\n",
      "lca_case_soc_code_13-2041    -1.651e+05   5.93e+05     -0.279      0.780   -1.33e+06    9.96e+05\n",
      "lca_case_soc_code_13-2051    -1.671e+05   5.45e+05     -0.306      0.759   -1.24e+06    9.02e+05\n",
      "lca_case_soc_code_13-2052     1.615e+07   6.36e+05     25.390      0.000    1.49e+07    1.74e+07\n",
      "lca_case_soc_code_13-2053    -1.527e+05   1.08e+06     -0.142      0.887   -2.27e+06    1.96e+06\n",
      "lca_case_soc_code_13-2061    -1.547e+05   7.85e+05     -0.197      0.844   -1.69e+06    1.38e+06\n",
      "lca_case_soc_code_13-2071    -2.141e+05    8.4e+05     -0.255      0.799   -1.86e+06    1.43e+06\n",
      "lca_case_soc_code_13-2072    -1.934e+05   3.88e+06     -0.050      0.960    -7.8e+06    7.41e+06\n",
      "lca_case_soc_code_13-2081    -1.935e+05   2.77e+06     -0.070      0.944   -5.62e+06    5.24e+06\n",
      "lca_case_soc_code_13-2099    -1.786e+05   5.69e+05     -0.314      0.753   -1.29e+06    9.36e+05\n",
      "lca_case_soc_code_15-1011    -1.561e+05   2.28e+06     -0.068      0.946   -4.63e+06    4.32e+06\n",
      "lca_case_soc_code_15-1021    -2.039e+05   9.99e+05     -0.204      0.838   -2.16e+06    1.75e+06\n",
      "lca_case_soc_code_15-1022     -2.13e+05   1.13e+06     -0.188      0.851   -2.43e+06       2e+06\n",
      "lca_case_soc_code_15-1023    -1.947e+05   2.77e+06     -0.070      0.944   -5.62e+06    5.23e+06\n",
      "lca_case_soc_code_15-1031    -1.988e+05   6.36e+05     -0.313      0.754   -1.44e+06    1.05e+06\n",
      "lca_case_soc_code_15-1032    -1.958e+05   8.62e+05     -0.227      0.820   -1.88e+06    1.49e+06\n",
      "lca_case_soc_code_15-1034    -2.124e+05   7.81e+05     -0.272      0.785   -1.74e+06    1.32e+06\n",
      "lca_case_soc_code_15-1035    -1.866e+05   1.08e+06     -0.173      0.863    -2.3e+06    1.93e+06\n",
      "lca_case_soc_code_15-1041    -2.085e+05   3.88e+06     -0.054      0.957   -7.81e+06     7.4e+06\n",
      "lca_case_soc_code_15-1051    -1.952e+05   7.36e+05     -0.265      0.791   -1.64e+06    1.25e+06\n",
      "lca_case_soc_code_15-1052    -2.138e+05   8.54e+05     -0.250      0.802   -1.89e+06    1.46e+06\n",
      "lca_case_soc_code_15-1053     -1.84e+05   1.46e+06     -0.126      0.900   -3.05e+06    2.68e+06\n",
      "lca_case_soc_code_15-1061    -2.173e+05   2.28e+06     -0.095      0.924   -4.69e+06    4.26e+06\n",
      "lca_case_soc_code_15-1071    -2.426e+05   2.28e+06     -0.106      0.915   -4.72e+06    4.23e+06\n",
      "lca_case_soc_code_15-1081    -2.009e+05   3.88e+06     -0.052      0.959   -7.81e+06     7.4e+06\n",
      "lca_case_soc_code_15-1099    -2.141e+05   7.11e+05     -0.301      0.763   -1.61e+06    1.18e+06\n",
      "lca_case_soc_code_15-1111    -1.868e+05   5.79e+05     -0.323      0.747   -1.32e+06    9.48e+05\n",
      "lca_case_soc_code_15-1121    -1.487e+05   5.44e+05     -0.273      0.785   -1.22e+06    9.18e+05\n",
      "lca_case_soc_code_15-1122    -1.827e+05   5.83e+05     -0.313      0.754   -1.33e+06    9.61e+05\n",
      "lca_case_soc_code_15-1131    -3.035e+04   5.45e+05     -0.056      0.956    -1.1e+06    1.04e+06\n",
      "lca_case_soc_code_15-1132    -9.061e+04   5.44e+05     -0.166      0.868   -1.16e+06    9.76e+05\n",
      "lca_case_soc_code_15-1133    -1.531e+05   5.46e+05     -0.281      0.779   -1.22e+06    9.17e+05\n",
      "lca_case_soc_code_15-1134    -2.011e+05   5.81e+05     -0.346      0.729   -1.34e+06    9.37e+05\n",
      "lca_case_soc_code_15-1141    -2.011e+05    5.6e+05     -0.359      0.719    -1.3e+06    8.96e+05\n",
      "lca_case_soc_code_15-1142    -8.974e+04   5.54e+05     -0.162      0.871   -1.17e+06    9.95e+05\n",
      "lca_case_soc_code_15-1143    -1.674e+05   7.41e+05     -0.226      0.821   -1.62e+06    1.29e+06\n",
      "lca_case_soc_code_15-1150    -2.232e+05    1.8e+06     -0.124      0.901   -3.75e+06    3.31e+06\n",
      "lca_case_soc_code_15-1151    -2.288e+05    6.6e+05     -0.347      0.729   -1.52e+06    1.07e+06\n",
      "lca_case_soc_code_15-1152    -2.159e+05   1.39e+06     -0.155      0.877   -2.94e+06    2.51e+06\n",
      "lca_case_soc_code_15-1179    -1.862e+05   1.66e+06     -0.112      0.911   -3.44e+06    3.07e+06\n",
      "lca_case_soc_code_15-1199    -1.028e+05   5.45e+05     -0.189      0.850   -1.17e+06    9.65e+05\n",
      "lca_case_soc_code_15-1411    -2.509e+05   3.88e+06     -0.065      0.948   -7.86e+06    7.35e+06\n",
      "lca_case_soc_code_15-1799    -2.119e+05   6.42e+05     -0.330      0.741   -1.47e+06    1.05e+06\n",
      "lca_case_soc_code_15-2011    -1.817e+05   5.72e+05     -0.318      0.751    -1.3e+06     9.4e+05\n",
      "lca_case_soc_code_15-2021    -1.389e+05   7.68e+05     -0.181      0.857   -1.64e+06    1.37e+06\n",
      "lca_case_soc_code_15-2031     -1.78e+05   5.51e+05     -0.323      0.747   -1.26e+06    9.01e+05\n",
      "lca_case_soc_code_15-2041    -1.855e+05   5.76e+05     -0.322      0.747   -1.31e+06    9.43e+05\n",
      "lca_case_soc_code_15-2091     -2.65e+05   2.77e+06     -0.096      0.924   -5.69e+06    5.16e+06\n",
      "lca_case_soc_code_15-2099    -2.298e+05   2.28e+06     -0.101      0.920   -4.71e+06    4.25e+06\n",
      "lca_case_soc_code_151121     -1.575e+05      2e+06     -0.079      0.937   -4.07e+06    3.75e+06\n",
      "lca_case_soc_code_151132     -1.503e+05   2.28e+06     -0.066      0.948   -4.63e+06    4.33e+06\n",
      "lca_case_soc_code_151133      -1.97e+05   3.88e+06     -0.051      0.960    -7.8e+06    7.41e+06\n",
      "lca_case_soc_code_152041     -1.385e+05   3.88e+06     -0.036      0.972   -7.74e+06    7.47e+06\n",
      "lca_case_soc_code_17-1011    -2.003e+05    5.8e+05     -0.345      0.730   -1.34e+06    9.37e+05\n",
      "lca_case_soc_code_17-1012    -2.318e+05    8.4e+05     -0.276      0.783   -1.88e+06    1.41e+06\n",
      "lca_case_soc_code_17-1021     -2.06e+05   3.88e+06     -0.053      0.958   -7.81e+06     7.4e+06\n",
      "lca_case_soc_code_17-2011    -2.071e+05    1.8e+06     -0.115      0.909   -3.74e+06    3.32e+06\n",
      "lca_case_soc_code_17-2021     -2.46e+05   3.88e+06     -0.063      0.949   -7.85e+06    7.36e+06\n",
      "lca_case_soc_code_17-2031    -2.071e+05   7.38e+05     -0.281      0.779   -1.65e+06    1.24e+06\n",
      "lca_case_soc_code_17-2041    -1.982e+05   1.06e+06     -0.188      0.851   -2.27e+06    1.87e+06\n",
      "lca_case_soc_code_17-2051    -1.938e+05   5.89e+05     -0.329      0.742   -1.35e+06     9.6e+05\n",
      "lca_case_soc_code_17-2053    -1.997e+05   1.66e+06     -0.120      0.904   -3.45e+06    3.05e+06\n",
      "lca_case_soc_code_17-2061    -2.147e+05   5.76e+05     -0.373      0.709   -1.34e+06    9.14e+05\n",
      "lca_case_soc_code_17-2071    -2.047e+05   5.92e+05     -0.345      0.730   -1.37e+06    9.57e+05\n",
      "lca_case_soc_code_17-2072    -2.163e+05   5.48e+05     -0.395      0.693   -1.29e+06    8.58e+05\n",
      "lca_case_soc_code_17-2073    -1.935e+05   3.88e+06     -0.050      0.960    -7.8e+06    7.41e+06\n",
      "lca_case_soc_code_17-2074    -2.129e+05   1.66e+06     -0.128      0.898   -3.47e+06    3.04e+06\n",
      "lca_case_soc_code_17-2075    -2.676e+05   2.77e+06     -0.097      0.923    -5.7e+06    5.16e+06\n",
      "lca_case_soc_code_17-2081    -2.303e+05   1.13e+06     -0.204      0.839   -2.45e+06    1.99e+06\n",
      "lca_case_soc_code_17-2111    -1.874e+05   1.46e+06     -0.128      0.898   -3.05e+06    2.68e+06\n",
      "lca_case_soc_code_17-2112    -1.918e+05   6.57e+05     -0.292      0.770   -1.48e+06     1.1e+06\n",
      "lca_case_soc_code_17-2131    -2.157e+05   6.98e+05     -0.309      0.757   -1.58e+06    1.15e+06\n",
      "lca_case_soc_code_17-2141    -2.007e+05   6.32e+05     -0.317      0.751   -1.44e+06    1.04e+06\n",
      "lca_case_soc_code_17-2144    -2.004e+05      2e+06     -0.100      0.920   -4.11e+06    3.71e+06\n",
      "lca_case_soc_code_17-2151    -1.984e+05   3.88e+06     -0.051      0.959    -7.8e+06    7.41e+06\n",
      "lca_case_soc_code_17-2171     -2.01e+05   3.88e+06     -0.052      0.959   -7.81e+06     7.4e+06\n",
      "lca_case_soc_code_17-2199    -2.059e+05   7.05e+05     -0.292      0.770   -1.59e+06    1.18e+06\n",
      "lca_case_soc_code_17-3011    -2.178e+05   5.95e+05     -0.366      0.715   -1.38e+06    9.49e+05\n",
      "lca_case_soc_code_17-3012    -2.053e+05   2.77e+06     -0.074      0.941   -5.63e+06    5.22e+06\n",
      "lca_case_soc_code_17-3013     -2.61e+05   1.66e+06     -0.157      0.875   -3.51e+06    2.99e+06\n",
      "lca_case_soc_code_17-3021    -2.195e+05   3.88e+06     -0.057      0.955   -7.82e+06    7.38e+06\n",
      "lca_case_soc_code_17-3022    -2.051e+05      2e+06     -0.103      0.918   -4.12e+06    3.71e+06\n",
      "lca_case_soc_code_17-3023    -2.128e+05   1.66e+06     -0.128      0.898   -3.47e+06    3.04e+06\n",
      "lca_case_soc_code_17-3026    -2.165e+05   3.88e+06     -0.056      0.956   -7.82e+06    7.39e+06\n",
      "lca_case_soc_code_17-3027    -2.409e+05   1.02e+06     -0.237      0.813   -2.23e+06    1.75e+06\n",
      "lca_case_soc_code_17-3029    -2.118e+05   1.55e+06     -0.137      0.891   -3.25e+06    2.83e+06\n",
      "lca_case_soc_code_19-1012    -2.049e+05   9.99e+05     -0.205      0.838   -2.16e+06    1.75e+06\n",
      "lca_case_soc_code_19-1013    -1.835e+05   3.88e+06     -0.047      0.962   -7.79e+06    7.42e+06\n",
      "lca_case_soc_code_19-1021    -2.496e+05   6.12e+05     -0.408      0.684   -1.45e+06    9.51e+05\n",
      "lca_case_soc_code_19-1022    -2.204e+05   1.04e+06     -0.213      0.831   -2.25e+06    1.81e+06\n",
      "lca_case_soc_code_19-1023    -2.111e+05   1.66e+06     -0.127      0.899   -3.46e+06    3.04e+06\n",
      "lca_case_soc_code_19-1029     2.672e+05    5.7e+05      0.469      0.639   -8.49e+05    1.38e+06\n",
      "lca_case_soc_code_19-1031    -1.742e+05   3.88e+06     -0.045      0.964   -7.78e+06    7.43e+06\n",
      "lca_case_soc_code_19-1041    -2.054e+05   3.88e+06     -0.053      0.958   -7.81e+06     7.4e+06\n",
      "lca_case_soc_code_19-1042    -1.971e+05   5.84e+05     -0.338      0.736   -1.34e+06    9.47e+05\n",
      "lca_case_soc_code_19-1099    -2.072e+05   7.07e+05     -0.293      0.770   -1.59e+06    1.18e+06\n",
      "lca_case_soc_code_19-2011    -2.306e+05   1.66e+06     -0.139      0.889   -3.48e+06    3.02e+06\n",
      "lca_case_soc_code_19-2012    -2.019e+05    1.2e+06     -0.169      0.866   -2.55e+06    2.14e+06\n",
      "lca_case_soc_code_19-2021    -1.921e+05   2.77e+06     -0.069      0.945   -5.62e+06    5.24e+06\n",
      "lca_case_soc_code_19-2031    -2.028e+05   8.27e+05     -0.245      0.806   -1.82e+06    1.42e+06\n",
      "lca_case_soc_code_19-2032    -2.171e+05   2.28e+06     -0.095      0.924   -4.69e+06    4.26e+06\n",
      "lca_case_soc_code_19-2041    -2.266e+05   1.39e+06     -0.163      0.871   -2.95e+06     2.5e+06\n",
      "lca_case_soc_code_19-2042    -1.883e+05   1.46e+06     -0.129      0.898   -3.06e+06    2.68e+06\n",
      "lca_case_soc_code_19-2043    -1.385e+05   2.77e+06     -0.050      0.960   -5.57e+06    5.29e+06\n",
      "lca_case_soc_code_19-2099     -2.11e+05    1.8e+06     -0.117      0.907   -3.74e+06    3.32e+06\n",
      "lca_case_soc_code_19-3011    -1.366e+05   6.15e+05     -0.222      0.824   -1.34e+06    1.07e+06\n",
      "lca_case_soc_code_19-3021    -1.895e+05   1.16e+06     -0.163      0.870   -2.47e+06    2.09e+06\n",
      "lca_case_soc_code_19-3022    -2.064e+05   1.02e+06     -0.203      0.839    -2.2e+06    1.79e+06\n",
      "lca_case_soc_code_19-3031     -2.04e+05   1.28e+06     -0.159      0.873   -2.71e+06     2.3e+06\n",
      "lca_case_soc_code_19-3032     -1.68e+05   1.23e+06     -0.136      0.892   -2.59e+06    2.25e+06\n",
      "lca_case_soc_code_19-3039    -2.129e+05   1.28e+06     -0.166      0.868   -2.72e+06    2.29e+06\n",
      "lca_case_soc_code_19-3041    -1.669e+05   1.28e+06     -0.130      0.896   -2.67e+06    2.34e+06\n",
      "lca_case_soc_code_19-3051    -2.116e+05    1.2e+06     -0.177      0.860   -2.56e+06    2.13e+06\n",
      "lca_case_soc_code_19-3091    -1.935e+05   2.77e+06     -0.070      0.944   -5.62e+06    5.24e+06\n",
      "lca_case_soc_code_19-3092    -2.316e+05   2.77e+06     -0.084      0.933   -5.66e+06     5.2e+06\n",
      "lca_case_soc_code_19-3093    -2.211e+05      2e+06     -0.111      0.912   -4.13e+06    3.69e+06\n",
      "lca_case_soc_code_19-3094    -1.414e+05   1.13e+06     -0.125      0.900   -2.36e+06    2.08e+06\n",
      "lca_case_soc_code_19-3099    -1.989e+05    1.2e+06     -0.166      0.868   -2.54e+06    2.15e+06\n",
      "lca_case_soc_code_19-4011    -2.151e+05   2.28e+06     -0.094      0.925   -4.69e+06    4.26e+06\n",
      "lca_case_soc_code_19-4021    -2.158e+05      7e+05     -0.308      0.758   -1.59e+06    1.16e+06\n",
      "lca_case_soc_code_19-4031    -2.191e+05   2.77e+06     -0.079      0.937   -5.65e+06    5.21e+06\n",
      "lca_case_soc_code_19-4061    -2.119e+05   8.97e+05     -0.236      0.813   -1.97e+06    1.55e+06\n",
      "lca_case_soc_code_19-4091    -2.134e+05   1.66e+06     -0.129      0.898   -3.47e+06    3.04e+06\n",
      "lca_case_soc_code_19-4099    -2.127e+05   2.28e+06     -0.093      0.926   -4.69e+06    4.26e+06\n",
      "lca_case_soc_code_1931-11-01  -8.82e+04    5.6e+05     -0.158      0.875   -1.19e+06    1.01e+06\n",
      "lca_case_soc_code_1932-11-01 -1.741e+05   2.28e+06     -0.076      0.939   -4.65e+06     4.3e+06\n",
      "lca_case_soc_code_1933-11-01 -2.011e+05    1.2e+06     -0.168      0.866   -2.55e+06    2.14e+06\n",
      "lca_case_soc_code_1939-11-01 -1.228e+05      2e+06     -0.062      0.951   -4.04e+06    3.79e+06\n",
      "lca_case_soc_code_1941-11-01 -1.673e+05   5.92e+05     -0.283      0.778   -1.33e+06    9.94e+05\n",
      "lca_case_soc_code_1951-11-01 -1.305e+05   6.28e+05     -0.208      0.836   -1.36e+06     1.1e+06\n",
      "lca_case_soc_code_1961-11-01  -1.56e+05   7.44e+05     -0.210      0.834   -1.61e+06     1.3e+06\n",
      "lca_case_soc_code_1971-11-01 -1.613e+05   1.06e+06     -0.153      0.879   -2.23e+06    1.91e+06\n",
      "lca_case_soc_code_1981-11-01  8.837e+06   8.33e+05     10.608      0.000     7.2e+06    1.05e+07\n",
      "lca_case_soc_code_1999-11-01 -1.479e+05   6.22e+05     -0.238      0.812   -1.37e+06    1.07e+06\n",
      "lca_case_soc_code_2011-11-01 -1.482e+05   5.96e+05     -0.249      0.804   -1.32e+06    1.02e+06\n",
      "lca_case_soc_code_2013-11-01   -1.7e+05   2.28e+06     -0.074      0.941   -4.65e+06    4.31e+06\n",
      "lca_case_soc_code_2021-11-01 -1.363e+05   5.48e+05     -0.249      0.803   -1.21e+06    9.37e+05\n",
      "lca_case_soc_code_2022-11-01  -1.47e+05   6.21e+05     -0.237      0.813   -1.36e+06    1.07e+06\n",
      "lca_case_soc_code_21-1011    -2.223e+05   2.28e+06     -0.097      0.922    -4.7e+06    4.25e+06\n",
      "lca_case_soc_code_21-1012    -2.131e+05   8.21e+05     -0.260      0.795   -1.82e+06     1.4e+06\n",
      "lca_case_soc_code_21-1013    -2.514e+05   1.55e+06     -0.162      0.871   -3.29e+06    2.79e+06\n",
      "lca_case_soc_code_21-1014     -2.38e+05   1.28e+06     -0.186      0.852   -2.75e+06    2.27e+06\n",
      "lca_case_soc_code_21-1015    -2.202e+05   9.54e+05     -0.231      0.817   -2.09e+06    1.65e+06\n",
      "lca_case_soc_code_21-1019    -2.282e+05    1.8e+06     -0.127      0.899   -3.76e+06     3.3e+06\n",
      "lca_case_soc_code_21-1021     -2.33e+05   9.83e+05     -0.237      0.813   -2.16e+06    1.69e+06\n",
      "lca_case_soc_code_21-1022    -2.043e+05   1.55e+06     -0.132      0.895   -3.24e+06    2.83e+06\n",
      "lca_case_soc_code_21-1023    -2.301e+05   1.46e+06     -0.157      0.875    -3.1e+06    2.64e+06\n",
      "lca_case_soc_code_21-1029     -2.11e+05   1.66e+06     -0.127      0.899   -3.46e+06    3.04e+06\n",
      "lca_case_soc_code_21-1091    -2.137e+05   1.02e+06     -0.210      0.833   -2.21e+06    1.78e+06\n",
      "lca_case_soc_code_21-1093    -2.208e+05   2.28e+06     -0.097      0.923    -4.7e+06    4.25e+06\n",
      "lca_case_soc_code_21-1094    -2.267e+05    1.8e+06     -0.126      0.900   -3.76e+06     3.3e+06\n",
      "lca_case_soc_code_21-1099    -2.234e+05    1.2e+06     -0.187      0.852   -2.57e+06    2.12e+06\n",
      "lca_case_soc_code_21-1798    -2.061e+05   3.88e+06     -0.053      0.958   -7.81e+06     7.4e+06\n",
      "lca_case_soc_code_21-2011    -2.267e+05   1.55e+06     -0.146      0.884   -3.27e+06    2.81e+06\n",
      "lca_case_soc_code_21-2021    -2.272e+05   1.23e+06     -0.184      0.854   -2.65e+06    2.19e+06\n",
      "lca_case_soc_code_23-1011     1.264e+05   5.55e+05      0.228      0.820   -9.62e+05    1.22e+06\n",
      "lca_case_soc_code_23-1012    -1.719e+05   7.09e+05     -0.242      0.808   -1.56e+06    1.22e+06\n",
      "lca_case_soc_code_23-1022    -2.205e+05   3.88e+06     -0.057      0.955   -7.82e+06    7.38e+06\n",
      "lca_case_soc_code_23-2011    -1.969e+05   6.83e+05     -0.288      0.773   -1.54e+06    1.14e+06\n",
      "lca_case_soc_code_23-2099    -1.865e+05   9.29e+05     -0.201      0.841   -2.01e+06    1.63e+06\n",
      "lca_case_soc_code_25-1011    -1.243e+05   7.72e+05     -0.161      0.872   -1.64e+06    1.39e+06\n",
      "lca_case_soc_code_25-1021     9.454e+04   1.39e+06      0.068      0.946   -2.63e+06    2.82e+06\n",
      "lca_case_soc_code_25-1022    -1.749e+05   8.47e+05     -0.207      0.836   -1.83e+06    1.48e+06\n",
      "lca_case_soc_code_25-1031    -1.988e+05      2e+06     -0.100      0.921   -4.11e+06    3.71e+06\n",
      "lca_case_soc_code_25-1032    -1.667e+05   9.29e+05     -0.179      0.858   -1.99e+06    1.65e+06\n",
      "lca_case_soc_code_25-1042    -1.752e+05   1.02e+06     -0.172      0.863   -2.17e+06    1.82e+06\n",
      "lca_case_soc_code_25-1052    -1.808e+05    1.8e+06     -0.100      0.920   -3.71e+06    3.35e+06\n",
      "lca_case_soc_code_25-1053    -1.874e+05   3.88e+06     -0.048      0.961   -7.79e+06    7.42e+06\n",
      "lca_case_soc_code_25-1054     -1.84e+05   1.28e+06     -0.144      0.886   -2.69e+06    2.32e+06\n",
      "lca_case_soc_code_25-1061    -1.679e+05    1.8e+06     -0.093      0.926    -3.7e+06    3.36e+06\n",
      "lca_case_soc_code_25-1062    -1.643e+05   1.39e+06     -0.118      0.906   -2.89e+06    2.56e+06\n",
      "lca_case_soc_code_25-1063    -1.465e+05   1.23e+06     -0.119      0.906   -2.57e+06    2.27e+06\n",
      "lca_case_soc_code_25-1065    -1.823e+05   1.66e+06     -0.110      0.913   -3.44e+06    3.07e+06\n",
      "lca_case_soc_code_25-1066    -1.461e+05   1.55e+06     -0.094      0.925   -3.18e+06    2.89e+06\n",
      "lca_case_soc_code_25-1067    -1.832e+05      2e+06     -0.092      0.927    -4.1e+06    3.73e+06\n",
      "lca_case_soc_code_25-1069    -1.785e+05   3.88e+06     -0.046      0.963   -7.78e+06    7.43e+06\n",
      "lca_case_soc_code_25-1071    -1.446e+05   7.01e+05     -0.206      0.837   -1.52e+06    1.23e+06\n",
      "lca_case_soc_code_25-1072    -2.033e+05   2.28e+06     -0.089      0.929   -4.68e+06    4.27e+06\n",
      "lca_case_soc_code_25-1081        -2e+05   9.41e+05     -0.213      0.832   -2.04e+06    1.64e+06\n",
      "lca_case_soc_code_25-1082    -1.855e+05   2.77e+06     -0.067      0.947   -5.61e+06    5.24e+06\n",
      "lca_case_soc_code_25-1111    -1.874e+05   3.88e+06     -0.048      0.961   -7.79e+06    7.42e+06\n",
      "lca_case_soc_code_25-1112    -7553.9961   1.66e+06     -0.005      0.996   -3.26e+06    3.25e+06\n",
      "lca_case_soc_code_25-1113    -1.925e+05   2.28e+06     -0.084      0.933   -4.67e+06    4.28e+06\n",
      "lca_case_soc_code_25-1121    -1.803e+05   1.16e+06     -0.155      0.877   -2.46e+06     2.1e+06\n",
      "lca_case_soc_code_25-1122    -1.759e+05    1.8e+06     -0.098      0.922   -3.71e+06    3.36e+06\n",
      "lca_case_soc_code_25-1123    -1.965e+05    1.2e+06     -0.164      0.869   -2.54e+06    2.15e+06\n",
      "lca_case_soc_code_25-1124    -1.943e+05   8.27e+05     -0.235      0.814   -1.81e+06    1.43e+06\n",
      "lca_case_soc_code_25-1125    -1.785e+05   2.28e+06     -0.078      0.938   -4.65e+06     4.3e+06\n",
      "lca_case_soc_code_25-1126    -1.972e+05   1.06e+06     -0.187      0.852   -2.27e+06    1.87e+06\n",
      "lca_case_soc_code_25-1191     -2.81e+05   3.88e+06     -0.072      0.942   -7.89e+06    7.32e+06\n",
      "lca_case_soc_code_25-1193    -2.026e+05   2.77e+06     -0.073      0.942   -5.63e+06    5.23e+06\n",
      "lca_case_soc_code_25-1199    -1.876e+05   8.97e+05     -0.209      0.834   -1.95e+06    1.57e+06\n",
      "lca_case_soc_code_25-2011    -2.152e+05   5.96e+05     -0.361      0.718   -1.38e+06    9.52e+05\n",
      "lca_case_soc_code_25-2012    -2.157e+05   6.27e+05     -0.344      0.731   -1.44e+06    1.01e+06\n",
      "lca_case_soc_code_25-2021    -2.135e+05   5.71e+05     -0.374      0.709   -1.33e+06    9.06e+05\n",
      "lca_case_soc_code_25-2022    -2.116e+05    5.6e+05     -0.378      0.706   -1.31e+06    8.86e+05\n",
      "lca_case_soc_code_25-2031    -2.112e+05    5.6e+05     -0.377      0.706   -1.31e+06    8.87e+05\n",
      "lca_case_soc_code_25-2041    -2.115e+05   6.23e+05     -0.340      0.734   -1.43e+06    1.01e+06\n",
      "lca_case_soc_code_25-2051    -2.096e+05   6.31e+05     -0.332      0.740   -1.45e+06    1.03e+06\n",
      "lca_case_soc_code_25-2052    -2.141e+05   1.46e+06     -0.146      0.884   -3.08e+06    2.65e+06\n",
      "lca_case_soc_code_25-2053    -2.116e+05   6.12e+05     -0.346      0.729   -1.41e+06    9.87e+05\n",
      "lca_case_soc_code_25-2054    -2.114e+05   6.12e+05     -0.345      0.730   -1.41e+06    9.88e+05\n",
      "lca_case_soc_code_25-2059    -2.085e+05   2.77e+06     -0.075      0.940   -5.64e+06    5.22e+06\n",
      "lca_case_soc_code_25-3011    -2.217e+05   3.88e+06     -0.057      0.954   -7.83e+06    7.38e+06\n",
      "lca_case_soc_code_25-3021    -2.314e+05   2.28e+06     -0.101      0.919   -4.71e+06    4.24e+06\n",
      "lca_case_soc_code_25-3099    -2.157e+05   8.87e+05     -0.243      0.808   -1.95e+06    1.52e+06\n",
      "lca_case_soc_code_25-3999    -2.235e+05   3.88e+06     -0.058      0.954   -7.83e+06    7.38e+06\n",
      "lca_case_soc_code_25-4011    -2.059e+05   1.55e+06     -0.133      0.894   -3.24e+06    2.83e+06\n",
      "lca_case_soc_code_25-4012    -1.945e+05   7.16e+05     -0.272      0.786    -1.6e+06    1.21e+06\n",
      "lca_case_soc_code_25-4013    -2.033e+05    1.8e+06     -0.113      0.910   -3.73e+06    3.33e+06\n",
      "lca_case_soc_code_25-4021    -1.926e+05    1.8e+06     -0.107      0.915   -3.72e+06    3.34e+06\n",
      "lca_case_soc_code_25-9021    -2.173e+05   3.88e+06     -0.056      0.955   -7.82e+06    7.39e+06\n",
      "lca_case_soc_code_25-9031    -2.083e+05   7.61e+05     -0.274      0.784    -1.7e+06    1.28e+06\n",
      "lca_case_soc_code_25-9041     -2.25e+05   3.88e+06     -0.058      0.954   -7.83e+06    7.38e+06\n",
      "lca_case_soc_code_25-9099    -2.073e+05   1.66e+06     -0.125      0.901   -3.46e+06    3.05e+06\n",
      "lca_case_soc_code_252021     -2.054e+05   3.88e+06     -0.053      0.958   -7.81e+06     7.4e+06\n",
      "lca_case_soc_code_27-1011    -1.458e+05   6.14e+05     -0.237      0.812   -1.35e+06    1.06e+06\n",
      "lca_case_soc_code_27-1013    -2.058e+05      2e+06     -0.103      0.918   -4.12e+06    3.71e+06\n",
      "lca_case_soc_code_27-1014    -2.098e+05   6.13e+05     -0.342      0.732   -1.41e+06    9.92e+05\n",
      "lca_case_soc_code_27-1019    -2.091e+05   1.55e+06     -0.135      0.893   -3.25e+06    2.83e+06\n",
      "lca_case_soc_code_27-1021     6.584e+04   5.74e+05      0.115      0.909   -1.06e+06    1.19e+06\n",
      "lca_case_soc_code_27-1022    -1.781e+05   5.92e+05     -0.301      0.764   -1.34e+06    9.82e+05\n",
      "lca_case_soc_code_27-1024      1.04e+05    5.6e+05      0.186      0.853   -9.94e+05     1.2e+06\n",
      "lca_case_soc_code_27-1025    -2.056e+05   6.18e+05     -0.333      0.739   -1.42e+06       1e+06\n",
      "lca_case_soc_code_27-1026    -2.137e+05   2.77e+06     -0.077      0.938   -5.64e+06    5.22e+06\n",
      "lca_case_soc_code_27-1027    -1.945e+05   1.66e+06     -0.117      0.907   -3.45e+06    3.06e+06\n",
      "lca_case_soc_code_27-1029    -2.186e+05   6.42e+05     -0.340      0.734   -1.48e+06    1.04e+06\n",
      "lca_case_soc_code_27-2011    -2.235e+05   3.88e+06     -0.058      0.954   -7.83e+06    7.38e+06\n",
      "lca_case_soc_code_27-2012    -1.783e+05   6.85e+05     -0.260      0.795   -1.52e+06    1.16e+06\n",
      "lca_case_soc_code_27-2022    -2.165e+05   1.28e+06     -0.169      0.866   -2.72e+06    2.29e+06\n",
      "lca_case_soc_code_27-2041    -2.207e+05   1.39e+06     -0.159      0.874   -2.95e+06    2.51e+06\n",
      "lca_case_soc_code_27-2099     -2.68e+05   3.88e+06     -0.069      0.945   -7.87e+06    7.34e+06\n",
      "lca_case_soc_code_27-3021     -2.12e+05      2e+06     -0.106      0.915   -4.12e+06     3.7e+06\n",
      "lca_case_soc_code_27-3022    -2.109e+05   6.46e+05     -0.327      0.744   -1.48e+06    1.05e+06\n",
      "lca_case_soc_code_27-3031     -2.01e+05   5.76e+05     -0.349      0.727   -1.33e+06    9.29e+05\n",
      "lca_case_soc_code_27-3041     -1.98e+05   6.52e+05     -0.303      0.762   -1.48e+06    1.08e+06\n",
      "lca_case_soc_code_27-3042    -2.137e+05   7.36e+05     -0.291      0.771   -1.66e+06    1.23e+06\n",
      "lca_case_soc_code_27-3043    -1.868e+05   7.07e+05     -0.264      0.792   -1.57e+06     1.2e+06\n",
      "lca_case_soc_code_27-3091     -2.02e+05    8.4e+05     -0.241      0.810   -1.85e+06    1.44e+06\n",
      "lca_case_soc_code_27-3099    -2.123e+05   6.54e+05     -0.324      0.746   -1.49e+06    1.07e+06\n",
      "lca_case_soc_code_27-4011    -2.093e+05   3.88e+06     -0.054      0.957   -7.81e+06    7.39e+06\n",
      "lca_case_soc_code_27-4014    -2.675e+05   2.77e+06     -0.097      0.923    -5.7e+06    5.16e+06\n",
      "lca_case_soc_code_27-4021    -2.097e+05    1.8e+06     -0.116      0.907   -3.74e+06    3.32e+06\n",
      "lca_case_soc_code_27-4031    -2.034e+05   3.88e+06     -0.052      0.958   -7.81e+06     7.4e+06\n",
      "lca_case_soc_code_27-4032    -1.996e+05    8.4e+05     -0.238      0.812   -1.85e+06    1.45e+06\n",
      "lca_case_soc_code_27-4099     -1.66e+05   2.77e+06     -0.060      0.952    -5.6e+06    5.26e+06\n",
      "lca_case_soc_code_29-1011     -2.51e+05   3.88e+06     -0.065      0.948   -7.86e+06    7.35e+06\n",
      "lca_case_soc_code_29-1021    -1.544e+05   1.33e+06     -0.116      0.908   -2.76e+06    2.45e+06\n",
      "lca_case_soc_code_29-1029    -1.937e+05   8.87e+05     -0.218      0.827   -1.93e+06    1.55e+06\n",
      "lca_case_soc_code_29-1031    -2.053e+05   1.08e+06     -0.190      0.849   -2.32e+06    1.91e+06\n",
      "lca_case_soc_code_29-1041    -1.381e+05   2.77e+06     -0.050      0.960   -5.57e+06    5.29e+06\n",
      "lca_case_soc_code_29-1051     -1.59e+05   1.06e+06     -0.151      0.880   -2.23e+06    1.91e+06\n",
      "lca_case_soc_code_29-1061    -4.346e+04   2.28e+06     -0.019      0.985   -4.52e+06    4.43e+06\n",
      "lca_case_soc_code_29-1062    -1.165e+05   1.33e+06     -0.088      0.930   -2.72e+06    2.49e+06\n",
      "lca_case_soc_code_29-1063    -1.058e+05   7.41e+05     -0.143      0.887   -1.56e+06    1.35e+06\n",
      "lca_case_soc_code_29-1064    -3.335e+04   1.06e+06     -0.032      0.975    -2.1e+06    2.04e+06\n",
      "lca_case_soc_code_29-1065      -1.2e+05   9.41e+05     -0.128      0.899   -1.96e+06    1.72e+06\n",
      "lca_case_soc_code_29-1066    -9.526e+04   9.07e+05     -0.105      0.916   -1.87e+06    1.68e+06\n",
      "lca_case_soc_code_29-1067     1.211e+04   1.39e+06      0.009      0.993   -2.71e+06    2.74e+06\n",
      "lca_case_soc_code_29-1069    -1.836e+05   5.55e+05     -0.331      0.741   -1.27e+06    9.04e+05\n",
      "lca_case_soc_code_29-1071    -1.704e+05   1.39e+06     -0.122      0.903    -2.9e+06    2.56e+06\n",
      "lca_case_soc_code_29-1081    -1.864e+05   2.28e+06     -0.082      0.935   -4.66e+06    4.29e+06\n",
      "lca_case_soc_code_29-1111    -1.875e+05   2.77e+06     -0.068      0.946   -5.62e+06    5.24e+06\n",
      "lca_case_soc_code_29-1122    -2.034e+05   7.61e+05     -0.267      0.789   -1.69e+06    1.29e+06\n",
      "lca_case_soc_code_29-1123    -1.906e+05   6.11e+05     -0.312      0.755   -1.39e+06    1.01e+06\n",
      "lca_case_soc_code_29-1125     -2.14e+05   1.55e+06     -0.138      0.890   -3.25e+06    2.82e+06\n",
      "lca_case_soc_code_29-1127    -1.977e+05   5.84e+05     -0.339      0.735   -1.34e+06    9.47e+05\n",
      "lca_case_soc_code_29-1128     -1.81e+05   2.28e+06     -0.079      0.937   -4.66e+06    4.29e+06\n",
      "lca_case_soc_code_29-1129    -2.032e+05   3.88e+06     -0.052      0.958   -7.81e+06     7.4e+06\n",
      "lca_case_soc_code_29-1131     -1.81e+05   1.55e+06     -0.117      0.907   -3.22e+06    2.86e+06\n",
      "lca_case_soc_code_29-1141    -1.832e+05   1.66e+06     -0.110      0.912   -3.44e+06    3.07e+06\n",
      "lca_case_soc_code_29-1171    -1.753e+05   1.04e+06     -0.169      0.866    -2.2e+06    1.85e+06\n",
      "lca_case_soc_code_29-1199    -2.202e+05   1.66e+06     -0.133      0.894   -3.47e+06    3.03e+06\n",
      "lca_case_soc_code_29-2011    -2.126e+05   9.99e+05     -0.213      0.831   -2.17e+06    1.75e+06\n",
      "lca_case_soc_code_29-2012    -2.139e+05   2.77e+06     -0.077      0.938   -5.64e+06    5.22e+06\n",
      "lca_case_soc_code_29-2031    -1.791e+05   3.88e+06     -0.046      0.963   -7.78e+06    7.43e+06\n",
      "lca_case_soc_code_29-2032    -2.049e+05   3.88e+06     -0.053      0.958   -7.81e+06     7.4e+06\n",
      "lca_case_soc_code_29-2052    -2.216e+05   1.55e+06     -0.143      0.886   -3.26e+06    2.82e+06\n",
      "lca_case_soc_code_29-2056    -2.305e+05   3.88e+06     -0.059      0.953   -7.83e+06    7.37e+06\n",
      "lca_case_soc_code_29-2061    -1.861e+05   3.88e+06     -0.048      0.962   -7.79e+06    7.42e+06\n",
      "lca_case_soc_code_29-2099    -2.162e+05      2e+06     -0.108      0.914   -4.13e+06     3.7e+06\n",
      "lca_case_soc_code_29-9011    -2.035e+05   3.88e+06     -0.052      0.958   -7.81e+06     7.4e+06\n",
      "lca_case_soc_code_29-9012     -2.02e+05   3.88e+06     -0.052      0.958   -7.81e+06     7.4e+06\n",
      "lca_case_soc_code_29-9091    -2.191e+05   2.28e+06     -0.096      0.924   -4.69e+06    4.26e+06\n",
      "lca_case_soc_code_29-9092    -1.948e+05   2.77e+06     -0.070      0.944   -5.62e+06    5.23e+06\n",
      "lca_case_soc_code_29-9099    -1.982e+05   9.17e+05     -0.216      0.829      -2e+06     1.6e+06\n",
      "lca_case_soc_code_29-9799    -2.042e+05   3.88e+06     -0.053      0.958   -7.81e+06     7.4e+06\n",
      "lca_case_soc_code_33-1099    -1.685e+05   3.88e+06     -0.043      0.965   -7.77e+06    7.44e+06\n",
      "lca_case_soc_code_33-3021    -1.885e+05   3.88e+06     -0.049      0.961   -7.79e+06    7.42e+06\n",
      "lca_case_soc_code_35-1011    -2.127e+05   9.99e+05     -0.213      0.831   -2.17e+06    1.75e+06\n",
      "lca_case_soc_code_35-1012    -2.223e+05   2.77e+06     -0.080      0.936   -5.65e+06    5.21e+06\n",
      "lca_case_soc_code_39-5012    -2.135e+05   2.77e+06     -0.077      0.939   -5.64e+06    5.22e+06\n",
      "lca_case_soc_code_39-6012     -2.64e+05   2.77e+06     -0.095      0.924   -5.69e+06    5.17e+06\n",
      "lca_case_soc_code_39-9011    -2.136e+05   3.88e+06     -0.055      0.956   -7.82e+06    7.39e+06\n",
      "lca_case_soc_code_39-9032    -2.135e+05   3.88e+06     -0.055      0.956   -7.82e+06    7.39e+06\n",
      "lca_case_soc_code_41-012     -1.955e+05   3.88e+06     -0.050      0.960    -7.8e+06    7.41e+06\n",
      "lca_case_soc_code_41-1011     -2.36e+05   1.33e+06     -0.177      0.859   -2.84e+06    2.37e+06\n",
      "lca_case_soc_code_41-1012    -1.335e+05   2.77e+06     -0.048      0.962   -5.56e+06     5.3e+06\n",
      "lca_case_soc_code_41-3011    -2.031e+05    1.1e+06     -0.184      0.854   -2.37e+06    1.96e+06\n",
      "lca_case_soc_code_41-3021    -1.564e+05   1.28e+06     -0.122      0.903   -2.66e+06    2.35e+06\n",
      "lca_case_soc_code_41-3031    -1.135e+05   5.97e+05     -0.190      0.849   -1.28e+06    1.06e+06\n",
      "lca_case_soc_code_41-3099    -2.103e+05   1.33e+06     -0.158      0.874   -2.82e+06     2.4e+06\n",
      "lca_case_soc_code_41-4011    -1.931e+05   9.41e+05     -0.205      0.837   -2.04e+06    1.65e+06\n",
      "lca_case_soc_code_41-4012    -2.068e+05   9.68e+05     -0.214      0.831    -2.1e+06    1.69e+06\n",
      "lca_case_soc_code_41-9012    -1.835e+05   3.88e+06     -0.047      0.962   -7.79e+06    7.42e+06\n",
      "lca_case_soc_code_41-9021    -1.301e+05   2.28e+06     -0.057      0.955   -4.61e+06    4.35e+06\n",
      "lca_case_soc_code_41-9031    -1.948e+05    5.8e+05     -0.336      0.737   -1.33e+06    9.43e+05\n",
      "lca_case_soc_code_41-9099     -2.73e+05   3.88e+06     -0.070      0.944   -7.88e+06    7.33e+06\n",
      "lca_case_soc_code_41-9799    -1.935e+05   3.88e+06     -0.050      0.960    -7.8e+06    7.41e+06\n",
      "lca_case_soc_code_43-1011    -2.083e+05   1.46e+06     -0.142      0.887   -3.08e+06    2.66e+06\n",
      "lca_case_soc_code_43-3021    -2.185e+05   3.88e+06     -0.056      0.955   -7.82e+06    7.39e+06\n",
      "lca_case_soc_code_43-3031    -2.219e+05   1.16e+06     -0.191      0.849    -2.5e+06    2.05e+06\n",
      "lca_case_soc_code_43-3099    -2.153e+05   2.28e+06     -0.094      0.925   -4.69e+06    4.26e+06\n",
      "lca_case_soc_code_43-4011    -1.992e+05      2e+06     -0.100      0.921   -4.11e+06    3.71e+06\n",
      "lca_case_soc_code_43-4041    -2.085e+05   3.88e+06     -0.054      0.957   -7.81e+06     7.4e+06\n",
      "lca_case_soc_code_43-4051    -2.249e+05   1.28e+06     -0.176      0.860   -2.73e+06    2.28e+06\n",
      "lca_case_soc_code_43-4161    -2.285e+05   3.88e+06     -0.059      0.953   -7.83e+06    7.38e+06\n",
      "lca_case_soc_code_43-4171    -2.245e+05   3.88e+06     -0.058      0.954   -7.83e+06    7.38e+06\n",
      "lca_case_soc_code_43-5011     -2.26e+05      2e+06     -0.113      0.910   -4.14e+06    3.69e+06\n",
      "lca_case_soc_code_43-5061    -2.205e+05   1.16e+06     -0.190      0.849    -2.5e+06    2.06e+06\n",
      "lca_case_soc_code_43-5071    -2.335e+05   3.88e+06     -0.060      0.952   -7.84e+06    7.37e+06\n",
      "lca_case_soc_code_43-5081    -2.285e+05   2.77e+06     -0.082      0.934   -5.66e+06     5.2e+06\n",
      "lca_case_soc_code_43-6011    -1.933e+05   1.28e+06     -0.151      0.880    -2.7e+06    2.31e+06\n",
      "lca_case_soc_code_43-6012    -2.256e+05   3.88e+06     -0.058      0.954   -7.83e+06    7.38e+06\n",
      "lca_case_soc_code_43-6014     -2.28e+05   2.77e+06     -0.082      0.934   -5.66e+06     5.2e+06\n",
      "lca_case_soc_code_43-9031    -2.244e+05   3.88e+06     -0.058      0.954   -7.83e+06    7.38e+06\n",
      "lca_case_soc_code_43-9041    -2.135e+05   3.88e+06     -0.055      0.956   -7.82e+06    7.39e+06\n",
      "lca_case_soc_code_43-9061    -2.246e+05   2.77e+06     -0.081      0.935   -5.65e+06     5.2e+06\n",
      "lca_case_soc_code_43-9081    -2.265e+05   2.77e+06     -0.082      0.935   -5.66e+06     5.2e+06\n",
      "lca_case_soc_code_43-9111    -2.064e+05   1.33e+06     -0.155      0.877   -2.81e+06     2.4e+06\n",
      "lca_case_soc_code_43-9199    -2.225e+05   1.28e+06     -0.174      0.862   -2.73e+06    2.28e+06\n",
      "lca_case_soc_code_45-2011    -2.105e+05   3.88e+06     -0.054      0.957   -7.81e+06    7.39e+06\n",
      "lca_case_soc_code_47-1011    -9.846e+04   2.77e+06     -0.036      0.972   -5.53e+06    5.33e+06\n",
      "lca_case_soc_code_47-2231    -2.265e+05   3.88e+06     -0.058      0.953   -7.83e+06    7.38e+06\n",
      "lca_case_soc_code_47-4011    -1.765e+05   3.88e+06     -0.045      0.964   -7.78e+06    7.43e+06\n",
      "lca_case_soc_code_47-9031    -1.785e+05   3.88e+06     -0.046      0.963   -7.78e+06    7.43e+06\n",
      "lca_case_soc_code_49-9021    -1.946e+05   3.88e+06     -0.050      0.960    -7.8e+06    7.41e+06\n",
      "lca_case_soc_code_49-9062     -2.36e+05   2.77e+06     -0.085      0.932   -5.67e+06    5.19e+06\n",
      "lca_case_soc_code_51-1011    -2.062e+05      2e+06     -0.103      0.918   -4.12e+06    3.71e+06\n",
      "lca_case_soc_code_51-1999    -2.189e+05   3.88e+06     -0.056      0.955   -7.82e+06    7.39e+06\n",
      "lca_case_soc_code_51-4011    -2.153e+05   2.77e+06     -0.078      0.938   -5.64e+06    5.21e+06\n",
      "lca_case_soc_code_51-5111    -2.705e+05   3.88e+06     -0.070      0.944   -7.87e+06    7.33e+06\n",
      "lca_case_soc_code_51-6099    -2.256e+05   2.28e+06     -0.099      0.921    -4.7e+06    4.25e+06\n",
      "lca_case_soc_code_51-9071    -2.225e+05   1.55e+06     -0.144      0.886   -3.26e+06    2.82e+06\n",
      "lca_case_soc_code_51-9199    -2.115e+05   2.77e+06     -0.076      0.939   -5.64e+06    5.22e+06\n",
      "lca_case_soc_code_53-5021    -1.835e+05   2.28e+06     -0.080      0.936   -4.66e+06    4.29e+06\n",
      "lca_case_soc_code_53-6099    -1.835e+05   3.88e+06     -0.047      0.962   -7.79e+06    7.42e+06\n",
      "const                          3.16e+05   5.44e+05      0.581      0.561   -7.49e+05    1.38e+06\n",
      "==============================================================================\n",
      "Omnibus:                   344491.007   Durbin-Watson:                   1.528\n",
      "Prob(Omnibus):                  0.000   Jarque-Bera (JB):      37789080206.332\n",
      "Skew:                          50.624   Prob(JB):                         0.00\n",
      "Kurtosis:                    2881.186   Cond. No.                     1.13e+03\n",
      "==============================================================================\n",
      "\n",
      "Warnings:\n",
      "[1] Standard Errors assume that the covariance matrix of the errors is correctly specified.\n",
      "[2] The condition number is large, 1.13e+03. This might indicate that there are\n",
      "strong multicollinearity or other numerical problems.\n"
     ]
    }
   ],
   "source": [
    "import statsmodels.api as sm\n",
    "X = sm.add_constant(X, prepend=False)\n",
    "mod = sm.OLS(y, X)\n",
    "res = mod.fit()\n",
    "print res.summary()"
   ]
  },
  {
   "cell_type": "markdown",
   "metadata": {},
   "source": [
    "Seems like New York does have a statistically significant effect as the confidence interval (-1.1x10^05,-4969.842) doesn't contains 0 after controlling for the job type, but the model does a poor job of explaining variation in Yearly_wage as evidenced by the low R^2 of 0.024."
   ]
  },
  {
   "cell_type": "markdown",
   "metadata": {},
   "source": [
    "<a id ='relvisawageNYC'></a>"
   ]
  },
  {
   "cell_type": "markdown",
   "metadata": {
    "collapsed": true
   },
   "source": [
    "## Relationship between number of visas applied and wages proposed in New York City"
   ]
  },
  {
   "cell_type": "markdown",
   "metadata": {},
   "source": [
    "We try to group by just employer initially and then by employer and job code because the same employer may be hiring for different jobs. I had also tried doing just by employer and that didn't really seem to make much of a difference."
   ]
  },
  {
   "cell_type": "code",
   "execution_count": 124,
   "metadata": {
    "collapsed": true
   },
   "outputs": [],
   "source": [
    "ny_visas_wage = ny_city_data_red_dropna[['Yearly_wage','lca_case_employer_name','lca_case_soc_code']]"
   ]
  },
  {
   "cell_type": "code",
   "execution_count": 125,
   "metadata": {
    "collapsed": true
   },
   "outputs": [],
   "source": [
    "ny_visas_wage_emp = pd.DataFrame(ny_visas_wage.groupby(['lca_case_employer_name']).agg(['mean', 'count']))"
   ]
  },
  {
   "cell_type": "code",
   "execution_count": 126,
   "metadata": {},
   "outputs": [
    {
     "name": "stdout",
     "output_type": "stream",
     "text": [
      "                            OLS Regression Results                            \n",
      "==============================================================================\n",
      "Dep. Variable:                   mean   R-squared:                       0.000\n",
      "Model:                            OLS   Adj. R-squared:                 -0.000\n",
      "Method:                 Least Squares   F-statistic:                  0.007469\n",
      "Date:                Thu, 10 Aug 2017   Prob (F-statistic):              0.931\n",
      "Time:                        14:41:45   Log-Likelihood:            -1.4157e+05\n",
      "No. Observations:                8514   AIC:                         2.831e+05\n",
      "Df Residuals:                    8512   BIC:                         2.832e+05\n",
      "Df Model:                           1                                         \n",
      "Covariance Type:            nonrobust                                         \n",
      "==============================================================================\n",
      "                 coef    std err          t      P>|t|      [0.025      0.975]\n",
      "------------------------------------------------------------------------------\n",
      "const       2.113e+05   4.38e+04      4.825      0.000    1.25e+05    2.97e+05\n",
      "count        -41.5910    481.245     -0.086      0.931    -984.948     901.766\n",
      "==============================================================================\n",
      "Omnibus:                    26391.085   Durbin-Watson:                   2.002\n",
      "Prob(Omnibus):                  0.000   Jarque-Bera (JB):       2663632500.845\n",
      "Skew:                          47.718   Prob(JB):                         0.00\n",
      "Kurtosis:                    2741.498   Cond. No.                         91.3\n",
      "==============================================================================\n",
      "\n",
      "Warnings:\n",
      "[1] Standard Errors assume that the covariance matrix of the errors is correctly specified.\n"
     ]
    }
   ],
   "source": [
    "import statsmodels.api as sm\n",
    "x = ny_visas_wage_emp['Yearly_wage']['count']\n",
    "y = ny_visas_wage_emp['Yearly_wage']['mean']\n",
    "x = sm.add_constant(x)\n",
    "model = sm.OLS(y, x)\n",
    "results = model.fit()\n",
    "print(results.summary())"
   ]
  },
  {
   "cell_type": "markdown",
   "metadata": {
    "collapsed": true
   },
   "source": [
    "The R^2 is extremely low. And the coefficient on count is not significant (-984.948,901.766) implying that count doesn't have a statistically significant effect on average wages. Now we try grouping by both employer and soc code."
   ]
  },
  {
   "cell_type": "code",
   "execution_count": 127,
   "metadata": {
    "collapsed": true
   },
   "outputs": [],
   "source": [
    "ny_visas_wage_byemp = pd.DataFrame(ny_visas_wage.groupby(['lca_case_employer_name','lca_case_soc_code']).agg(['mean', 'count']))"
   ]
  },
  {
   "cell_type": "code",
   "execution_count": 128,
   "metadata": {
    "scrolled": true
   },
   "outputs": [
    {
     "data": {
      "text/html": [
       "<div>\n",
       "<style>\n",
       "    .dataframe thead tr:only-child th {\n",
       "        text-align: right;\n",
       "    }\n",
       "\n",
       "    .dataframe thead th {\n",
       "        text-align: left;\n",
       "    }\n",
       "\n",
       "    .dataframe tbody tr th {\n",
       "        vertical-align: top;\n",
       "    }\n",
       "</style>\n",
       "<table border=\"1\" class=\"dataframe\">\n",
       "  <thead>\n",
       "    <tr>\n",
       "      <th></th>\n",
       "      <th></th>\n",
       "      <th colspan=\"2\" halign=\"left\">Yearly_wage</th>\n",
       "    </tr>\n",
       "    <tr>\n",
       "      <th></th>\n",
       "      <th></th>\n",
       "      <th>mean</th>\n",
       "      <th>count</th>\n",
       "    </tr>\n",
       "    <tr>\n",
       "      <th>lca_case_employer_name</th>\n",
       "      <th>lca_case_soc_code</th>\n",
       "      <th></th>\n",
       "      <th></th>\n",
       "    </tr>\n",
       "  </thead>\n",
       "  <tbody>\n",
       "    <tr>\n",
       "      <th>MARSH &amp;AMP; FRIED HOLDINGS, L.P.</th>\n",
       "      <th>23-1011</th>\n",
       "      <td>2.704000e+08</td>\n",
       "      <td>1</td>\n",
       "    </tr>\n",
       "    <tr>\n",
       "      <th>BUNGE GLOBAL MARKETS, INC.</th>\n",
       "      <th>15-1121</th>\n",
       "      <td>1.378662e+08</td>\n",
       "      <td>2</td>\n",
       "    </tr>\n",
       "    <tr>\n",
       "      <th>SATORI CONSULTING</th>\n",
       "      <th>13-1111</th>\n",
       "      <td>1.352000e+08</td>\n",
       "      <td>1</td>\n",
       "    </tr>\n",
       "    <tr>\n",
       "      <th>ARTSY INC.</th>\n",
       "      <th>15-1133</th>\n",
       "      <td>1.144550e+08</td>\n",
       "      <td>2</td>\n",
       "    </tr>\n",
       "    <tr>\n",
       "      <th>ASI SYSTEM INTEGRATION, INC.</th>\n",
       "      <th>15-1142</th>\n",
       "      <td>8.324000e+07</td>\n",
       "      <td>2</td>\n",
       "    </tr>\n",
       "    <tr>\n",
       "      <th>FRESHPLANET INC</th>\n",
       "      <th>27-1024</th>\n",
       "      <td>7.283500e+07</td>\n",
       "      <td>2</td>\n",
       "    </tr>\n",
       "    <tr>\n",
       "      <th>DISCOVERY COMMUNICATIONS, LLC</th>\n",
       "      <th>15-1199</th>\n",
       "      <td>6.443859e+07</td>\n",
       "      <td>3</td>\n",
       "    </tr>\n",
       "    <tr>\n",
       "      <th>FRESH, INC.</th>\n",
       "      <th>27-1021</th>\n",
       "      <td>6.097330e+07</td>\n",
       "      <td>2</td>\n",
       "    </tr>\n",
       "    <tr>\n",
       "      <th>HILTON HOTELS CORPORATION</th>\n",
       "      <th>1981-11-01</th>\n",
       "      <td>5.573125e+07</td>\n",
       "      <td>6</td>\n",
       "    </tr>\n",
       "    <tr>\n",
       "      <th>WUNDERMAN WORLDWIDE LLC</th>\n",
       "      <th>27-1024</th>\n",
       "      <td>5.218108e+07</td>\n",
       "      <td>2</td>\n",
       "    </tr>\n",
       "    <tr>\n",
       "      <th>STOLL AMERICA KNITTING MACHINERY, INC.</th>\n",
       "      <th>13-1161</th>\n",
       "      <td>5.205000e+07</td>\n",
       "      <td>3</td>\n",
       "    </tr>\n",
       "    <tr>\n",
       "      <th>FAST RETAILING USA, INC.</th>\n",
       "      <th>13-1071</th>\n",
       "      <td>4.386956e+07</td>\n",
       "      <td>2</td>\n",
       "    </tr>\n",
       "    <tr>\n",
       "      <th>UBS FINANCIAL SERVICES INC</th>\n",
       "      <th>13-2052</th>\n",
       "      <td>3.678200e+07</td>\n",
       "      <td>60</td>\n",
       "    </tr>\n",
       "    <tr>\n",
       "      <th>AIT GLOBAL, INC</th>\n",
       "      <th>15-1131</th>\n",
       "      <td>1.741550e+07</td>\n",
       "      <td>12</td>\n",
       "    </tr>\n",
       "    <tr>\n",
       "      <th>VAI UWS LLC</th>\n",
       "      <th>1951-11-01</th>\n",
       "      <td>7.000099e+06</td>\n",
       "      <td>1</td>\n",
       "    </tr>\n",
       "    <tr>\n",
       "      <th>THE ROCKEFELLER UNIVERSITY</th>\n",
       "      <th>19-1029</th>\n",
       "      <td>5.046552e+06</td>\n",
       "      <td>25</td>\n",
       "    </tr>\n",
       "    <tr>\n",
       "      <th rowspan=\"2\" valign=\"top\">FOUND ORGANIC USA, LLC</th>\n",
       "      <th>2021-11-01</th>\n",
       "      <td>4.713300e+06</td>\n",
       "      <td>3</td>\n",
       "    </tr>\n",
       "    <tr>\n",
       "      <th>13-1161</th>\n",
       "      <td>3.230000e+06</td>\n",
       "      <td>3</td>\n",
       "    </tr>\n",
       "    <tr>\n",
       "      <th>LONE STAR AMERICAS, LLC</th>\n",
       "      <th>1931-11-01</th>\n",
       "      <td>2.200000e+06</td>\n",
       "      <td>1</td>\n",
       "    </tr>\n",
       "    <tr>\n",
       "      <th>LONE STAR AMERICAS ACQUISITIONS, LLC</th>\n",
       "      <th>1931-11-01</th>\n",
       "      <td>2.200000e+06</td>\n",
       "      <td>2</td>\n",
       "    </tr>\n",
       "    <tr>\n",
       "      <th>TRADITION (NORTH AMERICA), INC.</th>\n",
       "      <th>1931-11-01</th>\n",
       "      <td>2.125000e+06</td>\n",
       "      <td>1</td>\n",
       "    </tr>\n",
       "    <tr>\n",
       "      <th>WHITE BAY PT, LLC</th>\n",
       "      <th>15-1132</th>\n",
       "      <td>1.909666e+06</td>\n",
       "      <td>3</td>\n",
       "    </tr>\n",
       "    <tr>\n",
       "      <th>THE ESTEE LAUDER COMPANIES INC.</th>\n",
       "      <th>11-1021</th>\n",
       "      <td>1.750000e+06</td>\n",
       "      <td>1</td>\n",
       "    </tr>\n",
       "    <tr>\n",
       "      <th>NEW YORK UNIVERSITY SCHOOL OF MEDICINE</th>\n",
       "      <th>19-1029</th>\n",
       "      <td>1.639485e+06</td>\n",
       "      <td>72</td>\n",
       "    </tr>\n",
       "    <tr>\n",
       "      <th>FIRST EAGLE INVESTMENT MANAGEMENT, LLC</th>\n",
       "      <th>1931-11-01</th>\n",
       "      <td>1.000000e+06</td>\n",
       "      <td>2</td>\n",
       "    </tr>\n",
       "    <tr>\n",
       "      <th>J. WALTER THOMPSON USA LLC</th>\n",
       "      <th>27-1011</th>\n",
       "      <td>9.250000e+05</td>\n",
       "      <td>1</td>\n",
       "    </tr>\n",
       "    <tr>\n",
       "      <th>AXA EQUITABLE LIFE INSURANCE COMPANY</th>\n",
       "      <th>2011-11-01</th>\n",
       "      <td>9.250000e+05</td>\n",
       "      <td>1</td>\n",
       "    </tr>\n",
       "    <tr>\n",
       "      <th>NEW YORK UNIVERSITY, COURANT INSTITUTE OF MATHEMAT</th>\n",
       "      <th>25-1021</th>\n",
       "      <td>9.151147e+05</td>\n",
       "      <td>3</td>\n",
       "    </tr>\n",
       "    <tr>\n",
       "      <th rowspan=\"2\" valign=\"top\">TIFFANY AND COMPANY</th>\n",
       "      <th>11-1011.00</th>\n",
       "      <td>8.500000e+05</td>\n",
       "      <td>1</td>\n",
       "    </tr>\n",
       "    <tr>\n",
       "      <th>11-1021</th>\n",
       "      <td>8.500000e+05</td>\n",
       "      <td>1</td>\n",
       "    </tr>\n",
       "    <tr>\n",
       "      <th>...</th>\n",
       "      <th>...</th>\n",
       "      <td>...</td>\n",
       "      <td>...</td>\n",
       "    </tr>\n",
       "    <tr>\n",
       "      <th>KON WAH INC.</th>\n",
       "      <th>25-2011</th>\n",
       "      <td>2.704000e+04</td>\n",
       "      <td>2</td>\n",
       "    </tr>\n",
       "    <tr>\n",
       "      <th>VIDA SHOES INTERNATIONAL, INC.</th>\n",
       "      <th>27-1029.00</th>\n",
       "      <td>2.704000e+04</td>\n",
       "      <td>1</td>\n",
       "    </tr>\n",
       "    <tr>\n",
       "      <th>LIPPINCOTT MASSIE MCQUILKIN LLC</th>\n",
       "      <th>27-3099</th>\n",
       "      <td>2.700000e+04</td>\n",
       "      <td>3</td>\n",
       "    </tr>\n",
       "    <tr>\n",
       "      <th>PRESS HERE PUBLICITY, LLC</th>\n",
       "      <th>27-3099</th>\n",
       "      <td>2.700000e+04</td>\n",
       "      <td>2</td>\n",
       "    </tr>\n",
       "    <tr>\n",
       "      <th>PUP-A-PORTER LLC</th>\n",
       "      <th>43-4051</th>\n",
       "      <td>2.700000e+04</td>\n",
       "      <td>1</td>\n",
       "    </tr>\n",
       "    <tr>\n",
       "      <th>THE VANITY ROOM</th>\n",
       "      <th>27-1029</th>\n",
       "      <td>2.700000e+04</td>\n",
       "      <td>1</td>\n",
       "    </tr>\n",
       "    <tr>\n",
       "      <th>THE KOREAN AMERICAN FAMILY SERVICE CENTER</th>\n",
       "      <th>21-1014</th>\n",
       "      <td>2.699800e+04</td>\n",
       "      <td>1</td>\n",
       "    </tr>\n",
       "    <tr>\n",
       "      <th>ROMINES ARCHITECTURE PLLC</th>\n",
       "      <th>27-1029</th>\n",
       "      <td>2.697800e+04</td>\n",
       "      <td>1</td>\n",
       "    </tr>\n",
       "    <tr>\n",
       "      <th>FREDERIC SCHWARTZ ARCHITECTS</th>\n",
       "      <th>27-1029</th>\n",
       "      <td>2.685300e+04</td>\n",
       "      <td>1</td>\n",
       "    </tr>\n",
       "    <tr>\n",
       "      <th>CHILDREN'S BIG APPLE EARLY CHILDHOOD CENTER, INC.</th>\n",
       "      <th>25-2011</th>\n",
       "      <td>2.674900e+04</td>\n",
       "      <td>1</td>\n",
       "    </tr>\n",
       "    <tr>\n",
       "      <th>MONTESSORI FAMILY SCHOOL OF MANHATTAN</th>\n",
       "      <th>25-2011</th>\n",
       "      <td>2.650000e+04</td>\n",
       "      <td>2</td>\n",
       "    </tr>\n",
       "    <tr>\n",
       "      <th>WORLD JOURNAL LLC</th>\n",
       "      <th>27-3099</th>\n",
       "      <td>2.640000e+04</td>\n",
       "      <td>2</td>\n",
       "    </tr>\n",
       "    <tr>\n",
       "      <th>BOOKS AND RATTLES, INC.</th>\n",
       "      <th>25-2011</th>\n",
       "      <td>2.631500e+04</td>\n",
       "      <td>2</td>\n",
       "    </tr>\n",
       "    <tr>\n",
       "      <th>LE IMAGE PHOTO INC.</th>\n",
       "      <th>27-3099</th>\n",
       "      <td>2.631200e+04</td>\n",
       "      <td>1</td>\n",
       "    </tr>\n",
       "    <tr>\n",
       "      <th>XCEL TINY TOTS, INC.</th>\n",
       "      <th>25-2011</th>\n",
       "      <td>2.625000e+04</td>\n",
       "      <td>1</td>\n",
       "    </tr>\n",
       "    <tr>\n",
       "      <th>WESTWIND LLC</th>\n",
       "      <th>43-6014</th>\n",
       "      <td>2.587500e+04</td>\n",
       "      <td>1</td>\n",
       "    </tr>\n",
       "    <tr>\n",
       "      <th>THE ABC COMPANIES, INC.</th>\n",
       "      <th>27-1024</th>\n",
       "      <td>2.577100e+04</td>\n",
       "      <td>1</td>\n",
       "    </tr>\n",
       "    <tr>\n",
       "      <th>THE CAMPUS MISSION CHURCH, INC.</th>\n",
       "      <th>21-2011</th>\n",
       "      <td>2.516800e+04</td>\n",
       "      <td>1</td>\n",
       "    </tr>\n",
       "    <tr>\n",
       "      <th>HASELSON INTERNATIONAL TRADING, INC.</th>\n",
       "      <th>43-5071</th>\n",
       "      <td>2.501200e+04</td>\n",
       "      <td>1</td>\n",
       "    </tr>\n",
       "    <tr>\n",
       "      <th>MOST HOLY REDEEMER CATHOLIC ACADEMY</th>\n",
       "      <th>25-3099</th>\n",
       "      <td>2.500000e+04</td>\n",
       "      <td>1</td>\n",
       "    </tr>\n",
       "    <tr>\n",
       "      <th>ZONI LANGUAGE CENTER INC</th>\n",
       "      <th>43-4051</th>\n",
       "      <td>2.464800e+04</td>\n",
       "      <td>2</td>\n",
       "    </tr>\n",
       "    <tr>\n",
       "      <th rowspan=\"2\" valign=\"top\">CHINESE CHRISTIAN HERALD CRUSADES, INC.</th>\n",
       "      <th>25-3021</th>\n",
       "      <td>2.460360e+04</td>\n",
       "      <td>2</td>\n",
       "    </tr>\n",
       "    <tr>\n",
       "      <th>21-2021</th>\n",
       "      <td>2.460000e+04</td>\n",
       "      <td>2</td>\n",
       "    </tr>\n",
       "    <tr>\n",
       "      <th>ZONI LANGUAGE CENTERS</th>\n",
       "      <th>43-4051</th>\n",
       "      <td>2.456500e+04</td>\n",
       "      <td>1</td>\n",
       "    </tr>\n",
       "    <tr>\n",
       "      <th>EAT HERE NOT THERE</th>\n",
       "      <th>27-1026</th>\n",
       "      <td>2.446100e+04</td>\n",
       "      <td>1</td>\n",
       "    </tr>\n",
       "    <tr>\n",
       "      <th>EVERY NATION NEW YORK CITY</th>\n",
       "      <th>13-2011</th>\n",
       "      <td>2.400000e+04</td>\n",
       "      <td>1</td>\n",
       "    </tr>\n",
       "    <tr>\n",
       "      <th>NEW AMSTERDAM FENCING ACADEMY, LLC</th>\n",
       "      <th>27-2022</th>\n",
       "      <td>2.293000e+04</td>\n",
       "      <td>1</td>\n",
       "    </tr>\n",
       "    <tr>\n",
       "      <th>THE GANG SUNG PRESBYTERIAN CHURCH OF NEW YORK</th>\n",
       "      <th>21-2021</th>\n",
       "      <td>2.217300e+04</td>\n",
       "      <td>1</td>\n",
       "    </tr>\n",
       "    <tr>\n",
       "      <th>WASHINGTON HEIGHTS CORNER PROJECT, INC</th>\n",
       "      <th>21-1094</th>\n",
       "      <td>2.200000e+04</td>\n",
       "      <td>1</td>\n",
       "    </tr>\n",
       "    <tr>\n",
       "      <th>SOUTH BRONX OVERALL ECONOMIC DEVELOPMENT CORPORATI</th>\n",
       "      <th>25-3099</th>\n",
       "      <td>2.096000e+04</td>\n",
       "      <td>1</td>\n",
       "    </tr>\n",
       "  </tbody>\n",
       "</table>\n",
       "<p>13607 rows × 2 columns</p>\n",
       "</div>"
      ],
      "text/plain": [
       "                                                                       Yearly_wage  \\\n",
       "                                                                              mean   \n",
       "lca_case_employer_name                             lca_case_soc_code                 \n",
       "MARSH &AMP; FRIED HOLDINGS, L.P.                   23-1011            2.704000e+08   \n",
       "BUNGE GLOBAL MARKETS, INC.                         15-1121            1.378662e+08   \n",
       "SATORI CONSULTING                                  13-1111            1.352000e+08   \n",
       "ARTSY INC.                                         15-1133            1.144550e+08   \n",
       "ASI SYSTEM INTEGRATION, INC.                       15-1142            8.324000e+07   \n",
       "FRESHPLANET INC                                    27-1024            7.283500e+07   \n",
       "DISCOVERY COMMUNICATIONS, LLC                      15-1199            6.443859e+07   \n",
       "FRESH, INC.                                        27-1021            6.097330e+07   \n",
       "HILTON HOTELS CORPORATION                          1981-11-01         5.573125e+07   \n",
       "WUNDERMAN WORLDWIDE LLC                            27-1024            5.218108e+07   \n",
       "STOLL AMERICA KNITTING MACHINERY, INC.             13-1161            5.205000e+07   \n",
       "FAST RETAILING USA, INC.                           13-1071            4.386956e+07   \n",
       "UBS FINANCIAL SERVICES INC                         13-2052            3.678200e+07   \n",
       "AIT GLOBAL, INC                                    15-1131            1.741550e+07   \n",
       "VAI UWS LLC                                        1951-11-01         7.000099e+06   \n",
       "THE ROCKEFELLER UNIVERSITY                         19-1029            5.046552e+06   \n",
       "FOUND ORGANIC USA, LLC                             2021-11-01         4.713300e+06   \n",
       "                                                   13-1161            3.230000e+06   \n",
       "LONE STAR AMERICAS, LLC                            1931-11-01         2.200000e+06   \n",
       "LONE STAR AMERICAS ACQUISITIONS, LLC               1931-11-01         2.200000e+06   \n",
       "TRADITION (NORTH AMERICA), INC.                    1931-11-01         2.125000e+06   \n",
       "WHITE BAY PT, LLC                                  15-1132            1.909666e+06   \n",
       "THE ESTEE LAUDER COMPANIES INC.                    11-1021            1.750000e+06   \n",
       "NEW YORK UNIVERSITY SCHOOL OF MEDICINE             19-1029            1.639485e+06   \n",
       "FIRST EAGLE INVESTMENT MANAGEMENT, LLC             1931-11-01         1.000000e+06   \n",
       "J. WALTER THOMPSON USA LLC                         27-1011            9.250000e+05   \n",
       "AXA EQUITABLE LIFE INSURANCE COMPANY               2011-11-01         9.250000e+05   \n",
       "NEW YORK UNIVERSITY, COURANT INSTITUTE OF MATHEMAT 25-1021            9.151147e+05   \n",
       "TIFFANY AND COMPANY                                11-1011.00         8.500000e+05   \n",
       "                                                   11-1021            8.500000e+05   \n",
       "...                                                                            ...   \n",
       "KON WAH INC.                                       25-2011            2.704000e+04   \n",
       "VIDA SHOES INTERNATIONAL, INC.                     27-1029.00         2.704000e+04   \n",
       "LIPPINCOTT MASSIE MCQUILKIN LLC                    27-3099            2.700000e+04   \n",
       "PRESS HERE PUBLICITY, LLC                          27-3099            2.700000e+04   \n",
       "PUP-A-PORTER LLC                                   43-4051            2.700000e+04   \n",
       "THE VANITY ROOM                                    27-1029            2.700000e+04   \n",
       "THE KOREAN AMERICAN FAMILY SERVICE CENTER          21-1014            2.699800e+04   \n",
       "ROMINES ARCHITECTURE PLLC                          27-1029            2.697800e+04   \n",
       "FREDERIC SCHWARTZ ARCHITECTS                       27-1029            2.685300e+04   \n",
       "CHILDREN'S BIG APPLE EARLY CHILDHOOD CENTER, INC.  25-2011            2.674900e+04   \n",
       "MONTESSORI FAMILY SCHOOL OF MANHATTAN              25-2011            2.650000e+04   \n",
       "WORLD JOURNAL LLC                                  27-3099            2.640000e+04   \n",
       "BOOKS AND RATTLES, INC.                            25-2011            2.631500e+04   \n",
       "LE IMAGE PHOTO INC.                                27-3099            2.631200e+04   \n",
       "XCEL TINY TOTS, INC.                               25-2011            2.625000e+04   \n",
       "WESTWIND LLC                                       43-6014            2.587500e+04   \n",
       "THE ABC COMPANIES, INC.                            27-1024            2.577100e+04   \n",
       "THE CAMPUS MISSION CHURCH, INC.                    21-2011            2.516800e+04   \n",
       "HASELSON INTERNATIONAL TRADING, INC.               43-5071            2.501200e+04   \n",
       "MOST HOLY REDEEMER CATHOLIC ACADEMY                25-3099            2.500000e+04   \n",
       "ZONI LANGUAGE CENTER INC                           43-4051            2.464800e+04   \n",
       "CHINESE CHRISTIAN HERALD CRUSADES, INC.            25-3021            2.460360e+04   \n",
       "                                                   21-2021            2.460000e+04   \n",
       "ZONI LANGUAGE CENTERS                              43-4051            2.456500e+04   \n",
       "EAT HERE NOT THERE                                 27-1026            2.446100e+04   \n",
       "EVERY NATION NEW YORK CITY                         13-2011            2.400000e+04   \n",
       "NEW AMSTERDAM FENCING ACADEMY, LLC                 27-2022            2.293000e+04   \n",
       "THE GANG SUNG PRESBYTERIAN CHURCH OF NEW YORK      21-2021            2.217300e+04   \n",
       "WASHINGTON HEIGHTS CORNER PROJECT, INC             21-1094            2.200000e+04   \n",
       "SOUTH BRONX OVERALL ECONOMIC DEVELOPMENT CORPORATI 25-3099            2.096000e+04   \n",
       "\n",
       "                                                                            \n",
       "                                                                     count  \n",
       "lca_case_employer_name                             lca_case_soc_code        \n",
       "MARSH &AMP; FRIED HOLDINGS, L.P.                   23-1011               1  \n",
       "BUNGE GLOBAL MARKETS, INC.                         15-1121               2  \n",
       "SATORI CONSULTING                                  13-1111               1  \n",
       "ARTSY INC.                                         15-1133               2  \n",
       "ASI SYSTEM INTEGRATION, INC.                       15-1142               2  \n",
       "FRESHPLANET INC                                    27-1024               2  \n",
       "DISCOVERY COMMUNICATIONS, LLC                      15-1199               3  \n",
       "FRESH, INC.                                        27-1021               2  \n",
       "HILTON HOTELS CORPORATION                          1981-11-01            6  \n",
       "WUNDERMAN WORLDWIDE LLC                            27-1024               2  \n",
       "STOLL AMERICA KNITTING MACHINERY, INC.             13-1161               3  \n",
       "FAST RETAILING USA, INC.                           13-1071               2  \n",
       "UBS FINANCIAL SERVICES INC                         13-2052              60  \n",
       "AIT GLOBAL, INC                                    15-1131              12  \n",
       "VAI UWS LLC                                        1951-11-01            1  \n",
       "THE ROCKEFELLER UNIVERSITY                         19-1029              25  \n",
       "FOUND ORGANIC USA, LLC                             2021-11-01            3  \n",
       "                                                   13-1161               3  \n",
       "LONE STAR AMERICAS, LLC                            1931-11-01            1  \n",
       "LONE STAR AMERICAS ACQUISITIONS, LLC               1931-11-01            2  \n",
       "TRADITION (NORTH AMERICA), INC.                    1931-11-01            1  \n",
       "WHITE BAY PT, LLC                                  15-1132               3  \n",
       "THE ESTEE LAUDER COMPANIES INC.                    11-1021               1  \n",
       "NEW YORK UNIVERSITY SCHOOL OF MEDICINE             19-1029              72  \n",
       "FIRST EAGLE INVESTMENT MANAGEMENT, LLC             1931-11-01            2  \n",
       "J. WALTER THOMPSON USA LLC                         27-1011               1  \n",
       "AXA EQUITABLE LIFE INSURANCE COMPANY               2011-11-01            1  \n",
       "NEW YORK UNIVERSITY, COURANT INSTITUTE OF MATHEMAT 25-1021               3  \n",
       "TIFFANY AND COMPANY                                11-1011.00            1  \n",
       "                                                   11-1021               1  \n",
       "...                                                                    ...  \n",
       "KON WAH INC.                                       25-2011               2  \n",
       "VIDA SHOES INTERNATIONAL, INC.                     27-1029.00            1  \n",
       "LIPPINCOTT MASSIE MCQUILKIN LLC                    27-3099               3  \n",
       "PRESS HERE PUBLICITY, LLC                          27-3099               2  \n",
       "PUP-A-PORTER LLC                                   43-4051               1  \n",
       "THE VANITY ROOM                                    27-1029               1  \n",
       "THE KOREAN AMERICAN FAMILY SERVICE CENTER          21-1014               1  \n",
       "ROMINES ARCHITECTURE PLLC                          27-1029               1  \n",
       "FREDERIC SCHWARTZ ARCHITECTS                       27-1029               1  \n",
       "CHILDREN'S BIG APPLE EARLY CHILDHOOD CENTER, INC.  25-2011               1  \n",
       "MONTESSORI FAMILY SCHOOL OF MANHATTAN              25-2011               2  \n",
       "WORLD JOURNAL LLC                                  27-3099               2  \n",
       "BOOKS AND RATTLES, INC.                            25-2011               2  \n",
       "LE IMAGE PHOTO INC.                                27-3099               1  \n",
       "XCEL TINY TOTS, INC.                               25-2011               1  \n",
       "WESTWIND LLC                                       43-6014               1  \n",
       "THE ABC COMPANIES, INC.                            27-1024               1  \n",
       "THE CAMPUS MISSION CHURCH, INC.                    21-2011               1  \n",
       "HASELSON INTERNATIONAL TRADING, INC.               43-5071               1  \n",
       "MOST HOLY REDEEMER CATHOLIC ACADEMY                25-3099               1  \n",
       "ZONI LANGUAGE CENTER INC                           43-4051               2  \n",
       "CHINESE CHRISTIAN HERALD CRUSADES, INC.            25-3021               2  \n",
       "                                                   21-2021               2  \n",
       "ZONI LANGUAGE CENTERS                              43-4051               1  \n",
       "EAT HERE NOT THERE                                 27-1026               1  \n",
       "EVERY NATION NEW YORK CITY                         13-2011               1  \n",
       "NEW AMSTERDAM FENCING ACADEMY, LLC                 27-2022               1  \n",
       "THE GANG SUNG PRESBYTERIAN CHURCH OF NEW YORK      21-2021               1  \n",
       "WASHINGTON HEIGHTS CORNER PROJECT, INC             21-1094               1  \n",
       "SOUTH BRONX OVERALL ECONOMIC DEVELOPMENT CORPORATI 25-3099               1  \n",
       "\n",
       "[13607 rows x 2 columns]"
      ]
     },
     "execution_count": 128,
     "metadata": {},
     "output_type": "execute_result"
    }
   ],
   "source": [
    "ny_visas_wage_byemp.sort_values(by = ('Yearly_wage', 'mean'), ascending=False)"
   ]
  },
  {
   "cell_type": "markdown",
   "metadata": {},
   "source": [
    "By looking at the above tables, its clear that the people who pay the highest wages and the people who pay the lowest wages are only applying for few visas. These are most likely positions that are very high up."
   ]
  },
  {
   "cell_type": "code",
   "execution_count": 129,
   "metadata": {
    "scrolled": false
   },
   "outputs": [
    {
     "data": {
      "text/html": [
       "<div>\n",
       "<style>\n",
       "    .dataframe thead tr:only-child th {\n",
       "        text-align: right;\n",
       "    }\n",
       "\n",
       "    .dataframe thead th {\n",
       "        text-align: left;\n",
       "    }\n",
       "\n",
       "    .dataframe tbody tr th {\n",
       "        vertical-align: top;\n",
       "    }\n",
       "</style>\n",
       "<table border=\"1\" class=\"dataframe\">\n",
       "  <thead>\n",
       "    <tr>\n",
       "      <th></th>\n",
       "      <th></th>\n",
       "      <th colspan=\"2\" halign=\"left\">Yearly_wage</th>\n",
       "    </tr>\n",
       "    <tr>\n",
       "      <th></th>\n",
       "      <th></th>\n",
       "      <th>mean</th>\n",
       "      <th>count</th>\n",
       "    </tr>\n",
       "    <tr>\n",
       "      <th>lca_case_employer_name</th>\n",
       "      <th>lca_case_soc_code</th>\n",
       "      <th></th>\n",
       "      <th></th>\n",
       "    </tr>\n",
       "  </thead>\n",
       "  <tbody>\n",
       "    <tr>\n",
       "      <th>PRICEWATERHOUSECOOPERS, LLP</th>\n",
       "      <th>13-2011</th>\n",
       "      <td>75576.111765</td>\n",
       "      <td>1700</td>\n",
       "    </tr>\n",
       "    <tr>\n",
       "      <th rowspan=\"2\" valign=\"top\">ERNST &amp; YOUNG U.S. LLP</th>\n",
       "      <th>13-1111</th>\n",
       "      <td>85293.219338</td>\n",
       "      <td>1117</td>\n",
       "    </tr>\n",
       "    <tr>\n",
       "      <th>13-2011</th>\n",
       "      <td>83409.590593</td>\n",
       "      <td>1079</td>\n",
       "    </tr>\n",
       "    <tr>\n",
       "      <th rowspan=\"2\" valign=\"top\">PRICEWATERHOUSECOOPERS, LLP</th>\n",
       "      <th>15-1121</th>\n",
       "      <td>79066.578947</td>\n",
       "      <td>950</td>\n",
       "    </tr>\n",
       "    <tr>\n",
       "      <th>13-1111</th>\n",
       "      <td>93984.942857</td>\n",
       "      <td>875</td>\n",
       "    </tr>\n",
       "    <tr>\n",
       "      <th>DELOITTE &amp; TOUCHE LLP</th>\n",
       "      <th>13-2011</th>\n",
       "      <td>66755.086009</td>\n",
       "      <td>872</td>\n",
       "    </tr>\n",
       "    <tr>\n",
       "      <th>DELOITTE CONSULTING LLP</th>\n",
       "      <th>15-1133</th>\n",
       "      <td>101990.466234</td>\n",
       "      <td>770</td>\n",
       "    </tr>\n",
       "    <tr>\n",
       "      <th rowspan=\"2\" valign=\"top\">NEW YORK CITY DEPARTMENT OF EDUCATION</th>\n",
       "      <th>25-2022</th>\n",
       "      <td>46941.834204</td>\n",
       "      <td>766</td>\n",
       "    </tr>\n",
       "    <tr>\n",
       "      <th>25-2031</th>\n",
       "      <td>46941.834204</td>\n",
       "      <td>766</td>\n",
       "    </tr>\n",
       "    <tr>\n",
       "      <th>DELOITTE CONSULTING LLP</th>\n",
       "      <th>13-2051</th>\n",
       "      <td>103648.391478</td>\n",
       "      <td>751</td>\n",
       "    </tr>\n",
       "    <tr>\n",
       "      <th>WIPRO LIMITED</th>\n",
       "      <th>15-1199</th>\n",
       "      <td>65525.380690</td>\n",
       "      <td>725</td>\n",
       "    </tr>\n",
       "    <tr>\n",
       "      <th>TATA CONSULTANCY SERVICES LIMITED</th>\n",
       "      <th>15-1199</th>\n",
       "      <td>70321.702128</td>\n",
       "      <td>705</td>\n",
       "    </tr>\n",
       "    <tr>\n",
       "      <th>PRICEWATERHOUSECOOPERS, LLP</th>\n",
       "      <th>13-2051</th>\n",
       "      <td>86294.857143</td>\n",
       "      <td>700</td>\n",
       "    </tr>\n",
       "    <tr>\n",
       "      <th>MPHASIS CORPORATION</th>\n",
       "      <th>15-1121</th>\n",
       "      <td>70591.640288</td>\n",
       "      <td>695</td>\n",
       "    </tr>\n",
       "    <tr>\n",
       "      <th>DELOITTE CONSULTING LLP</th>\n",
       "      <th>15-1121</th>\n",
       "      <td>79798.490566</td>\n",
       "      <td>636</td>\n",
       "    </tr>\n",
       "    <tr>\n",
       "      <th>CAPGEMINI FINANCIAL SERVICES USA INC</th>\n",
       "      <th>15-1121</th>\n",
       "      <td>73837.032143</td>\n",
       "      <td>560</td>\n",
       "    </tr>\n",
       "    <tr>\n",
       "      <th>DELOITTE &amp; TOUCHE LLP</th>\n",
       "      <th>13-1111</th>\n",
       "      <td>73756.732014</td>\n",
       "      <td>556</td>\n",
       "    </tr>\n",
       "    <tr>\n",
       "      <th>CAPGEMINI FINANCIAL SERVICES USA INC</th>\n",
       "      <th>15-1132</th>\n",
       "      <td>83626.331263</td>\n",
       "      <td>483</td>\n",
       "    </tr>\n",
       "    <tr>\n",
       "      <th>PRICEWATERHOUSECOOPERS, LLP</th>\n",
       "      <th>2021-11-01</th>\n",
       "      <td>117021.842105</td>\n",
       "      <td>475</td>\n",
       "    </tr>\n",
       "    <tr>\n",
       "      <th>DELOITTE TAX LLP</th>\n",
       "      <th>13-2011</th>\n",
       "      <td>77670.655172</td>\n",
       "      <td>464</td>\n",
       "    </tr>\n",
       "    <tr>\n",
       "      <th>MPHASIS CORPORATION</th>\n",
       "      <th>15-1131</th>\n",
       "      <td>68554.546512</td>\n",
       "      <td>430</td>\n",
       "    </tr>\n",
       "    <tr>\n",
       "      <th>BLOOMBERG, LP</th>\n",
       "      <th>15-1132</th>\n",
       "      <td>124417.061611</td>\n",
       "      <td>422</td>\n",
       "    </tr>\n",
       "    <tr>\n",
       "      <th>NEW YORK CITY DEPARTMENT OF EDUCATION</th>\n",
       "      <th>25-2021</th>\n",
       "      <td>46820.012225</td>\n",
       "      <td>409</td>\n",
       "    </tr>\n",
       "    <tr>\n",
       "      <th>IGATE TECHNOLOGIES INC.</th>\n",
       "      <th>15-1199</th>\n",
       "      <td>63969.117647</td>\n",
       "      <td>408</td>\n",
       "    </tr>\n",
       "    <tr>\n",
       "      <th>WIPRO LIMITED</th>\n",
       "      <th>15-1131</th>\n",
       "      <td>70693.665796</td>\n",
       "      <td>383</td>\n",
       "    </tr>\n",
       "    <tr>\n",
       "      <th>MPHASIS CORPORATION</th>\n",
       "      <th>15-1132</th>\n",
       "      <td>88807.648794</td>\n",
       "      <td>373</td>\n",
       "    </tr>\n",
       "    <tr>\n",
       "      <th>MINDTREE LIMITED</th>\n",
       "      <th>15-1121</th>\n",
       "      <td>75733.185714</td>\n",
       "      <td>350</td>\n",
       "    </tr>\n",
       "    <tr>\n",
       "      <th>INFOSYS LIMITED</th>\n",
       "      <th>15-1121</th>\n",
       "      <td>76563.723214</td>\n",
       "      <td>336</td>\n",
       "    </tr>\n",
       "    <tr>\n",
       "      <th>PRICEWATERHOUSECOOPERS, LLP</th>\n",
       "      <th>15-2011</th>\n",
       "      <td>84955.333333</td>\n",
       "      <td>300</td>\n",
       "    </tr>\n",
       "    <tr>\n",
       "      <th>PRICEWATERHOUSECOOPERS ADVISORY LLC</th>\n",
       "      <th>15-1121</th>\n",
       "      <td>77626.000000</td>\n",
       "      <td>300</td>\n",
       "    </tr>\n",
       "    <tr>\n",
       "      <th>...</th>\n",
       "      <th>...</th>\n",
       "      <td>...</td>\n",
       "      <td>...</td>\n",
       "    </tr>\n",
       "    <tr>\n",
       "      <th>ICOA GROUP LLC</th>\n",
       "      <th>13-1161</th>\n",
       "      <td>62000.000000</td>\n",
       "      <td>1</td>\n",
       "    </tr>\n",
       "    <tr>\n",
       "      <th>ICODIA, INC.</th>\n",
       "      <th>13-1161</th>\n",
       "      <td>58072.000000</td>\n",
       "      <td>1</td>\n",
       "    </tr>\n",
       "    <tr>\n",
       "      <th rowspan=\"2\" valign=\"top\">ICON INVESTMENT GROUP, LLC</th>\n",
       "      <th>13-2051</th>\n",
       "      <td>165000.000000</td>\n",
       "      <td>1</td>\n",
       "    </tr>\n",
       "    <tr>\n",
       "      <th>2021-11-01</th>\n",
       "      <td>250000.000000</td>\n",
       "      <td>1</td>\n",
       "    </tr>\n",
       "    <tr>\n",
       "      <th>ICONIX BRAND GROUP, LLC</th>\n",
       "      <th>13-1161</th>\n",
       "      <td>44616.000000</td>\n",
       "      <td>1</td>\n",
       "    </tr>\n",
       "    <tr>\n",
       "      <th>ICONSOFT CONSULTING GROUP, INC.</th>\n",
       "      <th>15-1121</th>\n",
       "      <td>60362.000000</td>\n",
       "      <td>1</td>\n",
       "    </tr>\n",
       "    <tr>\n",
       "      <th>ICONSOFT INC.</th>\n",
       "      <th>13-1111</th>\n",
       "      <td>84000.000000</td>\n",
       "      <td>1</td>\n",
       "    </tr>\n",
       "    <tr>\n",
       "      <th>ICRA SAPPHIRE, INC.</th>\n",
       "      <th>15-1131</th>\n",
       "      <td>100320.000000</td>\n",
       "      <td>1</td>\n",
       "    </tr>\n",
       "    <tr>\n",
       "      <th rowspan=\"2\" valign=\"top\">IBM CORPORATION</th>\n",
       "      <th>15-2041.00</th>\n",
       "      <td>100000.800000</td>\n",
       "      <td>1</td>\n",
       "    </tr>\n",
       "    <tr>\n",
       "      <th>15-1131.0</th>\n",
       "      <td>71510.000000</td>\n",
       "      <td>1</td>\n",
       "    </tr>\n",
       "    <tr>\n",
       "      <th>HUTCHIN HILL CAPITAL, LP</th>\n",
       "      <th>13-2051</th>\n",
       "      <td>175000.000000</td>\n",
       "      <td>1</td>\n",
       "    </tr>\n",
       "    <tr>\n",
       "      <th>IBM CORPORATION</th>\n",
       "      <th>15-1131</th>\n",
       "      <td>71510.000000</td>\n",
       "      <td>1</td>\n",
       "    </tr>\n",
       "    <tr>\n",
       "      <th>HUTCHIN HILL CAPITAL, LP</th>\n",
       "      <th>15-2041</th>\n",
       "      <td>150000.000000</td>\n",
       "      <td>1</td>\n",
       "    </tr>\n",
       "    <tr>\n",
       "      <th>HWC VENTURES LLC</th>\n",
       "      <th>15-1199</th>\n",
       "      <td>65000.000000</td>\n",
       "      <td>1</td>\n",
       "    </tr>\n",
       "    <tr>\n",
       "      <th>HYATT CORPORATION</th>\n",
       "      <th>1951-11-01</th>\n",
       "      <td>77064.000000</td>\n",
       "      <td>1</td>\n",
       "    </tr>\n",
       "    <tr>\n",
       "      <th>HYDE LEADERSHIP CHARTER SCHOOL</th>\n",
       "      <th>25-2054</th>\n",
       "      <td>55880.000000</td>\n",
       "      <td>1</td>\n",
       "    </tr>\n",
       "    <tr>\n",
       "      <th>I VISION SOLUTIONS, INC</th>\n",
       "      <th>15-1121</th>\n",
       "      <td>60362.000000</td>\n",
       "      <td>1</td>\n",
       "    </tr>\n",
       "    <tr>\n",
       "      <th rowspan=\"2\" valign=\"top\">I-LINK SOLUTIONS INC.</th>\n",
       "      <th>15-1132</th>\n",
       "      <td>74000.000000</td>\n",
       "      <td>1</td>\n",
       "    </tr>\n",
       "    <tr>\n",
       "      <th>15-1199</th>\n",
       "      <td>74402.000000</td>\n",
       "      <td>1</td>\n",
       "    </tr>\n",
       "    <tr>\n",
       "      <th>I28 TECHNOLOGIES CORPORATION</th>\n",
       "      <th>15-1131</th>\n",
       "      <td>60000.000000</td>\n",
       "      <td>1</td>\n",
       "    </tr>\n",
       "    <tr>\n",
       "      <th>IAC SEARCH &amp; MEDIA, INC.</th>\n",
       "      <th>15-1133</th>\n",
       "      <td>110000.000000</td>\n",
       "      <td>1</td>\n",
       "    </tr>\n",
       "    <tr>\n",
       "      <th>IACQUIRE, LLC</th>\n",
       "      <th>13-1161</th>\n",
       "      <td>44824.000000</td>\n",
       "      <td>1</td>\n",
       "    </tr>\n",
       "    <tr>\n",
       "      <th>IAPPAREL, LLC</th>\n",
       "      <th>13-2051</th>\n",
       "      <td>95000.000000</td>\n",
       "      <td>1</td>\n",
       "    </tr>\n",
       "    <tr>\n",
       "      <th>IB TECHNOLOGY SOLUTIONS INC.</th>\n",
       "      <th>15-1141</th>\n",
       "      <td>110000.000000</td>\n",
       "      <td>1</td>\n",
       "    </tr>\n",
       "    <tr>\n",
       "      <th>IB TECHNOLOGY SOLUTIONS, INC.</th>\n",
       "      <th>15-1121</th>\n",
       "      <td>75000.000000</td>\n",
       "      <td>1</td>\n",
       "    </tr>\n",
       "    <tr>\n",
       "      <th>IBASE CONSULTING OF FAIRFIELD COUNTY, LLC</th>\n",
       "      <th>15-1199</th>\n",
       "      <td>90000.000000</td>\n",
       "      <td>1</td>\n",
       "    </tr>\n",
       "    <tr>\n",
       "      <th>IBISWORLD INC.</th>\n",
       "      <th>13-1161</th>\n",
       "      <td>51000.000000</td>\n",
       "      <td>1</td>\n",
       "    </tr>\n",
       "    <tr>\n",
       "      <th>IBLESOFT INC</th>\n",
       "      <th>15-1132</th>\n",
       "      <td>125000.000000</td>\n",
       "      <td>1</td>\n",
       "    </tr>\n",
       "    <tr>\n",
       "      <th>IBM CORPORATION</th>\n",
       "      <th>15-1121.00</th>\n",
       "      <td>105000.000000</td>\n",
       "      <td>1</td>\n",
       "    </tr>\n",
       "    <tr>\n",
       "      <th>ZYLOG SYSTEMS LTD.</th>\n",
       "      <th>15-1131</th>\n",
       "      <td>60000.000000</td>\n",
       "      <td>1</td>\n",
       "    </tr>\n",
       "  </tbody>\n",
       "</table>\n",
       "<p>13607 rows × 2 columns</p>\n",
       "</div>"
      ],
      "text/plain": [
       "                                                               Yearly_wage  \\\n",
       "                                                                      mean   \n",
       "lca_case_employer_name                    lca_case_soc_code                  \n",
       "PRICEWATERHOUSECOOPERS, LLP               13-2011             75576.111765   \n",
       "ERNST & YOUNG U.S. LLP                    13-1111             85293.219338   \n",
       "                                          13-2011             83409.590593   \n",
       "PRICEWATERHOUSECOOPERS, LLP               15-1121             79066.578947   \n",
       "                                          13-1111             93984.942857   \n",
       "DELOITTE & TOUCHE LLP                     13-2011             66755.086009   \n",
       "DELOITTE CONSULTING LLP                   15-1133            101990.466234   \n",
       "NEW YORK CITY DEPARTMENT OF EDUCATION     25-2022             46941.834204   \n",
       "                                          25-2031             46941.834204   \n",
       "DELOITTE CONSULTING LLP                   13-2051            103648.391478   \n",
       "WIPRO LIMITED                             15-1199             65525.380690   \n",
       "TATA CONSULTANCY SERVICES LIMITED         15-1199             70321.702128   \n",
       "PRICEWATERHOUSECOOPERS, LLP               13-2051             86294.857143   \n",
       "MPHASIS CORPORATION                       15-1121             70591.640288   \n",
       "DELOITTE CONSULTING LLP                   15-1121             79798.490566   \n",
       "CAPGEMINI FINANCIAL SERVICES USA INC      15-1121             73837.032143   \n",
       "DELOITTE & TOUCHE LLP                     13-1111             73756.732014   \n",
       "CAPGEMINI FINANCIAL SERVICES USA INC      15-1132             83626.331263   \n",
       "PRICEWATERHOUSECOOPERS, LLP               2021-11-01         117021.842105   \n",
       "DELOITTE TAX LLP                          13-2011             77670.655172   \n",
       "MPHASIS CORPORATION                       15-1131             68554.546512   \n",
       "BLOOMBERG, LP                             15-1132            124417.061611   \n",
       "NEW YORK CITY DEPARTMENT OF EDUCATION     25-2021             46820.012225   \n",
       "IGATE TECHNOLOGIES INC.                   15-1199             63969.117647   \n",
       "WIPRO LIMITED                             15-1131             70693.665796   \n",
       "MPHASIS CORPORATION                       15-1132             88807.648794   \n",
       "MINDTREE LIMITED                          15-1121             75733.185714   \n",
       "INFOSYS LIMITED                           15-1121             76563.723214   \n",
       "PRICEWATERHOUSECOOPERS, LLP               15-2011             84955.333333   \n",
       "PRICEWATERHOUSECOOPERS ADVISORY LLC       15-1121             77626.000000   \n",
       "...                                                                    ...   \n",
       "ICOA GROUP LLC                            13-1161             62000.000000   \n",
       "ICODIA, INC.                              13-1161             58072.000000   \n",
       "ICON INVESTMENT GROUP, LLC                13-2051            165000.000000   \n",
       "                                          2021-11-01         250000.000000   \n",
       "ICONIX BRAND GROUP, LLC                   13-1161             44616.000000   \n",
       "ICONSOFT CONSULTING GROUP, INC.           15-1121             60362.000000   \n",
       "ICONSOFT INC.                             13-1111             84000.000000   \n",
       "ICRA SAPPHIRE, INC.                       15-1131            100320.000000   \n",
       "IBM CORPORATION                           15-2041.00         100000.800000   \n",
       "                                          15-1131.0           71510.000000   \n",
       "HUTCHIN HILL CAPITAL, LP                  13-2051            175000.000000   \n",
       "IBM CORPORATION                           15-1131             71510.000000   \n",
       "HUTCHIN HILL CAPITAL, LP                  15-2041            150000.000000   \n",
       "HWC VENTURES LLC                          15-1199             65000.000000   \n",
       "HYATT CORPORATION                         1951-11-01          77064.000000   \n",
       "HYDE LEADERSHIP CHARTER SCHOOL            25-2054             55880.000000   \n",
       "I VISION SOLUTIONS, INC                   15-1121             60362.000000   \n",
       "I-LINK SOLUTIONS INC.                     15-1132             74000.000000   \n",
       "                                          15-1199             74402.000000   \n",
       "I28 TECHNOLOGIES CORPORATION              15-1131             60000.000000   \n",
       "IAC SEARCH & MEDIA, INC.                  15-1133            110000.000000   \n",
       "IACQUIRE, LLC                             13-1161             44824.000000   \n",
       "IAPPAREL, LLC                             13-2051             95000.000000   \n",
       "IB TECHNOLOGY SOLUTIONS INC.              15-1141            110000.000000   \n",
       "IB TECHNOLOGY SOLUTIONS, INC.             15-1121             75000.000000   \n",
       "IBASE CONSULTING OF FAIRFIELD COUNTY, LLC 15-1199             90000.000000   \n",
       "IBISWORLD INC.                            13-1161             51000.000000   \n",
       "IBLESOFT INC                              15-1132            125000.000000   \n",
       "IBM CORPORATION                           15-1121.00         105000.000000   \n",
       "ZYLOG SYSTEMS LTD.                        15-1131             60000.000000   \n",
       "\n",
       "                                                                   \n",
       "                                                            count  \n",
       "lca_case_employer_name                    lca_case_soc_code        \n",
       "PRICEWATERHOUSECOOPERS, LLP               13-2011            1700  \n",
       "ERNST & YOUNG U.S. LLP                    13-1111            1117  \n",
       "                                          13-2011            1079  \n",
       "PRICEWATERHOUSECOOPERS, LLP               15-1121             950  \n",
       "                                          13-1111             875  \n",
       "DELOITTE & TOUCHE LLP                     13-2011             872  \n",
       "DELOITTE CONSULTING LLP                   15-1133             770  \n",
       "NEW YORK CITY DEPARTMENT OF EDUCATION     25-2022             766  \n",
       "                                          25-2031             766  \n",
       "DELOITTE CONSULTING LLP                   13-2051             751  \n",
       "WIPRO LIMITED                             15-1199             725  \n",
       "TATA CONSULTANCY SERVICES LIMITED         15-1199             705  \n",
       "PRICEWATERHOUSECOOPERS, LLP               13-2051             700  \n",
       "MPHASIS CORPORATION                       15-1121             695  \n",
       "DELOITTE CONSULTING LLP                   15-1121             636  \n",
       "CAPGEMINI FINANCIAL SERVICES USA INC      15-1121             560  \n",
       "DELOITTE & TOUCHE LLP                     13-1111             556  \n",
       "CAPGEMINI FINANCIAL SERVICES USA INC      15-1132             483  \n",
       "PRICEWATERHOUSECOOPERS, LLP               2021-11-01          475  \n",
       "DELOITTE TAX LLP                          13-2011             464  \n",
       "MPHASIS CORPORATION                       15-1131             430  \n",
       "BLOOMBERG, LP                             15-1132             422  \n",
       "NEW YORK CITY DEPARTMENT OF EDUCATION     25-2021             409  \n",
       "IGATE TECHNOLOGIES INC.                   15-1199             408  \n",
       "WIPRO LIMITED                             15-1131             383  \n",
       "MPHASIS CORPORATION                       15-1132             373  \n",
       "MINDTREE LIMITED                          15-1121             350  \n",
       "INFOSYS LIMITED                           15-1121             336  \n",
       "PRICEWATERHOUSECOOPERS, LLP               15-2011             300  \n",
       "PRICEWATERHOUSECOOPERS ADVISORY LLC       15-1121             300  \n",
       "...                                                           ...  \n",
       "ICOA GROUP LLC                            13-1161               1  \n",
       "ICODIA, INC.                              13-1161               1  \n",
       "ICON INVESTMENT GROUP, LLC                13-2051               1  \n",
       "                                          2021-11-01            1  \n",
       "ICONIX BRAND GROUP, LLC                   13-1161               1  \n",
       "ICONSOFT CONSULTING GROUP, INC.           15-1121               1  \n",
       "ICONSOFT INC.                             13-1111               1  \n",
       "ICRA SAPPHIRE, INC.                       15-1131               1  \n",
       "IBM CORPORATION                           15-2041.00            1  \n",
       "                                          15-1131.0             1  \n",
       "HUTCHIN HILL CAPITAL, LP                  13-2051               1  \n",
       "IBM CORPORATION                           15-1131               1  \n",
       "HUTCHIN HILL CAPITAL, LP                  15-2041               1  \n",
       "HWC VENTURES LLC                          15-1199               1  \n",
       "HYATT CORPORATION                         1951-11-01            1  \n",
       "HYDE LEADERSHIP CHARTER SCHOOL            25-2054               1  \n",
       "I VISION SOLUTIONS, INC                   15-1121               1  \n",
       "I-LINK SOLUTIONS INC.                     15-1132               1  \n",
       "                                          15-1199               1  \n",
       "I28 TECHNOLOGIES CORPORATION              15-1131               1  \n",
       "IAC SEARCH & MEDIA, INC.                  15-1133               1  \n",
       "IACQUIRE, LLC                             13-1161               1  \n",
       "IAPPAREL, LLC                             13-2051               1  \n",
       "IB TECHNOLOGY SOLUTIONS INC.              15-1141               1  \n",
       "IB TECHNOLOGY SOLUTIONS, INC.             15-1121               1  \n",
       "IBASE CONSULTING OF FAIRFIELD COUNTY, LLC 15-1199               1  \n",
       "IBISWORLD INC.                            13-1161               1  \n",
       "IBLESOFT INC                              15-1132               1  \n",
       "IBM CORPORATION                           15-1121.00            1  \n",
       "ZYLOG SYSTEMS LTD.                        15-1131               1  \n",
       "\n",
       "[13607 rows x 2 columns]"
      ]
     },
     "execution_count": 129,
     "metadata": {},
     "output_type": "execute_result"
    }
   ],
   "source": [
    "ny_visas_wage_byemp.sort_values(by = ('Yearly_wage', 'count'), ascending=False)"
   ]
  },
  {
   "cell_type": "markdown",
   "metadata": {},
   "source": [
    "By looking at the above table, it's clear that MPHASIS is applying for most of their visas within the 65k-68k range, but then a lot of them are at the 213k range as well. Some of the salaries are also in the 40-50K range, such as for the NYC Dept of Educations. This are non-profits, which aren't included in the regular quota, so perhaps they should be analyzed separately. "
   ]
  },
  {
   "cell_type": "code",
   "execution_count": 130,
   "metadata": {},
   "outputs": [
    {
     "name": "stdout",
     "output_type": "stream",
     "text": [
      "                            OLS Regression Results                            \n",
      "==============================================================================\n",
      "Dep. Variable:                   mean   R-squared:                       0.000\n",
      "Model:                            OLS   Adj. R-squared:                 -0.000\n",
      "Method:                 Least Squares   F-statistic:                  0.005477\n",
      "Date:                Thu, 10 Aug 2017   Prob (F-statistic):              0.941\n",
      "Time:                        14:41:46   Log-Likelihood:            -2.2387e+05\n",
      "No. Observations:               13607   AIC:                         4.477e+05\n",
      "Df Residuals:                   13605   BIC:                         4.478e+05\n",
      "Df Model:                           1                                         \n",
      "Covariance Type:            nonrobust                                         \n",
      "==============================================================================\n",
      "                 coef    std err          t      P>|t|      [0.025      0.975]\n",
      "------------------------------------------------------------------------------\n",
      "const       1.812e+05   2.92e+04      6.199      0.000    1.24e+05    2.39e+05\n",
      "count        -60.6460    819.479     -0.074      0.941   -1666.937    1545.645\n",
      "==============================================================================\n",
      "Omnibus:                    43983.207   Durbin-Watson:                   2.001\n",
      "Prob(Omnibus):                  0.000   Jarque-Bera (JB):       7176571439.750\n",
      "Skew:                          53.864   Prob(JB):                         0.00\n",
      "Kurtosis:                    3559.180   Cond. No.                         36.0\n",
      "==============================================================================\n",
      "\n",
      "Warnings:\n",
      "[1] Standard Errors assume that the covariance matrix of the errors is correctly specified.\n"
     ]
    }
   ],
   "source": [
    "import statsmodels.api as sm\n",
    "x = ny_visas_wage_byemp['Yearly_wage']['count']\n",
    "y = ny_visas_wage_byemp['Yearly_wage']['mean']\n",
    "x = sm.add_constant(x)\n",
    "model = sm.OLS(y, x)\n",
    "results = model.fit()\n",
    "print(results.summary())"
   ]
  },
  {
   "cell_type": "markdown",
   "metadata": {},
   "source": [
    "The model fit here is terrible as indicated by the R^2. Also the confidence interval for count is (-1666.937,1545.645), which contains 0. Hence we can safely conclude that count doesn't have a significant effect on average wages. Hence, number of jobs applied for doesn't seem to affect the wages."
   ]
  },
  {
   "cell_type": "code",
   "execution_count": 131,
   "metadata": {
    "collapsed": true
   },
   "outputs": [],
   "source": [
    "ny_visas_wage_byemp = pd.DataFrame(ny_visas_wage.groupby(['lca_case_employer_name','lca_case_soc_code']).agg(['mean', 'count']))"
   ]
  },
  {
   "cell_type": "code",
   "execution_count": 132,
   "metadata": {},
   "outputs": [
    {
     "data": {
      "text/plain": [
       "<matplotlib.axes._subplots.AxesSubplot at 0x119a79bd0>"
      ]
     },
     "execution_count": 132,
     "metadata": {},
     "output_type": "execute_result"
    },
    {
     "data": {
      "image/png": "[encoded data removed]",
      "text/plain": [
       "<matplotlib.figure.Figure at 0x1119c16d0>"
      ]
     },
     "metadata": {},
     "output_type": "display_data"
    }
   ],
   "source": [
    "sns.regplot(x = ny_visas_wage_byemp['Yearly_wage']['count'],y = ny_visas_wage_byemp['Yearly_wage']['mean'])"
   ]
  },
  {
   "cell_type": "markdown",
   "metadata": {},
   "source": [
    "Just by looking at the data, there doesn't seem to be any relationship. Let's not consider only wages below $300000 and companies that have applied for less than 1000 applications in a year."
   ]
  },
  {
   "cell_type": "code",
   "execution_count": 133,
   "metadata": {},
   "outputs": [
    {
     "data": {
      "text/plain": [
       "<matplotlib.axes._subplots.AxesSubplot at 0x119a82090>"
      ]
     },
     "execution_count": 133,
     "metadata": {},
     "output_type": "execute_result"
    },
    {
     "data": {
      "image/png": "[encoded data removed]",
      "text/plain": [
       "<matplotlib.figure.Figure at 0x119a4c590>"
      ]
     },
     "metadata": {},
     "output_type": "display_data"
    }
   ],
   "source": [
    "ny_visas_wage_byemp_red = ny_visas_wage_byemp.loc[(ny_visas_wage_byemp['Yearly_wage']['mean']<300000) \n",
    "                                                  & (ny_visas_wage_byemp['Yearly_wage']['count']<1000)]\n",
    "sns.regplot(x = ny_visas_wage_byemp_red['Yearly_wage']['count'],y = ny_visas_wage_byemp_red['Yearly_wage']['mean'])"
   ]
  },
  {
   "cell_type": "markdown",
   "metadata": {
    "collapsed": true
   },
   "source": [
    "The regression line still looks largely flat, which means that there really isn't a clear relationship between number of applications filed and wages paid. However, perhaps if we can figure out a way to separate out by which companies are non-profits and which companies are for-profit, there might be a clearer relationship. In general, a non-profit company usually pays lower wages (usually there are restirctions based on grants,etc where the wages are coming from) and will hire as many people as they need. This should be pretty stagnant year to year. However, for profits would pay wages depending on economic conditions. This could actually be an interesting question to explore."
   ]
  },
  {
   "cell_type": "code",
   "execution_count": 134,
   "metadata": {},
   "outputs": [
    {
     "data": {
      "text/plain": [
       "<matplotlib.axes._subplots.AxesSubplot at 0x119999ad0>"
      ]
     },
     "execution_count": 134,
     "metadata": {},
     "output_type": "execute_result"
    },
    {
     "data": {
      "image/png": "[encoded data removed]",
      "text/plain": [
       "<matplotlib.figure.Figure at 0x1193a6ad0>"
      ]
     },
     "metadata": {},
     "output_type": "display_data"
    }
   ],
   "source": [
    "ny_visas_wage_byemp_red2 = ny_visas_wage_byemp.loc[(ny_visas_wage_byemp['Yearly_wage']['mean']<300000) \n",
    "                                                   & (ny_visas_wage_byemp['Yearly_wage']['count']>5) \n",
    "                                                   & (ny_visas_wage_byemp['Yearly_wage']['count']<1000)]\n",
    "sns.regplot(x = ny_visas_wage_byemp_red2['Yearly_wage']['count'],y = ny_visas_wage_byemp_red2['Yearly_wage']['mean'])"
   ]
  },
  {
   "cell_type": "markdown",
   "metadata": {
    "collapsed": true
   },
   "source": [
    "If we consider companies that filed more than 5 applications, less than 1000 and consider wages below 300k, there seems to be slightly negative relationship, but this is mostly due to the points on the right."
   ]
  },
  {
   "cell_type": "code",
   "execution_count": 135,
   "metadata": {},
   "outputs": [
    {
     "data": {
      "text/plain": [
       "<matplotlib.axes._subplots.AxesSubplot at 0x11932ad10>"
      ]
     },
     "execution_count": 135,
     "metadata": {},
     "output_type": "execute_result"
    },
    {
     "data": {
      "image/png": "[encoded data removed]",
      "text/plain": [
       "<matplotlib.figure.Figure at 0x118cdcf10>"
      ]
     },
     "metadata": {},
     "output_type": "display_data"
    }
   ],
   "source": [
    "ny_visas_wage_byemp_red3 = ny_visas_wage_byemp.loc[(ny_visas_wage_byemp['Yearly_wage']['mean']<300000) \n",
    "                                                   & (ny_visas_wage_byemp['Yearly_wage']['count']<5)]\n",
    "sns.regplot(x = ny_visas_wage_byemp_red3['Yearly_wage']['count'],y = ny_visas_wage_byemp_red3['Yearly_wage']['mean'])"
   ]
  },
  {
   "cell_type": "markdown",
   "metadata": {
    "collapsed": true
   },
   "source": [
    "When we look at companies that filed under 5 applications, the mean wages seem very evenly distibuted, i.e. the wages seem independent of the number of applications filed."
   ]
  },
  {
   "cell_type": "markdown",
   "metadata": {},
   "source": [
    "<a id = 'brainstorming'></a>"
   ]
  },
  {
   "cell_type": "markdown",
   "metadata": {},
   "source": [
    "## Brainstorming"
   ]
  },
  {
   "cell_type": "markdown",
   "metadata": {},
   "source": [
    "1. The first question that could be answered is comparing salaries for H1B jobs to salaries for all jobs. H1bs are specialty occupations and hence we would expect the average salary H1b workers make is higher than the national or statewide average. We would need external data for this such as occupation wise national averages. We would want to control for variables such as company, location, job title, possible interactions between location and job title, etc.\n",
    "\n",
    "2. One thing that would be worth exploring was whether whether it is easier for certain industries/categories/jobtypes/wages groups to get approvals. This would simply involve looking at proportion of accepted applications based on industries/categories/jobtypes and see if these are different. This doesn't necessarily need external data. What I think I'll explore is whether certain wage groups make it more likely for you to get an approval or not. This could indicate bias in the decison making. This is the one I worked on. Please see below for more details.\n",
    "\n",
    "3. We could try and see if it possible to predict processing time based on some features. No external data is needed for this. We would just need to look at processing times as a function of company, state, job type, etc. So instead of using it as a feature, we would use it as the response variable.\n",
    "\n",
    "4. It would be really interesting if there was someway to measure the economic impact of H1bs. There could be many ways of looking at this. The first and most obvious approach is to simply look at two different time periods - look at changes in profitability and changes in H1b filings and see if there is a difference. A more interesting question to answer would be see the effect of H1bs on economic activity in general. One possible avenue to explore this is statewise: we would like to see if the number of H1Bs filed differ across states, and if this somehow translates into economic activity for those states. This would help us understand if H1Bs CAUSE more economic activity? Of course in doing this kind of analysis we would somehow need to control for economic activity that could be attributed to everything else. The basic model would be GDP_2015 = f(GDP_2014,# of H1Bs) for each state.\n",
    "\n",
    "5. Can we figure out who is trying to spam the system? This is really difficult to do. There's no way of figuring out if the job they are applying for really is the work they will be doing? One basic way would be to look at prevailing wage for the job type and then comparing them to what is being proposed, but I imagine if this is happening, it happens at a more subtle basis. One was is to overpay for the position and underpay for the experience. Then this becomes more a problem of matching the people to the jobs they are doing, comparing their previous experience, etc. I think this would be super interesting, but probably beyond the scope of this project. \n",
    "\n"
   ]
  },
  {
   "cell_type": "markdown",
   "metadata": {},
   "source": [
    "<a id = 'exploration1'></a>"
   ]
  },
  {
   "cell_type": "markdown",
   "metadata": {},
   "source": [
    "## Exploration 1"
   ]
  },
  {
   "cell_type": "markdown",
   "metadata": {},
   "source": [
    "We want to identify whether the H1b granting processs is biased, i.e. are people more likely to get a positive results given they are in a certain company or job category or wage category or state? The major question I would actually like to explore where the company actually makes a difference. One way to do this would be to consider the company as a treatment effect, and show that based controlling for all other variables like state, wage levels (perhaps categorized), job category (SOC-codes or SOC-names, depending on which is smaller). Note that here the goals isn't predicting whether the case wouldb be accepted or not - this would be easy to do. We just set up the covariates and do a logistic regression or classification based on that (Hence, there's no point in doing a train test split except for tuning parameter selection). There's actually several online projects that has already done this. What I'm trying to do is (hopefully) show that the company doesn't have a causal effect on the probability of an application getting accepted, which would be quite unfortunate. "
   ]
  },
  {
   "cell_type": "code",
   "execution_count": 136,
   "metadata": {
    "collapsed": true
   },
   "outputs": [],
   "source": [
    "data['lca_case_soc_code'] = data['lca_case_soc_code'].astype(str)\n",
    "data['lca_case_soc_code'] = [x.split('.')[0] for x in data['lca_case_soc_code']]"
   ]
  },
  {
   "cell_type": "code",
   "execution_count": 137,
   "metadata": {
    "collapsed": true
   },
   "outputs": [],
   "source": [
    "data_dropna = data.dropna()"
   ]
  },
  {
   "cell_type": "code",
   "execution_count": 138,
   "metadata": {
    "collapsed": true
   },
   "outputs": [],
   "source": [
    "def getCertPct(var):\n",
    "    data = pd.concat([data_dropna.loc[data_dropna['status']=='CERTIFIED'].groupby([var])['status'].count()/data_dropna.groupby([var])['status'].count().fillna(0),\n",
    "                    data_dropna.groupby([var])['status'].count()], axis = 1)\n",
    "    data.columns = ['prop','count']\n",
    "    return data"
   ]
  },
  {
   "cell_type": "code",
   "execution_count": 139,
   "metadata": {},
   "outputs": [
    {
     "name": "stdout",
     "output_type": "stream",
     "text": [
      "                                                        prop  count\n",
      "lca_case_employer_name                                             \n",
      "360 IT PRO                                          1.000000      1\n",
      "3EDGEUSAGROUP LLC                                        NaN      4\n",
      "3I INFOTECH, INC.                                   1.000000      1\n",
      "3I PEOPLE, INC.                                     1.000000      2\n",
      "A CARING DOCTOR (TEXAS), P.C.                       1.000000      2\n",
      "A.T. KEARNEY, INC.                                  1.000000      5\n",
      "A2Z DEVELOPMENT CENTER INC                          0.714286     14\n",
      "A2Z DEVELOPMENT CENTER INC.                         1.000000      1\n",
      "A2Z DEVELOPMENT CENTER, INC.                        0.966667     30\n",
      "A3LOGICS, INC.                                      1.000000      1\n",
      "AAA NORTHERN CALIFORNIA, NEVADA & UTAH INSURANCE E       NaN      1\n",
      "AARCEE CONSULTANCY INC                              1.000000      4\n",
      "AARKAY CONSULTING INC.                              1.000000      1\n",
      "ABB INC.                                            1.000000      5\n",
      "ABDUL NAUSHAD, MD, P.C.                             1.000000      1\n",
      "ABERCROMBIE & FITCH TRADING CO.                     1.000000      1\n",
      "ABINGTON MEMORIAL HOSPITAL                          0.642857     14\n",
      "ABIT W-SERVICES, INC.                                    NaN      1\n",
      "ACADEMIC INTERNAL MEDICINE SPECIALISTS, PLLC        1.000000      2\n",
      "ACADEMIC MEDICINE SERVICES, INC.                    1.000000      1\n",
      "ACADEMIE LAFAYETTE                                  1.000000      1\n",
      "ACADEMY DEL SOL, INC                                     NaN      1\n",
      "ACCELERATED INNOVATORS, INC.                        1.000000      1\n",
      "ACCESS PHYSICAL THERAPY WELLNESS PLLC               1.000000      1\n",
      "ACE COMMUNICATIONS CORP.                            1.000000      2\n",
      "ACMETEK GLOBAL SOLUTIONS INC                        1.000000      1\n",
      "ACTIVE PHYSICAL THERAPY SERVICES, LLC               0.666667      3\n",
      "ADECCO GROUP NA/MODIS, INC.                         1.000000      1\n",
      "ADHERIS, INC.                                       1.000000      1\n",
      "ADI WORLDLINK, LLC                                  1.000000      2\n",
      "...                                                      ...    ...\n",
      "WYNDHAM VACATION OWNERSHIP, INC.                    1.000000      3\n",
      "WYNRIGHT                                            1.000000      1\n",
      "XACTLY CORPORATION                                  1.000000      1\n",
      "XORIANT CORPORATION                                 1.000000      2\n",
      "XTRON SOFTWARE SERVICES, INC.                       1.000000      1\n",
      "XYLEME, INC.                                        1.000000      1\n",
      "YAHOO! INC.                                         0.863636     22\n",
      "YAKIMA CHEST CLINIC PC                              1.000000      6\n",
      "YAKIMA HEART CENTER, INC.,                          1.000000      1\n",
      "YAKIMA HMA PHYSICIAN MANAGEMENT LLC                 0.500000      2\n",
      "YAKIMA VALLEY FARM WORKERS CLINIC                   1.000000      2\n",
      "YASHCO SYSTEMS, INC.                                1.000000      1\n",
      "YAZAKI NORTH AMERICA, INC.                               NaN      1\n",
      "YOU TECHNOLOGY BRAND SERVICES, INC.                 1.000000      1\n",
      "YOU TECHNOLOGY LLC                                  1.000000      1\n",
      "Z AND A INFOTEK CORPORATION                         1.000000     19\n",
      "Z TEK CONSULTING INC.                               1.000000      1\n",
      "Z3 TECHNOLOGIES INC                                 1.000000      1\n",
      "ZANETT COMMERCIAL SOLUTIONS, INC.                   1.000000      1\n",
      "ZAPPRX, INC.                                        1.000000      1\n",
      "ZEDVENTURES INC.                                    1.000000      1\n",
      "ZELLO, INC.                                         1.000000      1\n",
      "ZEN SOLUTIONS INC                                        NaN      1\n",
      "ZENOSYS LLC                                         1.000000      1\n",
      "ZENSAR TECHNOLOGIES INC.                            1.000000     35\n",
      "ZODIAC SERVICES AMERICAS, LLC                       1.000000      1\n",
      "ZOETIS, INC.                                        1.000000      1\n",
      "ZS ASSOCIATES, INC.                                 1.000000      7\n",
      "ZYLOG SYSTEMS LTD.                                  1.000000     18\n",
      "ZYNGA INC.                                          0.062500     16\n",
      "\n",
      "[1912 rows x 2 columns]\n"
     ]
    }
   ],
   "source": [
    "cert_emp_name = getCertPct('lca_case_employer_name')\n",
    "print cert_emp_name"
   ]
  },
  {
   "cell_type": "markdown",
   "metadata": {
    "collapsed": true
   },
   "source": [
    "In the above table, we see the probability of getting accepted based on the company and the number of applications. NaNs essentially mean that the probability of getting accepted is 0. These are interesting explorations, but obviously not good enough to show causality. Also, this hints at some data cleaning because a lot of companies just have one application, in which case we should drop them from the analysis because they would just create noise. In the following analysis, I only consider companies that have at least 5 applications."
   ]
  },
  {
   "cell_type": "code",
   "execution_count": 140,
   "metadata": {
    "collapsed": true
   },
   "outputs": [],
   "source": [
    "compM1 = cert_emp_name[cert_emp_name['count']>5].index"
   ]
  },
  {
   "cell_type": "code",
   "execution_count": 141,
   "metadata": {
    "collapsed": true
   },
   "outputs": [],
   "source": [
    "dataM1 = data_dropna.loc[data_dropna['lca_case_employer_name'].isin(compM1)]"
   ]
  },
  {
   "cell_type": "code",
   "execution_count": 142,
   "metadata": {
    "collapsed": true,
    "scrolled": true
   },
   "outputs": [],
   "source": [
    "from sklearn import preprocessing\n",
    "le = preprocessing.LabelEncoder()\n",
    "le.fit(dataM1['lca_case_employer_name'])\n",
    "dataM1.loc[:,'employer_name'] = le.transform(dataM1['lca_case_employer_name'])"
   ]
  },
  {
   "cell_type": "code",
   "execution_count": 143,
   "metadata": {},
   "outputs": [
    {
     "data": {
      "text/plain": [
       "Index([], dtype='object')"
      ]
     },
     "execution_count": 143,
     "metadata": {},
     "output_type": "execute_result"
    }
   ],
   "source": [
    "## check where the n/a are\n",
    "dataM1nas = pd.isnull(dataM1).apply(sum, axis = 0)\n",
    "dataM1nas.index[dataM1nas != 0]"
   ]
  },
  {
   "cell_type": "markdown",
   "metadata": {},
   "source": [
    "No NaNs. So we can move forward with our analysis."
   ]
  },
  {
   "cell_type": "code",
   "execution_count": 144,
   "metadata": {
    "collapsed": true
   },
   "outputs": [],
   "source": [
    "dataM1 = dataM1.loc[(dataM1['status']=='CERTIFIED')|(dataM1['status']=='DENIED')]\n",
    "dataM1_treated = dataM1.loc[(dataM1['status']=='DENIED')]\n",
    "dataM1_untreated = dataM1.loc[(dataM1['status']=='CERTIFIED')]"
   ]
  },
  {
   "cell_type": "markdown",
   "metadata": {},
   "source": [
    "Now we are defining two functions that help us prepare the data for running a logistic regression or do propensity score matching."
   ]
  },
  {
   "cell_type": "code",
   "execution_count": 145,
   "metadata": {
    "collapsed": true
   },
   "outputs": [],
   "source": [
    "def getYX(dataM1):\n",
    "    Y = dataM1['status']\n",
    "    X = pd.get_dummies(dataM1['lca_case_employer_state'], prefix='lca_case_employer_state', prefix_sep='_', drop_first=True)\n",
    "    X = pd.concat([X,pd.get_dummies(dataM1['lca_case_employer_name'], prefix='lca_case_employer_name', prefix_sep='_', drop_first=True)],axis = 1)\n",
    "    X = pd.concat([X,pd.get_dummies(dataM1['lca_case_soc_name'], prefix='lca_case_soc_name', prefix_sep='_', drop_first=True)],axis = 1)\n",
    "    X = pd.concat([X,pd.get_dummies(dataM1['full_time_pos'], prefix='full_time_pos', prefix_sep='_', drop_first=True)],axis = 1)\n",
    "    X = pd.concat([X,dataM1['proc_time']],axis = 1)\n",
    "    X = pd.concat([X,dataM1['lca_case_wage_rate_from']],axis = 1)\n",
    "    return (Y,X)\n",
    "\n",
    "def getYDX(dataM1,employer_name):\n",
    "    Y = dataM1['status']\n",
    "    D = (dataM1['lca_case_employer_name'] == employer_name)*1.0\n",
    "    X = pd.get_dummies(dataM1['lca_case_employer_state'], prefix='lca_case_employer_state', prefix_sep='_', drop_first=True)\n",
    "    X = pd.concat([X,pd.get_dummies(dataM1['lca_case_soc_name'], prefix='lca_case_soc_name', prefix_sep='_', drop_first=True)],axis = 1)\n",
    "    X = pd.concat([X,pd.get_dummies(dataM1['full_time_pos'], prefix='full_time_pos', prefix_sep='_', drop_first=True)],axis = 1)\n",
    "    X = pd.concat([X,dataM1['proc_time']],axis = 1)\n",
    "    X = pd.concat([X,dataM1['lca_case_wage_rate_from']],axis = 1)\n",
    "    return (Y,D,X)"
   ]
  },
  {
   "cell_type": "markdown",
   "metadata": {},
   "source": [
    "I chose not to scale ther data doesn't as we only looked at mostly dummy variables, with only 1 quantitative variable. "
   ]
  },
  {
   "cell_type": "code",
   "execution_count": 146,
   "metadata": {
    "collapsed": true
   },
   "outputs": [],
   "source": [
    "YX = getYX(dataM1)"
   ]
  },
  {
   "cell_type": "code",
   "execution_count": 147,
   "metadata": {
    "collapsed": true
   },
   "outputs": [],
   "source": [
    "Y = YX[0]\n",
    "Y = pd.get_dummies(Y)['DENIED']\n",
    "X = YX[1]"
   ]
  },
  {
   "cell_type": "markdown",
   "metadata": {},
   "source": [
    "We are not interested in prediction, but just to test how well our model does, I do a train test split anyways."
   ]
  },
  {
   "cell_type": "code",
   "execution_count": 148,
   "metadata": {
    "collapsed": true
   },
   "outputs": [],
   "source": [
    "from sklearn.model_selection import train_test_split\n",
    "X_train, X_test, Y_train, Y_test = train_test_split(X, Y, test_size = 0.3)"
   ]
  },
  {
   "cell_type": "code",
   "execution_count": 149,
   "metadata": {
    "collapsed": true
   },
   "outputs": [],
   "source": [
    "from sklearn.preprocessing import StandardScaler\n",
    "scaler = StandardScaler()\n",
    "scaler.fit(X_train)\n",
    "X_train_scaled = scaler.transform(X_train)\n",
    "X_test_scaled = scaler.transform(X_test)"
   ]
  },
  {
   "cell_type": "code",
   "execution_count": 150,
   "metadata": {},
   "outputs": [
    {
     "name": "stderr",
     "output_type": "stream",
     "text": [
      "/anaconda/envs/python2/lib/python2.7/site-packages/sklearn/metrics/classification.py:1113: UndefinedMetricWarning: F-score is ill-defined and being set to 0.0 due to no predicted samples.\n",
      "  'precision', 'predicted', average, warn_for)\n"
     ]
    },
    {
     "data": {
      "text/plain": [
       "LogisticRegressionCV(Cs=10, class_weight='balanced', cv=None, dual=False,\n",
       "           fit_intercept=True, intercept_scaling=1.0, max_iter=100,\n",
       "           multi_class='ovr', n_jobs=1, penalty='l1', random_state=None,\n",
       "           refit=True, scoring='f1', solver='liblinear', tol=0.0001,\n",
       "           verbose=0)"
      ]
     },
     "execution_count": 150,
     "metadata": {},
     "output_type": "execute_result"
    }
   ],
   "source": [
    "from sklearn.linear_model import LogisticRegressionCV\n",
    "logis = LogisticRegressionCV(penalty='l1', scoring='f1', solver='liblinear', class_weight='balanced')\n",
    "logis.fit(X_train_scaled, Y_train)"
   ]
  },
  {
   "cell_type": "code",
   "execution_count": 151,
   "metadata": {},
   "outputs": [
    {
     "data": {
      "image/png": "[encoded data removed]",
      "text/plain": [
       "<matplotlib.figure.Figure at 0x11ac96c50>"
      ]
     },
     "metadata": {},
     "output_type": "display_data"
    }
   ],
   "source": [
    "from sklearn.metrics import roc_curve, auc\n",
    "import matplotlib.pyplot as plt \n",
    "Y_pred = logis.predict_proba(X_test_scaled)\n",
    "fpr, tpr, _ = roc_curve(Y_test.ravel(), Y_pred[:,1].ravel())\n",
    "roc_auc = auc(fpr, tpr)\n",
    "plt.figure()\n",
    "lw = 2\n",
    "plt.plot(fpr, tpr, color='darkorange',\n",
    "         lw=lw, label='ROC curve (area = %0.2f)' % roc_auc)\n",
    "plt.plot([0, 1], [0, 1], color='navy', lw=lw, linestyle='--')\n",
    "plt.xlim([0.0, 1.0])\n",
    "plt.ylim([0.0, 1.05])\n",
    "plt.xlabel('False Positive Rate')\n",
    "plt.ylabel('True Positive Rate')\n",
    "plt.title('Receiver operating characteristic example')\n",
    "plt.legend(loc=\"lower right\")\n",
    "plt.show()"
   ]
  },
  {
   "cell_type": "markdown",
   "metadata": {},
   "source": [
    "As evidenced by the area under the ROC curve, the logistic model doesn't do a very good job of doing predicting. One way to check model fit for logistic models is using deviance, but that isn't available on sklearn. While we are mostly interested in the variable coefficients to try and decipher whether some job type has a positive of negative effect, this should give us reason to take our results with a grain of salt. For the next part, we fit on the entire data as we are mostly interested in interpretation and inference and not prediction."
   ]
  },
  {
   "cell_type": "code",
   "execution_count": 152,
   "metadata": {},
   "outputs": [
    {
     "data": {
      "text/plain": [
       "StandardScaler(copy=True, with_mean=True, with_std=True)"
      ]
     },
     "execution_count": 152,
     "metadata": {},
     "output_type": "execute_result"
    }
   ],
   "source": [
    "scaler.fit(X)"
   ]
  },
  {
   "cell_type": "code",
   "execution_count": 153,
   "metadata": {
    "collapsed": true
   },
   "outputs": [],
   "source": [
    "X_scaled = scaler.transform(X)"
   ]
  },
  {
   "cell_type": "code",
   "execution_count": 154,
   "metadata": {},
   "outputs": [
    {
     "data": {
      "text/plain": [
       "LogisticRegressionCV(Cs=10, class_weight='balanced', cv=None, dual=False,\n",
       "           fit_intercept=True, intercept_scaling=1.0, max_iter=100,\n",
       "           multi_class='ovr', n_jobs=1, penalty='l1', random_state=None,\n",
       "           refit=True, scoring='f1', solver='liblinear', tol=0.0001,\n",
       "           verbose=0)"
      ]
     },
     "execution_count": 154,
     "metadata": {},
     "output_type": "execute_result"
    }
   ],
   "source": [
    "logis = LogisticRegressionCV(penalty='l1', scoring='f1', solver='liblinear', class_weight='balanced')\n",
    "logis.fit(X_scaled, Y)"
   ]
  },
  {
   "cell_type": "code",
   "execution_count": 155,
   "metadata": {
    "scrolled": false
   },
   "outputs": [
    {
     "name": "stdout",
     "output_type": "stream",
     "text": [
      "The companies with a positive effect on the probability of getting DENIED are:\n",
      "ANALYSIS GROUP, INC.\n",
      "APEX IT SERVICES, LLC\n",
      "APPLE INC.\n",
      "ARTECH INFORMATION SYSTEMS LLC\n",
      "ASCENA RETAIL GROUP\n",
      "AURIONPRO SOLUTIONS, INC.\n",
      "AVNET, INC.\n",
      "BANNER MEDICAL GROUP\n",
      "BLOOMBERG, LP\n",
      "CAPGEMINI GOVERNMENT SOLUTIONS LLC\n",
      "CAPGEMINI U.S. LLC\n",
      "CAPGEMINI US LLC\n",
      "CB&I INC.\n",
      "CELANESE CORPORATION\n",
      "CINCINNATI CHILDREN'S HOSPITAL MEDICAL CENTER\n",
      "CISCO SYSTEMS, INC.\n",
      "CITADEL LLC\n",
      "COMCAST CABLE COMMUNICATIONS, LLC\n",
      "COMTEC CONSULTANTS, INC.\n",
      "COVANEX, INC.\n",
      "DAL-TILE CORPORATION\n",
      "DIONA TECHNOLOGIES (US) INC\n",
      "DROISYS, INC.\n",
      "ECLINICALWORKS, LLC\n",
      "EGEN SOLUTIONS INC.\n",
      "EMC CORPORATION\n",
      "EMERGYS CORPORATION\n",
      "ENTERPRISE HOLDINGS, INC.\n",
      "FEDERAL NATIONAL MORTGAGE ASSOCIATION\n",
      "FIDELITY BROKERAGE SERVICES LLC\n",
      "GALAX-ESYSTEMS CORPORATION\n",
      "GENESIS ELDERCARE REHABILITATION SERVICES, INC.\n",
      "GLOBALGATE IT SOLUTIONS, LLC\n",
      "HCL AMERICA, INC.\n",
      "HP ENTERPRISE SERVICES, LLC\n",
      "HUMANA INC.\n",
      "IDB ADMINS INC\n",
      "INDU, LLC\n",
      "INTEGRIS HEALTH, INC.\n",
      "INTELLECT BUSINESS SOLUTIONS, LLC\n",
      "JOHNSON CONTROLS, INC.\n",
      "JRD SYSTEMS, INC.\n",
      "KPMG LLP\n",
      "LAMINGTON PEDIATRICS, PC.\n",
      "MAGANTI IT RESOURCES, LLC\n",
      "MENLO LOGISTICS, INC. DBA MENLO WORLDWIDE LOGISTIC\n",
      "MERIDIAN HEALTH SERVICES CORP\n",
      "MINDTECH SOLUTIONS\n",
      "NAVIGATOR MANAGEMENT PARTNERS, LLC\n",
      "NETSCOUT SYSTEMS, INC.\n",
      "NORTH CAROLINA STATE UNIVERSITY\n",
      "NORTHGATEARINSO, INC.\n",
      "ORACLE FINANCIAL SERVICES SOFTWARE, INC.\n",
      "PACIFICA CONSULTING SERVICES, LLC\n",
      "POLAR IT SERVICES INC\n",
      "RBC CAPITAL MARKETS, LLC\n",
      "REDEEMSOFT, LLC\n",
      "RESOLUTION HEALTH, INC.\n",
      "RIVERBED TECHNOLOGY, INC.\n",
      "ROCKET FUEL, INC.\n",
      "ROOM 5 INCORPORATED\n",
      "SABRE GLBL INC.\n",
      "SABRE INC.\n",
      "SAGGEZZA, INC.\n",
      "SEARS HOLDINGS MANAGEMENT CORPORATION\n",
      "SIEMENS PLM SOFTWARE INC.\n",
      "SOFTCRYLIC LLC\n",
      "STAGE STORES, INC.\n",
      "SUMMIT MEDICAL GROUP, INC.\n",
      "TALISMAN ENERGY USA INC.\n",
      "TELECOM TECHNOLOGY SERVICES, INC.\n",
      "THE CURATORS OF THE UNIVERSITY OF MISSOURI\n",
      "TT TECHNOLOGIES INC\n",
      "VELAGA ASSOCIATES, INC.\n",
      "WEEKS MARINE, INC.\n",
      "WELLPOINT, INC.\n",
      "ZYNGA INC.\n"
     ]
    }
   ],
   "source": [
    "pos_coeffs = X.columns[(logis.coef_>0)[0]]\n",
    "print 'The companies with a positive effect on the probability of getting DENIED are:'\n",
    "for x in pos_coeffs:\n",
    "    if 'lca_case_employer_name' in x:\n",
    "        print x.split('name_')[1]"
   ]
  },
  {
   "cell_type": "markdown",
   "metadata": {},
   "source": [
    "It looks like processing time, full time position have positive effects. Statisticians also have a positive effect on the probability of getting approved, which I wouldn't have expected."
   ]
  },
  {
   "cell_type": "code",
   "execution_count": 156,
   "metadata": {
    "scrolled": false
   },
   "outputs": [
    {
     "name": "stdout",
     "output_type": "stream",
     "text": [
      "The companies with a negative effect on the probability of getting DENIED are:\n",
      "A2Z DEVELOPMENT CENTER, INC.\n",
      "ABINGTON MEMORIAL HOSPITAL\n",
      "ADITI TECHNOLOGIES PVT. LTD.\n",
      "ADROIX CORP\n",
      "ADROIX CORP.\n",
      "AKAMAI TECHNOLOGIES, INC.\n",
      "ALBERT EINSTEIN MEDICAL CENTER\n",
      "ALCATEL-LUCENT USA INC\n",
      "ALLINA HEALTH SYSTEM\n",
      "ALLTECH CONSULTING SERVICES INC\n",
      "AMAZON CORPORATE LLC\n",
      "AMAZON WEB SERVICES, INC.\n",
      "AMAZON.COM.DEDC LLC\n",
      "AMERICAN IMAGING MANAGEMENT, INC.\n",
      "AMICUS SYSTEMS INC\n",
      "APPALACHIAN REGIONAL HEALTHCARE, INC.\n",
      "APPIRIO INC.\n",
      "APPLICATIONS SOFTWARE TECHNOLOGY CORPORATION\n",
      "APPSTEK INC\n",
      "ARMO CONSULTANTS\n",
      "ASTA CRS, INC.\n",
      "ATLAS SYSTEMS INC.\n",
      "ATTUNE CONSULTING USA INC.\n",
      "AUTODESK, INC.\n",
      "AZIMETRY INC.\n",
      "BANK OF AMERICA N.A.\n",
      "BARCLAYS SERVICES CORP.\n",
      "BETA SOFT SYSTEMS INC\n",
      "BIGCOMMERCE, INC.\n",
      "BLACK & VEATCH CORPORATION\n",
      "BLACKROCK FINANCIAL MANAGEMENT, INC.\n",
      "BOOMERANG COMMERCE, INC.\n",
      "BOSS TECHNOLOGIES, INC\n",
      "BRIGHAM AND WOMEN'S HOSPITAL\n",
      "BROADCOM CORPORATION\n",
      "CADENCE DESIGN SYSTEMS, INC.\n",
      "CAPGEMINI AMERICA, INC.\n",
      "CAPGEMINI FINANCIAL SERVICES USA INC\n",
      "CAREMARK, LLC\n",
      "CARESOFT GLOBAL, INC.\n",
      "CGN & ASSOCIATES, INC.\n",
      "CHILDREN'S NATIONAL MEDICAL CENTER\n",
      "CHINASOFT INTERNATIONAL INC.\n",
      "CIBER, INC.\n",
      "CITIZENS FINANCIAL GROUP, INC.\n",
      "CLOUDERA, INC.\n",
      "CLOUDQUEST TECHNOLOGIES, LLC\n",
      "COGNILYTICS INC\n",
      "COMPIRION HEALTHCARE SOLUTIONS, LLC\n",
      "COMPUNNEL SOFTWARE GROUP, INC.\n",
      "CONTINENTAL AUTOMOTIVE SYSTEMS, INC.\n",
      "CORPORATE BIZ SOLUTIONS, INC.\n",
      "CUMMINS INC.\n",
      "CYBYTE, INC.\n",
      "DAMIAN CONSULTING INC\n",
      "DARTMOUTH COLLEGE\n",
      "DATA, INC.\n",
      "DELOITTE CONSULTING LLP\n",
      "DETROIT EDUCATION & RESEARCH\n",
      "DIGNITY HEALTH\n",
      "DIVENSI INC.\n",
      "DOTCOM TEAM, LLC\n",
      "DVI TECHNOLOGES, INC.\n",
      "DVI TECHNOLOGIES, INC.\n",
      "DW MATRIX INC\n",
      "DYNPRO, INC.\n",
      "E-DATA EXPERTS INC\n",
      "EGEN SOLUTIONS INC\n",
      "ENVISAGE INFORMATION SYSTEMS, LLC\n",
      "EPI-USE AMERICA, INC.\n",
      "ERICSSON INC.\n",
      "ESOURCE TECHNOLOGY, LLC\n",
      "ESTUATE, INC\n",
      "EXLSERVICE.COM, LLC\n",
      "FEDERAL HOME LOAN MORTGAGE CO.\n",
      "FERMI RESEARCH ALLIANCE, LLC\n",
      "FOURTH TECHNOLOGIES, INC.\n",
      "FRANCISCAN HEALTH SYSTEM\n",
      "FUZEBOX SOFTWARE CORPORATION\n",
      "GILBERT, BARBEE, MOORE & MCILVOY, PSC\n",
      "GLAXOSMITHKLINE LLC\n",
      "GLOBAL EDGE SOFTWARE, INC\n",
      "GLOBAL EDGE SOFTWARE, INC.\n",
      "GLOBALFOUNDRIES U.S. INC.\n",
      "GLOBALLOGIC, INC.\n",
      "GOKEN AMERICA LLC\n",
      "GOKEN AMERICA, LLC\n",
      "GRANT THORNTON LLP\n",
      "GRID DYNAMICS INTERNATIONAL, INC.\n",
      "GROUPON, INC.\n",
      "HANCE INCORPORATED\n",
      "HEADSTRONG SERVICES LLC\n",
      "HEALTHCORE, INC.\n",
      "HEWLETT-PACKARD COMPANY\n",
      "HUDSON DATA LLC\n",
      "I.T SOFTWARE SOLUTIONS, INC.\n",
      "I.T. SOFTWARE SOLUTIONS, INC.\n",
      "IBM CORPORATION\n",
      "IDEA2RESULTS, INC.\n",
      "IDEO LP\n",
      "IFUSIONIT LLC\n",
      "IKASYSTEMS CORPORATION\n",
      "ILINK SYSTEMS, INC.\n",
      "IMAGINEA TECHNOLOGIES, INC.\n",
      "INFOGAIN CORPORATION\n",
      "INFOYUGA TECHNOLOGIES, INC.\n",
      "INNOVATIVE SYSTEMS GROUP, INC.\n",
      "INTEL CORPORATION\n",
      "INTERACTIVE BROADBAND CONSULTING GROUP, LLC\n",
      "INTRALINKS, INC.\n",
      "INTUIT INC.\n",
      "IT CATS, LLC\n",
      "JACOBS ENGINEERING GROUP INC.\n",
      "JDA SOFTWARE GROUP, INC.\n",
      "JDA SOFTWARE, INC.\n",
      "JUNIPER NETWORKS (US), INC.\n",
      "KAIZEN TECHNOLOGIES,NC.\n",
      "KC SYNERGY SOLUTIONS, INC.\n",
      "KESHAV CONSULTING SOLUTIONS, LLC\n",
      "KINETICOM, INC.\n",
      "LAKSAN TECHNOLOGIES, LLC\n",
      "LANGUAGE STARS, LLC.\n",
      "LAUNCH IT CORP\n",
      "LINKEDIN CORPORATION\n",
      "LOGIC PLANET INC\n",
      "MARK INFOTECH, INC.\n",
      "MARY HITCHCOCK MEMORIAL HOSPITAL\n",
      "MASTECH, INC., A MASTECH HOLDINGS, INC. COMPANY\n",
      "MATRIX RESOURCES, INC.\n",
      "MEDEANALYTICS, INC.\n",
      "MEDTRONIC, INC.\n",
      "MEMORIAL SLOAN-KETTERING CANCER CENTER\n",
      "MICAN TECHNOLOGIES, INC.\n",
      "MODEL N, INC.\n",
      "MONSTER WORLDWIDE, INC.\n",
      "MOUNTAIN STATES PHYSICIAN GROUP, INC.\n",
      "MOXIE SYSTEMS, INC.\n",
      "MURPHY-BROWN LLC\n",
      "MYRIAD CONSULTING, INC.\n",
      "NAVISTAR, INC.\n",
      "NEWEGG INC.\n",
      "NEXGEN WIRELESS INC.\n",
      "NISUM TECHNOLOGIES INC.\n",
      "NU INFO SYSTEMS INC.\n",
      "OBJECT FRONTIER, INC.\n",
      "OPENET TELECOM, INC.\n",
      "OPTUM SERVICES, INC.\n",
      "ORACLE AMERICA, INC.\n",
      "ORASYS LLC\n",
      "ORDUSION TECHNOLOGIES, INC.\n",
      "OST, INC.\n",
      "PARKER HANNIFIN CORPORATION\n",
      "PEACEHEALTH\n",
      "PEGASYSTEMS INC.\n",
      "PERFICIENT, INC.\n",
      "PINES HEALTH SERVICES\n",
      "POPLAR BLUFF HMA PHYSICIAN MANAGEMENT LLC\n",
      "PRESBYTERIAN HEALTHCARE SERVICES\n",
      "PRIMUS GLOBAL SERVICES, INC\n",
      "QSI SERVICES, INC.\n",
      "QUALCOMM ATHEROS, INC.\n",
      "QUALCOMM CONNECTED EXPERIENCES, INC.\n",
      "QUALCOMM GLOBAL SERVICES INC.\n",
      "QUALCOMM INCORPORATED\n",
      "QUALCOMM INNOVATION CENTER INC.\n",
      "QUALCOMM MEMS TECHNOLOGIES INC.\n",
      "QUALCOMM TECHNOLOGIES, INC.\n",
      "QUALITY MATRIX INC\n",
      "QUEST DIAGNOSTICS INCORPORATED\n",
      "RADIANT TECHNOLOGIES, INC.\n",
      "RBS CITIZENS FINANCIAL GROUP, INC.\n",
      "RENEE SYSTEMS, INC\n",
      "ROCHESTER GENERAL HOSPITAL\n",
      "ROHM AND HAAS CHEMICALS, LLC, A SUBSIDIARY OF THE\n",
      "SAAMA TECHNOLOGIES, INC.\n",
      "SAGITEC SOLUTIONS LLC\n",
      "SATYA MARG SOLUTIONS INC\n",
      "SATYA MARG SOLUTIONS, INC\n",
      "SCHLUMBERGER TECHNOLOGY CORPORATION\n",
      "SDLC MANAGEMENT, INC.\n",
      "SHINEWELL TECHNOLOGIES INC.\n",
      "SIEMENS MEDICAL SOLUTIONS USA, INC.\n",
      "SIMEIO SOLUTIONS, INC.\n",
      "SLALOM LLC\n",
      "SLALOM, LLC\n",
      "SMARTPLAY, INC.\n",
      "SMARTSOFT INTERNATIONAL, INC.\n",
      "SOFTLABS NA, INC\n",
      "SONY NETWORK ENTERTAINMENT INTERNATIONAL LLC\n",
      "SOUTHEASTERN REGIONAL PHYSICIAN SERVICES\n",
      "SOUTHERN ILLINOIS MEDICAL SERVICES\n",
      "SPARITY, INC.\n",
      "SPRUCE TECHNOLOGY INC.\n",
      "SRIVEN INFOSYS INC\n",
      "STATE UNIVERSITY OF NEW YORK AT STONY BROOK\n",
      "SUNSET COMMUNITY HEALTH CENTER\n",
      "SUNSOFT SOLUTIONS, INC.\n",
      "SV IT INC\n",
      "SWIFT TECH LLC\n",
      "SYNERZY SOFTWARE SOLUTIONS INC\n",
      "SYNOPSYS, INC.\n",
      "TALENT9, INC\n",
      "TANISHA SYSTEMS INC\n",
      "TANISHA SYSTEMS, INC.\n",
      "TAPROOT SOLUTIONS, INC.\n",
      "TEJASE TECHNOLOGIES INC.\n",
      "TEKLINK INTERNATIONAL INC.\n",
      "TEKVALLEY CORPORATION,INC.\n",
      "THE BOSTON CONSULTING GROUP, INC.\n",
      "THE BROOKLYN HOSPITAL CENTER\n",
      "THE DOW CHEMICAL COMPANY\n",
      "THIRDWARE SOLUTION INC.\n",
      "THOMAS JEFFERSON UNIVERSITY HOSPITAL\n",
      "THOUGHTWORKS, INC.\n",
      "TRUSTEES OF THE UNIVERSITY OF PENNSYLVANIA\n",
      "UBS AG\n",
      "UBS FINANCIAL SERVICES INC.\n",
      "UBS GLOBAL ASSET MANAGEMENT (AMERICAS) INC.\n",
      "UBS SECURITIES LLC\n",
      "UBS SERVICES LLC\n",
      "UMT CONSULTING GROUP, LLC\n",
      "UNIVERSITY PHYSICIAN ASSOCIATES\n",
      "UROOJ, LLC\n",
      "UST GLOBAL INC.\n",
      "VAIKUN CORPORATION\n",
      "VALTECH SOLUTIONS INC.\n",
      "VERTEX PHARMACEUTICALS INCORPORATED\n",
      "VINSYS INFORMATION TECHNOLOGY INC\n",
      "VIRTUAL CONSTRUCTION, INC.\n",
      "VIRTUE GROUP, LLC\n",
      "VISIONSOFT INTERNATIONAL, INC.\n",
      "WAYFAIR LLC\n",
      "WISDOM INFOTECH, LTD.\n",
      "WIZCOM CORPORATION\n",
      "WORKFLOW TECHNOLOGIES, INC.\n",
      "WORLD WIDE TECHNOLOGY HOLDING COMPANY, INC.\n",
      "YAHOO! INC.\n",
      "YAKIMA CHEST CLINIC PC\n",
      "Z AND A INFOTEK CORPORATION\n",
      "ZENSAR TECHNOLOGIES INC.\n",
      "ZS ASSOCIATES, INC.\n",
      "ZYLOG SYSTEMS LTD.\n"
     ]
    }
   ],
   "source": [
    "neg_coeffs = X.columns[(logis.coef_<0)[0]]\n",
    "print 'The companies with a negative effect on the probability of getting DENIED are:'\n",
    "for x in neg_coeffs:\n",
    "    if 'lca_case_employer_name' in x:\n",
    "        print x.split('name_')[1]"
   ]
  },
  {
   "cell_type": "markdown",
   "metadata": {},
   "source": [
    "Quite a few companies here have non-zero effect, which seems to indicate that the companies do actually make a difference in whether a particular H1b application gets accepted or not. This provides some evidence that companies do matter, but lets see if we can approach this problem is a different manner. One way to go about this is to simply consider each company as a treatment effect and find matched pairs. There are probably some ways to go about dealing with this with multiple treatments, but for now, I'll just consider one company at a time. The idea is that, given location, job title, full time or not, the company should be independent of whether the application is accepted or not. Basically, what we do here is that we map the features to a propensity score using a logistic regression (something else like a neural network or a random forest classfier could also be used. These methods could capture potentially non-linearities and interactions, but this has to be repeat this many times and a logistic regression was just faster, which is why I ended up using it), match samples based on the propensity scores and then compare for those matches samples. "
   ]
  },
  {
   "cell_type": "code",
   "execution_count": 157,
   "metadata": {
    "collapsed": true,
    "scrolled": false
   },
   "outputs": [],
   "source": [
    "diff = []\n",
    "num_samples = []\n",
    "employer_name = dataM1['lca_case_employer_name'].unique()[0]\n",
    "YDX = getYDX(dataM1,employer_name)\n",
    "Y = YDX[0]\n",
    "X = YDX[2]\n",
    "scaler.fit(X)\n",
    "X = scaler.transform(X)"
   ]
  },
  {
   "cell_type": "code",
   "execution_count": 158,
   "metadata": {},
   "outputs": [
    {
     "name": "stdout",
     "output_type": "stream",
     "text": [
      "For RESOLUTION HEALTH, INC. probability of being DENIED is higher with CI =  (-0.11637248507917158, 0.40208677079345728)\n",
      "For WELLPOINT, INC. probability of being DENIED is higher with CI =  (-0.02479725348163031, 0.061160889845266672)\n",
      "For HEADSTRONG SERVICES LLC probability of being CERTIFIED is higher with CI =  (-0.02943598038004086, 0.0094359803800408582)\n",
      "For HEALTHCORE, INC. it is neutral with CI =  (0.0, 0.0)\n",
      "For APPLE INC. probability of being CERTIFIED is higher with CI =  (-0.012823487845633766, 0.0033895255814828211)\n",
      "For CHINASOFT INTERNATIONAL INC. probability of being DENIED is higher with CI =  (-0.056110114977602141, 0.18111011497760215)\n",
      "For RBC CAPITAL MARKETS, LLC it is neutral with CI =  (-0.20485504494677609, 0.20485504494677609)\n",
      "For PERFICIENT, INC. probability of being CERTIFIED is higher with CI =  (-0.066848361261388795, 0.0006231956984748821)\n",
      "For HCL AMERICA, INC. probability of being DENIED is higher with CI =  (-0.052952342806653487, 0.098406888261198949)\n",
      "For AURIONPRO SOLUTIONS, INC. it is neutral with CI =  (-0.14965346344834471, 0.14965346344834471)\n"
     ]
    }
   ],
   "source": [
    "for employer_name in dataM1['lca_case_employer_name'].unique()[0:10]:\n",
    "    YDX = getYDX(dataM1,employer_name)\n",
    "    D = YDX[1]\n",
    "    logis.fit(X, D)\n",
    "    preds_pa = logis.predict_proba(X)\n",
    "    treated_prop_scores = pd.Series(preds_pa[D==1][:,0])\n",
    "    treated_prop_scores.index = D.index[D==1]\n",
    "    untreated_prop_scores = pd.Series(preds_pa[D!=1][:,0])\n",
    "    untreated_prop_scores.index = D.index[D!=1]\n",
    "    treatedindx = []\n",
    "    untreatedindx = []\n",
    "    for i in range(len(treated_prop_scores)):\n",
    "        j = 0\n",
    "        min_diff = abs(treated_prop_scores[treated_prop_scores.index[i]] - \n",
    "                   untreated_prop_scores[untreated_prop_scores.index[j]])\n",
    "        indx = 0\n",
    "        while min_diff>0 and j<len(untreated_prop_scores[1:]):\n",
    "            j += 1\n",
    "            new_min_diff = abs(treated_prop_scores[treated_prop_scores.index[i]] - \n",
    "                                      untreated_prop_scores[untreated_prop_scores.index[j]])\n",
    "            if (new_min_diff<min_diff) and (untreated_prop_scores.index[j] not in untreatedindx):\n",
    "                min_diff = new_min_diff\n",
    "                indx = j\n",
    "        treatedindx.append(treated_prop_scores.index[i])\n",
    "        untreatedindx.append(untreated_prop_scores.index[indx])\n",
    "    prop_diff = sum(Y[treatedindx]=='DENIED') - sum(Y[untreatedindx]=='DENIED')\n",
    "    p1 = sum(Y[treatedindx]=='DENIED')*1.0/len(treatedindx)\n",
    "    if sum(Y[treatedindx]=='DENIED')<len(treatedindx):\n",
    "        treated_var = p1*(1-p1)/len(treatedindx)\n",
    "    else:\n",
    "        treated_var = 0\n",
    "    p2 = sum(Y[untreatedindx]=='DENIED')*1.0/len(untreatedindx)\n",
    "    if sum(Y[untreatedindx]=='DENIED')<len(untreatedindx):\n",
    "        untreated_var = p2*(1-p2)/len(untreatedindx)\n",
    "    else:\n",
    "        untreated_var = 0\n",
    "    total_var = treated_var + untreated_var\n",
    "    CI = (p1-p2-1.96*np.sqrt(total_var),p1-p2+1.96*np.sqrt(total_var))\n",
    "    diff.append(prop_diff)\n",
    "    num_samples.append(len(treatedindx))\n",
    "    if sum(Y[treatedindx]=='DENIED')>sum(Y[untreatedindx]=='DENIED'):\n",
    "        print 'For', employer_name, 'probability of being DENIED is higher with CI = ', CI\n",
    "    elif sum(Y[treatedindx]=='DENIED')<sum(Y[untreatedindx]=='DENIED'):\n",
    "        print 'For', employer_name, 'probability of being CERTIFIED is higher with CI = ', CI\n",
    "    else:\n",
    "        print 'For', employer_name, 'it is neutral with CI = ', CI"
   ]
  },
  {
   "cell_type": "markdown",
   "metadata": {
    "collapsed": true
   },
   "source": [
    "It was too computationally intensive to do this for all companies, so I just did it for the first ten. With more time, this can easily be extended to all companies. Amongst the ones I tested, it seems like once we control for wages, none of the companies were significant, which means that once we control for wages, the company doesn't make a difference.\n",
    "\n",
    "I had also done run the analysis without controlling for wages and in that case did get some statistically significant evidence (0 is not in the confidence interval) including positive effects for APPLE INC, PERFICIENT, INC. and CUMMINS INC. For all others in the first 10, the effects are not statistically significant. From the logistic regression, for APPLE INC, PERFICIENT, INC. and CUMMINS INC. we got a negative coefficient on the probability of getting denied, which implies that these companies lowers the probability of getting denied. The results from the causal test and the logistic regression agreed in the sense that, we got a positive significant effect on these companies on the probability of your application getting accepted. No company in the first 10 had a negative significant effect."
   ]
  },
  {
   "cell_type": "markdown",
   "metadata": {
    "collapsed": true
   },
   "source": [
    "<a id = 'conclusion'></a>"
   ]
  },
  {
   "cell_type": "markdown",
   "metadata": {
    "collapsed": true
   },
   "source": [
    "## Summary and Conclusion"
   ]
  },
  {
   "cell_type": "markdown",
   "metadata": {},
   "source": [
    "In this notebook, we analyzed H1b data for 2014. At first we did some warm up exercises to get acquainted with the data. The data was very messy to begin with - lots of missing data and incorrectly inputed data. The best way to correct this would be by looking at previous years data, etc. However, since we didn't have a lot of time, I did the best I could using only the 2014 data. At the first step, we showed MPHASIS CORPORATION has the most applications in New York City by a large margin followed by NEW YORK CITY DEPARTMENT OF EDUCATION. For the second part, we showed that while the wage difference for H1b applicants in New York City and Mountain View are not marginally statistically different, once we control for the type of job, New York City does have a negative effect. Finally, in the third part we failed to get a significant effect of the number of applications on average wages. Having explored the data through these exercises, we moved onto trying to flesh out a causal effect of companies on the probability of getting accepted or rejected. For this we used a propensity score matching (https://en.wikipedia.org/wiki/Propensity_score_matching). There are ways to do this in a better fashion for multiple treatments, but due to limited time, I wasn't able to explore these and fell back on a one versus all approach. We were able to show that if you control for wages as well as other covariates (controlling for length of processing time, location, job type, which means that there may be some bias in how these applications are processed), companies do not have a significant effect on the probability of getting accepted or denied. If, however, we ignore wages, they do seem to have a significant effect."
   ]
  }
 ],
 "metadata": {
  "kernelspec": {
   "display_name": "Python 2",
   "language": "python",
   "name": "python2"
  },
  "language_info": {
   "codemirror_mode": {
    "name": "ipython",
    "version": 2
   },
   "file_extension": ".py",
   "mimetype": "text/x-python",
   "name": "python",
   "nbconvert_exporter": "python",
   "pygments_lexer": "ipython2",
   "version": "2.7.13"
  }
 },
 "nbformat": 4,
 "nbformat_minor": 2
}
